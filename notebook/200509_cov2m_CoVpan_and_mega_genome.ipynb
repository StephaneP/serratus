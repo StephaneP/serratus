{
 "cells": [
  {
   "cell_type": "markdown",
   "metadata": {},
   "source": [
    "## cov2m: cov2 + mega-virus genome\n",
    "```\n",
    "Lead     : ababaian\n",
    "Issue    : #41\n",
    "start    : 2020 41 08\n",
    "complete : 2020 04 08\n",
    "files    : s3://serratus-public/seq/cov2m/\n",
    "```\n",
    "\n",
    "## Introduction\n",
    "\n",
    "Minor refinements on cov2r genome:\n",
    "- Remove `REVERSE` control sequences\n",
    "- \n",
    "\n",
    "Addition of mega0, mega-viral genomes:\n",
    "- \n",
    "\n"
   ]
  },
  {
   "cell_type": "markdown",
   "metadata": {},
   "source": [
    "## Materials and Methods\n"
   ]
  },
  {
   "cell_type": "code",
   "execution_count": null,
   "metadata": {},
   "outputs": [],
   "source": [
    "# EC2 Instance Commands:\n",
    "# Build/Run `serratus-align`container for indexing\n",
    "sudo yum install -y docker\n",
    "sudo yum install -y git\n",
    "sudo service docker start\n",
    "\n",
    "git clone https://github.com/ababaian/serratus.git; cd serratus/containers\n",
    "./build_containers\n",
    "\n",
    "sudo docker run --rm --entrypoint /bin/bash -it serratus-align:latest"
   ]
  },
  {
   "cell_type": "code",
   "execution_count": null,
   "metadata": {},
   "outputs": [],
   "source": [
    "# local bedtools install\n",
    "wget https://github.com/arq5x/bedtools2/releases/download/v2.29.2/bedtools.static.binary\n",
    "mv bedtools.static.binary bedtools\n",
    "chmod 755 bedtools; mv bedtools /usr/bin/"
   ]
  },
  {
   "cell_type": "code",
   "execution_count": null,
   "metadata": {},
   "outputs": [],
   "source": [
    "# Local usearch install\n",
    "#The clustered database was made with usearch:\n",
    "wget https://drive5.com/downloads/usearch11.0.667_i86linux32.gz\n",
    "gzip -dc usearch11.0.667_i86linux32.gz > usearch\n",
    "chmod 755 usearch; mv usearch /usr/bin/usearch\n"
   ]
  },
  {
   "cell_type": "code",
   "execution_count": 1,
   "metadata": {},
   "outputs": [
    {
     "name": "stdout",
     "output_type": "stream",
     "text": [
      "[sudo] password for artem: \r\n"
     ]
    }
   ],
   "source": [
    "# Local Dustmasker install\n",
    "cd /home/serratus/\n",
    "wget ftp://ftp.ncbi.nlm.nih.gov/blast/executables/LATEST/ncbi-blast-2.10.0+-x64-linux.tar.gz\n",
    "tar -xvf ncbi-blast-2.10.0+-x64-linux.tar.gz\n",
    "cp ncbi-blast-2.10.0+/bin/* /usr/bin/\n",
    "\n",
    "# Building from source (do not do)\n",
    "#wget ftp://ftp.ncbi.nih.gov/toolbox/ncbi_tools++/CURRENT/ncbi_cxx--22_0_0.tar.gz\n",
    "#tar -xvf ncbi_cxx--22_0_0.tar.gz\n",
    "#\n",
    "## g++ compiler\n",
    "#sudo yum groupinstall \"Development Tools\"\n",
    "#\n",
    "#\n",
    "## NCBI toolkit dependencies\n",
    "## sudo yum install -y sqlite3\n",
    "#sudo yum install -y boost lzo libxml2 pcre libxslt \\\n",
    "#  libungif libtiff libpng bzip2\n",
    "## berkleyDB\n",
    "#wget https://download.oracle.com/berkeley-db/db-4.7.25.NC.zip\n",
    "#unzip db-4.7.25.NC.zip; cd db-4.7.25.NC/build_unix/\n",
    "#../dist/configure\n",
    "#make; make install\n",
    "#\n",
    "## fastCGI\n",
    "##wget http://www.fastcgi.com/dist/mod_fastcgi-current.tar.gz\n",
    "##tar -xzvf mod_fastcgi-2.4.6.tar.gz\n",
    "##cd mod_fastcgi-2.4.6\n",
    "##cp Makefile.AP2 Makefile\n",
    "#\n",
    "#cd /home/serratus/ncbi_cxx--22_0_0\n",
    "#./configure\n",
    "#make; make install\n"
   ]
  },
  {
   "cell_type": "markdown",
   "metadata": {},
   "source": [
    "This is a 'patch' to `cov2` so those pruned sequences\n",
    "are used as basis.\n",
    "\n",
    "See: [cov2 pangenome notebook](./200420_cov2_pangenome.ipynb)\n"
   ]
  },
  {
   "cell_type": "code",
   "execution_count": null,
   "metadata": {},
   "outputs": [],
   "source": [
    "# bash inside `serratus-align`\n",
    "mkdir cov2; cd cov2\n",
    "\n",
    "# Start from cov2 - post 99% identity filtering\n",
    "aws s3 cp s3://serratus-public/seq/cov2r/cov.full.headers.gz ./\n",
    "aws s3 cp s3://serratus-public/seq/cov2r/cov0.id99.fa ./\n"
   ]
  },
  {
   "cell_type": "code",
   "execution_count": null,
   "metadata": {},
   "outputs": [],
   "source": [
    "# Remove Accessions on blacklist\n",
    "# Strips headers to accessions only\n",
    "# wc -l cov0.id99.fa\n",
    "# 514753 cov0.id99.fa\n",
    "\n",
    "seqkit grep cov0.id99.fa -i -r -v \\\n",
    "  -p KC786228 -p AX191447 -p AX191449 \\\n",
    "  -p FB764528 -p HV449436 -p CS382036 \\\n",
    "  > cov0.id99.bl.fa\n",
    "\n",
    "# wc -l cov0.id99.bl.fa\n",
    "\n",
    "seqkit grep cov0.id99.bl.fa -i -r -v \\\n",
    "  -p FV537213 -p AY204705 -p AF209745 \\\n",
    "  -p AY204704 \\\n",
    "  > cov0.id99.bl.2.fa\n",
    "\n"
   ]
  },
  {
   "cell_type": "code",
   "execution_count": null,
   "metadata": {},
   "outputs": [],
   "source": [
    "# mega0 viral mega-genome\n",
    "# remove descriptors; keep accessions\n",
    "aws s3 cp s3://serratus-public/seq/mega0/mega0.fa ./\n",
    "grep \"^>\" mega0.fa > mega0.full.headers\n",
    "gzip mega0.full.headers\n",
    "\n",
    "# remove duplicates, strip headers to accessions\n",
    "# 0 removed\n",
    "seqkit rmdup -s -i -D mega0.duplicates mega0.fa |\n",
    "seqkit seq -i -m 10 - > mega0.rmdup.fa\n"
   ]
  },
  {
   "cell_type": "code",
   "execution_count": null,
   "metadata": {},
   "outputs": [],
   "source": [
    "cat cov0.id99.bl.2.fa mega0.rmdup.fa > cov2m.unmasked.fa"
   ]
  },
  {
   "cell_type": "code",
   "execution_count": null,
   "metadata": {},
   "outputs": [],
   "source": [
    "INPUTFA='cov2m.unmasked.fa'\n",
    "\n",
    "# Create polyNT masks (10-X seed)\n",
    "seqkit locate --bed -i -m 0 -p 'AAAAAAAAAA' $INPUTFA > poly10.bed\n",
    "  bedtools sort -chrThenSizeA -i poly10.bed > poly10.sort.bed\n",
    "  bedtools merge -s -i poly10.sort.bed > polyAT.mask.bed\n",
    "\n",
    "seqkit locate --bed -i -m 0 -p 'GGGGGGGGGG' $INPUTFA > poly10.bed\n",
    "  bedtools sort -chrThenSizeA -i poly10.bed > poly10.sort.bed\n",
    "  bedtools merge -s -i poly10.sort.bed > polyGC.mask.bed\n",
    "\n",
    "cat polyAT.mask.bed polyGC.mask.bed > \\\n",
    "  polyNT.bed\n",
    "\n",
    "rm polyAT.mask.bed polyGC.mask.bed poly10.bed poly10.sort.bed"
   ]
  },
  {
   "cell_type": "code",
   "execution_count": null,
   "metadata": {},
   "outputs": [],
   "source": [
    "# Manually set blacklisted regions\n",
    "echo -e \"JB181528.1\\t3111\\t3307\" >> blacklist.bed\n",
    "echo -e \"CS460762.1\\t37177\\t37211\" >> blacklist.bed\n",
    "echo -e \"CS460762.1\\t30166\\t30243\" >> blacklist.bed\n",
    "echo -e \"CS480537.1\\t37170\\t37220\" >> blacklist.bed\n",
    "echo -e \"CS480537.1\\t30166\\t30241\" >> blacklist.bed\n",
    "echo -e \"MK562374.1\\t474\\t542\" >> blacklist.bed\n",
    "echo -e \"DL231478.1\\t43\\t2296\" >> blacklist.bed\n",
    "\n",
    "# new for cov2m\n",
    "echo -e \"KC786228.1\\t49\\t191 \" >> blacklist.bed"
   ]
  },
  {
   "cell_type": "code",
   "execution_count": null,
   "metadata": {},
   "outputs": [],
   "source": [
    "INPUTFA='cov2m.unmasked.fa'\n",
    "\n",
    "# Soft mask low complexity regions via dustmasker\n",
    "dustmasker -in $INPUTFA \\\n",
    "  -window 30 -outfmt interval \\\n",
    "  -out cov2m.dust\n",
    "# output ... \n",
    "# >KF600647.1\n",
    "# 2840 - 2846\n",
    "# 30101 - 30114\n",
    "# >MK129253.1\n",
    "# 2845 - 2851\n",
    "# 30106 - 30149\n",
    "# >CS480537.1\n",
    "# 22517 - 22524\n",
    "# 22569 - 22575\n",
    "# 29227 - 29246\n",
    "# ...\n",
    "\n",
    "# Convert interval dust file to bed file\n",
    "while read -r line; do\n",
    "  if [ $(echo $line | head -c 1) = \">\" ]; then\n",
    "    header=$( echo $line | sed 's/>//g' - )\n",
    "  else\n",
    "    start=$(echo $line | cut -f1 -d' ' -)\n",
    "    end=$(echo $line | cut -f3 -d' ' - )\n",
    "    echo -e \"$header\\t$start\\t$end\" >> dust.bed\n",
    "  fi\n",
    "done < cov2m.dust\n",
    "\n",
    "cat dust.bed >> "
   ]
  },
  {
   "cell_type": "code",
   "execution_count": null,
   "metadata": {},
   "outputs": [],
   "source": [
    "# Blacklist, polyNT and dust mask\n",
    "\n",
    "cat polyNT.bed blacklist.bed dust.bed > mask.regions.bed\n",
    "\n",
    "rm polyNT.bed blacklist.bed dust.bed"
   ]
  },
  {
   "cell_type": "code",
   "execution_count": null,
   "metadata": {},
   "outputs": [],
   "source": [
    "INPUTFA='cov2m.unmasked.fa'\n",
    "\n",
    "# cov2 pan-genome\n",
    "# Soft-masked pan-genome\n",
    "bedtools maskfasta -fi $INPUTFA \\\n",
    "  -bed mask.regions.bed -fo cov2m.softmasked.fa -soft\n",
    " \n",
    "# Hard-masked pan-genome\n",
    "bedtools maskfasta -fi $INPUTFA \\\n",
    "  -bed mask.regions.bed -fo cov2m.fa -mc N"
   ]
  },
  {
   "cell_type": "code",
   "execution_count": null,
   "metadata": {},
   "outputs": [],
   "source": [
    "# Count each fasta file\n",
    "wc -l *.fa "
   ]
  },
  {
   "cell_type": "markdown",
   "metadata": {},
   "source": [
    "```\n",
    "   514256 cov0.id99.bl.2.fa\n",
    "   514753 cov0.id99.bl.fa\n",
    "   514753 cov0.id99.fa\n",
    "   593294 cov2m.fa\n",
    "   593294 cov2m.softmasked.fa\n",
    "   593294 cov2m.unmasked.fa\n",
    "    59407 mega0.fa\n",
    "    79038 mega0.rmdup.fa\n",
    "  3462089 total\n",
    "```"
   ]
  },
  {
   "cell_type": "code",
   "execution_count": null,
   "metadata": {},
   "outputs": [],
   "source": [
    "# Remove intermediates\n",
    "rm cov0* mega0.fa mega0.rmdup.fa\n",
    "\n",
    "# Compress stuff we don't need immediatly\n",
    "gzip cov2m.dust cov2m.softmasked.fa cov2m.unmasked.fa"
   ]
  },
  {
   "cell_type": "code",
   "execution_count": null,
   "metadata": {},
   "outputs": [],
   "source": [
    "# Build bowtie2 + faidx index for cov1r.fa\n",
    "bowtie2-build --threads 4 --seed 666 cov2m.fa cov2m\n",
    "samtools faidx cov2m.fa"
   ]
  },
  {
   "cell_type": "markdown",
   "metadata": {},
   "source": [
    "```\n",
    "drwxr-xr-x 2 root     root     4.0K May  9 21:55 .\n",
    "drwx------ 1 serratus serratus  110 May  9 20:26 ..\n",
    "-rw-r--r-- 1 root     root     322K Apr 21 21:44 cov.full.headers.gz\n",
    "-rw-r--r-- 1 root     root      16M May  9 21:52 cov2m.1.bt2\n",
    "-rw-r--r-- 1 root     root     8.3M May  9 21:52 cov2m.2.bt2\n",
    "-rw-r--r-- 1 root     root     138K May  9 21:52 cov2m.3.bt2\n",
    "-rw-r--r-- 1 root     root     8.3M May  9 21:52 cov2m.4.bt2\n",
    "-rw-r--r-- 1 root     root      63K May  9 21:36 cov2m.dust.gz\n",
    "-rw-r--r-- 1 root     root      34M May  9 21:47 cov2m.fa\n",
    "-rw-r--r-- 1 root     root     244K May  9 21:55 cov2m.fa.fai\n",
    "-rw-r--r-- 1 root     root      16M May  9 21:53 cov2m.rev.1.bt2\n",
    "-rw-r--r-- 1 root     root     8.3M May  9 21:53 cov2m.rev.2.bt2\n",
    "-rw-r--r-- 1 root     root     9.5M May  9 21:47 cov2m.softmasked.fa.gz\n",
    "-rw-r--r-- 1 root     root     9.5M May  9 21:34 cov2m.unmasked.fa.gz\n",
    "-rw-r--r-- 1 root     root     129K May  9 21:45 mask.regions.bed\n",
    "-rw-r--r-- 1 root     root     5.1K May  9 21:30 mega0.full.headers.gz\n",
    "```"
   ]
  },
  {
   "cell_type": "code",
   "execution_count": null,
   "metadata": {},
   "outputs": [],
   "source": [
    "# Upload to s3 public access area\n",
    "aws s3 sync ./ s3://serratus-public/seq/cov2m/"
   ]
  },
  {
   "cell_type": "markdown",
   "metadata": {},
   "source": [
    "## Results & Discussion\n",
    "\n",
    "The `cov2m` pan-coronavirus + viral mega-genome and it's respective `bowtie2` index is prepared.\n",
    "\n",
    "Note, seqkit destroys the original headers so now each 'chromosome' or input sequence is referred to by it's accession ID only. As a remedy the `cov.full.headers.gz` text file is available.\n",
    "\n",
    "#### Downloading cov2 sequences\n",
    "\n",
    "`aws s3 cp --recursive s3://serratus-public/seq/cov2r/ ./`\n",
    "\n"
   ]
  }
 ],
 "metadata": {
  "kernelspec": {
   "display_name": "Bash",
   "language": "bash",
   "name": "bash"
  },
  "language_info": {
   "codemirror_mode": "shell",
   "file_extension": ".sh",
   "mimetype": "text/x-sh",
   "name": "bash"
  }
 },
 "nbformat": 4,
 "nbformat_minor": 1
}
