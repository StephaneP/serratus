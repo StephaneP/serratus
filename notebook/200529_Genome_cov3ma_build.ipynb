{
 "cells": [
  {
   "cell_type": "markdown",
   "metadata": {
    "heading_collapsed": true
   },
   "source": [
    "## Genome: cov3ma reference -- Antibiotic Resistence Data (AMR)\n",
    "```\n",
    "Lead     : ababaian / RCE / JJ\n",
    "Issue    : 135\n",
    "start    : 2020 05 29\n",
    "complete : 2020 05 29\n",
    "files    : s3://serratus-public/seq/cov3ma/\n",
    "```"
   ]
  },
  {
   "cell_type": "markdown",
   "metadata": {},
   "source": [
    "# Introduction\n",
    "\n",
    "`JJ:`\n",
    ">\n",
    "> Rationale: currently characterization of environmental antimicrobial resistance genes is lacking as the potential bacterial pool is too large to sample. Using existing SRA data, if we find a homolog of human AMR genes in the wild (aka an environmental bacterial species), that would allow some insight into where to begin to characterize environmental AMR and might allow for potential delineation of lateral gene transfer of these AMR genes from the environment into the clinics.\n",
    "\n",
    "> Attached here is a collection of ~3000 AMR genes mostly found in human pathogens. card3.09_nucleotide_homolog.modified.fasta.zip\n",
    "\n",
    "> How the fasta file was generated.:\n",
    ">\n",
    ">    The fasta was built from an existing AMR gene database called \"Comprehensive Antibiotic Resistance Database\" (CARD; v3.0.9) available: [CARD Database](https://card.mcmaster.ca/download/0/broadstreet-v3.0.9.tar.bz2)\n",
    ">\n",
    ">    The original FASTA file is the \"nucleotide_fasta_protein_homolog_model.fasta\n",
    ">\n",
    ">    The headers are modified using a C# script attached below to follow format \">Accession ID,Gene_Name,Bacteria_Species\"\n",
    "\n",
    ">[script.zip](https://github.com/ababaian/serratus/files/4703917/script.zip)\n"
   ]
  },
  {
   "cell_type": "code",
   "execution_count": null,
   "metadata": {},
   "outputs": [],
   "source": [
    "# EC2 Instance Commands:\n",
    "# Build/Run `serratus-align`container for indexing\n",
    "sudo yum install -y docker\n",
    "sudo yum install -y git\n",
    "sudo service docker start\n",
    "\n",
    "#export DOCKERHUB_USER='serratusbio'\n",
    "#sudo docker login\n",
    "#git clone https://github.com/ababaian/serratus.git; cd serratus/containers\n",
    "\n",
    "sudo docker run --rm --entrypoint /bin/bash -it serratusbio/serratus-align:latest"
   ]
  },
  {
   "cell_type": "code",
   "execution_count": null,
   "metadata": {},
   "outputs": [],
   "source": [
    "# Dev tools\n",
    "yum install -y wget tar gzip less vim unzip"
   ]
  },
  {
   "cell_type": "code",
   "execution_count": null,
   "metadata": {},
   "outputs": [],
   "source": [
    "# Pre-compiled binary\n",
    "BOWTIEVERSION='2.4.1'\n",
    "wget --quiet https://downloads.sourceforge.net/project/bowtie-bio/bowtie2/\"$BOWTIEVERSION\"/bowtie2-\"$BOWTIEVERSION\"-linux-x86_64.zip &&\\\n",
    "  unzip bowtie2-\"$BOWTIEVERSION\"-linux-x86_64.zip &&\\\n",
    "  rm    bowtie2-\"$BOWTIEVERSION\"-linux-x86_64.zip\n",
    "\n",
    "mv bowtie2-\"$BOWTIEVERSION\"*/bowtie2* /usr/local/bin/ &&\\\n",
    "  rm -rf bowtie2-\"$BOWTIEVERSION\"*"
   ]
  },
  {
   "cell_type": "code",
   "execution_count": null,
   "metadata": {},
   "outputs": [],
   "source": [
    "# Python3\n",
    "yum install -y python3 python3-devel\n",
    "curl -O https://bootstrap.pypa.io/get-pip.py\n",
    "python3 get-pip.py\n",
    "rm get-pip.py\n",
    "pip3 install biopython"
   ]
  },
  {
   "cell_type": "code",
   "execution_count": null,
   "metadata": {},
   "outputs": [],
   "source": [
    "# SeqKit Install\n",
    "wget https://github.com/shenwei356/seqkit/releases/download/v0.12.0/seqkit_linux_amd64.tar.gz &&\\\n",
    "  tar -xvf seqkit* && mv seqkit /usr/local/bin/ &&\\\n",
    "  rm seqkit_linux*"
   ]
  },
  {
   "cell_type": "code",
   "execution_count": null,
   "metadata": {},
   "outputs": [],
   "source": [
    "# local bedtools install\n",
    "wget https://github.com/arq5x/bedtools2/releases/download/v2.29.2/bedtools.static.binary\n",
    "mv bedtools.static.binary bedtools\n",
    "chmod 755 bedtools; mv bedtools /usr/bin/"
   ]
  },
  {
   "cell_type": "code",
   "execution_count": null,
   "metadata": {},
   "outputs": [],
   "source": [
    "# Local usearch install\n",
    "#The clustered database was made with usearch:\n",
    "wget https://drive5.com/downloads/usearch11.0.667_i86linux32.gz\n",
    "gzip -dc usearch11.0.667_i86linux32.gz > usearch\n",
    "chmod 755 usearch; mv usearch /usr/bin/usearch\n"
   ]
  },
  {
   "cell_type": "code",
   "execution_count": null,
   "metadata": {},
   "outputs": [],
   "source": [
    "# Local Dustmasker install\n",
    "cd /home/serratus/\n",
    "wget ftp://ftp.ncbi.nlm.nih.gov/blast/executables/LATEST/ncbi-blast-2.10.0+-x64-linux.tar.gz\n",
    "tar -xvf ncbi-blast-2.10.0+-x64-linux.tar.gz\n",
    "cp ncbi-blast-2.10.0+/bin/* /usr/bin/\n"
   ]
  },
  {
   "cell_type": "code",
   "execution_count": null,
   "metadata": {},
   "outputs": [],
   "source": [
    "## Install EDirect\n",
    "## Dependency Hell\n",
    "#yum install -y cpanminus expat-devel\n",
    "#sudo cpanm --force IO::Socket::SSL\n",
    "#sudo cpanm --force LWP::Protocol::https\n",
    "#sudo cpanm --force JSON::PP\n",
    "#sudo cpanm --force HTML::Entities\n",
    "#sudo cpanm --force XML::Simple\n",
    "#\n",
    "#perl -MNet::FTP -e \\\n",
    "#  '$$ftp = new Net::FTP(\"ftp.ncbi.nlm.nih.gov\", Passive => 1);\n",
    "#  $$ftp->login; $$ftp->binary;\n",
    "#  $$ftp->get(\"/entrez/entrezdirect/edirect.tar.gz\");'\n",
    "#  \n",
    "#tar -xvf edirect.tar.gz; rm edirect.tar.gz\n",
    "#export PATH=${PATH}:/home/serratus/edirect\n",
    "#yes y | ./edirect/setup.sh"
   ]
  },
  {
   "cell_type": "markdown",
   "metadata": {},
   "source": [
    "## AMR Build Script"
   ]
  },
  {
   "cell_type": "code",
   "execution_count": null,
   "metadata": {},
   "outputs": [],
   "source": [
    "# CoV Fragments and offsets from RCE\n",
    "mkdir /home/serratus/amr0; cd /home/serratus/amr0\n",
    "\n",
    "# Raw sequences from McMaster CARD\n",
    "wget https://card.mcmaster.ca/download/0/broadstreet-v3.0.9.tar.bz2 ./\n",
    "\n",
    "# Sequences processed by Justin\n",
    "wget https://github.com/ababaian/serratus/files/4699397/card3.09_nucleotide_homolog.modified.fasta.zip ./\n",
    "unzip card3.09_nucleotide_homolog.modified.fasta.zip; rm *zip\n",
    "mv card3.09_nucleotide_homolog.modified.fasta amr0.fa \n",
    "\n",
    "# AMR sequences processed from Justin and then RCE\n",
    "wget https://drive5.com/tmp/amr95.fa.gz ./\n",
    "gzip -d amr95.fa.gz\n",
    "mv amr95.fa amr0.95.fa \n",
    "\n",
    "md5sum *"
   ]
  },
  {
   "cell_type": "markdown",
   "metadata": {},
   "source": [
    "```\n",
    "5636fbcc8a1535e9b00a0010750a4260  amr0.95.fa\n",
    "28403ee52454f135c7559b48cfa2d63b  amr0.fa\n",
    "a3ae777254a747189ebb0fcad024af56  broadstreet-v3.0.9.tar.bz2\n",
    "```"
   ]
  },
  {
   "cell_type": "code",
   "execution_count": null,
   "metadata": {},
   "outputs": [],
   "source": [
    "# Create a header file to store original amr0 file\n",
    "NAME='amr0'\n",
    "grep \"^>\" $NAME.fa > $NAME.headers\n",
    "gzip $NAME.headers\n",
    "\n",
    "# Create a header file to store original amr.95 file\n",
    "NAME='amr0.95'\n",
    "grep \"^>\" $NAME.fa > $NAME.headers\n",
    "gzip $NAME.headers\n",
    "\n",
    "# Strip headers to Accession_GenoStart\n",
    "cut -f1 -d',' $NAME.fa | tr ' ' '_' > $NAME.tmp\n",
    "mv $NAME.tmp $NAME.fa\n"
   ]
  },
  {
   "cell_type": "code",
   "execution_count": null,
   "metadata": {},
   "outputs": [],
   "source": [
    "# Manual Blacklisting of bad entries (if they exist)\n",
    "INPUTFA='amr0.95.fa'\n",
    "NAME=\"amr0.95\"\n",
    "\n",
    "# Generate blacklist via Bed Format\n",
    "#aws s3 cp s3://serratus-public/seq/cov0/cov0.fa.fai ./\n",
    "\n",
    "# echo \"AF209745\" >> blacklist.tmp\n",
    "\n",
    "# grep -f blacklist.tmp cov0.fa.fai \\\n",
    "#   | cut -f1,2 - \\\n",
    "#   | sed 's/\\t/\\t1\\t/g' - > blacklist.bed\n",
    "\n",
    "# seqkit grep $INPUTFA -i -r -v \\\n",
    "#   -p AF209745 \\\n",
    "#   > $NAME.bl.fa\n",
    "#\n",
    "# rm cov0.fa.fai *tmp\n",
    "\n",
    "# Manually set blacklisted regions\n",
    "# echo -e \"CS460762.1\\t30166\\t30243\" >> blacklist.bed\n",
    "\n",
    "# First run -- no blacklist\n",
    "touch blacklist.bed"
   ]
  },
  {
   "cell_type": "code",
   "execution_count": null,
   "metadata": {},
   "outputs": [],
   "source": [
    "# SimpleRepeat Mask Annotation\n",
    "INPUTFA='amr0.95.fa'\n",
    "NAME=\"amr0.95\"\n",
    "\n",
    "# Short Window Dust Masking ---------------------\n",
    "# Soft mask low complexity regions via dustmasker\n",
    "dustmasker -in $INPUTFA \\\n",
    "  -window 30 -outfmt interval \\\n",
    "  -out $NAME.dust30\n",
    "\n",
    "# Convert interval dust file to bed file\n",
    "while read -r line; do\n",
    "  if [ $(echo $line | head -c 1) = \">\" ]; then\n",
    "    header=$( echo $line | sed 's/>//g' - )\n",
    "  else\n",
    "    start=$(echo $line | cut -f1 -d' ' -)\n",
    "    end=$(echo $line | cut -f3 -d' ' - )\n",
    "    echo -e \"$header\\t$start\\t$end\" >> dust30.bed\n",
    "  fi\n",
    "done < $NAME.dust30\n",
    "\n",
    "\n",
    "# Long Window Dust Masking ---------------------\n",
    "# Soft mask low complexity regions via dustmasker\n",
    "dustmasker -in $INPUTFA \\\n",
    "  -window 64 -outfmt interval \\\n",
    "  -out $NAME.dust64\n",
    "\n",
    "# Convert interval dust file to bed file\n",
    "while read -r line; do\n",
    "  if [ $(echo $line | head -c 1) = \">\" ]; then\n",
    "    header=$( echo $line | sed 's/>//g' - )\n",
    "  else\n",
    "    start=$(echo $line | cut -f1 -d' ' -)\n",
    "    end=$(echo $line | cut -f3 -d' ' - )\n",
    "    echo -e \"$header\\t$start\\t$end\" >> dust64.bed\n",
    "  fi\n",
    "done < $NAME.dust64\n",
    "\n",
    "echo ''"
   ]
  },
  {
   "cell_type": "code",
   "execution_count": null,
   "metadata": {},
   "outputs": [],
   "source": [
    "# Poly-NT Mask Annotation\n",
    "INPUTFA='amr0.95.fa'\n",
    "NAME=\"amr0.95\"\n",
    "\n",
    "# Create polyNT masks (10-X seed)\n",
    "# FLOM seems to be missing any NT tract >7nt\n",
    "seqkit locate --bed -i -m 0 -p 'AAAAAAAAAA' $INPUTFA > poly10.bed\n",
    "  bedtools sort -chrThenSizeA -i poly10.bed > poly10.sort.bed\n",
    "  bedtools merge -s -i poly10.sort.bed > polyAT.mask.bed\n",
    "\n",
    "seqkit locate --bed -i -m 0 -p 'GGGGGGGGGG' $INPUTFA > poly10.bed\n",
    "  bedtools sort -chrThenSizeA -i poly10.bed > poly10.sort.bed\n",
    "  bedtools merge -s -i poly10.sort.bed > polyGC.mask.bed\n",
    "\n",
    "cat polyAT.mask.bed polyGC.mask.bed > \\\n",
    "  polyNT.bed\n",
    "\n",
    "rm polyAT.mask.bed polyGC.mask.bed poly10.bed poly10.sort.bed"
   ]
  },
  {
   "cell_type": "code",
   "execution_count": null,
   "metadata": {},
   "outputs": [],
   "source": [
    "# Combine blacklist, nt mask and dustmask\n",
    "\n",
    "# Merge the bed files\n",
    "cat polyNT.bed blacklist.bed dust30.bed dust64.bed > mask.tmp\n",
    "\n",
    "# Sort the cat bed file\n",
    "sort -k1,1 -k2,2n mask.tmp > mask.sort.tmp\n",
    "  \n",
    "# Clean up some bugs (-1 and a space)\n",
    "sed 's/ //g' mask.sort.tmp \\\n",
    "  | sed 's/-1/0/g' - \\\n",
    "  > mask.sort.clean.tmp\n",
    "\n",
    "# Merge BED file\n",
    "bedtools merge -i mask.sort.clean.tmp > mask.regions.tmp\n",
    "\n",
    "# Clean up some bugs (-1 and a space)\n",
    "sed 's/ //g' mask.regions.tmp \\\n",
    "  | sed 's/-1/0/g' - \\\n",
    "  > mask.regions.bed\n",
    "\n",
    "rm *tmp\n",
    "\n",
    "wc -l *.bed\n",
    "\n",
    "rm polyNT.bed blacklist.bed dust30.bed dust64.bed"
   ]
  },
  {
   "cell_type": "markdown",
   "metadata": {},
   "source": [
    "```\n",
    "    0 blacklist.bed\n",
    "  552 dust30.bed\n",
    "  615 dust64.bed\n",
    "  615 mask.regions.bed\n",
    "    0 polyNT.bed\n",
    " 1782 total\n",
    "```"
   ]
  },
  {
   "cell_type": "code",
   "execution_count": null,
   "metadata": {},
   "outputs": [],
   "source": [
    "# Hard and Soft Mask the Genome\n",
    "INPUTFA='amr0.95.fa'\n",
    "NAME=\"amr0.95\"\n",
    "\n",
    "# Had to manually remove line 8447 which started with \"-1\"\n",
    "# There's a bug in there somewhere, likely a 1-base / 0-base\n",
    "\n",
    "# cov2 pan-genome\n",
    "# Soft-masked pan-genome\n",
    "bedtools maskfasta -fi $INPUTFA \\\n",
    "  -bed mask.regions.bed -fo $NAME.softmasked.fa -soft\n",
    " \n",
    "# Hard-masked pan-genome\n",
    "bedtools maskfasta -fi $INPUTFA \\\n",
    "  -bed mask.regions.bed -fo $NAME.hardmasked.fa"
   ]
  },
  {
   "cell_type": "code",
   "execution_count": null,
   "metadata": {},
   "outputs": [],
   "source": [
    "# Confirm masking worked as expected manually \n",
    "NAME=\"amr0.95\"\n",
    "\n",
    "diff $NAME.fa $NAME.softmasked.fa  | head -n20 -\n",
    "diff $NAME.fa $NAME.hardmasked.fa  | head -n20 -\n",
    "\n",
    "cp $NAME.fa $NAME.unmasked.fa\n",
    "mv $NAME.hardmasked.fa $NAME.fa\n",
    "\n",
    "# Count each fasta file\n",
    "wc -l *.fa "
   ]
  },
  {
   "cell_type": "markdown",
   "metadata": {},
   "source": [
    "```\n",
    "  15530 amr0.95.fa\n",
    "  15530 amr0.95.softmasked.fa\n",
    "  15530 amr0.95.unmasked.fa\n",
    "   5264 amr0.fa\n",
    "  51854 total\n",
    "```"
   ]
  },
  {
   "cell_type": "code",
   "execution_count": null,
   "metadata": {},
   "outputs": [],
   "source": [
    "# Remove intermediates and non deployment files\n",
    "rm *.dust* *.gb *.fai \n",
    "\n",
    "# Compress stuff we don't need immediatly\n",
    "gzip $NAME.softmasked.fa $NAME.unmasked.fa \\\n",
    "     mask.regions.bed"
   ]
  },
  {
   "cell_type": "code",
   "execution_count": null,
   "metadata": {},
   "outputs": [],
   "source": [
    "# Build bowtie2 + faidx index for flom2.fa\n",
    "#bowtie2-build --threads 4 --seed 1337 $NAME.fa $NAME\n",
    "samtools faidx $NAME.fa"
   ]
  },
  {
   "cell_type": "code",
   "execution_count": null,
   "metadata": {},
   "outputs": [],
   "source": [
    "# Make Sumzer file for amr0.95.fa\n",
    "# 1. accession\n",
    "# 2. length\n",
    "# 3. name\n",
    "# 4. family\n",
    "# 5. offset of fragment vs. full-length genome, or 0\n",
    "# 6. Pan-genome length\n",
    "\n",
    "# Offset : 0\n",
    "# Family : amr\n",
    "# Pan    : 1000\n",
    "\n",
    "# Acc and Length\n",
    "cut -f1,2 amr0.95.fa.fai > acclen.tmp\n",
    "\n",
    "# Description\n",
    "gzip -dc amr0.95.headers.gz | cut -f2-5 -d',' \\\n",
    "  > desc.tmp\n",
    "\n",
    "# Family Offset and Pangenome len\n",
    "yes AMR~0~1000 \\\n",
    "  | head -n $(wc -l acclen.tmp | cut -f1 -d' ') \\\n",
    "  | tr '~' '\\t' \\\n",
    "  > famoffpan.tmp\n",
    "\n",
    "wc -l *tmp\n",
    "\n",
    "paste acclen.tmp desc.tmp famoffpan.tmp > amr0.95.sumzer\n",
    "\n",
    "rm *tmp"
   ]
  },
  {
   "cell_type": "code",
   "execution_count": null,
   "metadata": {},
   "outputs": [],
   "source": [
    "md5sum *\n",
    "md5sum * > amr0.md5sum"
   ]
  },
  {
   "cell_type": "markdown",
   "metadata": {},
   "source": [
    "```\n",
    "6285212a929bd2ef50030bc6ecc37825  amr0.95.fa\n",
    "150542c5ece1d04fec84fbf2d0c86a40  amr0.95.fa.fai\n",
    "ceb14d62997ae661754309e6460202f0  amr0.95.headers.gz\n",
    "1fc5958113d52ae4414550e83e0b7717  amr0.95.softmasked.fa.gz\n",
    "72be781f06abf917852755de7f2e0610  amr0.95.sumzer\n",
    "cb59997a72f1879b794ced98887f169c  amr0.95.unmasked.fa.gz\n",
    "28403ee52454f135c7559b48cfa2d63b  amr0.fa\n",
    "2ec057a40ee0470bbfb7af1a2978678e  amr0.headers.gz\n",
    "a3ae777254a747189ebb0fcad024af56  broadstreet-v3.0.9.tar.bz2\n",
    "cd46f1db5ae4abd0baec5dd907dbd4ca  mask.regions.bed.gz\n",
    "```"
   ]
  },
  {
   "cell_type": "code",
   "execution_count": null,
   "metadata": {},
   "outputs": [],
   "source": [
    "aws s3 sync ./ s3://serratus-public/seq/amr0/"
   ]
  },
  {
   "cell_type": "markdown",
   "metadata": {},
   "source": [
    "# cov3ma: cov3m + arm0\n",
    "\n"
   ]
  },
  {
   "cell_type": "code",
   "execution_count": null,
   "metadata": {},
   "outputs": [],
   "source": [
    "NAME='cov3ma'\n",
    "mkdir -p /home/serratus/$NAME; cd /home/serratus/$NAME\n",
    "\n",
    "# Download RefSeq (FLOM) Sequences\n",
    "aws s3 cp s3://serratus-public/seq/flom2/flom2.fa ./\n",
    "aws s3 cp s3://serratus-public/seq/flom2/flom2.sumzer.tsv ./\n",
    "\n",
    "# Download CovRef from RCE\n",
    "aws s3 cp s3://serratus-public/seq/covref3/covref3.fa ./\n",
    "aws s3 cp s3://serratus-public/seq/covref3/covref3.sumzer.tsv ./\n",
    "\n",
    "# Download AMR\n",
    "aws s3 cp s3://serratus-public/seq/amr0/amr0.95.fa ./\n",
    "aws s3 cp s3://serratus-public/seq/amr0/amr0.95.sumzer ./amr0.95.sumzer.tsv\n",
    "\n",
    "md5sum *"
   ]
  },
  {
   "cell_type": "markdown",
   "metadata": {},
   "source": [
    "```\n",
    "6285212a929bd2ef50030bc6ecc37825  amr0.95.fa\n",
    "72be781f06abf917852755de7f2e0610  amr0.95.sumzer.tsv\n",
    "289083fefaf1eef20417d01f2096e545  covref3.fa\n",
    "cb6bebcc97aecc8b9b9ab1c7eafeb054  covref3.sumzer.tsv\n",
    "631c8ccb1aa0cb396f04646b979251cb  flom2.fa\n",
    "d47dbf3bc78ae4dc72c7f45f9a0aa7e2  flom2.sumzer.tsv\n",
    "```"
   ]
  },
  {
   "cell_type": "code",
   "execution_count": null,
   "metadata": {},
   "outputs": [],
   "source": [
    "# Merge covref3 and flom2 and arm0 for cov3ma\n",
    "cat covref3.fa flom2.fa amr0.95.fa > $NAME.fa\n",
    "cat covref3.sumzer.tsv flom2.sumzer.tsv amr0.95.sumzer.tsv > $NAME.sumzer.tsv"
   ]
  },
  {
   "cell_type": "code",
   "execution_count": null,
   "metadata": {},
   "outputs": [],
   "source": [
    "# Build bowtie2 + faidx index\n",
    "bowtie2-build --threads 4 --seed 1337 $NAME.fa $NAME\n",
    "samtools faidx $NAME.fa"
   ]
  },
  {
   "cell_type": "code",
   "execution_count": null,
   "metadata": {},
   "outputs": [],
   "source": [
    "# Mask Regions\n",
    "aws s3 cp s3://serratus-public/seq/flom2/mask.regions.bed.gz ./flom2.mask.bed.gz\n",
    "aws s3 cp s3://serratus-public/seq/covref3/mask.regions.bed.gz ./cov3.mask.bed.gz\n",
    "aws s3 cp s3://serratus-public/seq/amr0/mask.regions.bed.gz ./amr0.mask.bed.gz\n",
    "\n",
    "gzip -d flom2.mask.bed.gz\n",
    "gzip -d cov3.mask.bed.gz\n",
    "gzip -d amr0.mask.bed.gz\n",
    "\n",
    "cat *bed > $NAME.mask.tmp\n",
    "sort -k1,1 -k2,2n $NAME.mask.tmp > $NAME.mask.bed\n",
    "gzip $NAME.mask.bed\n"
   ]
  },
  {
   "cell_type": "code",
   "execution_count": null,
   "metadata": {},
   "outputs": [],
   "source": [
    "# Clean-up and checksum\n",
    "rm cov3* flom2* amr0*\n",
    "\n",
    "md5sum *\n",
    "md5sum * > $NAME.md5sum\n",
    "aws s3 sync ./ s3://serratus-public/seq/cov3ma/"
   ]
  },
  {
   "cell_type": "markdown",
   "metadata": {},
   "source": [
    "```\n",
    "8023bcdc66e41d6d0504022770749fa6  cov3ma.1.bt2\n",
    "b3fc27fddd350bfdbbbb1089ae50ebd1  cov3ma.2.bt2\n",
    "a71f53e22ceb8c8524a87353f2d2d075  cov3ma.3.bt2\n",
    "dc695278da8730619d818cc334c99a12  cov3ma.4.bt2\n",
    "3f9d8ebf75d39a0c97193cec07b586db  cov3ma.fa\n",
    "9957189fd4058799aa79d68b84b27835  cov3ma.fa.fai\n",
    "d45fbda751026c6e8327a67d091cb0d4  cov3ma.mask.bed.gz\n",
    "20e9ebc4f2a12f5dc0b93a4a977f2743  cov3ma.mask.tmp\n",
    "4515729ef57435f40c96f35432858623  cov3ma.md5sum\n",
    "09dfd7ed776bbe92dd91663e766f84d3  cov3ma.rev.1.bt2\n",
    "338ae133d20cd8de709414ff1ec4fe7b  cov3ma.rev.2.bt2\n",
    "991b6a7ce27dcb6fa0b5f1dc674c71fd  cov3ma.sumzer.tsv\n",
    "```"
   ]
  }
 ],
 "metadata": {
  "kernelspec": {
   "display_name": "Bash",
   "language": "bash",
   "name": "bash"
  },
  "language_info": {
   "codemirror_mode": "shell",
   "file_extension": ".sh",
   "mimetype": "text/x-sh",
   "name": "bash"
  }
 },
 "nbformat": 4,
 "nbformat_minor": 1
}
