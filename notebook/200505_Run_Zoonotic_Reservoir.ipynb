{
 "cells": [
  {
   "cell_type": "markdown",
   "metadata": {},
   "source": [
    "# RUN: SARS-CoV-2 Zoonotic Reservoir"
   ]
  },
  {
   "cell_type": "markdown",
   "metadata": {},
   "source": [
    "## Introduction"
   ]
  },
  {
   "cell_type": "markdown",
   "metadata": {},
   "source": [
    "```\n",
    "Lead     : ababaian\n",
    "Issue    : #55\n",
    "Version  : \n",
    "start    : 2020 05 05\n",
    "complete : YYYY MM DD\n",
    "files    : ~/serratus/notebook/200505_ab/\n",
    "s3_files : s3://serratus-public/notebook/200505_ab/\n",
    "output   : s3://serratus-public/out/200505_zoonotic/\n",
    "```\n",
    "\n",
    "[Analysis](https://www.biorxiv.org/content/10.1101/2020.04.22.046565v1) of the conserved residues of ACE2 required for SARS-CoV-2 predicts that there are ~80 species of mammal that are tropic for SARS-CoV-2. We will systematically search all RNA-seq / metatranscriptomics / metagenomics samples from the the *genus* of each of those species for novel CoV.\n",
    "\n",
    "KGagalova prepared a list of of species names from the above publication, this was converted to TAXID on NCBI taxonomy browser and the genus *taxid* of those species will be used as the search term for accessions.\n",
    "\n",
    "Also included are all samples from the *order* Chiroptera (bats).  \n",
    "\n",
    "### Objectives\n",
    "- Search the zoonotic CoV reservoir for novel CoV."
   ]
  },
  {
   "cell_type": "markdown",
   "metadata": {},
   "source": [
    "### Zoonotic species list"
   ]
  },
  {
   "cell_type": "code",
   "execution_count": 1,
   "metadata": {
    "code_folding": []
   },
   "outputs": [
    {
     "name": "stdout",
     "output_type": "stream",
     "text": [
      "Pan troglodytes \r\n",
      "Pan paniscus \r\n",
      "Gorilla gorilla gorilla \r\n",
      "Nomascus leucogenys \r\n",
      "Pongo abelii \r\n",
      "Macaca mulatta \r\n",
      "Macaca fascicularis \r\n",
      "Macaca nemestrina \r\n",
      "Cercocebus atys \r\n",
      "Mandrillus leucophaeus \r\n",
      "Papio anubis \r\n",
      "Theropithecus gelada \r\n",
      "Chlorocebus sabaeus \r\n",
      "Rhinopithecus roxellana \r\n",
      "Piliocolobus tephrosceles \r\n",
      "Callithrix jacchus \r\n",
      "Sapajus apella \r\n",
      "Cebus capucinus imitator \r\n",
      "Aotus nancymaae \r\n",
      "Saimiri boliviensis boliviensis \r\n",
      "Propithecus coquereli \r\n",
      "Oryctolagus cuniculus \r\n",
      "Ochotona princeps \r\n",
      "Mesocricetus auratus \r\n",
      "Cricetulus griseus \r\n",
      "Peromyscus leucopus \r\n",
      "Peromyscus maniculatus bairdii \r\n",
      "Jaculus jaculus \r\n",
      "Ictidomys tridecemlineatus \r\n",
      "Sus scrofa \r\n",
      "Globicephala melas \r\n",
      "Lagenorhynchus obliquidens \r\n",
      "Orcinus orca \r\n",
      "Tursiops truncatus \r\n",
      "Delphinapterus leucas \r\n",
      "Monodon monoceros \r\n",
      "Neophocaena asiaeorientalis asiaeorientalis \r\n",
      "Lipotes vexillifer \r\n",
      "Physeter catodon \r\n",
      "Balaenoptera acutorostrata scammoni \r\n",
      "Bos taurus \r\n",
      "Bos indicus \r\n",
      "Bos indicus x Bos taurus \r\n",
      "Bison bison bison \r\n",
      "Odocoileus virginianus texanus \r\n",
      "Bos mutus \r\n",
      "Bubalus bubalis \r\n",
      "Ovis aries \r\n",
      "Capra hircus \r\n",
      "Rousettus aegyptiacus \r\n",
      "Vombatus ursinus \r\n",
      "Phascolarctos cinereus \r\n",
      "Trichechus manatus latirostris \r\n",
      "Equus caballus \r\n",
      "Equus przewalskii \r\n",
      "Equus asinus \r\n",
      "Ceratotherium simum simum \r\n",
      "Canis lupus familiaris \r\n",
      "Canis lupus dingo \r\n",
      "Vulpes vulpes \r\n",
      "Ailuropoda melanoleuca \r\n",
      "Ursus maritimus \r\n",
      "Ursus arctos horribilis \r\n",
      "Zalophus californianus \r\n",
      "Eumetopias jubatus \r\n",
      "Callorhinus ursinus \r\n",
      "Odobenus rosmarus divergens \r\n",
      "Phoca vitulina \r\n",
      "Neomonachus schauinslandi \r\n",
      "Mustela putorius furo \r\n",
      "Mustela erminea \r\n",
      "Enhydra lutris kenyoni \r\n",
      "Felis catus \r\n",
      "Lynx canadensis \r\n",
      "Acinonyx jubatus \r\n",
      "Puma concolor \r\n",
      "Panthera pardus \r\n",
      "Panthera tigris altaica \r\n",
      "Manis javanica"
     ]
    }
   ],
   "source": [
    "# Serratus commit version\n",
    "cd /home/artem/serratus/notebook/200505_ab/\n",
    "cat species.list"
   ]
  },
  {
   "cell_type": "markdown",
   "metadata": {},
   "source": [
    "## SRA Accession Initialization\n",
    "These two accessions were gathered, and then merged into a single file `zoonotic_SraRunInfo.csv`.\n",
    "Total Accessions: `70966`"
   ]
  },
  {
   "cell_type": "markdown",
   "metadata": {
    "heading_collapsed": true
   },
   "source": [
    "### Zoonotic Genus\n",
    "\n",
    "SRA Accessed: 2020/05/01\n",
    "Search Term: \n",
    "```\n",
    "(\"txid9596\"[Organism:exp] OR \"txid9592\"[Organism:exp] OR \"txid325165\"[Organism:exp] OR \"txid9599\"[Organism:exp] OR \"txid9539\"[Organism:exp] OR \"txid9529\"[Organism:exp] OR \"txid9567\"[Organism:exp] OR \"txid9554\"[Organism:exp] OR \"txid9564\"[Organism:exp] OR \"txid392815\"[Organism:exp] OR \"txid542827\"[Organism:exp] OR \"txid591932\"[Organism:exp] OR \"txid1965096\"[Organism:exp] OR \"txid1532884\"[Organism:exp] OR \"txid9516\"[Organism:exp] OR \"txid9504\"[Organism:exp] OR \"txid27679\"[Organism:exp] OR \"txid30600\"[Organism:exp] OR \"txid9984\"[Organism:exp] OR \"txid9977\"[Organism:exp] OR \"txid10035\"[Organism:exp] OR \"txid10028\"[Organism:exp] OR \"txid10040\"[Organism:exp] OR \"txid48867\"[Organism:exp] OR \"txid1141640\"[Organism:exp] OR \"txid9822\"[Organism:exp] OR \"txid9729\"[Organism:exp] OR \"txid27609\"[Organism:exp] OR \"txid9732\"[Organism:exp] OR \"txid9738\"[Organism:exp] OR \"txid9748\"[Organism:exp] OR \"txid40150\"[Organism:exp] OR \"txid34891\"[Organism:exp] OR \"txid118796\"[Organism:exp] OR \"txid9750\"[Organism:exp] OR \"txid9766\"[Organism:exp] OR \"txid9903\"[Organism:exp] OR \"txid9900\"[Organism:exp] OR \"txid9874\"[Organism:exp] OR \"txid9918\"[Organism:exp] OR \"txid9935\"[Organism:exp] OR \"txid9922\"[Organism:exp] OR \"txid9406\"[Organism:exp] OR \"txid9338\"[Organism:exp] OR \"txid38625\"[Organism:exp] OR \"txid9778\"[Organism:exp] OR \"txid35510\"[Organism:exp] OR \"txid35508\"[Organism:exp] OR \"txid9803\"[Organism:exp] OR \"txid9608\"[Organism:exp] OR \"txid9632\"[Organism:exp] OR \"txid9702\"[Organism:exp] OR \"txid9705\"[Organism:exp] OR \"txid9709\"[Organism:exp] OR \"txid9665\"[Organism:exp] OR \"txid34881\"[Organism:exp] OR \"txid9682\"[Organism:exp] OR \"txid13124\"[Organism:exp] OR \"txid32535\"[Organism:exp] OR \"txid146712\"[Organism:exp] OR \"txid9688\"[Organism:exp] OR \"txid9973\"[Organism:exp] OR \"txid\"[Organism:exp]) AND (\"type_rnaseq\"[Filter] OR \"metagenomic\"[Filter] OR \"metatranscriptomic\"[Filter]) AND cluster_public[prop] AND \"platform illumina\"[Properties]\n",
    "![image.png](attachment:image.png)\n",
    "```\n",
    "\n",
    "### Bats Order\n",
    "SRA Accessed: 2020/05/05\n",
    "Search Term:\n",
    "```\n",
    "txid9397[Organism:exp]  AND (\"type_rnaseq\"[Filter] OR \"metagenomic\"[Filter] OR \"metatranscriptomic\"[Filter]) AND cluster_public[prop] AND \"platform illumina\"[Properties]\n",
    "```\n",
    "\n",
    "### Species Count\n",
    "In `zoonotic_taxon.xlsx`, 223 species with at least 1 entry.\n",
    "\n",
    "```\n",
    "Bos taurus\t15850\n",
    "Sus scrofa\t10322\n",
    "Macaca mulatta\t10109\n",
    "Ovis aries\t7148\n",
    "Pan troglodytes\t3363\n",
    "Canis lupus familiaris\t3104\n",
    "Bubalus bubalis\t2586\n",
    "Macaca fascicularis\t2239\n",
    "Equus caballus\t1982\n",
    "Sus scrofa domesticus\t1178\n",
    "Capra hircus\t1167\n",
    "...\n",
    "```\n",
    "\n"
   ]
  },
  {
   "cell_type": "code",
   "execution_count": 2,
   "metadata": {
    "hidden": true
   },
   "outputs": [
    {
     "name": "stdout",
     "output_type": "stream",
     "text": [
      "total 51M\r\n",
      "drwxrwxr-x 2 artem artem 4.0K May  4 22:46 .\r\n",
      "drwxr-xr-x 9 artem artem 4.0K May  4 22:49 ..\r\n",
      "-rw-rw-r-- 1 artem artem 434K May  4 17:56 bat_SraRunInfo.csv\r\n",
      "-rw-rw-r-- 1 artem artem 1.7K May  4 22:31 species.list\r\n",
      "-rwxrwxr-x 1 artem artem  19M May  4 22:46 zoonitic_taxon.xlsx\r\n",
      "-rw-rw-r-- 1 artem artem  32M May  4 22:49 zoonotic_SraRunInfo.csv\r\n"
     ]
    }
   ],
   "source": [
    "# Upload sraRunInfo\n",
    "cd /home/artem/serratus/notebook/200505_ab/\n",
    "ls -alh"
   ]
  },
  {
   "cell_type": "code",
   "execution_count": 3,
   "metadata": {
    "hidden": true
   },
   "outputs": [
    {
     "name": "stdout",
     "output_type": "stream",
     "text": [
      "Completed 256.0 KiB/18.3 MiB with 1 file(s) remaining\r",
      "Completed 512.0 KiB/18.3 MiB with 1 file(s) remaining\r",
      "Completed 768.0 KiB/18.3 MiB with 1 file(s) remaining\r",
      "Completed 1.0 MiB/18.3 MiB with 1 file(s) remaining  \r",
      "Completed 1.2 MiB/18.3 MiB with 1 file(s) remaining  \r",
      "Completed 1.5 MiB/18.3 MiB with 1 file(s) remaining  \r",
      "Completed 1.8 MiB/18.3 MiB with 1 file(s) remaining  \r",
      "Completed 2.0 MiB/18.3 MiB with 1 file(s) remaining  \r",
      "Completed 2.2 MiB/18.3 MiB with 1 file(s) remaining  \r",
      "Completed 2.5 MiB/18.3 MiB with 1 file(s) remaining  \r",
      "Completed 2.8 MiB/18.3 MiB with 1 file(s) remaining  \r",
      "Completed 3.0 MiB/18.3 MiB with 1 file(s) remaining  \r",
      "Completed 3.2 MiB/18.3 MiB with 1 file(s) remaining  \r",
      "Completed 3.3 MiB/18.3 MiB with 1 file(s) remaining  \r",
      "Completed 3.6 MiB/18.3 MiB with 1 file(s) remaining  \r",
      "Completed 3.8 MiB/18.3 MiB with 1 file(s) remaining  \r",
      "Completed 4.1 MiB/18.3 MiB with 1 file(s) remaining  \r",
      "Completed 4.3 MiB/18.3 MiB with 1 file(s) remaining  \r",
      "Completed 4.6 MiB/18.3 MiB with 1 file(s) remaining  \r",
      "Completed 4.8 MiB/18.3 MiB with 1 file(s) remaining  \r",
      "Completed 5.1 MiB/18.3 MiB with 1 file(s) remaining  \r",
      "Completed 5.3 MiB/18.3 MiB with 1 file(s) remaining  \r",
      "Completed 5.6 MiB/18.3 MiB with 1 file(s) remaining  \r",
      "Completed 5.8 MiB/18.3 MiB with 1 file(s) remaining  \r",
      "Completed 6.1 MiB/18.3 MiB with 1 file(s) remaining  \r",
      "Completed 6.3 MiB/18.3 MiB with 1 file(s) remaining  \r",
      "Completed 6.6 MiB/18.3 MiB with 1 file(s) remaining  \r",
      "Completed 6.8 MiB/18.3 MiB with 1 file(s) remaining  \r",
      "Completed 7.1 MiB/18.3 MiB with 1 file(s) remaining  \r",
      "Completed 7.3 MiB/18.3 MiB with 1 file(s) remaining  \r",
      "Completed 7.6 MiB/18.3 MiB with 1 file(s) remaining  \r",
      "Completed 7.8 MiB/18.3 MiB with 1 file(s) remaining  \r",
      "Completed 8.1 MiB/18.3 MiB with 1 file(s) remaining  \r",
      "Completed 8.3 MiB/18.3 MiB with 1 file(s) remaining  \r",
      "Completed 8.6 MiB/18.3 MiB with 1 file(s) remaining  \r",
      "Completed 8.8 MiB/18.3 MiB with 1 file(s) remaining  \r",
      "Completed 9.1 MiB/18.3 MiB with 1 file(s) remaining  \r",
      "Completed 9.3 MiB/18.3 MiB with 1 file(s) remaining  \r",
      "Completed 9.6 MiB/18.3 MiB with 1 file(s) remaining  \r",
      "Completed 9.8 MiB/18.3 MiB with 1 file(s) remaining  \r",
      "Completed 10.1 MiB/18.3 MiB with 1 file(s) remaining \r",
      "Completed 10.3 MiB/18.3 MiB with 1 file(s) remaining \r",
      "Completed 10.6 MiB/18.3 MiB with 1 file(s) remaining \r",
      "Completed 10.8 MiB/18.3 MiB with 1 file(s) remaining \r",
      "Completed 11.1 MiB/18.3 MiB with 1 file(s) remaining \r",
      "Completed 11.3 MiB/18.3 MiB with 1 file(s) remaining \r",
      "Completed 11.6 MiB/18.3 MiB with 1 file(s) remaining \r",
      "Completed 11.8 MiB/18.3 MiB with 1 file(s) remaining \r",
      "Completed 12.1 MiB/18.3 MiB with 1 file(s) remaining \r",
      "Completed 12.3 MiB/18.3 MiB with 1 file(s) remaining \r",
      "Completed 12.6 MiB/18.3 MiB with 1 file(s) remaining \r",
      "Completed 12.8 MiB/18.3 MiB with 1 file(s) remaining \r",
      "Completed 13.1 MiB/18.3 MiB with 1 file(s) remaining \r",
      "Completed 13.3 MiB/18.3 MiB with 1 file(s) remaining \r",
      "Completed 13.6 MiB/18.3 MiB with 1 file(s) remaining \r",
      "Completed 13.8 MiB/18.3 MiB with 1 file(s) remaining \r",
      "Completed 14.1 MiB/18.3 MiB with 1 file(s) remaining \r",
      "Completed 14.3 MiB/18.3 MiB with 1 file(s) remaining \r",
      "Completed 14.6 MiB/18.3 MiB with 1 file(s) remaining \r",
      "Completed 14.8 MiB/18.3 MiB with 1 file(s) remaining \r",
      "Completed 15.1 MiB/18.3 MiB with 1 file(s) remaining \r",
      "Completed 15.3 MiB/18.3 MiB with 1 file(s) remaining \r",
      "Completed 15.6 MiB/18.3 MiB with 1 file(s) remaining \r",
      "Completed 15.8 MiB/18.3 MiB with 1 file(s) remaining \r",
      "Completed 16.1 MiB/18.3 MiB with 1 file(s) remaining \r",
      "Completed 16.3 MiB/18.3 MiB with 1 file(s) remaining \r",
      "Completed 16.6 MiB/18.3 MiB with 1 file(s) remaining \r",
      "Completed 16.8 MiB/18.3 MiB with 1 file(s) remaining \r",
      "Completed 17.1 MiB/18.3 MiB with 1 file(s) remaining \r",
      "Completed 17.3 MiB/18.3 MiB with 1 file(s) remaining \r",
      "Completed 17.6 MiB/18.3 MiB with 1 file(s) remaining \r",
      "Completed 17.8 MiB/18.3 MiB with 1 file(s) remaining \r",
      "Completed 18.1 MiB/18.3 MiB with 1 file(s) remaining \r",
      "Completed 18.3 MiB/18.3 MiB with 1 file(s) remaining \r",
      "upload: ./zoonitic_taxon.xlsx to s3://serratus-public/notebook/200505_ab/zoonitic_taxon.xlsx\r\n",
      "Completed 256.0 KiB/31.8 MiB with 1 file(s) remaining\r",
      "Completed 512.0 KiB/31.8 MiB with 1 file(s) remaining\r",
      "Completed 768.0 KiB/31.8 MiB with 1 file(s) remaining\r",
      "Completed 1.0 MiB/31.8 MiB with 1 file(s) remaining  \r",
      "Completed 1.2 MiB/31.8 MiB with 1 file(s) remaining  \r",
      "Completed 1.5 MiB/31.8 MiB with 1 file(s) remaining  \r",
      "Completed 1.8 MiB/31.8 MiB with 1 file(s) remaining  \r",
      "Completed 2.0 MiB/31.8 MiB with 1 file(s) remaining  \r",
      "Completed 2.2 MiB/31.8 MiB with 1 file(s) remaining  \r",
      "Completed 2.5 MiB/31.8 MiB with 1 file(s) remaining  \r",
      "Completed 2.8 MiB/31.8 MiB with 1 file(s) remaining  \r",
      "Completed 3.0 MiB/31.8 MiB with 1 file(s) remaining  \r",
      "Completed 3.2 MiB/31.8 MiB with 1 file(s) remaining  \r",
      "Completed 3.5 MiB/31.8 MiB with 1 file(s) remaining  \r",
      "Completed 3.8 MiB/31.8 MiB with 1 file(s) remaining  \r",
      "Completed 4.0 MiB/31.8 MiB with 1 file(s) remaining  \r",
      "Completed 4.2 MiB/31.8 MiB with 1 file(s) remaining  \r",
      "Completed 4.5 MiB/31.8 MiB with 1 file(s) remaining  \r",
      "Completed 4.8 MiB/31.8 MiB with 1 file(s) remaining  \r",
      "Completed 5.0 MiB/31.8 MiB with 1 file(s) remaining  \r",
      "Completed 5.2 MiB/31.8 MiB with 1 file(s) remaining  \r",
      "Completed 5.5 MiB/31.8 MiB with 1 file(s) remaining  \r",
      "Completed 5.8 MiB/31.8 MiB with 1 file(s) remaining  \r",
      "Completed 6.0 MiB/31.8 MiB with 1 file(s) remaining  \r",
      "Completed 6.2 MiB/31.8 MiB with 1 file(s) remaining  \r",
      "Completed 6.5 MiB/31.8 MiB with 1 file(s) remaining  \r",
      "Completed 6.8 MiB/31.8 MiB with 1 file(s) remaining  \r",
      "Completed 7.0 MiB/31.8 MiB with 1 file(s) remaining  \r",
      "Completed 7.2 MiB/31.8 MiB with 1 file(s) remaining  \r",
      "Completed 7.5 MiB/31.8 MiB with 1 file(s) remaining  \r",
      "Completed 7.8 MiB/31.8 MiB with 1 file(s) remaining  \r",
      "Completed 8.0 MiB/31.8 MiB with 1 file(s) remaining  \r",
      "Completed 8.2 MiB/31.8 MiB with 1 file(s) remaining  \r",
      "Completed 8.5 MiB/31.8 MiB with 1 file(s) remaining  \r",
      "Completed 8.8 MiB/31.8 MiB with 1 file(s) remaining  \r",
      "Completed 9.0 MiB/31.8 MiB with 1 file(s) remaining  \r",
      "Completed 9.2 MiB/31.8 MiB with 1 file(s) remaining  \r",
      "Completed 9.5 MiB/31.8 MiB with 1 file(s) remaining  \r",
      "Completed 9.8 MiB/31.8 MiB with 1 file(s) remaining  \r",
      "Completed 10.0 MiB/31.8 MiB with 1 file(s) remaining \r",
      "Completed 10.2 MiB/31.8 MiB with 1 file(s) remaining \r",
      "Completed 10.5 MiB/31.8 MiB with 1 file(s) remaining \r",
      "Completed 10.8 MiB/31.8 MiB with 1 file(s) remaining \r",
      "Completed 11.0 MiB/31.8 MiB with 1 file(s) remaining \r",
      "Completed 11.2 MiB/31.8 MiB with 1 file(s) remaining \r",
      "Completed 11.5 MiB/31.8 MiB with 1 file(s) remaining \r",
      "Completed 11.8 MiB/31.8 MiB with 1 file(s) remaining \r",
      "Completed 12.0 MiB/31.8 MiB with 1 file(s) remaining \r",
      "Completed 12.2 MiB/31.8 MiB with 1 file(s) remaining \r",
      "Completed 12.5 MiB/31.8 MiB with 1 file(s) remaining \r",
      "Completed 12.8 MiB/31.8 MiB with 1 file(s) remaining \r",
      "Completed 13.0 MiB/31.8 MiB with 1 file(s) remaining \r",
      "Completed 13.2 MiB/31.8 MiB with 1 file(s) remaining \r",
      "Completed 13.5 MiB/31.8 MiB with 1 file(s) remaining \r",
      "Completed 13.8 MiB/31.8 MiB with 1 file(s) remaining \r",
      "Completed 14.0 MiB/31.8 MiB with 1 file(s) remaining \r",
      "Completed 14.2 MiB/31.8 MiB with 1 file(s) remaining \r",
      "Completed 14.5 MiB/31.8 MiB with 1 file(s) remaining \r",
      "Completed 14.8 MiB/31.8 MiB with 1 file(s) remaining \r",
      "Completed 15.0 MiB/31.8 MiB with 1 file(s) remaining \r",
      "Completed 15.2 MiB/31.8 MiB with 1 file(s) remaining \r",
      "Completed 15.5 MiB/31.8 MiB with 1 file(s) remaining \r",
      "Completed 15.8 MiB/31.8 MiB with 1 file(s) remaining \r",
      "Completed 16.0 MiB/31.8 MiB with 1 file(s) remaining \r",
      "Completed 16.2 MiB/31.8 MiB with 1 file(s) remaining \r",
      "Completed 16.5 MiB/31.8 MiB with 1 file(s) remaining \r",
      "Completed 16.8 MiB/31.8 MiB with 1 file(s) remaining \r",
      "Completed 17.0 MiB/31.8 MiB with 1 file(s) remaining \r",
      "Completed 17.2 MiB/31.8 MiB with 1 file(s) remaining \r",
      "Completed 17.5 MiB/31.8 MiB with 1 file(s) remaining \r",
      "Completed 17.8 MiB/31.8 MiB with 1 file(s) remaining \r",
      "Completed 18.0 MiB/31.8 MiB with 1 file(s) remaining \r",
      "Completed 18.2 MiB/31.8 MiB with 1 file(s) remaining \r",
      "Completed 18.5 MiB/31.8 MiB with 1 file(s) remaining \r",
      "Completed 18.8 MiB/31.8 MiB with 1 file(s) remaining \r",
      "Completed 19.0 MiB/31.8 MiB with 1 file(s) remaining \r",
      "Completed 19.2 MiB/31.8 MiB with 1 file(s) remaining \r",
      "Completed 19.5 MiB/31.8 MiB with 1 file(s) remaining \r",
      "Completed 19.8 MiB/31.8 MiB with 1 file(s) remaining \r",
      "Completed 20.0 MiB/31.8 MiB with 1 file(s) remaining \r",
      "Completed 20.2 MiB/31.8 MiB with 1 file(s) remaining \r",
      "Completed 20.5 MiB/31.8 MiB with 1 file(s) remaining \r",
      "Completed 20.8 MiB/31.8 MiB with 1 file(s) remaining \r",
      "Completed 21.0 MiB/31.8 MiB with 1 file(s) remaining \r",
      "Completed 21.2 MiB/31.8 MiB with 1 file(s) remaining \r",
      "Completed 21.5 MiB/31.8 MiB with 1 file(s) remaining \r",
      "Completed 21.8 MiB/31.8 MiB with 1 file(s) remaining \r",
      "Completed 22.0 MiB/31.8 MiB with 1 file(s) remaining \r",
      "Completed 22.2 MiB/31.8 MiB with 1 file(s) remaining \r",
      "Completed 22.5 MiB/31.8 MiB with 1 file(s) remaining \r",
      "Completed 22.8 MiB/31.8 MiB with 1 file(s) remaining \r",
      "Completed 23.0 MiB/31.8 MiB with 1 file(s) remaining \r",
      "Completed 23.2 MiB/31.8 MiB with 1 file(s) remaining \r",
      "Completed 23.5 MiB/31.8 MiB with 1 file(s) remaining \r",
      "Completed 23.8 MiB/31.8 MiB with 1 file(s) remaining \r",
      "Completed 24.0 MiB/31.8 MiB with 1 file(s) remaining \r",
      "Completed 24.2 MiB/31.8 MiB with 1 file(s) remaining \r",
      "Completed 24.5 MiB/31.8 MiB with 1 file(s) remaining \r",
      "Completed 24.8 MiB/31.8 MiB with 1 file(s) remaining \r",
      "Completed 25.0 MiB/31.8 MiB with 1 file(s) remaining \r",
      "Completed 25.2 MiB/31.8 MiB with 1 file(s) remaining \r",
      "Completed 25.5 MiB/31.8 MiB with 1 file(s) remaining \r",
      "Completed 25.8 MiB/31.8 MiB with 1 file(s) remaining \r",
      "Completed 26.0 MiB/31.8 MiB with 1 file(s) remaining \r",
      "Completed 26.2 MiB/31.8 MiB with 1 file(s) remaining \r",
      "Completed 26.5 MiB/31.8 MiB with 1 file(s) remaining \r",
      "Completed 26.8 MiB/31.8 MiB with 1 file(s) remaining \r",
      "Completed 27.0 MiB/31.8 MiB with 1 file(s) remaining \r",
      "Completed 27.2 MiB/31.8 MiB with 1 file(s) remaining \r",
      "Completed 27.5 MiB/31.8 MiB with 1 file(s) remaining \r",
      "Completed 27.8 MiB/31.8 MiB with 1 file(s) remaining \r",
      "Completed 28.0 MiB/31.8 MiB with 1 file(s) remaining \r",
      "Completed 28.2 MiB/31.8 MiB with 1 file(s) remaining \r",
      "Completed 28.5 MiB/31.8 MiB with 1 file(s) remaining \r",
      "Completed 28.8 MiB/31.8 MiB with 1 file(s) remaining \r",
      "Completed 29.0 MiB/31.8 MiB with 1 file(s) remaining \r",
      "Completed 29.2 MiB/31.8 MiB with 1 file(s) remaining \r",
      "Completed 29.5 MiB/31.8 MiB with 1 file(s) remaining \r",
      "Completed 29.8 MiB/31.8 MiB with 1 file(s) remaining \r",
      "Completed 30.0 MiB/31.8 MiB with 1 file(s) remaining \r",
      "Completed 30.2 MiB/31.8 MiB with 1 file(s) remaining \r",
      "Completed 30.5 MiB/31.8 MiB with 1 file(s) remaining \r",
      "Completed 30.8 MiB/31.8 MiB with 1 file(s) remaining \r",
      "Completed 31.0 MiB/31.8 MiB with 1 file(s) remaining \r",
      "Completed 31.2 MiB/31.8 MiB with 1 file(s) remaining \r",
      "Completed 31.5 MiB/31.8 MiB with 1 file(s) remaining \r",
      "Completed 31.8 MiB/31.8 MiB with 1 file(s) remaining \r",
      "Completed 31.8 MiB/31.8 MiB with 1 file(s) remaining \r",
      "upload: ./zoonotic_SraRunInfo.csv to s3://serratus-public/notebook/200505_ab/zoonotic_SraRunInfo.csv\r\n",
      "Completed 256.0 KiB/31.8 MiB with 1 file(s) remaining\r",
      "Completed 512.0 KiB/31.8 MiB with 1 file(s) remaining\r",
      "Completed 768.0 KiB/31.8 MiB with 1 file(s) remaining\r",
      "Completed 1.0 MiB/31.8 MiB with 1 file(s) remaining  \r",
      "Completed 1.2 MiB/31.8 MiB with 1 file(s) remaining  \r",
      "Completed 1.5 MiB/31.8 MiB with 1 file(s) remaining  \r",
      "Completed 1.8 MiB/31.8 MiB with 1 file(s) remaining  \r",
      "Completed 2.0 MiB/31.8 MiB with 1 file(s) remaining  \r",
      "Completed 2.2 MiB/31.8 MiB with 1 file(s) remaining  \r",
      "Completed 2.5 MiB/31.8 MiB with 1 file(s) remaining  \r",
      "Completed 2.8 MiB/31.8 MiB with 1 file(s) remaining  \r",
      "Completed 3.0 MiB/31.8 MiB with 1 file(s) remaining  \r",
      "Completed 3.2 MiB/31.8 MiB with 1 file(s) remaining  \r",
      "Completed 3.5 MiB/31.8 MiB with 1 file(s) remaining  \r",
      "Completed 3.8 MiB/31.8 MiB with 1 file(s) remaining  \r",
      "Completed 4.0 MiB/31.8 MiB with 1 file(s) remaining  \r",
      "Completed 4.2 MiB/31.8 MiB with 1 file(s) remaining  \r",
      "Completed 4.5 MiB/31.8 MiB with 1 file(s) remaining  \r",
      "Completed 4.8 MiB/31.8 MiB with 1 file(s) remaining  \r",
      "Completed 5.0 MiB/31.8 MiB with 1 file(s) remaining  \r",
      "Completed 5.2 MiB/31.8 MiB with 1 file(s) remaining  \r",
      "Completed 5.5 MiB/31.8 MiB with 1 file(s) remaining  \r",
      "Completed 5.8 MiB/31.8 MiB with 1 file(s) remaining  \r",
      "Completed 6.0 MiB/31.8 MiB with 1 file(s) remaining  \r",
      "Completed 6.2 MiB/31.8 MiB with 1 file(s) remaining  \r",
      "Completed 6.5 MiB/31.8 MiB with 1 file(s) remaining  \r",
      "Completed 6.8 MiB/31.8 MiB with 1 file(s) remaining  \r",
      "Completed 7.0 MiB/31.8 MiB with 1 file(s) remaining  \r",
      "Completed 7.2 MiB/31.8 MiB with 1 file(s) remaining  \r",
      "Completed 7.5 MiB/31.8 MiB with 1 file(s) remaining  \r",
      "Completed 7.8 MiB/31.8 MiB with 1 file(s) remaining  \r",
      "Completed 8.0 MiB/31.8 MiB with 1 file(s) remaining  \r",
      "Completed 8.2 MiB/31.8 MiB with 1 file(s) remaining  \r",
      "Completed 8.5 MiB/31.8 MiB with 1 file(s) remaining  \r",
      "Completed 8.8 MiB/31.8 MiB with 1 file(s) remaining  \r",
      "Completed 9.0 MiB/31.8 MiB with 1 file(s) remaining  \r",
      "Completed 9.2 MiB/31.8 MiB with 1 file(s) remaining  \r",
      "Completed 9.5 MiB/31.8 MiB with 1 file(s) remaining  \r",
      "Completed 9.8 MiB/31.8 MiB with 1 file(s) remaining  \r",
      "Completed 10.0 MiB/31.8 MiB with 1 file(s) remaining \r",
      "Completed 10.2 MiB/31.8 MiB with 1 file(s) remaining \r",
      "Completed 10.5 MiB/31.8 MiB with 1 file(s) remaining \r",
      "Completed 10.8 MiB/31.8 MiB with 1 file(s) remaining \r",
      "Completed 10.8 MiB/31.8 MiB with 1 file(s) remaining \r",
      "Completed 11.0 MiB/31.8 MiB with 1 file(s) remaining \r",
      "Completed 11.3 MiB/31.8 MiB with 1 file(s) remaining \r",
      "Completed 11.5 MiB/31.8 MiB with 1 file(s) remaining \r",
      "Completed 11.8 MiB/31.8 MiB with 1 file(s) remaining \r",
      "Completed 12.0 MiB/31.8 MiB with 1 file(s) remaining \r",
      "Completed 12.3 MiB/31.8 MiB with 1 file(s) remaining \r",
      "Completed 12.5 MiB/31.8 MiB with 1 file(s) remaining \r",
      "Completed 12.8 MiB/31.8 MiB with 1 file(s) remaining \r",
      "Completed 13.0 MiB/31.8 MiB with 1 file(s) remaining \r",
      "Completed 13.3 MiB/31.8 MiB with 1 file(s) remaining \r",
      "Completed 13.5 MiB/31.8 MiB with 1 file(s) remaining \r",
      "Completed 13.8 MiB/31.8 MiB with 1 file(s) remaining \r",
      "Completed 14.0 MiB/31.8 MiB with 1 file(s) remaining \r",
      "Completed 14.3 MiB/31.8 MiB with 1 file(s) remaining \r",
      "Completed 14.5 MiB/31.8 MiB with 1 file(s) remaining \r",
      "Completed 14.8 MiB/31.8 MiB with 1 file(s) remaining \r",
      "Completed 15.0 MiB/31.8 MiB with 1 file(s) remaining \r",
      "Completed 15.3 MiB/31.8 MiB with 1 file(s) remaining \r",
      "Completed 15.5 MiB/31.8 MiB with 1 file(s) remaining \r",
      "Completed 15.8 MiB/31.8 MiB with 1 file(s) remaining \r",
      "Completed 16.0 MiB/31.8 MiB with 1 file(s) remaining \r",
      "Completed 16.3 MiB/31.8 MiB with 1 file(s) remaining \r",
      "Completed 16.5 MiB/31.8 MiB with 1 file(s) remaining \r",
      "Completed 16.8 MiB/31.8 MiB with 1 file(s) remaining \r",
      "Completed 17.0 MiB/31.8 MiB with 1 file(s) remaining \r",
      "Completed 17.3 MiB/31.8 MiB with 1 file(s) remaining \r",
      "Completed 17.5 MiB/31.8 MiB with 1 file(s) remaining \r",
      "Completed 17.8 MiB/31.8 MiB with 1 file(s) remaining \r",
      "Completed 18.0 MiB/31.8 MiB with 1 file(s) remaining \r",
      "Completed 18.3 MiB/31.8 MiB with 1 file(s) remaining \r",
      "Completed 18.5 MiB/31.8 MiB with 1 file(s) remaining \r",
      "Completed 18.8 MiB/31.8 MiB with 1 file(s) remaining \r",
      "Completed 19.0 MiB/31.8 MiB with 1 file(s) remaining \r",
      "Completed 19.3 MiB/31.8 MiB with 1 file(s) remaining \r",
      "Completed 19.5 MiB/31.8 MiB with 1 file(s) remaining \r",
      "Completed 19.8 MiB/31.8 MiB with 1 file(s) remaining \r",
      "Completed 20.0 MiB/31.8 MiB with 1 file(s) remaining \r",
      "Completed 20.3 MiB/31.8 MiB with 1 file(s) remaining \r",
      "Completed 20.5 MiB/31.8 MiB with 1 file(s) remaining \r",
      "Completed 20.8 MiB/31.8 MiB with 1 file(s) remaining \r",
      "Completed 21.0 MiB/31.8 MiB with 1 file(s) remaining \r",
      "Completed 21.3 MiB/31.8 MiB with 1 file(s) remaining \r",
      "Completed 21.5 MiB/31.8 MiB with 1 file(s) remaining \r",
      "Completed 21.8 MiB/31.8 MiB with 1 file(s) remaining \r",
      "Completed 22.0 MiB/31.8 MiB with 1 file(s) remaining \r",
      "Completed 22.3 MiB/31.8 MiB with 1 file(s) remaining \r",
      "Completed 22.5 MiB/31.8 MiB with 1 file(s) remaining \r",
      "Completed 22.8 MiB/31.8 MiB with 1 file(s) remaining \r",
      "Completed 23.0 MiB/31.8 MiB with 1 file(s) remaining \r",
      "Completed 23.3 MiB/31.8 MiB with 1 file(s) remaining \r",
      "Completed 23.5 MiB/31.8 MiB with 1 file(s) remaining \r",
      "Completed 23.8 MiB/31.8 MiB with 1 file(s) remaining \r",
      "Completed 24.0 MiB/31.8 MiB with 1 file(s) remaining \r",
      "Completed 24.3 MiB/31.8 MiB with 1 file(s) remaining \r",
      "Completed 24.5 MiB/31.8 MiB with 1 file(s) remaining \r",
      "Completed 24.8 MiB/31.8 MiB with 1 file(s) remaining \r",
      "Completed 25.0 MiB/31.8 MiB with 1 file(s) remaining \r",
      "Completed 25.3 MiB/31.8 MiB with 1 file(s) remaining \r",
      "Completed 25.5 MiB/31.8 MiB with 1 file(s) remaining \r",
      "Completed 25.8 MiB/31.8 MiB with 1 file(s) remaining \r",
      "Completed 26.0 MiB/31.8 MiB with 1 file(s) remaining \r",
      "Completed 26.3 MiB/31.8 MiB with 1 file(s) remaining \r",
      "Completed 26.5 MiB/31.8 MiB with 1 file(s) remaining \r",
      "Completed 26.8 MiB/31.8 MiB with 1 file(s) remaining \r",
      "Completed 27.0 MiB/31.8 MiB with 1 file(s) remaining \r",
      "Completed 27.3 MiB/31.8 MiB with 1 file(s) remaining \r",
      "Completed 27.5 MiB/31.8 MiB with 1 file(s) remaining \r",
      "Completed 27.8 MiB/31.8 MiB with 1 file(s) remaining \r",
      "Completed 28.0 MiB/31.8 MiB with 1 file(s) remaining \r",
      "Completed 28.3 MiB/31.8 MiB with 1 file(s) remaining \r",
      "Completed 28.5 MiB/31.8 MiB with 1 file(s) remaining \r",
      "Completed 28.8 MiB/31.8 MiB with 1 file(s) remaining \r",
      "Completed 29.0 MiB/31.8 MiB with 1 file(s) remaining \r",
      "Completed 29.3 MiB/31.8 MiB with 1 file(s) remaining \r",
      "Completed 29.5 MiB/31.8 MiB with 1 file(s) remaining \r",
      "Completed 29.8 MiB/31.8 MiB with 1 file(s) remaining \r",
      "Completed 30.0 MiB/31.8 MiB with 1 file(s) remaining \r",
      "Completed 30.3 MiB/31.8 MiB with 1 file(s) remaining \r",
      "Completed 30.5 MiB/31.8 MiB with 1 file(s) remaining \r",
      "Completed 30.8 MiB/31.8 MiB with 1 file(s) remaining \r",
      "Completed 31.0 MiB/31.8 MiB with 1 file(s) remaining \r",
      "Completed 31.3 MiB/31.8 MiB with 1 file(s) remaining \r",
      "Completed 31.5 MiB/31.8 MiB with 1 file(s) remaining \r",
      "Completed 31.8 MiB/31.8 MiB with 1 file(s) remaining \r",
      "upload: ./zoonotic_SraRunInfo.csv to s3://serratus-public/sra/zoonotic_SraRunInfo.csv\r\n"
     ]
    }
   ],
   "source": [
    "aws s3 cp zoonitic_taxon.xlsx     s3://serratus-public/notebook/200505_ab/\n",
    "aws s3 cp zoonotic_SraRunInfo.csv s3://serratus-public/notebook/200505_ab/\n",
    "aws s3 cp zoonotic_SraRunInfo.csv s3://serratus-public/sra/"
   ]
  },
  {
   "cell_type": "markdown",
   "metadata": {
    "heading_collapsed": true
   },
   "source": [
    "# Pilot Run - Serratus Initialization\n",
    "\n",
    "Local system initialization procedures for `serratus`.\n",
    "\n",
    "Testing upgrade to production pipeline."
   ]
  },
  {
   "cell_type": "code",
   "execution_count": 1,
   "metadata": {
    "hidden": true
   },
   "outputs": [
    {
     "name": "stdout",
     "output_type": "stream",
     "text": [
      "Tue May  5 15:26:35 PDT 2020\r\n"
     ]
    }
   ],
   "source": [
    "date"
   ]
  },
  {
   "cell_type": "markdown",
   "metadata": {
    "hidden": true
   },
   "source": [
    "### Initialize local workspace"
   ]
  },
  {
   "cell_type": "code",
   "execution_count": 2,
   "metadata": {
    "hidden": true
   },
   "outputs": [
    {
     "name": "stdout",
     "output_type": "stream",
     "text": [
      "f3b580a63ec48eaddf41ad33e196f12d601eada5\r\n"
     ]
    }
   ],
   "source": [
    "# Serratus commit version\n",
    "SERRATUS=\"/home/artem/serratus\"\n",
    "cd $SERRATUS\n",
    "git rev-parse HEAD # commit version"
   ]
  },
  {
   "cell_type": "code",
   "execution_count": 3,
   "metadata": {
    "hidden": true
   },
   "outputs": [
    {
     "name": "stdout",
     "output_type": "stream",
     "text": []
    }
   ],
   "source": [
    "# Create local run directory\n",
    "WORK=\"$SERRATUS/notebook/200505_ab\"\n",
    "mkdir -p $WORK; cd $WORK"
   ]
  },
  {
   "cell_type": "code",
   "execution_count": 4,
   "metadata": {
    "hidden": true
   },
   "outputs": [
    {
     "name": "stdout",
     "output_type": "stream",
     "text": [
      "Run,ReleaseDate,LoadDate,spots,bases,spots_with_mates,avgLength,size_MB,AssemblyName,download_path,Experiment,LibraryName,LibraryStrategy,LibrarySelection,LibrarySource,LibraryLayout,InsertSize,InsertDev,Platform,Model,SRAStudy,BioProject,Study_Pubmed_id,ProjectID,Sample,BioSample,SampleType,TaxID,ScientificName,SampleName,g1k_pop_code,source,g1k_analysis_group,Subject_ID,Sex,Disease,Tumor,Affection_Status,Analyte_Type,Histological_Type,Body_Site,CenterName,Submission,dbgap_study_accession,Consent,RunHash,ReadHash\r\n",
      "SRR11586695,2020-04-23 09:17:35,2020-04-23 09:15:38,153914,51601654,0,335,16,,https://sra-download.ncbi.nlm.nih.gov/traces/sra77/SRR/011315/SRR11586695,SRX8154247,cDNA-19001,RNA-Seq,cDNA,TRANSCRIPTOMIC,SINGLE,0,0,ILLUMINA,Illumina HiSeq 2000,SRP257850,PRJNA627341,,627341,SRS6516548,SAMN14668015,simple,9940,Ovis aries,ATF19001,,,,,male,,no,,,,,XINJIANG ACADEMY OF AGRICULTURAL AND RECLAMATION SCIENCES,SRA1067908,,public,7C0CDD3A947FD5EF3FA5E35370841022,99326DB6AE16030E3DA9EAC9BA31ADC6\r\n",
      "ERR3568575,2020-04-18 18:18:51,2020-04-21 03:30:22,6830715,341535750,0,50,115,,https://sra-download.ncbi.nlm.nih.gov/traces/era19/ERR/ERR3568/ERR3568575,ERX3566974,Sample 1_s,RNA-Seq,RANDOM,GENOMIC,SINGLE,0,0,ILLUMINA,Illumina HiSeq 4000,ERP117619,PRJEB34680,,626196,ERS3788970,SAMEA5986148,simple,9940,Ovis aries,E-MTAB-8396:Sample 1,,,,,male,,no,,,,,Marcella Ma,ERA2154894,,public,02516A95F4DDDD165171E334AC1DD994,D42377CA75B5F931E7C4C832BB7B0082\r\n",
      "ERR3568576,2020-04-18 18:18:51,2020-04-21 03:30:35,6992625,349631250,0,50,119,,https://sra-download.ncbi.nlm.nih.gov/traces/era19/ERR/ERR3568/ERR3568576,ERX3566974,Sample 1_s,RNA-Seq,RANDOM,GENOMIC,SINGLE,0,0,ILLUMINA,Illumina HiSeq 4000,ERP117619,PRJEB34680,,626196,ERS3788970,SAMEA5986148,simple,9940,Ovis aries,E-MTAB-8396:Sample 1,,,,,male,,no,,,,,Marcella Ma,ERA2154894,,public,5DFB66F87E032C3EDFD9259DE3EB741C,D2677579B5A404E2FD337BDD649C8F9D\r\n",
      "ERR3568577,2020-04-18 18:18:51,2020-04-21 03:30:51,7980389,399019450,0,50,132,,https://sra-download.ncbi.nlm.nih.gov/traces/era19/ERR/ERR3568/ERR3568577,ERX3566975,Sample 10_s,RNA-Seq,RANDOM,GENOMIC,SINGLE,0,0,ILLUMINA,Illumina HiSeq 4000,ERP117619,PRJEB34680,,626196,ERS3788971,SAMEA5986149,simple,9940,Ovis aries,E-MTAB-8396:Sample 10,,,,,male,,no,,,,,Marcella Ma,ERA2154894,,public,1FF873F1FC9B606E3C03C0C078D94843,570E7DAB155669E7207CD55468F4DC4C\r\n",
      "ERR3568578,2020-04-18 18:18:51,2020-04-21 03:31:08,8246058,412302900,0,50,138,,https://sra-download.ncbi.nlm.nih.gov/traces/era19/ERR/ERR3568/ERR3568578,ERX3566975,Sample 10_s,RNA-Seq,RANDOM,GENOMIC,SINGLE,0,0,ILLUMINA,Illumina HiSeq 4000,ERP117619,PRJEB34680,,626196,ERS3788971,SAMEA5986149,simple,9940,Ovis aries,E-MTAB-8396:Sample 10,,,,,male,,no,,,,,Marcella Ma,ERA2154894,,public,2B825AE9E3A6CD9A06DAA38BC764DCFE,8A7009F182519D3A5CA27A5BDF2B6FFE\r\n",
      "ERR3568611,2020-04-18 18:18:52,2020-04-21 03:35:00,12779239,638961950,0,50,214,,https://sra-download.ncbi.nlm.nih.gov/traces/era19/ERR/ERR3568/ERR3568611,ERX3566992,Sample 11_s,RNA-Seq,RANDOM,GENOMIC,SINGLE,0,0,ILLUMINA,Illumina HiSeq 4000,ERP117619,PRJEB34680,,626196,ERS3788988,SAMEA5986166,simple,9940,Ovis aries,E-MTAB-8396:Sample 11,,,,,male,,no,,,,,Marcella Ma,ERA2154894,,public,CFA88D41AA4DBDCA575A8D107465E104,91F212E682092DEAF283B28E09142D21\r\n",
      "ERR3568612,2020-04-18 18:18:52,2020-04-21 03:35:04,13120052,656002600,0,50,222,,https://sra-download.ncbi.nlm.nih.gov/traces/era19/ERR/ERR3568/ERR3568612,ERX3566992,Sample 11_s,RNA-Seq,RANDOM,GENOMIC,SINGLE,0,0,ILLUMINA,Illumina HiSeq 4000,ERP117619,PRJEB34680,,626196,ERS3788988,SAMEA5986166,simple,9940,Ovis aries,E-MTAB-8396:Sample 11,,,,,male,,no,,,,,Marcella Ma,ERA2154894,,public,DBC029D69E64612D643C71935378A962,7ACDC3424AD879B4BC73684B46F2A010\r\n",
      "ERR3568613,2020-04-18 18:18:52,2020-04-21 03:35:19,11257583,562879150,0,50,191,,https://sra-download.ncbi.nlm.nih.gov/traces/era19/ERR/ERR3568/ERR3568613,ERX3566993,Sample 12_s,RNA-Seq,RANDOM,GENOMIC,SINGLE,0,0,ILLUMINA,Illumina HiSeq 4000,ERP117619,PRJEB34680,,626196,ERS3788989,SAMEA5986167,simple,9940,Ovis aries,E-MTAB-8396:Sample 12,,,,,female,,no,,,,,Marcella Ma,ERA2154894,,public,630F96B6A55B34F21D96C3EF364E74B1,7F9A5EA7049AA8FC7EEEC7115C2CF09D\r\n",
      "ERR3568614,2020-04-18 18:18:52,2020-04-21 03:35:21,11635092,581754600,0,50,199,,https://sra-download.ncbi.nlm.nih.gov/traces/era19/ERR/ERR3568/ERR3568614,ERX3566993,Sample 12_s,RNA-Seq,RANDOM,GENOMIC,SINGLE,0,0,ILLUMINA,Illumina HiSeq 4000,ERP117619,PRJEB34680,,626196,ERS3788989,SAMEA5986167,simple,9940,Ovis aries,E-MTAB-8396:Sample 12,,,,,female,,no,,,,,Marcella Ma,ERA2154894,,public,521DBEFA3111AA3D0B38BF353190978E,EEE272032D9ED117D0186358E3E54C82\r\n"
     ]
    }
   ],
   "source": [
    "# SRA RunInfo Table for run -- PILOT\n",
    "RUNINFO=\"$WORK/zoonotic_SraRunInfo.csv\"\n",
    "\n",
    "head -n 50 $RUNINFO > pilot_zoonotic.csv\n",
    "RUNINFO=\"$WORK/pilot_zoonotic.csv\"\n",
    "\n",
    "head $RUNINFO"
   ]
  },
  {
   "cell_type": "markdown",
   "metadata": {
    "hidden": true
   },
   "source": [
    "### Packer / AMI Initialization (optional)\n",
    "Does not need to be ran each time if you have access to the AMI already.\n",
    "\n",
    "Current Build: `us-east-1: ami-046baafb2ee438b69`"
   ]
  },
  {
   "cell_type": "code",
   "execution_count": 5,
   "metadata": {
    "hidden": true
   },
   "outputs": [
    {
     "name": "stdout",
     "output_type": "stream",
     "text": []
    }
   ],
   "source": [
    "# cd $SERRATUS/packer\n",
    "# packer build docker-ami.json"
   ]
  },
  {
   "cell_type": "markdown",
   "metadata": {
    "hidden": true
   },
   "source": [
    "### Build Serratus containers (optional)\n",
    "Serratus containers are available on the `serratusbio` dockerhub. If you wish to deploy your own containers, you will have to build them from the `serratus` repository and upload them to your own dockerhub account.\n",
    "\n",
    "This can be done with the `build.sh` script"
   ]
  },
  {
   "cell_type": "code",
   "execution_count": 6,
   "metadata": {
    "hidden": true
   },
   "outputs": [
    {
     "name": "stdout",
     "output_type": "stream",
     "text": []
    }
   ],
   "source": [
    "# cd $SERRATUS\n",
    "\n",
    "# If you want to upload containers to your repository\n",
    "# include this.\n",
    "# export DOCKERHUB_USER='serratusbio' # optional\n",
    "# sudo docker login # optional\n",
    "\n",
    "# Build all containers and upload them docker hub repo\n",
    "# (if available)\n",
    "# ./container_build.sh"
   ]
  },
  {
   "cell_type": "markdown",
   "metadata": {
    "hidden": true
   },
   "source": [
    "### Terraform Initialization\n",
    "The Global Variables for Terraform file must be modified to initialize for your system.\n",
    "\n",
    "File: `$SERRATUS/terarform/main/terraform.tfvars`\n",
    "\n",
    "This step must be done manually in a text editor currently."
   ]
  },
  {
   "cell_type": "code",
   "execution_count": null,
   "metadata": {
    "hidden": true
   },
   "outputs": [],
   "source": [
    "## Change these parameters in\n",
    "## $SERRATUS/terarform/main/terraform.tfvars\n",
    "\n",
    "# Your public IP followed by \"/32\"\n",
    "# use: `curl ipecho.net/plain; echo`\n",
    "LOCALIP=\"75.155.242.67/32\" #dev_cidrs\n",
    "# Your AWS key name\n",
    "KEYNAME=\"serratus\"         #key_name\n",
    "# Dockerhub account containing serratus containers\n",
    "DOCKERHUB_USER='serratusbio'    #dockerhub_account (optional)"
   ]
  },
  {
   "cell_type": "code",
   "execution_count": 12,
   "metadata": {
    "hidden": true
   },
   "outputs": [
    {
     "name": "stdout",
     "output_type": "stream",
     "text": [
      "diff --git a/terraform/main/main.tf b/terraform/main/main.tf\r\n",
      "index 4cd4122..d870281 100644\r\n",
      "--- a/terraform/main/main.tf\r\n",
      "+++ b/terraform/main/main.tf\r\n",
      "@@ -45,7 +45,9 @@ provider \"aws\" {\r\n",
      "   region      = var.aws_region\r\n",
      " }\r\n",
      " \r\n",
      "-provider \"local\" {}\r\n",
      "+provider \"local\" {\r\n",
      "+  version = \"~> 1.4\"\r\n",
      "+}\r\n",
      " \r\n",
      " resource \"aws_security_group\" \"internal\" {\r\n",
      "   name = \"serratus-internal\"\r\n",
      "@@ -112,8 +114,8 @@ module \"download\" {\r\n",
      "   dev_cidrs          = var.dev_cidrs\r\n",
      "   security_group_ids = [aws_security_group.internal.id]\r\n",
      " \r\n",
      "-  instance_type      = \"r5.large\" // Mitigate the memory leak in fastq-dump\r\n",
      "-  volume_size        = 25 // Mitigate the storage leak in fastq-dump\r\n",
      "+  instance_type      = \"c5.large\" // Mitigate the memory leak in fastq-dump\r\n",
      "+  volume_size        = 50 // Mitigate the storage leak in fastq-dump\r\n",
      "   spot_price         = 0.05\r\n",
      " \r\n",
      "   s3_bucket          = module.work_bucket.name\r\n",
      "@@ -168,7 +170,7 @@ module \"merge\" {\r\n",
      "   // TODO: the credentials are not properly set-up to\r\n",
      "   //       upload to serratus-public, requires a *Object policy\r\n",
      "   //       on the bucket.\r\n",
      "-  options            = \"-k ${module.work_bucket.name} -b s3://serratus-public/out/200427_CoV_positve_ctrl\"\r\n",
      "+  options            = \"-k ${module.work_bucket.name} -b s3://serratus-public/out/200505_zoonotic/\"\r\n",
      " }\r\n",
      " \r\n",
      " // RESOURCES ##############################\r\n"
     ]
    }
   ],
   "source": [
    "# Terraform customization\n",
    "git diff $SERRATUS/terraform/main/main.tf"
   ]
  },
  {
   "cell_type": "code",
   "execution_count": 11,
   "metadata": {
    "hidden": true
   },
   "outputs": [
    {
     "name": "stdout",
     "output_type": "stream",
     "text": [
      "\u001b[0m\u001b[1mInitializing modules...\u001b[0m\r\n",
      "\r\n",
      "\u001b[0m\u001b[1mInitializing the backend...\u001b[0m\r\n",
      "\r\n",
      "\u001b[0m\u001b[1mInitializing provider plugins...\u001b[0m\r\n",
      "\r\n",
      "\u001b[0m\u001b[1m\u001b[32mTerraform has been successfully initialized!\u001b[0m\u001b[32m\u001b[0m\r\n",
      "\u001b[0m\u001b[32m\r\n",
      "You may now begin working with Terraform. Try running \"terraform plan\" to see\r\n",
      "any changes that are required for your infrastructure. All Terraform commands\r\n",
      "should now work.\r\n",
      "\r\n",
      "If you ever set or change modules or backend configuration for Terraform,\r\n",
      "rerun this command to reinitialize your working directory. If you forget, other\r\n",
      "commands will detect it and remind you to do so if necessary.\u001b[0m\r\n"
     ]
    }
   ],
   "source": [
    "# Initialize terraform\n",
    "cd $SERRATUS/terraform/main\n",
    "terraform init"
   ]
  },
  {
   "cell_type": "code",
   "execution_count": 13,
   "metadata": {
    "hidden": true
   },
   "outputs": [
    {
     "name": "stdout",
     "output_type": "stream",
     "text": [
      "\u001b[0m\u001b[1mmodule.download.data.aws_region.current: Refreshing state...\u001b[0m\r\n",
      "\u001b[0m\u001b[1mmodule.scheduler.data.aws_region.current: Refreshing state...\u001b[0m\r\n",
      "\u001b[0m\u001b[1mmodule.merge.data.aws_availability_zones.all: Refreshing state...\u001b[0m\r\n",
      "\u001b[0m\u001b[1mmodule.download.data.aws_ami.amazon_linux_2: Refreshing state...\u001b[0m\r\n",
      "\u001b[0m\u001b[1mmodule.merge.data.aws_ami.amazon_linux_2: Refreshing state...\u001b[0m\r\n",
      "\u001b[0m\u001b[1mmodule.align.data.aws_availability_zones.all: Refreshing state...\u001b[0m\r\n",
      "\u001b[0m\u001b[1mmodule.scheduler.data.aws_ami.amazon_linux_2: Refreshing state...\u001b[0m\r\n",
      "\u001b[0m\u001b[1mmodule.align.data.aws_ami.amazon_linux_2: Refreshing state...\u001b[0m\r\n",
      "\u001b[0m\u001b[1mmodule.download.data.aws_availability_zones.all: Refreshing state...\u001b[0m\r\n",
      "\u001b[0m\u001b[1mmodule.monitoring.data.aws_ami.ecs: Refreshing state...\u001b[0m\r\n",
      "\u001b[0m\u001b[1mmodule.align.data.aws_region.current: Refreshing state...\u001b[0m\r\n",
      "\u001b[0m\u001b[1mmodule.merge.data.aws_region.current: Refreshing state...\u001b[0m\r\n",
      "\u001b[0m\u001b[1mmodule.scheduler.aws_cloudwatch_log_group.scheduler: Creating...\u001b[0m\u001b[0m\r\n",
      "\u001b[0m\u001b[1mmodule.monitoring.aws_ecs_cluster.monitor: Creating...\u001b[0m\u001b[0m\r\n",
      "\u001b[0m\u001b[1mmodule.merge.aws_cloudwatch_log_group.g: Creating...\u001b[0m\u001b[0m\r\n",
      "\u001b[0m\u001b[1mmodule.scheduler.module.iam_role.aws_iam_role.role: Creating...\u001b[0m\u001b[0m\r\n",
      "\u001b[0m\u001b[1mmodule.align.aws_cloudwatch_log_group.g: Creating...\u001b[0m\u001b[0m\r\n",
      "\u001b[0m\u001b[1mmodule.monitoring.aws_iam_role.instance_role: Creating...\u001b[0m\u001b[0m\r\n",
      "\u001b[0m\u001b[1mmodule.download.aws_cloudwatch_log_group.g: Creating...\u001b[0m\u001b[0m\r\n",
      "\u001b[0m\u001b[1mmodule.monitoring.aws_iam_role.task_role: Creating...\u001b[0m\u001b[0m\r\n",
      "\u001b[0m\u001b[1mmodule.work_bucket.aws_s3_bucket.work: Creating...\u001b[0m\u001b[0m\r\n",
      "\u001b[0m\u001b[1mmodule.merge.module.iam_role.aws_iam_role.role: Creating...\u001b[0m\u001b[0m\r\n",
      "\u001b[0m\u001b[1mmodule.scheduler.module.iam_role.aws_iam_role.role: Creation complete after 1s [id=SerratusIamRole-scheduler]\u001b[0m\u001b[0m\r\n",
      "\u001b[0m\u001b[1mmodule.monitoring.aws_iam_role.task_role: Creation complete after 1s [id=SerratusIamRole-monitor]\u001b[0m\u001b[0m\r\n",
      "\u001b[0m\u001b[1mmodule.merge.module.iam_role.aws_iam_role.role: Creation complete after 1s [id=SerratusIamRole-serratus-merge]\u001b[0m\u001b[0m\r\n",
      "\u001b[0m\u001b[1mmodule.monitoring.aws_iam_role.instance_role: Creation complete after 1s [id=SerratusEcsInstanceRole]\u001b[0m\u001b[0m\r\n",
      "\u001b[0m\u001b[1maws_security_group.internal: Creating...\u001b[0m\u001b[0m\r\n",
      "\u001b[0m\u001b[1mmodule.scheduler.module.iam_role.aws_iam_role_policy.cloudwatch: Creating...\u001b[0m\u001b[0m\r\n",
      "\u001b[0m\u001b[1mmodule.scheduler.module.iam_role.aws_iam_instance_profile.profile: Creating...\u001b[0m\u001b[0m\r\n",
      "\u001b[0m\u001b[1mmodule.download.module.iam_role.aws_iam_role.role: Creating...\u001b[0m\u001b[0m\r\n",
      "\u001b[0m\u001b[1mmodule.align.aws_cloudwatch_log_group.g: Creation complete after 1s [id=serratus-align]\u001b[0m\u001b[0m\r\n",
      "\u001b[0m\u001b[1mmodule.merge.aws_cloudwatch_log_group.g: Creation complete after 1s [id=serratus-merge]\u001b[0m\u001b[0m\r\n",
      "\u001b[0m\u001b[1mmodule.download.aws_cloudwatch_log_group.g: Creation complete after 1s [id=serratus-dl]\u001b[0m\u001b[0m\r\n",
      "\u001b[0m\u001b[1mmodule.scheduler.aws_cloudwatch_log_group.scheduler: Creation complete after 1s [id=scheduler]\u001b[0m\u001b[0m\r\n",
      "\u001b[0m\u001b[1mmodule.monitoring.aws_iam_role_policy.cloudwatch: Creating...\u001b[0m\u001b[0m\r\n",
      "\u001b[0m\u001b[1mmodule.align.module.iam_role.aws_iam_role.role: Creating...\u001b[0m\u001b[0m\r\n",
      "\u001b[0m\u001b[1mmodule.monitoring.aws_iam_role_policy_attachment.attachment: Creating...\u001b[0m\u001b[0m\r\n",
      "\u001b[0m\u001b[1mmodule.merge.module.iam_role.aws_iam_role_policy_attachment.attachment[\"arn:aws:iam::aws:policy/AmazonS3ReadOnlyAccess\"]: Creating...\u001b[0m\u001b[0m\r\n",
      "\u001b[0m\u001b[1mmodule.scheduler.module.iam_role.aws_iam_role_policy.cloudwatch: Creation complete after 1s [id=SerratusIamRole-scheduler:CloudWatchLogsCreate-scheduler]\u001b[0m\u001b[0m\r\n",
      "\u001b[0m\u001b[1mmodule.download.module.iam_role.aws_iam_role.role: Creation complete after 1s [id=SerratusIamRole-serratus-dl]\u001b[0m\u001b[0m\r\n",
      "\u001b[0m\u001b[1mmodule.merge.module.iam_role.aws_iam_instance_profile.profile: Creating...\u001b[0m\u001b[0m\r\n",
      "\u001b[0m\u001b[1mmodule.merge.module.iam_role.aws_iam_role_policy.cloudwatch: Creating...\u001b[0m\u001b[0m\r\n",
      "\u001b[0m\u001b[1mmodule.monitoring.aws_iam_role_policy_attachment.attachment: Creation complete after 1s [id=SerratusIamRole-monitor-20200505223428556900000002]\u001b[0m\u001b[0m\r\n",
      "\u001b[0m\u001b[1mmodule.merge.module.iam_role.aws_iam_role_policy_attachment.attachment[\"arn:aws:iam::aws:policy/AmazonS3ReadOnlyAccess\"]: Creation complete after 1s [id=SerratusIamRole-serratus-merge-20200505223428561500000003]\u001b[0m\u001b[0m\r\n",
      "\u001b[0m\u001b[1mmodule.monitoring.aws_iam_role_policy.cloudwatch: Creation complete after 1s [id=SerratusIamRole-monitor:CloudwatchGetMetrics]\u001b[0m\u001b[0m\r\n",
      "\u001b[0m\u001b[1mmodule.monitoring.aws_iam_role_policy_attachment.instance_attachment: Creating...\u001b[0m\u001b[0m\r\n",
      "\u001b[0m\u001b[1mmodule.align.module.iam_role.aws_iam_role.role: Creation complete after 1s [id=SerratusIamRole-serratus-align]\u001b[0m\u001b[0m\r\n",
      "\u001b[0m\u001b[1mmodule.monitoring.aws_iam_instance_profile.monitor: Creating...\u001b[0m\u001b[0m\r\n",
      "\u001b[0m\u001b[1mmodule.scheduler.aws_iam_role_policy.scheduler: Creating...\u001b[0m\u001b[0m\r\n",
      "\u001b[0m\u001b[1mmodule.merge.aws_iam_role_policy.ec2Terminate: Creating...\u001b[0m\u001b[0m\r\n",
      "\u001b[0m\u001b[1mmodule.scheduler.module.iam_role.aws_iam_instance_profile.profile: Creation complete after 1s [id=profile-scheduler]\u001b[0m\u001b[0m\r\n",
      "\u001b[0m\u001b[1mmodule.merge.aws_iam_role_policy.ec2Describe: Creating...\u001b[0m\u001b[0m\r\n",
      "\u001b[0m\u001b[1mmodule.merge.module.iam_role.aws_iam_role_policy.cloudwatch: Creation complete after 0s [id=SerratusIamRole-serratus-merge:CloudWatchLogsCreate-serratus-merge]\u001b[0m\u001b[0m\r\n",
      "\u001b[0m\u001b[1mmodule.merge.aws_iam_role_policy.AdjustAutoScaling: Creating...\u001b[0m\u001b[0m\r\n",
      "\u001b[0m\u001b[1mmodule.scheduler.aws_iam_role_policy.scheduler: Creation complete after 1s [id=SerratusIamRole-scheduler:DescribeInstances-scheduler]\u001b[0m\u001b[0m\r\n",
      "\u001b[0m\u001b[1mmodule.merge.aws_iam_role_policy.ec2Terminate: Creation complete after 1s [id=SerratusIamRole-serratus-merge:TerminateEC2Instances-serratus-merge]\u001b[0m\u001b[0m\r\n",
      "\u001b[0m\u001b[1mmodule.monitoring.aws_iam_role_policy_attachment.instance_attachment: Creation complete after 1s [id=SerratusEcsInstanceRole-20200505223429334900000004]\u001b[0m\u001b[0m\r\n",
      "\u001b[0m\u001b[1mmodule.download.module.iam_role.aws_iam_role_policy.cloudwatch: Creating...\u001b[0m\u001b[0m\r\n",
      "\u001b[0m\u001b[1mmodule.download.module.iam_role.aws_iam_instance_profile.profile: Creating...\u001b[0m\u001b[0m\r\n",
      "\u001b[0m\u001b[1mmodule.download.module.iam_role.aws_iam_role_policy_attachment.attachment[\"arn:aws:iam::aws:policy/AmazonS3ReadOnlyAccess\"]: Creating...\u001b[0m\u001b[0m\r\n",
      "\u001b[0m\u001b[1mmodule.merge.aws_iam_role_policy.ec2Describe: Creation complete after 1s [id=SerratusIamRole-serratus-merge:DescribeEC2Instances-serratus-merge]\u001b[0m\u001b[0m\r\n",
      "\u001b[0m\u001b[1mmodule.align.module.iam_role.aws_iam_role_policy_attachment.attachment[\"arn:aws:iam::aws:policy/AmazonS3ReadOnlyAccess\"]: Creating...\u001b[0m\u001b[0m\r\n",
      "\u001b[0m\u001b[1mmodule.merge.module.iam_role.aws_iam_instance_profile.profile: Creation complete after 1s [id=profile-serratus-merge]\u001b[0m\u001b[0m\r\n",
      "\u001b[0m\u001b[1mmodule.align.module.iam_role.aws_iam_role_policy.cloudwatch: Creating...\u001b[0m\u001b[0m\r\n",
      "\u001b[0m\u001b[1mmodule.monitoring.aws_iam_instance_profile.monitor: Creation complete after 1s [id=profile-serratus-monitor]\u001b[0m\u001b[0m\r\n",
      "\u001b[0m\u001b[1mmodule.align.module.iam_role.aws_iam_instance_profile.profile: Creating...\u001b[0m\u001b[0m\r\n",
      "\u001b[0m\u001b[1mmodule.merge.aws_iam_role_policy.AdjustAutoScaling: Creation complete after 1s [id=SerratusIamRole-serratus-merge:AdjustAutoScaling-serratus-merge]\u001b[0m\u001b[0m\r\n",
      "\u001b[0m\u001b[1mmodule.download.aws_iam_role_policy.ec2Terminate: Creating...\u001b[0m\u001b[0m\r\n",
      "\u001b[0m\u001b[1mmodule.download.module.iam_role.aws_iam_role_policy_attachment.attachment[\"arn:aws:iam::aws:policy/AmazonS3ReadOnlyAccess\"]: Creation complete after 0s [id=SerratusIamRole-serratus-dl-20200505223430120900000005]\u001b[0m\u001b[0m\r\n",
      "\u001b[0m\u001b[1mmodule.download.module.iam_role.aws_iam_role_policy.cloudwatch: Creation complete after 0s [id=SerratusIamRole-serratus-dl:CloudWatchLogsCreate-serratus-dl]\u001b[0m\u001b[0m\r\n",
      "\u001b[0m\u001b[1mmodule.download.aws_iam_role_policy.ec2Describe: Creating...\u001b[0m\u001b[0m\r\n",
      "\u001b[0m\u001b[1mmodule.download.aws_iam_role_policy.AdjustAutoScaling: Creating...\u001b[0m\u001b[0m\r\n",
      "\u001b[0m\u001b[1mmodule.align.module.iam_role.aws_iam_role_policy_attachment.attachment[\"arn:aws:iam::aws:policy/AmazonS3ReadOnlyAccess\"]: Creation complete after 1s [id=SerratusIamRole-serratus-align-20200505223430206800000006]\u001b[0m\u001b[0m\r\n",
      "\u001b[0m\u001b[1mmodule.align.aws_iam_role_policy.AdjustAutoScaling: Creating...\u001b[0m\u001b[0m\r\n",
      "\u001b[0m\u001b[1mmodule.align.module.iam_role.aws_iam_role_policy.cloudwatch: Creation complete after 1s [id=SerratusIamRole-serratus-align:CloudWatchLogsCreate-serratus-align]\u001b[0m\u001b[0m\r\n",
      "\u001b[0m\u001b[1mmodule.align.aws_iam_role_policy.ec2Describe: Creating...\u001b[0m\u001b[0m\r\n",
      "\u001b[0m\u001b[1mmodule.download.module.iam_role.aws_iam_instance_profile.profile: Creation complete after 1s [id=profile-serratus-dl]\u001b[0m\u001b[0m\r\n",
      "\u001b[0m\u001b[1mmodule.align.aws_iam_role_policy.ec2Terminate: Creating...\u001b[0m\u001b[0m\r\n",
      "\u001b[0m\u001b[1mmodule.download.aws_iam_role_policy.ec2Terminate: Creation complete after 1s [id=SerratusIamRole-serratus-dl:TerminateEC2Instances-serratus-dl]\u001b[0m\u001b[0m\r\n",
      "\u001b[0m\u001b[1mmodule.align.module.iam_role.aws_iam_instance_profile.profile: Creation complete after 1s [id=profile-serratus-align]\u001b[0m\u001b[0m\r\n",
      "\u001b[0m\u001b[1mmodule.download.aws_iam_role_policy.ec2Describe: Creation complete after 0s [id=SerratusIamRole-serratus-dl:DescribeEC2Instances-serratus-dl]\u001b[0m\u001b[0m\r\n",
      "\u001b[0m\u001b[1mmodule.download.aws_iam_role_policy.AdjustAutoScaling: Creation complete after 0s [id=SerratusIamRole-serratus-dl:AdjustAutoScaling-serratus-dl]\u001b[0m\u001b[0m\r\n",
      "\u001b[0m\u001b[1mmodule.align.aws_iam_role_policy.AdjustAutoScaling: Creation complete after 0s [id=SerratusIamRole-serratus-align:AdjustAutoScaling-serratus-align]\u001b[0m\u001b[0m\r\n",
      "\u001b[0m\u001b[1mmodule.align.aws_iam_role_policy.ec2Describe: Creation complete after 0s [id=SerratusIamRole-serratus-align:DescribeEC2Instances-serratus-align]\u001b[0m\u001b[0m\r\n",
      "\u001b[0m\u001b[1mmodule.align.aws_iam_role_policy.ec2Terminate: Creation complete after 1s [id=SerratusIamRole-serratus-align:TerminateEC2Instances-serratus-align]\u001b[0m\u001b[0m\r\n",
      "\u001b[0m\u001b[1maws_security_group.internal: Creation complete after 4s [id=sg-0ed2512f291ee6bbe]\u001b[0m\u001b[0m\r\n",
      "\u001b[0m\u001b[1mmodule.scheduler.aws_instance.scheduler: Creating...\u001b[0m\u001b[0m\r\n",
      "\u001b[0m\u001b[1mmodule.work_bucket.aws_s3_bucket.work: Creation complete after 7s [id=tf-serratus-work-20200505223426920000000001]\u001b[0m\u001b[0m\r\n",
      "\u001b[0m\u001b[1mmodule.work_bucket.aws_s3_bucket_metric.prefix[\"out\"]: Creating...\u001b[0m\u001b[0m\r\n",
      "\u001b[0m\u001b[1mmodule.work_bucket.aws_s3_bucket_metric.prefix[\"fq-blocks\"]: Creating...\u001b[0m\u001b[0m\r\n",
      "\u001b[0m\u001b[1mmodule.work_bucket.aws_s3_bucket_metric.prefix[\"bam-blocks\"]: Creating...\u001b[0m\u001b[0m\r\n",
      "\u001b[0m\u001b[1mmodule.align.aws_iam_role_policy.s3_write: Creating...\u001b[0m\u001b[0m\r\n",
      "\u001b[0m\u001b[1mmodule.merge.aws_iam_role_policy.s3_write: Creating...\u001b[0m\u001b[0m\r\n",
      "\u001b[0m\u001b[1mmodule.align.aws_iam_role_policy.s3_delete[0]: Creating...\u001b[0m\u001b[0m\r\n",
      "\u001b[0m\u001b[1mmodule.download.aws_iam_role_policy.s3_write: Creating...\u001b[0m\u001b[0m\r\n",
      "\u001b[0m\u001b[1mmodule.work_bucket.aws_s3_bucket_metric.full: Creating...\u001b[0m\u001b[0m\r\n",
      "\u001b[0m\u001b[1mmodule.work_bucket.aws_s3_bucket_metric.prefix[\"bam-blocks\"]: Creation complete after 1s [id=tf-serratus-work-20200505223426920000000001:prefix-bam-blocks]\u001b[0m\u001b[0m\r\n",
      "\u001b[0m\u001b[1mmodule.align.aws_iam_role_policy.s3_delete[0]: Creation complete after 1s [id=SerratusIamRole-serratus-align:S3DeleteData-serratus-align]\u001b[0m\u001b[0m\r\n",
      "\u001b[0m\u001b[1mmodule.work_bucket.aws_s3_bucket_metric.full: Creation complete after 1s [id=tf-serratus-work-20200505223426920000000001:full]\u001b[0m\u001b[0m\r\n",
      "\u001b[0m\u001b[1mmodule.align.aws_iam_role_policy.s3_write: Creation complete after 1s [id=SerratusIamRole-serratus-align:S3WriteData-serratus-align]\u001b[0m\u001b[0m\r\n",
      "\u001b[0m\u001b[1mmodule.merge.aws_iam_role_policy.s3_delete[0]: Creating...\u001b[0m\u001b[0m\r\n",
      "\u001b[0m\u001b[1mmodule.work_bucket.aws_s3_bucket_metric.prefix[\"fq-blocks\"]: Creation complete after 1s [id=tf-serratus-work-20200505223426920000000001:prefix-fq-blocks]\u001b[0m\u001b[0m\r\n",
      "\u001b[0m\u001b[1mmodule.download.aws_iam_role_policy.s3_write: Creation complete after 1s [id=SerratusIamRole-serratus-dl:S3WriteData-serratus-dl]\u001b[0m\u001b[0m\r\n",
      "\u001b[0m\u001b[1mmodule.merge.aws_iam_role_policy.s3_write: Creation complete after 1s [id=SerratusIamRole-serratus-merge:S3WriteData-serratus-merge]\u001b[0m\u001b[0m\r\n",
      "\u001b[0m\u001b[1mmodule.work_bucket.aws_s3_bucket_metric.prefix[\"out\"]: Creation complete after 1s [id=tf-serratus-work-20200505223426920000000001:prefix-out]\u001b[0m\u001b[0m\r\n",
      "\u001b[0m\u001b[1mmodule.merge.aws_iam_role_policy.s3_delete[0]: Creation complete after 0s [id=SerratusIamRole-serratus-merge:S3DeleteData-serratus-merge]\u001b[0m\u001b[0m\r\n",
      "\u001b[0m\u001b[1mmodule.monitoring.aws_ecs_cluster.monitor: Still creating... [10s elapsed]\u001b[0m\u001b[0m\r\n",
      "\u001b[0m\u001b[1mmodule.monitoring.aws_ecs_cluster.monitor: Creation complete after 11s [id=arn:aws:ecs:us-east-1:797308887321:cluster/serratus-monitor]\u001b[0m\u001b[0m\r\n",
      "\u001b[0m\u001b[1mmodule.monitoring.aws_instance.monitor: Creating...\u001b[0m\u001b[0m\r\n",
      "\u001b[0m\u001b[1mmodule.scheduler.aws_instance.scheduler: Still creating... [10s elapsed]\u001b[0m\u001b[0m\r\n",
      "\u001b[0m\u001b[1mmodule.monitoring.aws_instance.monitor: Still creating... [10s elapsed]\u001b[0m\u001b[0m\r\n",
      "\u001b[0m\u001b[1mmodule.scheduler.aws_instance.scheduler: Still creating... [20s elapsed]\u001b[0m\u001b[0m\r\n",
      "\u001b[0m\u001b[1mmodule.monitoring.aws_instance.monitor: Creation complete after 16s [id=i-0d33340c26572d8c6]\u001b[0m\u001b[0m\r\n",
      "\u001b[0m\u001b[1mmodule.monitoring.aws_eip.monitor: Creating...\u001b[0m\u001b[0m\r\n",
      "\u001b[0m\u001b[1mmodule.scheduler.aws_instance.scheduler: Creation complete after 22s [id=i-0198611e326b66a96]\u001b[0m\u001b[0m\r\n",
      "\u001b[0m\u001b[1mmodule.scheduler.aws_eip.sch: Creating...\u001b[0m\u001b[0m\r\n",
      "\u001b[0m\u001b[1mmodule.monitoring.aws_ecs_task_definition.monitor: Creating...\u001b[0m\u001b[0m\r\n",
      "\u001b[0m\u001b[1mmodule.monitoring.aws_ecs_task_definition.monitor: Creation complete after 1s [id=monitor]\u001b[0m\u001b[0m\r\n",
      "\u001b[0m\u001b[1mmodule.monitoring.aws_ecs_service.monitor: Creating...\u001b[0m\u001b[0m\r\n",
      "\u001b[0m\u001b[1mmodule.monitoring.aws_ecs_service.monitor: Creation complete after 1s [id=arn:aws:ecs:us-east-1:797308887321:service/serratus-monitor]\u001b[0m\u001b[0m\r\n",
      "\u001b[0m\u001b[1mmodule.monitoring.aws_eip.monitor: Creation complete after 3s [id=eipalloc-018dd201a1c2670d1]\u001b[0m\u001b[0m\r\n",
      "\u001b[0m\u001b[1mmodule.scheduler.aws_eip.sch: Creation complete after 3s [id=eipalloc-0cbed026198c2a75e]\u001b[0m\u001b[0m\r\n",
      "\u001b[0m\u001b[1mlocal_file.create_tunnel: Creating...\u001b[0m\u001b[0m\r\n",
      "\u001b[0m\u001b[1mmodule.merge.aws_launch_configuration.worker: Creating...\u001b[0m\u001b[0m\r\n",
      "\u001b[0m\u001b[1mlocal_file.hosts: Creating...\u001b[0m\u001b[0m\r\n",
      "\u001b[0m\u001b[1mmodule.align.aws_launch_configuration.worker: Creating...\u001b[0m\u001b[0m\r\n",
      "\u001b[0m\u001b[1mlocal_file.create_tunnel: Creation complete after 0s [id=12a6f8df1f462973f3def814de9d1e840b4f2294]\u001b[0m\u001b[0m\r\n",
      "\u001b[0m\u001b[1mmodule.download.aws_launch_configuration.worker: Creating...\u001b[0m\u001b[0m\r\n",
      "\u001b[0m\u001b[1mlocal_file.hosts: Creation complete after 0s [id=6f0d290f8be6b66762cef288daa1a67f2a273a4e]\u001b[0m\u001b[0m\r\n",
      "\u001b[0m\u001b[1mmodule.download.aws_launch_configuration.worker: Creation complete after 3s [id=serratus-dl-2020050522345804660000000a]\u001b[0m\u001b[0m\r\n",
      "\u001b[0m\u001b[1mmodule.align.aws_launch_configuration.worker: Creation complete after 3s [id=serratus-align-20200505223458038500000009]\u001b[0m\u001b[0m\r\n",
      "\u001b[0m\u001b[1mmodule.download.aws_autoscaling_group.worker: Creating...\u001b[0m\u001b[0m\r\n",
      "\u001b[0m\u001b[1mmodule.align.aws_autoscaling_group.worker: Creating...\u001b[0m\u001b[0m\r\n",
      "\u001b[0m\u001b[1mmodule.merge.aws_launch_configuration.worker: Creation complete after 3s [id=serratus-merge-20200505223458024400000008]\u001b[0m\u001b[0m\r\n",
      "\u001b[0m\u001b[1mmodule.merge.aws_autoscaling_group.worker: Creating...\u001b[0m\u001b[0m\r\n",
      "\u001b[0m\u001b[1mmodule.download.aws_autoscaling_group.worker: Creation complete after 1s [id=serratus-dl-2020050522345804660000000a]\u001b[0m\u001b[0m\r\n",
      "\u001b[0m\u001b[1mmodule.merge.aws_autoscaling_group.worker: Creation complete after 1s [id=serratus-merge-20200505223458024400000008]\u001b[0m\u001b[0m\r\n",
      "\u001b[0m\u001b[1mlocal_file.dl_set_capacity: Creating...\u001b[0m\u001b[0m\r\n",
      "\u001b[0m\u001b[1mlocal_file.merge_set_capacity: Creating...\u001b[0m\u001b[0m\r\n",
      "\u001b[0m\u001b[1mmodule.download.aws_autoscaling_policy.worker: Creating...\u001b[0m\u001b[0m\r\n",
      "\u001b[0m\u001b[1mlocal_file.dl_set_capacity: Creation complete after 0s [id=a6b2b187b70ed97c844a2caadba9fca3c1b0b9e5]\u001b[0m\u001b[0m\r\n",
      "\u001b[0m\u001b[1mmodule.merge.aws_autoscaling_policy.worker: Creating...\u001b[0m\u001b[0m\r\n",
      "\u001b[0m\u001b[1mlocal_file.merge_set_capacity: Creation complete after 0s [id=ca156517f335fffd3c4ad6dc7a359a34bab04c33]\u001b[0m\u001b[0m\r\n",
      "\u001b[0m\u001b[1mmodule.align.aws_autoscaling_group.worker: Creation complete after 1s [id=serratus-align-20200505223458038500000009]\u001b[0m\u001b[0m\r\n",
      "\u001b[0m\u001b[1mlocal_file.align_set_capacity: Creating...\u001b[0m\u001b[0m\r\n",
      "\u001b[0m\u001b[1mmodule.align.aws_autoscaling_policy.worker: Creating...\u001b[0m\u001b[0m\r\n",
      "\u001b[0m\u001b[1mlocal_file.align_set_capacity: Creation complete after 0s [id=86796f428784b6b0f78202897eb46e61ba9154c9]\u001b[0m\u001b[0m\r\n",
      "\u001b[0m\u001b[1mmodule.download.aws_autoscaling_policy.worker: Creation complete after 1s [id=serratus-dl-2020050522345804660000000a]\u001b[0m\u001b[0m\r\n",
      "\u001b[0m\u001b[1mmodule.merge.aws_autoscaling_policy.worker: Creation complete after 1s [id=serratus-merge-20200505223458024400000008]\u001b[0m\u001b[0m\r\n",
      "\u001b[0m\u001b[1mmodule.align.aws_autoscaling_policy.worker: Creation complete after 1s [id=serratus-align-20200505223458038500000009]\u001b[0m\u001b[0m\r\n",
      "\u001b[0m\u001b[1m\u001b[32m\r\n",
      "Apply complete! Resources: 67 added, 0 changed, 0 destroyed.\u001b[0m\r\n",
      "\u001b[0m\u001b[1m\u001b[32m\r\n",
      "Outputs:\r\n",
      "\r\n",
      "align_asg_name = serratus-align-20200505223458038500000009\r\n",
      "dl_asg_name = serratus-dl-2020050522345804660000000a\r\n",
      "help = Run ./create_tunnels.sh to create SSH tunnels for all services.\r\n",
      "\r\n",
      "merge_asg_name = serratus-merge-20200505223458024400000008\r\n",
      "monitor_dns = ec2-18-211-229-33.compute-1.amazonaws.com\r\n",
      "scheduler_dns = ec2-54-85-181-158.compute-1.amazonaws.com\u001b[0m\r\n"
     ]
    }
   ],
   "source": [
    "# Launch Terraform Cluster\n",
    "# Initialize the serratus cluster with minimal nodes\n",
    "terraform apply -auto-approve"
   ]
  },
  {
   "cell_type": "markdown",
   "metadata": {
    "hidden": true
   },
   "source": [
    "## Running Serratus \n",
    "Upload the run data, scale-out the cluster, monitor performance.\n"
   ]
  },
  {
   "cell_type": "markdown",
   "metadata": {
    "hidden": true
   },
   "source": [
    "### Run Monitors & Upload table\n",
    "Open SSH tunnels to monitor node then open monitors in browser\n"
   ]
  },
  {
   "cell_type": "code",
   "execution_count": 14,
   "metadata": {
    "hidden": true
   },
   "outputs": [
    {
     "name": "stdout",
     "output_type": "stream",
     "text": [
      "Tunnels created:\r\n",
      "Warning: Permanently added 'ec2-18-211-229-33.compute-1.amazonaws.com,18.211.229.33' (ECDSA) to the list of known hosts.\r",
      "\r\n",
      "    localhost:3000 -- grafana\r\n",
      "Warning: Permanently added 'ec2-18-211-229-33.compute-1.amazonaws.com,18.211.229.33' (ECDSA) to the list of known hosts.\r",
      "\r\n",
      "    localhost:9090 -- prometheus\r\n",
      "Warning: Permanently added 'ec2-54-85-181-158.compute-1.amazonaws.com,54.85.181.158' (ECDSA) to the list of known hosts.\r",
      "\r\n",
      "    localhost:8000 -- scheduler\r\n",
      "  % Total    % Received % Xferd  Average Speed   Time    Time     Time  Current\r\n",
      "                                 Dload  Upload   Total   Spent    Left  Speed\r\n",
      "\r",
      "  0     0    0     0    0     0      0      0 --:--:-- --:--:-- --:--:--     0\r",
      "100   364  100   364    0     0   1989      0 --:--:-- --:--:-- --:--:--  1989\r\n",
      "{\"ALIGN_ARGS\":\"--very-sensitive-local\",\"ALIGN_SCALING_CONSTANT\":0.001,\"ALIGN_SCALING_ENABLE\":true,\"ALIGN_SCALING_MAX\":20,\"CLEAR_INTERVAL\":10,\"DL_ARGS\":\"\",\"DL_SCALING_CONSTANT\":0.001,\"DL_SCALING_ENABLE\":true,\"DL_SCALING_MAX\":10,\"GENOME\":\"cov2r\",\"MERGE_ARGS\":\"\",\"MERGE_SCALING_CONSTANT\":0.001,\"MERGE_SCALING_ENABLE\":true,\"MERGE_SCALING_MAX\":2,\"SCALING_INTERVAL\":30}\r\n"
     ]
    }
   ],
   "source": [
    "cd $SERRATUS/terraform/main\n",
    "\n",
    "# Open SSH tunnels to the monitor\n",
    "./create_tunnels.sh\n",
    "\n",
    "# Download Scheduler config file\n",
    "curl localhost:8000/config > serratus-config.json\n",
    "\n",
    "cat serratus-config.json"
   ]
  },
  {
   "cell_type": "code",
   "execution_count": 16,
   "metadata": {
    "hidden": true
   },
   "outputs": [
    {
     "name": "stdout",
     "output_type": "stream",
     "text": [
      "{\"ALIGN_ARGS\":\"--very-sensitive-local\",\"ALIGN_SCALING_CONSTANT\":0.1,\"ALIGN_SCALING_ENABLE\":true,\"ALIGN_SCALING_MAX\":20,\"CLEAR_INTERVAL\":30,\"DL_ARGS\":\"\",\"DL_SCALING_CONSTANT\":0.1,\"DL_SCALING_ENABLE\":true,\"DL_SCALING_MAX\":10,\"GENOME\":\"cov2r\",\"MERGE_ARGS\":\"\",\"MERGE_SCALING_CONSTANT\":1,\"MERGE_SCALING_ENABLE\":true,\"MERGE_SCALING_MAX\":1,\"SCALING_INTERVAL\":30}\r\n",
      "  % Total    % Received % Xferd  Average Speed   Time    Time     Time  Current\r\n",
      "                                 Dload  Upload   Total   Spent    Left  Speed\r\n",
      "\r",
      "  0     0    0     0    0     0      0      0 --:--:-- --:--:-- --:--:--     0{\"ALIGN_ARGS\":\"--very-sensitive-local\",\"ALIGN_SCALING_CONSTANT\":0.1,\"ALIGN_SCALING_ENABLE\":true,\"ALIGN_SCALING_MAX\":20,\"CLEAR_INTERVAL\":30,\"DL_ARGS\":\"\",\"DL_SCALING_CONSTANT\":0.1,\"DL_SCALING_ENABLE\":true,\"DL_SCALING_MAX\":10,\"GENOME\":\"cov2r\",\"MERGE_ARGS\":\"\",\"MERGE_SCALING_CONSTANT\":1,\"MERGE_SCALING_ENABLE\":true,\"MERGE_SCALING_MAX\":1,\"SCALING_INTERVAL\":30}\r\n",
      "\r",
      "100   712  100   356  100   356   1318   1318 --:--:-- --:--:-- --:--:--  2637\r\n"
     ]
    }
   ],
   "source": [
    "# Make local changes to config file\n",
    "cat serratus-config.json\n",
    "\n",
    "# Re-upload config file\n",
    "curl -T serratus-config.json localhost:8000/config"
   ]
  },
  {
   "cell_type": "code",
   "execution_count": 17,
   "metadata": {
    "hidden": true
   },
   "outputs": [
    {
     "name": "stdout",
     "output_type": "stream",
     "text": [
      "{\"inserted_rows\":49,\"total_rows\":49}\r\n"
     ]
    }
   ],
   "source": [
    "# Load SRA Run Info into scheduler (READY)\n",
    "curl -s -X POST -T $RUNINFO localhost:8000/jobs/add_sra_run_info/"
   ]
  },
  {
   "cell_type": "markdown",
   "metadata": {
    "hidden": true
   },
   "source": [
    "### Scale up the cluster\n",
    "\n",
    "Cluster scale-in and scale-out is automated. Should be \"set it and forget it\".\n"
   ]
  },
  {
   "cell_type": "code",
   "execution_count": null,
   "metadata": {
    "hidden": true
   },
   "outputs": [],
   "source": [
    "# Error fixes (manually help along)\n",
    "curl -X POST \"localhost:8000/jobs/split/601?state=new&N_paired=0&N_unpaired=0\""
   ]
  },
  {
   "cell_type": "markdown",
   "metadata": {
    "hidden": true
   },
   "source": [
    "## Shutting down procedures\n",
    "\n",
    "Closing up shop."
   ]
  },
  {
   "cell_type": "code",
   "execution_count": 18,
   "metadata": {
    "hidden": true
   },
   "outputs": [
    {
     "name": "stdout",
     "output_type": "stream",
     "text": [
      "  % Total    % Received % Xferd  Average Speed   Time    Time     Time  Current\r\n",
      "                                 Dload  Upload   Total   Spent    Left  Speed\r\n",
      "\r",
      "  0     0    0     0    0     0      0      0 --:--:-- --:--:-- --:--:--     0\r",
      "100  308k  100  308k    0     0   565k      0 --:--:-- --:--:-- --:--:--  565k\r\n"
     ]
    }
   ],
   "source": [
    "# Dump the Scheduler SQLITE table to a local file\n",
    "curl localhost:8000/db > \\\n",
    "  $WORK/zoonotic_pilot.sqlite"
   ]
  },
  {
   "cell_type": "markdown",
   "metadata": {
    "hidden": true
   },
   "source": [
    "## Destroy Cluster\n",
    "\n",
    "Close out all resources with terraform (will take a few minutes).\n"
   ]
  },
  {
   "cell_type": "code",
   "execution_count": 19,
   "metadata": {
    "hidden": true
   },
   "outputs": [
    {
     "name": "stdout",
     "output_type": "stream",
     "text": [
      "\u001b[0m\u001b[1mmodule.download.data.aws_ami.amazon_linux_2: Refreshing state...\u001b[0m\r\n",
      "\u001b[0m\u001b[1mmodule.align.module.iam_role.aws_iam_role.role: Refreshing state... [id=SerratusIamRole-serratus-align]\u001b[0m\r\n",
      "\u001b[0m\u001b[1mmodule.merge.data.aws_availability_zones.all: Refreshing state...\u001b[0m\r\n",
      "\u001b[0m\u001b[1mmodule.align.aws_cloudwatch_log_group.g: Refreshing state... [id=serratus-align]\u001b[0m\r\n",
      "\u001b[0m\u001b[1mmodule.monitoring.aws_iam_role.instance_role: Refreshing state... [id=SerratusEcsInstanceRole]\u001b[0m\r\n",
      "\u001b[0m\u001b[1mmodule.scheduler.data.aws_ami.amazon_linux_2: Refreshing state...\u001b[0m\r\n",
      "\u001b[0m\u001b[1mmodule.align.data.aws_availability_zones.all: Refreshing state...\u001b[0m\r\n",
      "\u001b[0m\u001b[1mmodule.download.module.iam_role.aws_iam_role.role: Refreshing state... [id=SerratusIamRole-serratus-dl]\u001b[0m\r\n",
      "\u001b[0m\u001b[1mmodule.merge.aws_cloudwatch_log_group.g: Refreshing state... [id=serratus-merge]\u001b[0m\r\n",
      "\u001b[0m\u001b[1mmodule.scheduler.aws_cloudwatch_log_group.scheduler: Refreshing state... [id=scheduler]\u001b[0m\r\n",
      "\u001b[0m\u001b[1mmodule.merge.module.iam_role.aws_iam_role.role: Refreshing state... [id=SerratusIamRole-serratus-merge]\u001b[0m\r\n",
      "\u001b[0m\u001b[1mmodule.download.data.aws_region.current: Refreshing state...\u001b[0m\r\n",
      "\u001b[0m\u001b[1mmodule.download.aws_cloudwatch_log_group.g: Refreshing state... [id=serratus-dl]\u001b[0m\r\n",
      "\u001b[0m\u001b[1mmodule.monitoring.data.aws_ami.ecs: Refreshing state...\u001b[0m\r\n",
      "\u001b[0m\u001b[1mmodule.align.data.aws_ami.amazon_linux_2: Refreshing state...\u001b[0m\r\n",
      "\u001b[0m\u001b[1mmodule.monitoring.aws_iam_role.task_role: Refreshing state... [id=SerratusIamRole-monitor]\u001b[0m\r\n",
      "\u001b[0m\u001b[1mmodule.scheduler.data.aws_region.current: Refreshing state...\u001b[0m\r\n",
      "\u001b[0m\u001b[1mmodule.merge.data.aws_ami.amazon_linux_2: Refreshing state...\u001b[0m\r\n",
      "\u001b[0m\u001b[1mmodule.scheduler.module.iam_role.aws_iam_role.role: Refreshing state... [id=SerratusIamRole-scheduler]\u001b[0m\r\n",
      "\u001b[0m\u001b[1mmodule.work_bucket.aws_s3_bucket.work: Refreshing state... [id=tf-serratus-work-20200505223426920000000001]\u001b[0m\r\n",
      "\u001b[0m\u001b[1mmodule.merge.data.aws_region.current: Refreshing state...\u001b[0m\r\n",
      "\u001b[0m\u001b[1mmodule.align.data.aws_region.current: Refreshing state...\u001b[0m\r\n",
      "\u001b[0m\u001b[1mmodule.monitoring.aws_ecs_cluster.monitor: Refreshing state... [id=arn:aws:ecs:us-east-1:797308887321:cluster/serratus-monitor]\u001b[0m\r\n",
      "\u001b[0m\u001b[1mmodule.download.data.aws_availability_zones.all: Refreshing state...\u001b[0m\r\n",
      "\u001b[0m\u001b[1maws_security_group.internal: Refreshing state... [id=sg-0ed2512f291ee6bbe]\u001b[0m\r\n",
      "\u001b[0m\u001b[1mmodule.align.module.iam_role.aws_iam_role_policy_attachment.attachment[\"arn:aws:iam::aws:policy/AmazonS3ReadOnlyAccess\"]: Refreshing state... [id=SerratusIamRole-serratus-align-20200505223430206800000006]\u001b[0m\r\n",
      "\u001b[0m\u001b[1mmodule.align.module.iam_role.aws_iam_role_policy.cloudwatch: Refreshing state... [id=SerratusIamRole-serratus-align:CloudWatchLogsCreate-serratus-align]\u001b[0m\r\n",
      "\u001b[0m\u001b[1mmodule.align.module.iam_role.aws_iam_instance_profile.profile: Refreshing state... [id=profile-serratus-align]\u001b[0m\r\n",
      "\u001b[0m\u001b[1mmodule.download.module.iam_role.aws_iam_instance_profile.profile: Refreshing state... [id=profile-serratus-dl]\u001b[0m\r\n",
      "\u001b[0m\u001b[1mmodule.download.module.iam_role.aws_iam_role_policy.cloudwatch: Refreshing state... [id=SerratusIamRole-serratus-dl:CloudWatchLogsCreate-serratus-dl]\u001b[0m\r\n",
      "\u001b[0m\u001b[1mmodule.download.module.iam_role.aws_iam_role_policy_attachment.attachment[\"arn:aws:iam::aws:policy/AmazonS3ReadOnlyAccess\"]: Refreshing state... [id=SerratusIamRole-serratus-dl-20200505223430120900000005]\u001b[0m\r\n",
      "\u001b[0m\u001b[1mmodule.monitoring.aws_iam_instance_profile.monitor: Refreshing state... [id=profile-serratus-monitor]\u001b[0m\r\n",
      "\u001b[0m\u001b[1mmodule.monitoring.aws_iam_role_policy_attachment.instance_attachment: Refreshing state... [id=SerratusEcsInstanceRole-20200505223429334900000004]\u001b[0m\r\n",
      "\u001b[0m\u001b[1mmodule.merge.module.iam_role.aws_iam_role_policy.cloudwatch: Refreshing state... [id=SerratusIamRole-serratus-merge:CloudWatchLogsCreate-serratus-merge]\u001b[0m\r\n",
      "\u001b[0m\u001b[1mmodule.merge.module.iam_role.aws_iam_instance_profile.profile: Refreshing state... [id=profile-serratus-merge]\u001b[0m\r\n",
      "\u001b[0m\u001b[1mmodule.merge.module.iam_role.aws_iam_role_policy_attachment.attachment[\"arn:aws:iam::aws:policy/AmazonS3ReadOnlyAccess\"]: Refreshing state... [id=SerratusIamRole-serratus-merge-20200505223428561500000003]\u001b[0m\r\n",
      "\u001b[0m\u001b[1mmodule.monitoring.aws_iam_role_policy.cloudwatch: Refreshing state... [id=SerratusIamRole-monitor:CloudwatchGetMetrics]\u001b[0m\r\n",
      "\u001b[0m\u001b[1mmodule.monitoring.aws_iam_role_policy_attachment.attachment: Refreshing state... [id=SerratusIamRole-monitor-20200505223428556900000002]\u001b[0m\r\n",
      "\u001b[0m\u001b[1mmodule.align.aws_iam_role_policy.AdjustAutoScaling: Refreshing state... [id=SerratusIamRole-serratus-align:AdjustAutoScaling-serratus-align]\u001b[0m\r\n",
      "\u001b[0m\u001b[1mmodule.align.aws_iam_role_policy.ec2Describe: Refreshing state... [id=SerratusIamRole-serratus-align:DescribeEC2Instances-serratus-align]\u001b[0m\r\n",
      "\u001b[0m\u001b[1mmodule.align.aws_iam_role_policy.ec2Terminate: Refreshing state... [id=SerratusIamRole-serratus-align:TerminateEC2Instances-serratus-align]\u001b[0m\r\n",
      "\u001b[0m\u001b[1mmodule.scheduler.module.iam_role.aws_iam_role_policy.cloudwatch: Refreshing state... [id=SerratusIamRole-scheduler:CloudWatchLogsCreate-scheduler]\u001b[0m\r\n",
      "\u001b[0m\u001b[1mmodule.scheduler.module.iam_role.aws_iam_instance_profile.profile: Refreshing state... [id=profile-scheduler]\u001b[0m\r\n",
      "\u001b[0m\u001b[1mmodule.download.aws_iam_role_policy.ec2Describe: Refreshing state... [id=SerratusIamRole-serratus-dl:DescribeEC2Instances-serratus-dl]\u001b[0m\r\n",
      "\u001b[0m\u001b[1mmodule.download.aws_iam_role_policy.ec2Terminate: Refreshing state... [id=SerratusIamRole-serratus-dl:TerminateEC2Instances-serratus-dl]\u001b[0m\r\n",
      "\u001b[0m\u001b[1mmodule.download.aws_iam_role_policy.AdjustAutoScaling: Refreshing state... [id=SerratusIamRole-serratus-dl:AdjustAutoScaling-serratus-dl]\u001b[0m\r\n",
      "\u001b[0m\u001b[1mmodule.merge.aws_iam_role_policy.AdjustAutoScaling: Refreshing state... [id=SerratusIamRole-serratus-merge:AdjustAutoScaling-serratus-merge]\u001b[0m\r\n",
      "\u001b[0m\u001b[1mmodule.merge.aws_iam_role_policy.ec2Terminate: Refreshing state... [id=SerratusIamRole-serratus-merge:TerminateEC2Instances-serratus-merge]\u001b[0m\r\n",
      "\u001b[0m\u001b[1mmodule.merge.aws_iam_role_policy.ec2Describe: Refreshing state... [id=SerratusIamRole-serratus-merge:DescribeEC2Instances-serratus-merge]\u001b[0m\r\n",
      "\u001b[0m\u001b[1mmodule.scheduler.aws_iam_role_policy.scheduler: Refreshing state... [id=SerratusIamRole-scheduler:DescribeInstances-scheduler]\u001b[0m\r\n",
      "\u001b[0m\u001b[1mmodule.monitoring.aws_instance.monitor: Refreshing state... [id=i-0d33340c26572d8c6]\u001b[0m\r\n",
      "\u001b[0m\u001b[1mmodule.scheduler.aws_instance.scheduler: Refreshing state... [id=i-0198611e326b66a96]\u001b[0m\r\n",
      "\u001b[0m\u001b[1mmodule.monitoring.aws_eip.monitor: Refreshing state... [id=eipalloc-018dd201a1c2670d1]\u001b[0m\r\n",
      "\u001b[0m\u001b[1mmodule.scheduler.aws_eip.sch: Refreshing state... [id=eipalloc-0cbed026198c2a75e]\u001b[0m\r\n",
      "\u001b[0m\u001b[1mmodule.monitoring.aws_ecs_task_definition.monitor: Refreshing state... [id=monitor]\u001b[0m\r\n",
      "\u001b[0m\u001b[1mmodule.work_bucket.aws_s3_bucket_metric.full: Refreshing state... [id=tf-serratus-work-20200505223426920000000001:full]\u001b[0m\r\n",
      "\u001b[0m\u001b[1mmodule.work_bucket.aws_s3_bucket_metric.prefix[\"bam-blocks\"]: Refreshing state... [id=tf-serratus-work-20200505223426920000000001:prefix-bam-blocks]\u001b[0m\r\n",
      "\u001b[0m\u001b[1mmodule.align.aws_iam_role_policy.s3_write: Refreshing state... [id=SerratusIamRole-serratus-align:S3WriteData-serratus-align]\u001b[0m\r\n",
      "\u001b[0m\u001b[1mmodule.download.aws_iam_role_policy.s3_write: Refreshing state... [id=SerratusIamRole-serratus-dl:S3WriteData-serratus-dl]\u001b[0m\r\n",
      "\u001b[0m\u001b[1mmodule.merge.aws_iam_role_policy.s3_delete[0]: Refreshing state... [id=SerratusIamRole-serratus-merge:S3DeleteData-serratus-merge]\u001b[0m\r\n",
      "\u001b[0m\u001b[1mmodule.work_bucket.aws_s3_bucket_metric.prefix[\"out\"]: Refreshing state... [id=tf-serratus-work-20200505223426920000000001:prefix-out]\u001b[0m\r\n",
      "\u001b[0m\u001b[1mmodule.merge.aws_iam_role_policy.s3_write: Refreshing state... [id=SerratusIamRole-serratus-merge:S3WriteData-serratus-merge]\u001b[0m\r\n",
      "\u001b[0m\u001b[1mmodule.work_bucket.aws_s3_bucket_metric.prefix[\"fq-blocks\"]: Refreshing state... [id=tf-serratus-work-20200505223426920000000001:prefix-fq-blocks]\u001b[0m\r\n",
      "\u001b[0m\u001b[1mmodule.align.aws_iam_role_policy.s3_delete[0]: Refreshing state... [id=SerratusIamRole-serratus-align:S3DeleteData-serratus-align]\u001b[0m\r\n",
      "\u001b[0m\u001b[1mmodule.monitoring.aws_ecs_service.monitor: Refreshing state... [id=arn:aws:ecs:us-east-1:797308887321:service/serratus-monitor]\u001b[0m\r\n",
      "\u001b[0m\u001b[1mlocal_file.create_tunnel: Refreshing state... [id=12a6f8df1f462973f3def814de9d1e840b4f2294]\u001b[0m\r\n",
      "\u001b[0m\u001b[1mlocal_file.hosts: Refreshing state... [id=6f0d290f8be6b66762cef288daa1a67f2a273a4e]\u001b[0m\r\n",
      "\u001b[0m\u001b[1mmodule.download.aws_launch_configuration.worker: Refreshing state... [id=serratus-dl-2020050522345804660000000a]\u001b[0m\r\n",
      "\u001b[0m\u001b[1mmodule.align.aws_launch_configuration.worker: Refreshing state... [id=serratus-align-20200505223458038500000009]\u001b[0m\r\n",
      "\u001b[0m\u001b[1mmodule.merge.aws_launch_configuration.worker: Refreshing state... [id=serratus-merge-20200505223458024400000008]\u001b[0m\r\n",
      "\u001b[0m\u001b[1mmodule.align.aws_autoscaling_group.worker: Refreshing state... [id=serratus-align-20200505223458038500000009]\u001b[0m\r\n",
      "\u001b[0m\u001b[1mmodule.download.aws_autoscaling_group.worker: Refreshing state... [id=serratus-dl-2020050522345804660000000a]\u001b[0m\r\n",
      "\u001b[0m\u001b[1mmodule.merge.aws_autoscaling_group.worker: Refreshing state... [id=serratus-merge-20200505223458024400000008]\u001b[0m\r\n",
      "\u001b[0m\u001b[1mmodule.download.aws_autoscaling_policy.worker: Refreshing state... [id=serratus-dl-2020050522345804660000000a]\u001b[0m\r\n",
      "\u001b[0m\u001b[1mlocal_file.dl_set_capacity: Refreshing state... [id=a6b2b187b70ed97c844a2caadba9fca3c1b0b9e5]\u001b[0m\r\n",
      "\u001b[0m\u001b[1mlocal_file.align_set_capacity: Refreshing state... [id=86796f428784b6b0f78202897eb46e61ba9154c9]\u001b[0m\r\n",
      "\u001b[0m\u001b[1mmodule.align.aws_autoscaling_policy.worker: Refreshing state... [id=serratus-align-20200505223458038500000009]\u001b[0m\r\n",
      "\u001b[0m\u001b[1mmodule.merge.aws_autoscaling_policy.worker: Refreshing state... [id=serratus-merge-20200505223458024400000008]\u001b[0m\r\n",
      "\u001b[0m\u001b[1mlocal_file.merge_set_capacity: Refreshing state... [id=ca156517f335fffd3c4ad6dc7a359a34bab04c33]\u001b[0m\r\n",
      "\u001b[0m\u001b[1mlocal_file.merge_set_capacity: Destroying... [id=ca156517f335fffd3c4ad6dc7a359a34bab04c33]\u001b[0m\u001b[0m\r\n",
      "\u001b[0m\u001b[1mlocal_file.dl_set_capacity: Destroying... [id=a6b2b187b70ed97c844a2caadba9fca3c1b0b9e5]\u001b[0m\u001b[0m\r\n",
      "\u001b[0m\u001b[1mlocal_file.hosts: Destroying... [id=6f0d290f8be6b66762cef288daa1a67f2a273a4e]\u001b[0m\u001b[0m\r\n",
      "\u001b[0m\u001b[1mlocal_file.align_set_capacity: Destroying... [id=86796f428784b6b0f78202897eb46e61ba9154c9]\u001b[0m\u001b[0m\r\n",
      "\u001b[0m\u001b[1mlocal_file.dl_set_capacity: Destruction complete after 0s\u001b[0m\u001b[0m\r\n",
      "\u001b[0m\u001b[1mlocal_file.align_set_capacity: Destruction complete after 1s\u001b[0m\u001b[0m\r\n",
      "\u001b[0m\u001b[1mlocal_file.create_tunnel: Destroying... [id=12a6f8df1f462973f3def814de9d1e840b4f2294]\u001b[0m\u001b[0m\r\n",
      "\u001b[0m\u001b[1mlocal_file.hosts: Destruction complete after 1s\u001b[0m\u001b[0m\r\n",
      "\u001b[0m\u001b[1mlocal_file.merge_set_capacity: Destruction complete after 1s\u001b[0m\u001b[0m\r\n",
      "\u001b[0m\u001b[1mlocal_file.create_tunnel: Destruction complete after 0s\u001b[0m\u001b[0m\r\n",
      "\u001b[0m\u001b[1mmodule.merge.module.iam_role.aws_iam_role_policy_attachment.attachment[\"arn:aws:iam::aws:policy/AmazonS3ReadOnlyAccess\"]: Destroying... [id=SerratusIamRole-serratus-merge-20200505223428561500000003]\u001b[0m\u001b[0m\r\n",
      "\u001b[0m\u001b[1mmodule.download.module.iam_role.aws_iam_role_policy.cloudwatch: Destroying... [id=SerratusIamRole-serratus-dl:CloudWatchLogsCreate-serratus-dl]\u001b[0m\u001b[0m\r\n",
      "\u001b[0m\u001b[1mmodule.align.module.iam_role.aws_iam_role_policy.cloudwatch: Destroying... [id=SerratusIamRole-serratus-align:CloudWatchLogsCreate-serratus-align]\u001b[0m\u001b[0m\r\n",
      "\u001b[0m\u001b[1mmodule.download.aws_iam_role_policy.ec2Describe: Destroying... [id=SerratusIamRole-serratus-dl:DescribeEC2Instances-serratus-dl]\u001b[0m\u001b[0m\r\n",
      "\u001b[0m\u001b[1mmodule.merge.module.iam_role.aws_iam_role_policy.cloudwatch: Destroying... [id=SerratusIamRole-serratus-merge:CloudWatchLogsCreate-serratus-merge]\u001b[0m\u001b[0m\r\n",
      "\u001b[0m\u001b[1mmodule.download.aws_iam_role_policy.s3_write: Destroying... [id=SerratusIamRole-serratus-dl:S3WriteData-serratus-dl]\u001b[0m\u001b[0m\r\n",
      "\u001b[0m\u001b[1mmodule.download.aws_iam_role_policy.AdjustAutoScaling: Destroying... [id=SerratusIamRole-serratus-dl:AdjustAutoScaling-serratus-dl]\u001b[0m\u001b[0m\r\n",
      "\u001b[0m\u001b[1mmodule.align.aws_iam_role_policy.AdjustAutoScaling: Destroying... [id=SerratusIamRole-serratus-align:AdjustAutoScaling-serratus-align]\u001b[0m\u001b[0m\r\n",
      "\u001b[0m\u001b[1mmodule.align.aws_iam_role_policy.ec2Terminate: Destroying... [id=SerratusIamRole-serratus-align:TerminateEC2Instances-serratus-align]\u001b[0m\u001b[0m\r\n",
      "\u001b[0m\u001b[1mmodule.merge.aws_autoscaling_policy.worker: Destroying... [id=serratus-merge-20200505223458024400000008]\u001b[0m\u001b[0m\r\n",
      "\u001b[0m\u001b[1mmodule.merge.module.iam_role.aws_iam_role_policy_attachment.attachment[\"arn:aws:iam::aws:policy/AmazonS3ReadOnlyAccess\"]: Destruction complete after 1s\u001b[0m\u001b[0m\r\n",
      "\u001b[0m\u001b[1mmodule.merge.module.iam_role.aws_iam_role_policy.cloudwatch: Destruction complete after 1s\u001b[0m\u001b[0m\r\n",
      "\u001b[0m\u001b[1mmodule.align.module.iam_role.aws_iam_role_policy.cloudwatch: Destruction complete after 1s\u001b[0m\u001b[0m\r\n",
      "\u001b[0m\u001b[1mmodule.download.module.iam_role.aws_iam_role_policy.cloudwatch: Destruction complete after 1s\u001b[0m\u001b[0m\r\n",
      "\u001b[0m\u001b[1mmodule.download.aws_iam_role_policy.AdjustAutoScaling: Destruction complete after 1s\u001b[0m\u001b[0m\r\n",
      "\u001b[0m\u001b[1mmodule.work_bucket.aws_s3_bucket_metric.prefix[\"bam-blocks\"]: Destroying... [id=tf-serratus-work-20200505223426920000000001:prefix-bam-blocks]\u001b[0m\u001b[0m\r\n",
      "\u001b[0m\u001b[1mmodule.align.aws_iam_role_policy.AdjustAutoScaling: Destruction complete after 1s\u001b[0m\u001b[0m\r\n",
      "\u001b[0m\u001b[1mmodule.download.aws_iam_role_policy.ec2Describe: Destruction complete after 1s\u001b[0m\u001b[0m\r\n",
      "\u001b[0m\u001b[1mmodule.align.aws_iam_role_policy.ec2Terminate: Destruction complete after 1s\u001b[0m\u001b[0m\r\n",
      "\u001b[0m\u001b[1mmodule.monitoring.aws_iam_role_policy_attachment.attachment: Destroying... [id=SerratusIamRole-monitor-20200505223428556900000002]\u001b[0m\u001b[0m\r\n",
      "\u001b[0m\u001b[1mmodule.work_bucket.aws_s3_bucket_metric.full: Destroying... [id=tf-serratus-work-20200505223426920000000001:full]\u001b[0m\u001b[0m\r\n",
      "\u001b[0m\u001b[1mmodule.download.aws_iam_role_policy.s3_write: Destruction complete after 1s\u001b[0m\u001b[0m\r\n",
      "\u001b[0m\u001b[1mmodule.merge.aws_iam_role_policy.s3_write: Destroying... [id=SerratusIamRole-serratus-merge:S3WriteData-serratus-merge]\u001b[0m\u001b[0m\r\n",
      "\u001b[0m\u001b[1mmodule.merge.aws_iam_role_policy.ec2Describe: Destroying... [id=SerratusIamRole-serratus-merge:DescribeEC2Instances-serratus-merge]\u001b[0m\u001b[0m\r\n",
      "\u001b[0m\u001b[1mmodule.align.aws_iam_role_policy.s3_delete[0]: Destroying... [id=SerratusIamRole-serratus-align:S3DeleteData-serratus-align]\u001b[0m\u001b[0m\r\n",
      "\u001b[0m\u001b[1mmodule.monitoring.aws_iam_role_policy_attachment.instance_attachment: Destroying... [id=SerratusEcsInstanceRole-20200505223429334900000004]\u001b[0m\u001b[0m\r\n",
      "\u001b[0m\u001b[1mmodule.download.aws_autoscaling_policy.worker: Destroying... [id=serratus-dl-2020050522345804660000000a]\u001b[0m\u001b[0m\r\n",
      "\u001b[0m\u001b[1mmodule.align.module.iam_role.aws_iam_role_policy_attachment.attachment[\"arn:aws:iam::aws:policy/AmazonS3ReadOnlyAccess\"]: Destroying... [id=SerratusIamRole-serratus-align-20200505223430206800000006]\u001b[0m\u001b[0m\r\n",
      "\u001b[0m\u001b[1mmodule.work_bucket.aws_s3_bucket_metric.prefix[\"bam-blocks\"]: Destruction complete after 0s\u001b[0m\u001b[0m\r\n",
      "\u001b[0m\u001b[1mmodule.monitoring.aws_iam_role_policy_attachment.attachment: Destruction complete after 1s\u001b[0m\u001b[0m\r\n",
      "\u001b[0m\u001b[1mmodule.merge.aws_iam_role_policy.s3_delete[0]: Destroying... [id=SerratusIamRole-serratus-merge:S3DeleteData-serratus-merge]\u001b[0m\u001b[0m\r\n",
      "\u001b[0m\u001b[1mmodule.merge.aws_autoscaling_policy.worker: Destruction complete after 2s\u001b[0m\u001b[0m\r\n",
      "\u001b[0m\u001b[1mmodule.scheduler.aws_iam_role_policy.scheduler: Destroying... [id=SerratusIamRole-scheduler:DescribeInstances-scheduler]\u001b[0m\u001b[0m\r\n",
      "\u001b[0m\u001b[1mmodule.merge.aws_iam_role_policy.ec2Terminate: Destroying... [id=SerratusIamRole-serratus-merge:TerminateEC2Instances-serratus-merge]\u001b[0m\u001b[0m\r\n",
      "\u001b[0m\u001b[1mmodule.merge.aws_iam_role_policy.s3_write: Destruction complete after 1s\u001b[0m\u001b[0m\r\n",
      "\u001b[0m\u001b[1mmodule.download.aws_iam_role_policy.ec2Terminate: Destroying... [id=SerratusIamRole-serratus-dl:TerminateEC2Instances-serratus-dl]\u001b[0m\u001b[0m\r\n",
      "\u001b[0m\u001b[1mmodule.work_bucket.aws_s3_bucket_metric.full: Destruction complete after 1s\u001b[0m\u001b[0m\r\n",
      "\u001b[0m\u001b[1mmodule.align.aws_iam_role_policy.s3_delete[0]: Destruction complete after 1s\u001b[0m\u001b[0m\r\n",
      "\u001b[0m\u001b[1mmodule.monitoring.aws_iam_role_policy_attachment.instance_attachment: Destruction complete after 1s\u001b[0m\u001b[0m\r\n",
      "\u001b[0m\u001b[1mmodule.merge.aws_iam_role_policy.ec2Describe: Destruction complete after 1s\u001b[0m\u001b[0m\r\n",
      "\u001b[0m\u001b[1mmodule.monitoring.aws_ecs_service.monitor: Destroying... [id=arn:aws:ecs:us-east-1:797308887321:service/serratus-monitor]\u001b[0m\u001b[0m\r\n",
      "\u001b[0m\u001b[1mmodule.align.module.iam_role.aws_iam_role_policy_attachment.attachment[\"arn:aws:iam::aws:policy/AmazonS3ReadOnlyAccess\"]: Destruction complete after 1s\u001b[0m\u001b[0m\r\n",
      "\u001b[0m\u001b[1mmodule.merge.aws_iam_role_policy.s3_delete[0]: Destruction complete after 0s\u001b[0m\u001b[0m\r\n",
      "\u001b[0m\u001b[1mmodule.download.aws_iam_role_policy.ec2Terminate: Destruction complete after 0s\u001b[0m\u001b[0m\r\n",
      "\u001b[0m\u001b[1mmodule.merge.aws_iam_role_policy.ec2Terminate: Destruction complete after 0s\u001b[0m\u001b[0m\r\n",
      "\u001b[0m\u001b[1mmodule.monitoring.aws_iam_role_policy.cloudwatch: Destroying... [id=SerratusIamRole-monitor:CloudwatchGetMetrics]\u001b[0m\u001b[0m\r\n",
      "\u001b[0m\u001b[1mmodule.download.module.iam_role.aws_iam_role_policy_attachment.attachment[\"arn:aws:iam::aws:policy/AmazonS3ReadOnlyAccess\"]: Destroying... [id=SerratusIamRole-serratus-dl-20200505223430120900000005]\u001b[0m\u001b[0m\r\n",
      "\u001b[0m\u001b[1mmodule.align.aws_autoscaling_policy.worker: Destroying... [id=serratus-align-20200505223458038500000009]\u001b[0m\u001b[0m\r\n",
      "\u001b[0m\u001b[1mmodule.scheduler.aws_iam_role_policy.scheduler: Destruction complete after 0s\u001b[0m\u001b[0m\r\n",
      "\u001b[0m\u001b[1mmodule.align.aws_iam_role_policy.s3_write: Destroying... [id=SerratusIamRole-serratus-align:S3WriteData-serratus-align]\u001b[0m\u001b[0m\r\n",
      "\u001b[0m\u001b[1mmodule.merge.aws_iam_role_policy.AdjustAutoScaling: Destroying... [id=SerratusIamRole-serratus-merge:AdjustAutoScaling-serratus-merge]\u001b[0m\u001b[0m\r\n",
      "\u001b[0m\u001b[1mmodule.work_bucket.aws_s3_bucket_metric.prefix[\"out\"]: Destroying... [id=tf-serratus-work-20200505223426920000000001:prefix-out]\u001b[0m\u001b[0m\r\n",
      "\u001b[0m\u001b[1mmodule.scheduler.module.iam_role.aws_iam_role_policy.cloudwatch: Destroying... [id=SerratusIamRole-scheduler:CloudWatchLogsCreate-scheduler]\u001b[0m\u001b[0m\r\n",
      "\u001b[0m\u001b[1mmodule.work_bucket.aws_s3_bucket_metric.prefix[\"fq-blocks\"]: Destroying... [id=tf-serratus-work-20200505223426920000000001:prefix-fq-blocks]\u001b[0m\u001b[0m\r\n",
      "\u001b[0m\u001b[1mmodule.download.aws_autoscaling_policy.worker: Destruction complete after 1s\u001b[0m\u001b[0m\r\n",
      "\u001b[0m\u001b[1mmodule.download.module.iam_role.aws_iam_role_policy_attachment.attachment[\"arn:aws:iam::aws:policy/AmazonS3ReadOnlyAccess\"]: Destruction complete after 1s\u001b[0m\u001b[0m\r\n",
      "\u001b[0m\u001b[1mmodule.monitoring.aws_iam_role_policy.cloudwatch: Destruction complete after 1s\u001b[0m\u001b[0m\r\n",
      "\u001b[0m\u001b[1mmodule.align.aws_iam_role_policy.ec2Describe: Destroying... [id=SerratusIamRole-serratus-align:DescribeEC2Instances-serratus-align]\u001b[0m\u001b[0m\r\n",
      "\u001b[0m\u001b[1mmodule.align.aws_iam_role_policy.s3_write: Destruction complete after 1s\u001b[0m\u001b[0m\r\n",
      "\u001b[0m\u001b[1mmodule.merge.aws_iam_role_policy.AdjustAutoScaling: Destruction complete after 1s\u001b[0m\u001b[0m\r\n",
      "\u001b[0m\u001b[1mmodule.monitoring.aws_eip.monitor: Destroying... [id=eipalloc-018dd201a1c2670d1]\u001b[0m\u001b[0m\r\n",
      "\u001b[0m\u001b[1mmodule.merge.aws_autoscaling_group.worker: Destroying... [id=serratus-merge-20200505223458024400000008]\u001b[0m\u001b[0m\r\n",
      "\u001b[0m\u001b[1mmodule.download.aws_autoscaling_group.worker: Destroying... [id=serratus-dl-2020050522345804660000000a]\u001b[0m\u001b[0m\r\n",
      "\u001b[0m\u001b[1mmodule.work_bucket.aws_s3_bucket_metric.prefix[\"out\"]: Destruction complete after 1s\u001b[0m\u001b[0m\r\n",
      "\u001b[0m\u001b[1mmodule.scheduler.module.iam_role.aws_iam_role_policy.cloudwatch: Destruction complete after 1s\u001b[0m\u001b[0m\r\n",
      "\u001b[0m\u001b[1mmodule.work_bucket.aws_s3_bucket_metric.prefix[\"fq-blocks\"]: Destruction complete after 1s\u001b[0m\u001b[0m\r\n",
      "\u001b[0m\u001b[1mmodule.align.aws_iam_role_policy.ec2Describe: Destruction complete after 0s\u001b[0m\u001b[0m\r\n",
      "\u001b[0m\u001b[1mmodule.align.aws_autoscaling_policy.worker: Destruction complete after 1s\u001b[0m\u001b[0m\r\n",
      "\u001b[0m\u001b[1mmodule.align.aws_autoscaling_group.worker: Destroying... [id=serratus-align-20200505223458038500000009]\u001b[0m\u001b[0m\r\n",
      "\u001b[0m\u001b[1mmodule.monitoring.aws_eip.monitor: Destruction complete after 2s\u001b[0m\u001b[0m\r\n",
      "\u001b[0m\u001b[1mmodule.monitoring.aws_instance.monitor: Destroying... [id=i-0d33340c26572d8c6]\u001b[0m\u001b[0m\r\n",
      "Connection to ec2-18-211-229-33.compute-1.amazonaws.com closed by remote host.\r",
      "\r\n",
      "Connection to ec2-18-211-229-33.compute-1.amazonaws.com closed by remote host.\r",
      "\r\n",
      "\u001b[0m\u001b[1mmodule.monitoring.aws_ecs_service.monitor: Still destroying... [id=arn:aws:ecs:us-east-1:797308887321:service/serratus-monitor, 10s elapsed]\u001b[0m\u001b[0m\r\n",
      "\u001b[0m\u001b[1mmodule.merge.aws_autoscaling_group.worker: Still destroying... [id=serratus-merge-20200505223458024400000008, 10s elapsed]\u001b[0m\u001b[0m\r\n",
      "\u001b[0m\u001b[1mmodule.download.aws_autoscaling_group.worker: Still destroying... [id=serratus-dl-2020050522345804660000000a, 10s elapsed]\u001b[0m\u001b[0m\r\n",
      "\u001b[0m\u001b[1mmodule.align.aws_autoscaling_group.worker: Still destroying... [id=serratus-align-20200505223458038500000009, 10s elapsed]\u001b[0m\u001b[0m\r\n",
      "\u001b[0m\u001b[1mmodule.monitoring.aws_instance.monitor: Still destroying... [id=i-0d33340c26572d8c6, 10s elapsed]\u001b[0m\u001b[0m\r\n",
      "\u001b[0m\u001b[1mmodule.monitoring.aws_ecs_service.monitor: Still destroying... [id=arn:aws:ecs:us-east-1:797308887321:service/serratus-monitor, 20s elapsed]\u001b[0m\u001b[0m\r\n",
      "\u001b[0m\u001b[1mmodule.merge.aws_autoscaling_group.worker: Still destroying... [id=serratus-merge-20200505223458024400000008, 20s elapsed]\u001b[0m\u001b[0m\r\n",
      "\u001b[0m\u001b[1mmodule.download.aws_autoscaling_group.worker: Still destroying... [id=serratus-dl-2020050522345804660000000a, 20s elapsed]\u001b[0m\u001b[0m\r\n",
      "\u001b[0m\u001b[1mmodule.align.aws_autoscaling_group.worker: Still destroying... [id=serratus-align-20200505223458038500000009, 20s elapsed]\u001b[0m\u001b[0m\r\n",
      "\u001b[0m\u001b[1mmodule.monitoring.aws_instance.monitor: Still destroying... [id=i-0d33340c26572d8c6, 20s elapsed]\u001b[0m\u001b[0m\r\n",
      "\u001b[0m\u001b[1mmodule.monitoring.aws_ecs_service.monitor: Still destroying... [id=arn:aws:ecs:us-east-1:797308887321:service/serratus-monitor, 30s elapsed]\u001b[0m\u001b[0m\r\n",
      "\u001b[0m\u001b[1mmodule.merge.aws_autoscaling_group.worker: Still destroying... [id=serratus-merge-20200505223458024400000008, 30s elapsed]\u001b[0m\u001b[0m\r\n",
      "\u001b[0m\u001b[1mmodule.download.aws_autoscaling_group.worker: Still destroying... [id=serratus-dl-2020050522345804660000000a, 30s elapsed]\u001b[0m\u001b[0m\r\n",
      "\u001b[0m\u001b[1mmodule.download.aws_autoscaling_group.worker: Destruction complete after 30s\u001b[0m\u001b[0m\r\n",
      "\u001b[0m\u001b[1mmodule.download.aws_launch_configuration.worker: Destroying... [id=serratus-dl-2020050522345804660000000a]\u001b[0m\u001b[0m\r\n",
      "\u001b[0m\u001b[1mmodule.align.aws_autoscaling_group.worker: Still destroying... [id=serratus-align-20200505223458038500000009, 30s elapsed]\u001b[0m\u001b[0m\r\n",
      "\u001b[0m\u001b[1mmodule.download.aws_launch_configuration.worker: Destruction complete after 1s\u001b[0m\u001b[0m\r\n",
      "\u001b[0m\u001b[1mmodule.download.aws_cloudwatch_log_group.g: Destroying... [id=serratus-dl]\u001b[0m\u001b[0m\r\n",
      "\u001b[0m\u001b[1mmodule.download.module.iam_role.aws_iam_instance_profile.profile: Destroying... [id=profile-serratus-dl]\u001b[0m\u001b[0m\r\n",
      "\u001b[0m\u001b[1mmodule.download.aws_cloudwatch_log_group.g: Destruction complete after 0s\u001b[0m\u001b[0m\r\n",
      "\u001b[0m\u001b[1mmodule.download.module.iam_role.aws_iam_instance_profile.profile: Destruction complete after 1s\u001b[0m\u001b[0m\r\n",
      "\u001b[0m\u001b[1mmodule.download.module.iam_role.aws_iam_role.role: Destroying... [id=SerratusIamRole-serratus-dl]\u001b[0m\u001b[0m\r\n",
      "\u001b[0m\u001b[1mmodule.monitoring.aws_instance.monitor: Still destroying... [id=i-0d33340c26572d8c6, 30s elapsed]\u001b[0m\u001b[0m\r\n",
      "\u001b[0m\u001b[1mmodule.download.module.iam_role.aws_iam_role.role: Destruction complete after 0s\u001b[0m\u001b[0m\r\n",
      "\u001b[0m\u001b[1mmodule.monitoring.aws_ecs_service.monitor: Still destroying... [id=arn:aws:ecs:us-east-1:797308887321:service/serratus-monitor, 40s elapsed]\u001b[0m\u001b[0m\r\n",
      "\u001b[0m\u001b[1mmodule.merge.aws_autoscaling_group.worker: Still destroying... [id=serratus-merge-20200505223458024400000008, 40s elapsed]\u001b[0m\u001b[0m\r\n",
      "\u001b[0m\u001b[1mmodule.align.aws_autoscaling_group.worker: Still destroying... [id=serratus-align-20200505223458038500000009, 40s elapsed]\u001b[0m\u001b[0m\r\n",
      "\u001b[0m\u001b[1mmodule.align.aws_autoscaling_group.worker: Destruction complete after 41s\u001b[0m\u001b[0m\r\n",
      "\u001b[0m\u001b[1mmodule.align.aws_launch_configuration.worker: Destroying... [id=serratus-align-20200505223458038500000009]\u001b[0m\u001b[0m\r\n",
      "\u001b[0m\u001b[1mmodule.align.aws_launch_configuration.worker: Destruction complete after 0s\u001b[0m\u001b[0m\r\n",
      "\u001b[0m\u001b[1mmodule.align.module.iam_role.aws_iam_instance_profile.profile: Destroying... [id=profile-serratus-align]\u001b[0m\u001b[0m\r\n",
      "\u001b[0m\u001b[1mmodule.align.aws_cloudwatch_log_group.g: Destroying... [id=serratus-align]\u001b[0m\u001b[0m\r\n",
      "\u001b[0m\u001b[1mmodule.align.aws_cloudwatch_log_group.g: Destruction complete after 1s\u001b[0m\u001b[0m\r\n",
      "\u001b[0m\u001b[1mmodule.monitoring.aws_instance.monitor: Still destroying... [id=i-0d33340c26572d8c6, 40s elapsed]\u001b[0m\u001b[0m\r\n",
      "\u001b[0m\u001b[1mmodule.align.module.iam_role.aws_iam_instance_profile.profile: Destruction complete after 1s\u001b[0m\u001b[0m\r\n",
      "\u001b[0m\u001b[1mmodule.align.module.iam_role.aws_iam_role.role: Destroying... [id=SerratusIamRole-serratus-align]\u001b[0m\u001b[0m\r\n",
      "\u001b[0m\u001b[1mmodule.align.module.iam_role.aws_iam_role.role: Destruction complete after 1s\u001b[0m\u001b[0m\r\n",
      "\u001b[0m\u001b[1mmodule.monitoring.aws_ecs_service.monitor: Destruction complete after 49s\u001b[0m\u001b[0m\r\n",
      "\u001b[0m\u001b[1mmodule.monitoring.aws_ecs_task_definition.monitor: Destroying... [id=monitor]\u001b[0m\u001b[0m\r\n",
      "\u001b[0m\u001b[1mmodule.monitoring.aws_ecs_task_definition.monitor: Destruction complete after 0s\u001b[0m\u001b[0m\r\n",
      "\u001b[0m\u001b[1mmodule.monitoring.aws_iam_role.task_role: Destroying... [id=SerratusIamRole-monitor]\u001b[0m\u001b[0m\r\n",
      "\u001b[0m\u001b[1mmodule.monitoring.aws_iam_role.task_role: Destruction complete after 1s\u001b[0m\u001b[0m\r\n",
      "\u001b[0m\u001b[1mmodule.merge.aws_autoscaling_group.worker: Still destroying... [id=serratus-merge-20200505223458024400000008, 50s elapsed]\u001b[0m\u001b[0m\r\n",
      "\u001b[0m\u001b[1mmodule.monitoring.aws_instance.monitor: Still destroying... [id=i-0d33340c26572d8c6, 50s elapsed]\u001b[0m\u001b[0m\r\n",
      "\u001b[0m\u001b[1mmodule.monitoring.aws_instance.monitor: Destruction complete after 52s\u001b[0m\u001b[0m\r\n",
      "\u001b[0m\u001b[1mmodule.monitoring.aws_ecs_cluster.monitor: Destroying... [id=arn:aws:ecs:us-east-1:797308887321:cluster/serratus-monitor]\u001b[0m\u001b[0m\r\n",
      "\u001b[0m\u001b[1mmodule.monitoring.aws_iam_instance_profile.monitor: Destroying... [id=profile-serratus-monitor]\u001b[0m\u001b[0m\r\n",
      "\u001b[0m\u001b[1mmodule.monitoring.aws_ecs_cluster.monitor: Destruction complete after 1s\u001b[0m\u001b[0m\r\n",
      "\u001b[0m\u001b[1mmodule.monitoring.aws_iam_instance_profile.monitor: Destruction complete after 1s\u001b[0m\u001b[0m\r\n",
      "\u001b[0m\u001b[1mmodule.monitoring.aws_iam_role.instance_role: Destroying... [id=SerratusEcsInstanceRole]\u001b[0m\u001b[0m\r\n",
      "\u001b[0m\u001b[1mmodule.monitoring.aws_iam_role.instance_role: Destruction complete after 1s\u001b[0m\u001b[0m\r\n",
      "\u001b[0m\u001b[1mmodule.merge.aws_autoscaling_group.worker: Still destroying... [id=serratus-merge-20200505223458024400000008, 1m0s elapsed]\u001b[0m\u001b[0m\r\n",
      "\u001b[0m\u001b[1mmodule.merge.aws_autoscaling_group.worker: Still destroying... [id=serratus-merge-20200505223458024400000008, 1m10s elapsed]\u001b[0m\u001b[0m\r\n",
      "\u001b[0m\u001b[1mmodule.merge.aws_autoscaling_group.worker: Still destroying... [id=serratus-merge-20200505223458024400000008, 1m20s elapsed]\u001b[0m\u001b[0m\r\n",
      "\u001b[0m\u001b[1mmodule.merge.aws_autoscaling_group.worker: Still destroying... [id=serratus-merge-20200505223458024400000008, 1m30s elapsed]\u001b[0m\u001b[0m\r\n",
      "\u001b[0m\u001b[1mmodule.merge.aws_autoscaling_group.worker: Still destroying... [id=serratus-merge-20200505223458024400000008, 1m40s elapsed]\u001b[0m\u001b[0m\r\n",
      "\u001b[0m\u001b[1mmodule.merge.aws_autoscaling_group.worker: Still destroying... [id=serratus-merge-20200505223458024400000008, 1m50s elapsed]\u001b[0m\u001b[0m\r\n",
      "\u001b[0m\u001b[1mmodule.merge.aws_autoscaling_group.worker: Still destroying... [id=serratus-merge-20200505223458024400000008, 2m0s elapsed]\u001b[0m\u001b[0m\r\n",
      "\u001b[0m\u001b[1mmodule.merge.aws_autoscaling_group.worker: Still destroying... [id=serratus-merge-20200505223458024400000008, 2m10s elapsed]\u001b[0m\u001b[0m\r\n",
      "\u001b[0m\u001b[1mmodule.merge.aws_autoscaling_group.worker: Still destroying... [id=serratus-merge-20200505223458024400000008, 2m20s elapsed]\u001b[0m\u001b[0m\r\n",
      "\u001b[0m\u001b[1mmodule.merge.aws_autoscaling_group.worker: Still destroying... [id=serratus-merge-20200505223458024400000008, 2m30s elapsed]\u001b[0m\u001b[0m\r\n",
      "\u001b[0m\u001b[1mmodule.merge.aws_autoscaling_group.worker: Still destroying... [id=serratus-merge-20200505223458024400000008, 2m40s elapsed]\u001b[0m\u001b[0m\r\n",
      "\u001b[0m\u001b[1mmodule.merge.aws_autoscaling_group.worker: Still destroying... [id=serratus-merge-20200505223458024400000008, 2m50s elapsed]\u001b[0m\u001b[0m\r\n",
      "\u001b[0m\u001b[1mmodule.merge.aws_autoscaling_group.worker: Still destroying... [id=serratus-merge-20200505223458024400000008, 3m0s elapsed]\u001b[0m\u001b[0m\r\n",
      "\u001b[0m\u001b[1mmodule.merge.aws_autoscaling_group.worker: Still destroying... [id=serratus-merge-20200505223458024400000008, 3m10s elapsed]\u001b[0m\u001b[0m\r\n",
      "\u001b[0m\u001b[1mmodule.merge.aws_autoscaling_group.worker: Still destroying... [id=serratus-merge-20200505223458024400000008, 3m20s elapsed]\u001b[0m\u001b[0m\r\n",
      "\u001b[0m\u001b[1mmodule.merge.aws_autoscaling_group.worker: Still destroying... [id=serratus-merge-20200505223458024400000008, 3m30s elapsed]\u001b[0m\u001b[0m\r\n",
      "\u001b[0m\u001b[1mmodule.merge.aws_autoscaling_group.worker: Still destroying... [id=serratus-merge-20200505223458024400000008, 3m40s elapsed]\u001b[0m\u001b[0m\r\n",
      "\u001b[0m\u001b[1mmodule.merge.aws_autoscaling_group.worker: Still destroying... [id=serratus-merge-20200505223458024400000008, 3m50s elapsed]\u001b[0m\u001b[0m\r\n",
      "\u001b[0m\u001b[1mmodule.merge.aws_autoscaling_group.worker: Still destroying... [id=serratus-merge-20200505223458024400000008, 4m0s elapsed]\u001b[0m\u001b[0m\r\n",
      "\u001b[0m\u001b[1mmodule.merge.aws_autoscaling_group.worker: Still destroying... [id=serratus-merge-20200505223458024400000008, 4m10s elapsed]\u001b[0m\u001b[0m\r\n",
      "\u001b[0m\u001b[1mmodule.merge.aws_autoscaling_group.worker: Still destroying... [id=serratus-merge-20200505223458024400000008, 4m20s elapsed]\u001b[0m\u001b[0m\r\n",
      "\u001b[0m\u001b[1mmodule.merge.aws_autoscaling_group.worker: Still destroying... [id=serratus-merge-20200505223458024400000008, 4m30s elapsed]\u001b[0m\u001b[0m\r\n",
      "\u001b[0m\u001b[1mmodule.merge.aws_autoscaling_group.worker: Still destroying... [id=serratus-merge-20200505223458024400000008, 4m40s elapsed]\u001b[0m\u001b[0m\r\n",
      "\u001b[0m\u001b[1mmodule.merge.aws_autoscaling_group.worker: Still destroying... [id=serratus-merge-20200505223458024400000008, 4m50s elapsed]\u001b[0m\u001b[0m\r\n",
      "\u001b[0m\u001b[1mmodule.merge.aws_autoscaling_group.worker: Still destroying... [id=serratus-merge-20200505223458024400000008, 5m0s elapsed]\u001b[0m\u001b[0m\r\n",
      "\u001b[0m\u001b[1mmodule.merge.aws_autoscaling_group.worker: Still destroying... [id=serratus-merge-20200505223458024400000008, 5m10s elapsed]\u001b[0m\u001b[0m\r\n",
      "\u001b[0m\u001b[1mmodule.merge.aws_autoscaling_group.worker: Still destroying... [id=serratus-merge-20200505223458024400000008, 5m20s elapsed]\u001b[0m\u001b[0m\r\n",
      "\u001b[0m\u001b[1mmodule.merge.aws_autoscaling_group.worker: Still destroying... [id=serratus-merge-20200505223458024400000008, 5m30s elapsed]\u001b[0m\u001b[0m\r\n",
      "\u001b[0m\u001b[1mmodule.merge.aws_autoscaling_group.worker: Still destroying... [id=serratus-merge-20200505223458024400000008, 5m40s elapsed]\u001b[0m\u001b[0m\r\n",
      "\u001b[0m\u001b[1mmodule.merge.aws_autoscaling_group.worker: Still destroying... [id=serratus-merge-20200505223458024400000008, 5m50s elapsed]\u001b[0m\u001b[0m\r\n",
      "\u001b[0m\u001b[1mmodule.merge.aws_autoscaling_group.worker: Still destroying... [id=serratus-merge-20200505223458024400000008, 6m0s elapsed]\u001b[0m\u001b[0m\r\n",
      "\u001b[0m\u001b[1mmodule.merge.aws_autoscaling_group.worker: Still destroying... [id=serratus-merge-20200505223458024400000008, 6m10s elapsed]\u001b[0m\u001b[0m\r\n",
      "\u001b[0m\u001b[1mmodule.merge.aws_autoscaling_group.worker: Still destroying... [id=serratus-merge-20200505223458024400000008, 6m20s elapsed]\u001b[0m\u001b[0m\r\n",
      "\u001b[0m\u001b[1mmodule.merge.aws_autoscaling_group.worker: Still destroying... [id=serratus-merge-20200505223458024400000008, 6m30s elapsed]\u001b[0m\u001b[0m\r\n",
      "\u001b[0m\u001b[1mmodule.merge.aws_autoscaling_group.worker: Still destroying... [id=serratus-merge-20200505223458024400000008, 6m40s elapsed]\u001b[0m\u001b[0m\r\n",
      "\u001b[0m\u001b[1mmodule.merge.aws_autoscaling_group.worker: Still destroying... [id=serratus-merge-20200505223458024400000008, 6m50s elapsed]\u001b[0m\u001b[0m\r\n",
      "\u001b[0m\u001b[1mmodule.merge.aws_autoscaling_group.worker: Still destroying... [id=serratus-merge-20200505223458024400000008, 7m0s elapsed]\u001b[0m\u001b[0m\r\n",
      "\u001b[0m\u001b[1mmodule.merge.aws_autoscaling_group.worker: Still destroying... [id=serratus-merge-20200505223458024400000008, 7m10s elapsed]\u001b[0m\u001b[0m\r\n",
      "\u001b[0m\u001b[1mmodule.merge.aws_autoscaling_group.worker: Still destroying... [id=serratus-merge-20200505223458024400000008, 7m20s elapsed]\u001b[0m\u001b[0m\r\n",
      "\u001b[0m\u001b[1mmodule.merge.aws_autoscaling_group.worker: Still destroying... [id=serratus-merge-20200505223458024400000008, 7m30s elapsed]\u001b[0m\u001b[0m\r\n",
      "\u001b[0m\u001b[1mmodule.merge.aws_autoscaling_group.worker: Still destroying... [id=serratus-merge-20200505223458024400000008, 7m40s elapsed]\u001b[0m\u001b[0m\r\n",
      "\u001b[0m\u001b[1mmodule.merge.aws_autoscaling_group.worker: Still destroying... [id=serratus-merge-20200505223458024400000008, 7m50s elapsed]\u001b[0m\u001b[0m\r\n",
      "\u001b[0m\u001b[1mmodule.merge.aws_autoscaling_group.worker: Still destroying... [id=serratus-merge-20200505223458024400000008, 8m0s elapsed]\u001b[0m\u001b[0m\r\n",
      "\u001b[0m\u001b[1mmodule.merge.aws_autoscaling_group.worker: Still destroying... [id=serratus-merge-20200505223458024400000008, 8m10s elapsed]\u001b[0m\u001b[0m\r\n",
      "\u001b[0m\u001b[1mmodule.merge.aws_autoscaling_group.worker: Still destroying... [id=serratus-merge-20200505223458024400000008, 8m20s elapsed]\u001b[0m\u001b[0m\r\n",
      "\u001b[0m\u001b[1mmodule.merge.aws_autoscaling_group.worker: Still destroying... [id=serratus-merge-20200505223458024400000008, 8m30s elapsed]\u001b[0m\u001b[0m\r\n",
      "\u001b[0m\u001b[1mmodule.merge.aws_autoscaling_group.worker: Still destroying... [id=serratus-merge-20200505223458024400000008, 8m40s elapsed]\u001b[0m\u001b[0m\r\n",
      "\u001b[0m\u001b[1mmodule.merge.aws_autoscaling_group.worker: Still destroying... [id=serratus-merge-20200505223458024400000008, 8m50s elapsed]\u001b[0m\u001b[0m\r\n",
      "\u001b[0m\u001b[1mmodule.merge.aws_autoscaling_group.worker: Still destroying... [id=serratus-merge-20200505223458024400000008, 9m0s elapsed]\u001b[0m\u001b[0m\r\n",
      "\u001b[0m\u001b[1mmodule.merge.aws_autoscaling_group.worker: Still destroying... [id=serratus-merge-20200505223458024400000008, 9m10s elapsed]\u001b[0m\u001b[0m\r\n",
      "\u001b[0m\u001b[1mmodule.merge.aws_autoscaling_group.worker: Still destroying... [id=serratus-merge-20200505223458024400000008, 9m20s elapsed]\u001b[0m\u001b[0m\r\n",
      "\u001b[0m\u001b[1mmodule.merge.aws_autoscaling_group.worker: Still destroying... [id=serratus-merge-20200505223458024400000008, 9m30s elapsed]\u001b[0m\u001b[0m\r\n",
      "\u001b[0m\u001b[1mmodule.merge.aws_autoscaling_group.worker: Still destroying... [id=serratus-merge-20200505223458024400000008, 9m40s elapsed]\u001b[0m\u001b[0m\r\n",
      "\u001b[0m\u001b[1mmodule.merge.aws_autoscaling_group.worker: Still destroying... [id=serratus-merge-20200505223458024400000008, 9m50s elapsed]\u001b[0m\u001b[0m\r\n",
      "\u001b[0m\u001b[1mmodule.merge.aws_autoscaling_group.worker: Still destroying... [id=serratus-merge-20200505223458024400000008, 10m0s elapsed]\u001b[0m\u001b[0m\r\n",
      "\u001b[31m\r\n",
      "\u001b[1m\u001b[31mError: \u001b[0m\u001b[0m\u001b[1mError draining autoscaling group: Group still has 1 instances\u001b[0m\r\n",
      "\r\n",
      "\u001b[0m\u001b[0m\u001b[0m\r\n"
     ]
    }
   ],
   "source": [
    "terraform destroy -auto-approve\n",
    "# WARNING this will also delete the standard output bucket/data\n",
    "# Save data prior to destroy"
   ]
  },
  {
   "cell_type": "markdown",
   "metadata": {
    "hidden": true
   },
   "source": [
    "### Run Notes\n",
    "\n",
    "There were some minor bug-fixes with `run_merge.sh`, but the entire pilot data made it through. Time to go to scale boys!\n"
   ]
  },
  {
   "cell_type": "markdown",
   "metadata": {},
   "source": [
    "# Batch 1\n",
    "\n",
    "Process upto sample 1000."
   ]
  },
  {
   "cell_type": "markdown",
   "metadata": {},
   "source": [
    "## Serratus Initialization\n"
   ]
  },
  {
   "cell_type": "code",
   "execution_count": 1,
   "metadata": {},
   "outputs": [
    {
     "name": "stdout",
     "output_type": "stream",
     "text": [
      "c1f438ca1c4eb4f1fcf4f24079ed09558f20e7d5\r\n"
     ]
    }
   ],
   "source": [
    "# Serratus commit version\n",
    "SERRATUS=\"/home/artem/serratus\"\n",
    "cd $SERRATUS\n",
    "git rev-parse HEAD # commit version\n",
    "\n",
    "# Create local run directory\n",
    "WORK=\"$SERRATUS/notebook/200505_ab\"\n",
    "mkdir -p $WORK; cd $WORK"
   ]
  },
  {
   "cell_type": "code",
   "execution_count": 3,
   "metadata": {},
   "outputs": [
    {
     "name": "stdout",
     "output_type": "stream",
     "text": [
      "Run,ReleaseDate,LoadDate,spots,bases,spots_with_mates,avgLength,size_MB,AssemblyName,download_path,Experiment,LibraryName,LibraryStrategy,LibrarySelection,LibrarySource,LibraryLayout,InsertSize,InsertDev,Platform,Model,SRAStudy,BioProject,Study_Pubmed_id,ProjectID,Sample,BioSample,SampleType,TaxID,ScientificName,SampleName,g1k_pop_code,source,g1k_analysis_group,Subject_ID,Sex,Disease,Tumor,Affection_Status,Analyte_Type,Histological_Type,Body_Site,CenterName,Submission,dbgap_study_accession,Consent,RunHash,ReadHash\r\n",
      "ERR3568637,2020-04-18 18:18:52,2020-04-21 03:38:04,12326423,616321150,0,50,204,,https://sra-download.ncbi.nlm.nih.gov/traces/era19/ERR/ERR3568/ERR3568637,ERX3567005,Sample 31_s,RNA-Seq,RANDOM,GENOMIC,SINGLE,0,0,ILLUMINA,Illumina HiSeq 4000,ERP117619,PRJEB34680,,626196,ERS3789009,SAMEA5986188,simple,9940,Ovis aries,E-MTAB-8396:Sample 31,,,,,female,,no,,,,,Marcella Ma,ERA2154894,,public,6614621801329D7D2CB845B25B7C4555,CF2B263E1122C3876B423D519299C99A\r\n",
      "ERR3568638,2020-04-18 18:18:52,2020-04-21 03:38:18,12636226,631811300,0,50,211,,https://sra-download.ncbi.nlm.nih.gov/traces/era19/ERR/ERR3568/ERR3568638,ERX3567005,Sample 31_s,RNA-Seq,RANDOM,GENOMIC,SINGLE,0,0,ILLUMINA,Illumina HiSeq 4000,ERP117619,PRJEB34680,,626196,ERS3789009,SAMEA5986188,simple,9940,Ovis aries,E-MTAB-8396:Sample 31,,,,,female,,no,,,,,Marcella Ma,ERA2154894,,public,ECEB14895AAADC891AC72470022AACAE,93141E6BD0CB3B3758196BB7F016E675\r\n",
      "ERR3568597,2020-04-18 18:18:51,2020-04-21 03:33:36,9389570,469478500,0,50,157,,https://sra-download.ncbi.nlm.nih.gov/traces/era19/ERR/ERR3568/ERR3568597,ERX3566985,Sample 32_s,RNA-Seq,RANDOM,GENOMIC,SINGLE,0,0,ILLUMINA,Illumina HiSeq 4000,ERP117619,PRJEB34680,,626196,ERS3788981,SAMEA5986159,simple,9940,Ovis aries,E-MTAB-8396:Sample 32,,,,,female,,no,,,,,Marcella Ma,ERA2154894,,public,D95759A622D87591335DA8121E8B7AFE,F2BF9FF963D7879080E5F51B0A5448EA\r\n",
      "ERR3568598,2020-04-18 18:18:51,2020-04-21 03:33:49,9666644,483332200,0,50,163,,https://sra-download.ncbi.nlm.nih.gov/traces/era19/ERR/ERR3568/ERR3568598,ERX3566985,Sample 32_s,RNA-Seq,RANDOM,GENOMIC,SINGLE,0,0,ILLUMINA,Illumina HiSeq 4000,ERP117619,PRJEB34680,,626196,ERS3788981,SAMEA5986159,simple,9940,Ovis aries,E-MTAB-8396:Sample 32,,,,,female,,no,,,,,Marcella Ma,ERA2154894,,public,5F1F928F04C5B5A276B3953A4BDE4E73,5730AD58AF0DE85CFBD9CD1507857B56\r\n"
     ]
    }
   ],
   "source": [
    "# SRA RunInfo Table for run -- PILOT\n",
    "RUNINFO=\"$WORK/zoonotic_SraRunInfo.csv\"\n",
    "\n",
    "head -n 1000 $RUNINFO > batch1_zoonotic.csv\n",
    "sed -i '2,50d' batch1_zoonotic.csv\n",
    "RUNINFO=\"$WORK/batch1_zoonotic.csv\"\n",
    "\n",
    "head -n 5 $RUNINFO"
   ]
  },
  {
   "cell_type": "code",
   "execution_count": 4,
   "metadata": {},
   "outputs": [
    {
     "name": "stdout",
     "output_type": "stream",
     "text": [
      "diff --git a/terraform/main/main.tf b/terraform/main/main.tf\r\n",
      "index a52496e..84dd768 100644\r\n",
      "--- a/terraform/main/main.tf\r\n",
      "+++ b/terraform/main/main.tf\r\n",
      "@@ -109,7 +109,7 @@ module \"download\" {\r\n",
      "   source             = \"../worker\"\r\n",
      " \r\n",
      "   desired_size       = 0\r\n",
      "-  max_size           = 256\r\n",
      "+  max_size           = 200\r\n",
      " \r\n",
      "   dev_cidrs          = var.dev_cidrs\r\n",
      "   security_group_ids = [aws_security_group.internal.id]\r\n",
      "@@ -134,7 +134,7 @@ module \"align\" {\r\n",
      "   source             = \"../worker\"\r\n",
      " \r\n",
      "   desired_size       = 0\r\n",
      "-  max_size           = 256\r\n",
      "+  max_size           = 500\r\n",
      "   dev_cidrs          = var.dev_cidrs\r\n",
      "   security_group_ids = [aws_security_group.internal.id]\r\n",
      "   instance_type      = \"c5.large\" # c5.large\r\n"
     ]
    }
   ],
   "source": [
    "# Terraform customization\n",
    "git diff $SERRATUS/terraform/main/main.tf"
   ]
  },
  {
   "cell_type": "code",
   "execution_count": 6,
   "metadata": {},
   "outputs": [
    {
     "name": "stdout",
     "output_type": "stream",
     "text": [
      "\u001b[0m\u001b[1mInitializing modules...\u001b[0m\r\n",
      "\r\n",
      "\u001b[0m\u001b[1mInitializing the backend...\u001b[0m\r\n",
      "\r\n",
      "\u001b[0m\u001b[1mInitializing provider plugins...\u001b[0m\r\n",
      "\r\n",
      "\u001b[0m\u001b[1m\u001b[32mTerraform has been successfully initialized!\u001b[0m\u001b[32m\u001b[0m\r\n",
      "\u001b[0m\u001b[32m\r\n",
      "You may now begin working with Terraform. Try running \"terraform plan\" to see\r\n",
      "any changes that are required for your infrastructure. All Terraform commands\r\n",
      "should now work.\r\n",
      "\r\n",
      "If you ever set or change modules or backend configuration for Terraform,\r\n",
      "rerun this command to reinitialize your working directory. If you forget, other\r\n",
      "commands will detect it and remind you to do so if necessary.\u001b[0m\r\n",
      "\u001b[0m\u001b[1mmodule.merge.data.aws_region.current: Refreshing state...\u001b[0m\r\n",
      "\u001b[0m\u001b[1mmodule.scheduler.data.aws_region.current: Refreshing state...\u001b[0m\r\n",
      "\u001b[0m\u001b[1mmodule.scheduler.module.iam_role.aws_iam_role.role: Refreshing state... [id=SerratusIamRole-scheduler]\u001b[0m\r\n",
      "\u001b[0m\u001b[1mmodule.merge.module.iam_role.aws_iam_role.role: Refreshing state... [id=SerratusIamRole-serratus-merge]\u001b[0m\r\n",
      "\u001b[0m\u001b[1mmodule.align.data.aws_region.current: Refreshing state...\u001b[0m\r\n",
      "\u001b[0m\u001b[1mmodule.align.data.aws_availability_zones.all: Refreshing state...\u001b[0m\r\n",
      "\u001b[0m\u001b[1mmodule.merge.data.aws_ami.amazon_linux_2: Refreshing state...\u001b[0m\r\n",
      "\u001b[0m\u001b[1mmodule.download.data.aws_region.current: Refreshing state...\u001b[0m\r\n",
      "\u001b[0m\u001b[1mmodule.monitoring.data.aws_ami.ecs: Refreshing state...\u001b[0m\r\n",
      "\u001b[0m\u001b[1mmodule.download.data.aws_availability_zones.all: Refreshing state...\u001b[0m\r\n",
      "\u001b[0m\u001b[1mmodule.work_bucket.aws_s3_bucket.work: Refreshing state... [id=tf-serratus-work-20200505223426920000000001]\u001b[0m\r\n",
      "\u001b[0m\u001b[1mmodule.merge.aws_cloudwatch_log_group.g: Refreshing state... [id=serratus-merge]\u001b[0m\r\n",
      "\u001b[0m\u001b[1mmodule.merge.data.aws_availability_zones.all: Refreshing state...\u001b[0m\r\n",
      "\u001b[0m\u001b[1maws_security_group.internal: Refreshing state... [id=sg-0ed2512f291ee6bbe]\u001b[0m\r\n",
      "\u001b[0m\u001b[1mmodule.download.data.aws_ami.amazon_linux_2: Refreshing state...\u001b[0m\r\n",
      "\u001b[0m\u001b[1mmodule.scheduler.aws_cloudwatch_log_group.scheduler: Refreshing state... [id=scheduler]\u001b[0m\r\n",
      "\u001b[0m\u001b[1mmodule.align.data.aws_ami.amazon_linux_2: Refreshing state...\u001b[0m\r\n",
      "\u001b[0m\u001b[1mmodule.scheduler.data.aws_ami.amazon_linux_2: Refreshing state...\u001b[0m\r\n",
      "\u001b[0m\u001b[1mmodule.scheduler.module.iam_role.aws_iam_instance_profile.profile: Refreshing state... [id=profile-scheduler]\u001b[0m\r\n",
      "\u001b[0m\u001b[1mmodule.merge.module.iam_role.aws_iam_instance_profile.profile: Refreshing state... [id=profile-serratus-merge]\u001b[0m\r\n",
      "\u001b[0m\u001b[1mmodule.scheduler.aws_instance.scheduler: Refreshing state... [id=i-0198611e326b66a96]\u001b[0m\r\n",
      "\u001b[0m\u001b[1mmodule.scheduler.aws_eip.sch: Refreshing state... [id=eipalloc-0cbed026198c2a75e]\u001b[0m\r\n",
      "\u001b[0m\u001b[1mmodule.merge.aws_launch_configuration.worker: Refreshing state... [id=serratus-merge-20200505223458024400000008]\u001b[0m\r\n",
      "\u001b[0m\u001b[1mmodule.merge.aws_autoscaling_group.worker: Refreshing state... [id=serratus-merge-20200505223458024400000008]\u001b[0m\r\n",
      "\u001b[0m\u001b[1mmodule.download.module.iam_role.aws_iam_role.role: Creating...\u001b[0m\u001b[0m\r\n",
      "\u001b[0m\u001b[1mmodule.scheduler.module.iam_role.aws_iam_role_policy.cloudwatch: Creating...\u001b[0m\u001b[0m\r\n",
      "\u001b[0m\u001b[1mmodule.merge.aws_autoscaling_group.worker: Destroying... [id=serratus-merge-20200505223458024400000008]\u001b[0m\u001b[0m\r\n",
      "\u001b[0m\u001b[1mmodule.monitoring.aws_iam_role.task_role: Creating...\u001b[0m\u001b[0m\r\n",
      "\u001b[0m\u001b[1mmodule.monitoring.aws_ecs_cluster.monitor: Creating...\u001b[0m\u001b[0m\r\n",
      "\u001b[0m\u001b[1mmodule.merge.aws_iam_role_policy.ec2Describe: Creating...\u001b[0m\u001b[0m\r\n",
      "\u001b[0m\u001b[1mmodule.monitoring.aws_iam_role.instance_role: Creating...\u001b[0m\u001b[0m\r\n",
      "\u001b[0m\u001b[1mmodule.download.aws_cloudwatch_log_group.g: Creating...\u001b[0m\u001b[0m\r\n",
      "\u001b[0m\u001b[1mmodule.merge.aws_iam_role_policy.ec2Terminate: Creating...\u001b[0m\u001b[0m\r\n",
      "\u001b[0m\u001b[1mmodule.merge.module.iam_role.aws_iam_role_policy_attachment.attachment[\"arn:aws:iam::aws:policy/AmazonS3ReadOnlyAccess\"]: Creating...\u001b[0m\u001b[0m\r\n",
      "\u001b[0m\u001b[1mmodule.merge.aws_iam_role_policy.ec2Terminate: Creation complete after 0s [id=SerratusIamRole-serratus-merge:TerminateEC2Instances-serratus-merge]\u001b[0m\u001b[0m\r\n",
      "\u001b[0m\u001b[1mmodule.merge.aws_iam_role_policy.ec2Describe: Creation complete after 0s [id=SerratusIamRole-serratus-merge:DescribeEC2Instances-serratus-merge]\u001b[0m\u001b[0m\r\n",
      "\u001b[0m\u001b[1mmodule.monitoring.aws_iam_role.task_role: Creation complete after 0s [id=SerratusIamRole-monitor]\u001b[0m\u001b[0m\r\n",
      "\u001b[0m\u001b[1mmodule.download.module.iam_role.aws_iam_role.role: Creation complete after 0s [id=SerratusIamRole-serratus-dl]\u001b[0m\u001b[0m\r\n",
      "\u001b[0m\u001b[1mmodule.merge.aws_iam_role_policy.AdjustAutoScaling: Creating...\u001b[0m\u001b[0m\r\n",
      "\u001b[0m\u001b[1mmodule.align.aws_cloudwatch_log_group.g: Creating...\u001b[0m\u001b[0m\r\n",
      "\u001b[0m\u001b[1mmodule.scheduler.module.iam_role.aws_iam_role_policy.cloudwatch: Creation complete after 0s [id=SerratusIamRole-scheduler:CloudWatchLogsCreate-scheduler]\u001b[0m\u001b[0m\r\n",
      "\u001b[0m\u001b[1mmodule.scheduler.aws_iam_role_policy.scheduler: Creating...\u001b[0m\u001b[0m\r\n",
      "\u001b[0m\u001b[1mmodule.monitoring.aws_iam_role.instance_role: Creation complete after 0s [id=SerratusEcsInstanceRole]\u001b[0m\u001b[0m\r\n",
      "\u001b[0m\u001b[1mmodule.work_bucket.aws_s3_bucket_metric.full: Creating...\u001b[0m\u001b[0m\r\n",
      "\u001b[0m\u001b[1mmodule.align.module.iam_role.aws_iam_role.role: Creating...\u001b[0m\u001b[0m\r\n",
      "\u001b[0m\u001b[1mmodule.work_bucket.aws_s3_bucket_metric.prefix[\"fq-blocks\"]: Creating...\u001b[0m\u001b[0m\r\n",
      "\u001b[0m\u001b[1mmodule.download.aws_cloudwatch_log_group.g: Creation complete after 1s [id=serratus-dl]\u001b[0m\u001b[0m\r\n",
      "\u001b[0m\u001b[1mmodule.merge.module.iam_role.aws_iam_role_policy.cloudwatch: Creating...\u001b[0m\u001b[0m\r\n",
      "\u001b[0m\u001b[1mmodule.merge.aws_iam_role_policy.AdjustAutoScaling: Creation complete after 1s [id=SerratusIamRole-serratus-merge:AdjustAutoScaling-serratus-merge]\u001b[0m\u001b[0m\r\n",
      "\u001b[0m\u001b[1mmodule.work_bucket.aws_s3_bucket_metric.prefix[\"out\"]: Creating...\u001b[0m\u001b[0m\r\n",
      "\u001b[0m\u001b[1mmodule.work_bucket.aws_s3_bucket_metric.prefix[\"fq-blocks\"]: Creation complete after 1s [id=tf-serratus-work-20200505223426920000000001:prefix-fq-blocks]\u001b[0m\u001b[0m\r\n",
      "\u001b[0m\u001b[1mmodule.scheduler.aws_iam_role_policy.scheduler: Creation complete after 1s [id=SerratusIamRole-scheduler:DescribeInstances-scheduler]\u001b[0m\u001b[0m\r\n",
      "\u001b[0m\u001b[1mmodule.work_bucket.aws_s3_bucket_metric.full: Creation complete after 1s [id=tf-serratus-work-20200505223426920000000001:full]\u001b[0m\u001b[0m\r\n",
      "\u001b[0m\u001b[1mmodule.work_bucket.aws_s3_bucket_metric.prefix[\"bam-blocks\"]: Creating...\u001b[0m\u001b[0m\r\n",
      "\u001b[0m\u001b[1mmodule.monitoring.aws_iam_role_policy_attachment.attachment: Creating...\u001b[0m\u001b[0m\r\n",
      "\u001b[0m\u001b[1mmodule.scheduler.aws_instance.scheduler: Creating...\u001b[0m\u001b[0m\r\n",
      "\u001b[0m\u001b[1mmodule.align.module.iam_role.aws_iam_role.role: Creation complete after 1s [id=SerratusIamRole-serratus-align]\u001b[0m\u001b[0m\r\n",
      "\u001b[0m\u001b[1mmodule.monitoring.aws_iam_role_policy.cloudwatch: Creating...\u001b[0m\u001b[0m\r\n",
      "\u001b[0m\u001b[1mmodule.align.aws_cloudwatch_log_group.g: Creation complete after 2s [id=serratus-align]\u001b[0m\u001b[0m\r\n",
      "\u001b[0m\u001b[1mmodule.download.module.iam_role.aws_iam_role_policy.cloudwatch: Creating...\u001b[0m\u001b[0m\r\n",
      "\u001b[0m\u001b[1mmodule.merge.module.iam_role.aws_iam_role_policy.cloudwatch: Creation complete after 1s [id=SerratusIamRole-serratus-merge:CloudWatchLogsCreate-serratus-merge]\u001b[0m\u001b[0m\r\n",
      "\u001b[0m\u001b[1mmodule.download.module.iam_role.aws_iam_role_policy_attachment.attachment[\"arn:aws:iam::aws:policy/AmazonS3ReadOnlyAccess\"]: Creating...\u001b[0m\u001b[0m\r\n",
      "\u001b[0m\u001b[1mmodule.work_bucket.aws_s3_bucket_metric.prefix[\"out\"]: Creation complete after 1s [id=tf-serratus-work-20200505223426920000000001:prefix-out]\u001b[0m\u001b[0m\r\n",
      "\u001b[0m\u001b[1mmodule.monitoring.aws_iam_role_policy_attachment.attachment: Creation complete after 1s [id=SerratusIamRole-monitor-20200506160233659700000001]\u001b[0m\u001b[0m\r\n",
      "\u001b[0m\u001b[1mmodule.work_bucket.aws_s3_bucket_metric.prefix[\"bam-blocks\"]: Creation complete after 1s [id=tf-serratus-work-20200505223426920000000001:prefix-bam-blocks]\u001b[0m\u001b[0m\r\n",
      "\u001b[0m\u001b[1mmodule.download.module.iam_role.aws_iam_instance_profile.profile: Creating...\u001b[0m\u001b[0m\r\n",
      "\u001b[0m\u001b[1mmodule.monitoring.aws_iam_role_policy.cloudwatch: Creation complete after 1s [id=SerratusIamRole-monitor:CloudwatchGetMetrics]\u001b[0m\u001b[0m\r\n",
      "\u001b[0m\u001b[1mmodule.monitoring.aws_iam_instance_profile.monitor: Creating...\u001b[0m\u001b[0m\r\n",
      "\u001b[0m\u001b[1mmodule.monitoring.aws_iam_role_policy_attachment.instance_attachment: Creating...\u001b[0m\u001b[0m\r\n",
      "\u001b[0m\u001b[1mmodule.merge.aws_iam_role_policy.s3_delete[0]: Creating...\u001b[0m\u001b[0m\r\n",
      "\u001b[0m\u001b[1mmodule.download.module.iam_role.aws_iam_role_policy.cloudwatch: Creation complete after 0s [id=SerratusIamRole-serratus-dl:CloudWatchLogsCreate-serratus-dl]\u001b[0m\u001b[0m\r\n",
      "\u001b[0m\u001b[1mmodule.merge.aws_iam_role_policy.s3_write: Creating...\u001b[0m\u001b[0m\r\n",
      "\u001b[0m\u001b[1mmodule.download.module.iam_role.aws_iam_role_policy_attachment.attachment[\"arn:aws:iam::aws:policy/AmazonS3ReadOnlyAccess\"]: Creation complete after 0s [id=SerratusIamRole-serratus-dl-20200506160233957800000002]\u001b[0m\u001b[0m\r\n",
      "\u001b[0m\u001b[1mmodule.align.module.iam_role.aws_iam_role_policy_attachment.attachment[\"arn:aws:iam::aws:policy/AmazonS3ReadOnlyAccess\"]: Creating...\u001b[0m\u001b[0m\r\n",
      "\u001b[0m\u001b[1mmodule.merge.aws_iam_role_policy.s3_delete[0]: Creation complete after 1s [id=SerratusIamRole-serratus-merge:S3DeleteData-serratus-merge]\u001b[0m\u001b[0m\r\n",
      "\u001b[0m\u001b[1mmodule.align.module.iam_role.aws_iam_instance_profile.profile: Creating...\u001b[0m\u001b[0m\r\n",
      "\u001b[0m\u001b[1mmodule.monitoring.aws_iam_role_policy_attachment.instance_attachment: Creation complete after 1s [id=SerratusEcsInstanceRole-20200506160234471900000003]\u001b[0m\u001b[0m\r\n",
      "\u001b[0m\u001b[1mmodule.align.module.iam_role.aws_iam_role_policy.cloudwatch: Creating...\u001b[0m\u001b[0m\r\n",
      "\u001b[0m\u001b[1mmodule.merge.aws_iam_role_policy.s3_write: Creation complete after 1s [id=SerratusIamRole-serratus-merge:S3WriteData-serratus-merge]\u001b[0m\u001b[0m\r\n",
      "\u001b[0m\u001b[1mmodule.download.aws_iam_role_policy.ec2Terminate: Creating...\u001b[0m\u001b[0m\r\n",
      "\u001b[0m\u001b[1mmodule.align.module.iam_role.aws_iam_role_policy_attachment.attachment[\"arn:aws:iam::aws:policy/AmazonS3ReadOnlyAccess\"]: Creation complete after 1s [id=SerratusIamRole-serratus-align-20200506160234706600000004]\u001b[0m\u001b[0m\r\n",
      "\u001b[0m\u001b[1mmodule.download.aws_iam_role_policy.s3_write: Creating...\u001b[0m\u001b[0m\r\n",
      "\u001b[0m\u001b[1mmodule.download.module.iam_role.aws_iam_instance_profile.profile: Creation complete after 1s [id=profile-serratus-dl]\u001b[0m\u001b[0m\r\n",
      "\u001b[0m\u001b[1mmodule.monitoring.aws_iam_instance_profile.monitor: Creation complete after 1s [id=profile-serratus-monitor]\u001b[0m\u001b[0m\r\n",
      "\u001b[0m\u001b[1mmodule.download.aws_iam_role_policy.ec2Describe: Creating...\u001b[0m\u001b[0m\r\n",
      "\u001b[0m\u001b[1mmodule.download.aws_iam_role_policy.AdjustAutoScaling: Creating...\u001b[0m\u001b[0m\r\n",
      "\u001b[0m\u001b[1mmodule.align.module.iam_role.aws_iam_role_policy.cloudwatch: Creation complete after 1s [id=SerratusIamRole-serratus-align:CloudWatchLogsCreate-serratus-align]\u001b[0m\u001b[0m\r\n",
      "\u001b[0m\u001b[1mmodule.align.aws_iam_role_policy.ec2Terminate: Creating...\u001b[0m\u001b[0m\r\n",
      "\u001b[0m\u001b[1mmodule.download.aws_iam_role_policy.ec2Terminate: Creation complete after 1s [id=SerratusIamRole-serratus-dl:TerminateEC2Instances-serratus-dl]\u001b[0m\u001b[0m\r\n",
      "\u001b[0m\u001b[1mmodule.align.aws_iam_role_policy.ec2Describe: Creating...\u001b[0m\u001b[0m\r\n",
      "\u001b[0m\u001b[1mmodule.download.aws_iam_role_policy.s3_write: Creation complete after 1s [id=SerratusIamRole-serratus-dl:S3WriteData-serratus-dl]\u001b[0m\u001b[0m\r\n",
      "\u001b[0m\u001b[1mmodule.align.aws_iam_role_policy.s3_delete[0]: Creating...\u001b[0m\u001b[0m\r\n",
      "\u001b[0m\u001b[1mmodule.download.aws_iam_role_policy.ec2Describe: Creation complete after 1s [id=SerratusIamRole-serratus-dl:DescribeEC2Instances-serratus-dl]\u001b[0m\u001b[0m\r\n",
      "\u001b[0m\u001b[1mmodule.align.aws_iam_role_policy.AdjustAutoScaling: Creating...\u001b[0m\u001b[0m\r\n",
      "\u001b[0m\u001b[1mmodule.align.module.iam_role.aws_iam_instance_profile.profile: Creation complete after 1s [id=profile-serratus-align]\u001b[0m\u001b[0m\r\n",
      "\u001b[0m\u001b[1mmodule.align.aws_iam_role_policy.s3_write: Creating...\u001b[0m\u001b[0m\r\n",
      "\u001b[0m\u001b[1mmodule.download.aws_iam_role_policy.AdjustAutoScaling: Creation complete after 1s [id=SerratusIamRole-serratus-dl:AdjustAutoScaling-serratus-dl]\u001b[0m\u001b[0m\r\n",
      "\u001b[0m\u001b[1mmodule.align.aws_iam_role_policy.ec2Terminate: Creation complete after 0s [id=SerratusIamRole-serratus-align:TerminateEC2Instances-serratus-align]\u001b[0m\u001b[0m\r\n",
      "\u001b[0m\u001b[1mmodule.align.aws_iam_role_policy.s3_delete[0]: Creation complete after 1s [id=SerratusIamRole-serratus-align:S3DeleteData-serratus-align]\u001b[0m\u001b[0m\r\n",
      "\u001b[0m\u001b[1mmodule.align.aws_iam_role_policy.ec2Describe: Creation complete after 1s [id=SerratusIamRole-serratus-align:DescribeEC2Instances-serratus-align]\u001b[0m\u001b[0m\r\n",
      "\u001b[0m\u001b[1mmodule.align.aws_iam_role_policy.s3_write: Creation complete after 1s [id=SerratusIamRole-serratus-align:S3WriteData-serratus-align]\u001b[0m\u001b[0m\r\n",
      "\u001b[0m\u001b[1mmodule.align.aws_iam_role_policy.AdjustAutoScaling: Creation complete after 1s [id=SerratusIamRole-serratus-align:AdjustAutoScaling-serratus-align]\u001b[0m\u001b[0m\r\n",
      "\u001b[0m\u001b[1mmodule.merge.aws_autoscaling_group.worker: Still destroying... [id=serratus-merge-20200505223458024400000008, 10s elapsed]\u001b[0m\u001b[0m\r\n",
      "\u001b[0m\u001b[1mmodule.monitoring.aws_ecs_cluster.monitor: Still creating... [10s elapsed]\u001b[0m\u001b[0m\r\n",
      "\u001b[0m\u001b[1mmodule.merge.module.iam_role.aws_iam_role_policy_attachment.attachment[\"arn:aws:iam::aws:policy/AmazonS3ReadOnlyAccess\"]: Still creating... [10s elapsed]\u001b[0m\u001b[0m\r\n",
      "\u001b[0m\u001b[1mmodule.merge.module.iam_role.aws_iam_role_policy_attachment.attachment[\"arn:aws:iam::aws:policy/AmazonS3ReadOnlyAccess\"]: Creation complete after 11s [id=SerratusIamRole-serratus-merge-20200506160242128300000005]\u001b[0m\u001b[0m\r\n",
      "\u001b[0m\u001b[1mmodule.monitoring.aws_ecs_cluster.monitor: Creation complete after 11s [id=arn:aws:ecs:us-east-1:797308887321:cluster/serratus-monitor]\u001b[0m\u001b[0m\r\n",
      "\u001b[0m\u001b[1mmodule.monitoring.aws_instance.monitor: Creating...\u001b[0m\u001b[0m\r\n",
      "\u001b[0m\u001b[1mmodule.scheduler.aws_instance.scheduler: Still creating... [10s elapsed]\u001b[0m\u001b[0m\r\n",
      "\u001b[0m\u001b[1mmodule.scheduler.aws_instance.scheduler: Creation complete after 16s [id=i-0741382e34f853334]\u001b[0m\u001b[0m\r\n",
      "\u001b[0m\u001b[1mmodule.scheduler.aws_eip.sch: Modifying... [id=eipalloc-0cbed026198c2a75e]\u001b[0m\u001b[0m\r\n",
      "\u001b[0m\u001b[1mmodule.monitoring.aws_ecs_task_definition.monitor: Creating...\u001b[0m\u001b[0m\r\n",
      "\u001b[0m\u001b[1mmodule.monitoring.aws_ecs_task_definition.monitor: Creation complete after 1s [id=monitor]\u001b[0m\u001b[0m\r\n",
      "\u001b[0m\u001b[1mmodule.monitoring.aws_ecs_service.monitor: Creating...\u001b[0m\u001b[0m\r\n",
      "\u001b[0m\u001b[1mmodule.merge.aws_autoscaling_group.worker: Destruction complete after 19s\u001b[0m\u001b[0m\r\n",
      "\u001b[0m\u001b[1mmodule.scheduler.aws_eip.sch: Modifications complete after 2s [id=eipalloc-0cbed026198c2a75e]\u001b[0m\u001b[0m\r\n",
      "\u001b[0m\u001b[1mmodule.align.aws_launch_configuration.worker: Creating...\u001b[0m\u001b[0m\r\n",
      "\u001b[0m\u001b[1mmodule.merge.aws_launch_configuration.worker: Creating...\u001b[0m\u001b[0m\r\n",
      "\u001b[0m\u001b[1mmodule.download.aws_launch_configuration.worker: Creating...\u001b[0m\u001b[0m\r\n",
      "\u001b[0m\u001b[1mmodule.monitoring.aws_ecs_service.monitor: Creation complete after 1s [id=arn:aws:ecs:us-east-1:797308887321:service/serratus-monitor]\u001b[0m\u001b[0m\r\n",
      "\u001b[0m\u001b[1mmodule.monitoring.aws_instance.monitor: Still creating... [10s elapsed]\u001b[0m\u001b[0m\r\n",
      "\u001b[0m\u001b[1mmodule.merge.aws_launch_configuration.worker: Creation complete after 2s [id=serratus-merge-20200506160251661900000007]\u001b[0m\u001b[0m\r\n",
      "\u001b[0m\u001b[1mmodule.download.aws_launch_configuration.worker: Creation complete after 2s [id=serratus-dl-20200506160251664300000008]\u001b[0m\u001b[0m\r\n",
      "\u001b[0m\u001b[1mmodule.merge.aws_autoscaling_group.worker: Creating...\u001b[0m\u001b[0m\r\n",
      "\u001b[0m\u001b[1mmodule.download.aws_autoscaling_group.worker: Creating...\u001b[0m\u001b[0m\r\n",
      "\u001b[0m\u001b[1mmodule.align.aws_launch_configuration.worker: Creation complete after 2s [id=serratus-align-20200506160251667100000009]\u001b[0m\u001b[0m\r\n",
      "\u001b[0m\u001b[1mmodule.align.aws_autoscaling_group.worker: Creating...\u001b[0m\u001b[0m\r\n",
      "\u001b[0m\u001b[1mmodule.download.aws_autoscaling_group.worker: Creation complete after 2s [id=serratus-dl-20200506160251664300000008]\u001b[0m\u001b[0m\r\n",
      "\u001b[0m\u001b[1mlocal_file.dl_set_capacity: Creating...\u001b[0m\u001b[0m\r\n",
      "\u001b[0m\u001b[1mmodule.download.aws_autoscaling_policy.worker: Creating...\u001b[0m\u001b[0m\r\n",
      "\u001b[0m\u001b[1mlocal_file.dl_set_capacity: Creation complete after 0s [id=efd9c8c0b413cc5dce36c1d1fb62e41de8c4c385]\u001b[0m\u001b[0m\r\n",
      "\u001b[0m\u001b[1mmodule.merge.aws_autoscaling_group.worker: Creation complete after 2s [id=serratus-merge-20200506160251661900000007]\u001b[0m\u001b[0m\r\n",
      "\u001b[0m\u001b[1mmodule.align.aws_autoscaling_group.worker: Creation complete after 2s [id=serratus-align-20200506160251667100000009]\u001b[0m\u001b[0m\r\n",
      "\u001b[0m\u001b[1mlocal_file.merge_set_capacity: Creating...\u001b[0m\u001b[0m\r\n",
      "\u001b[0m\u001b[1mlocal_file.merge_set_capacity: Creation complete after 0s [id=fbdd181a58fbbe81d7af63e46ac012a921fde757]\u001b[0m\u001b[0m\r\n",
      "\u001b[0m\u001b[1mmodule.align.aws_autoscaling_policy.worker: Creating...\u001b[0m\u001b[0m\r\n",
      "\u001b[0m\u001b[1mlocal_file.align_set_capacity: Creating...\u001b[0m\u001b[0m\r\n",
      "\u001b[0m\u001b[1mmodule.merge.aws_autoscaling_policy.worker: Creating...\u001b[0m\u001b[0m\r\n",
      "\u001b[0m\u001b[1mlocal_file.align_set_capacity: Creation complete after 0s [id=f4e1b5a7640da1bd0a030ad08154ef22b69b6a78]\u001b[0m\u001b[0m\r\n",
      "\u001b[0m\u001b[1mmodule.download.aws_autoscaling_policy.worker: Creation complete after 1s [id=serratus-dl-20200506160251664300000008]\u001b[0m\u001b[0m\r\n",
      "\u001b[0m\u001b[1mmodule.align.aws_autoscaling_policy.worker: Creation complete after 1s [id=serratus-align-20200506160251667100000009]\u001b[0m\u001b[0m\r\n",
      "\u001b[0m\u001b[1mmodule.merge.aws_autoscaling_policy.worker: Creation complete after 1s [id=serratus-merge-20200506160251661900000007]\u001b[0m\u001b[0m\r\n",
      "\u001b[0m\u001b[1mmodule.merge.aws_launch_configuration.worker: Destroying... [id=serratus-merge-20200505223458024400000008]\u001b[0m\u001b[0m\r\n",
      "\u001b[0m\u001b[1mmodule.merge.aws_launch_configuration.worker: Destruction complete after 0s\u001b[0m\u001b[0m\r\n",
      "\u001b[0m\u001b[1mmodule.monitoring.aws_instance.monitor: Creation complete after 16s [id=i-002954178f8124bfe]\u001b[0m\u001b[0m\r\n",
      "\u001b[0m\u001b[1mmodule.monitoring.aws_eip.monitor: Creating...\u001b[0m\u001b[0m\r\n",
      "\u001b[0m\u001b[1mmodule.monitoring.aws_eip.monitor: Creation complete after 3s [id=eipalloc-0cc02f2571b3d366b]\u001b[0m\u001b[0m\r\n",
      "\u001b[0m\u001b[1mlocal_file.create_tunnel: Creating...\u001b[0m\u001b[0m\r\n",
      "\u001b[0m\u001b[1mlocal_file.hosts: Creating...\u001b[0m\u001b[0m\r\n",
      "\u001b[0m\u001b[1mlocal_file.create_tunnel: Creation complete after 0s [id=f17dc39a1b2612d480758e71bf36b9f27057e886]\u001b[0m\u001b[0m\r\n",
      "\u001b[0m\u001b[1mlocal_file.hosts: Creation complete after 0s [id=dbb263414147589116cd31a9ba926da529446577]\u001b[0m\u001b[0m\r\n",
      "\u001b[0m\u001b[1m\u001b[32m\r\n",
      "Apply complete! Resources: 58 added, 1 changed, 2 destroyed.\u001b[0m\r\n",
      "\u001b[0m\u001b[1m\u001b[32m\r\n",
      "Outputs:\r\n",
      "\r\n",
      "align_asg_name = serratus-align-20200506160251667100000009\r\n",
      "dl_asg_name = serratus-dl-20200506160251664300000008\r\n",
      "help = Run ./create_tunnels.sh to create SSH tunnels for all services.\r\n",
      "\r\n",
      "merge_asg_name = serratus-merge-20200506160251661900000007\r\n",
      "monitor_dns = ec2-34-197-12-169.compute-1.amazonaws.com\r\n",
      "scheduler_dns = ec2-54-85-181-158.compute-1.amazonaws.com\u001b[0m\r\n"
     ]
    }
   ],
   "source": [
    "# Initialize terraform\n",
    "cd $SERRATUS/terraform/main\n",
    "terraform init\n",
    "\n",
    "# Launch Terraform Cluster\n",
    "# Initialize the serratus cluster with minimal nodes\n",
    "terraform apply -auto-approve"
   ]
  },
  {
   "cell_type": "markdown",
   "metadata": {},
   "source": [
    "## Running Serratus\n"
   ]
  },
  {
   "cell_type": "code",
   "execution_count": 7,
   "metadata": {},
   "outputs": [
    {
     "name": "stdout",
     "output_type": "stream",
     "text": [
      "Tunnels created:\r\n",
      "Warning: Permanently added 'ec2-34-197-12-169.compute-1.amazonaws.com,34.197.12.169' (ECDSA) to the list of known hosts.\r",
      "\r\n",
      "    localhost:3000 -- grafana\r\n",
      "Warning: Permanently added 'ec2-34-197-12-169.compute-1.amazonaws.com,34.197.12.169' (ECDSA) to the list of known hosts.\r",
      "\r\n",
      "    localhost:9090 -- prometheus\r\n",
      "Warning: Permanently added 'ec2-54-85-181-158.compute-1.amazonaws.com,54.85.181.158' (ECDSA) to the list of known hosts.\r",
      "\r\n",
      "    localhost:8000 -- scheduler\r\n"
     ]
    }
   ],
   "source": [
    "cd $SERRATUS/terraform/main\n",
    "\n",
    "# Open SSH tunnels to the monitor\n",
    "./create_tunnels.sh\n",
    "\n",
    "# Download Scheduler config file\n",
    "# curl localhost:8000/config > serratus-config.json"
   ]
  },
  {
   "cell_type": "markdown",
   "metadata": {},
   "source": [
    "Settings: `serratus-config.json`\n",
    "\n",
    "```\n",
    "{\n",
    "\"ALIGN_ARGS\":\"--very-sensitive-local\",\n",
    "\"ALIGN_SCALING_CONSTANT\":0.1,\n",
    "\"ALIGN_SCALING_ENABLE\":true,\n",
    "\"ALIGN_SCALING_MAX\":20,\n",
    "\"CLEAR_INTERVAL\":600,\n",
    "\"DL_ARGS\":\"\",\n",
    "\"DL_SCALING_CONSTANT\":0.1,\n",
    "\"DL_SCALING_ENABLE\":true,\n",
    "\"DL_SCALING_MAX\":10,\n",
    "\"GENOME\":\"cov2r\",\n",
    "\"MERGE_ARGS\":\"\",\n",
    "\"MERGE_SCALING_CONSTANT\":0.9,\n",
    "\"MERGE_SCALING_ENABLE\":true,\n",
    "\"MERGE_SCALING_MAX\":1,\n",
    "\"SCALING_INTERVAL\":600\n",
    "}\n",
    "```\n"
   ]
  },
  {
   "cell_type": "code",
   "execution_count": null,
   "metadata": {},
   "outputs": [],
   "source": [
    "cd $SERRATUS/terraform/main\n",
    "\n",
    "# Scale-out DL cluster\n",
    "for CAP in $(seq 15 5 50)\n",
    "do\n",
    "  sed -i \"s/\\\"DL_SCALING_MAX\\\":[0-9]*,/\\\"DL_SCALING_MAX\\\":$CAP,/g\" serratus-config.json\n",
    "  curl -T serratus-config.json localhost:8000/config\n",
    "  sleep 31s\n",
    "done"
   ]
  },
  {
   "cell_type": "code",
   "execution_count": null,
   "metadata": {},
   "outputs": [],
   "source": [
    "cd $SERRATUS/terraform/main\n",
    "\n",
    "# Scale-out Align cluster\n",
    "for CAP in $(seq 250 5 250)\n",
    "do\n",
    "  sed -i \"s/\\\"ALIGN_SCALING_MAX\\\":[0-9]*,/\\\"ALIGN_SCALING_MAX\\\":$CAP,/g\" serratus-config.json\n",
    "  curl -T serratus-config.json localhost:8000/config\n",
    "  sleep 31s\n",
    "done"
   ]
  },
  {
   "cell_type": "code",
   "execution_count": null,
   "metadata": {},
   "outputs": [],
   "source": [
    "cd $SERRATUS/terraform/main\n",
    "\n",
    "# Scale-out Merge cluster\n",
    "for CAP in $(seq 2 5)\n",
    "do\n",
    "  sed -i \"s/\\\"MERGE_SCALING_MAX\\\":[0-9]*,/\\\"MERGE_SCALING_MAX\\\":$CAP,/g\" serratus-config.json\n",
    "  curl -T serratus-config.json localhost:8000/config\n",
    "  sleep 31s\n",
    "done"
   ]
  },
  {
   "cell_type": "code",
   "execution_count": 24,
   "metadata": {},
   "outputs": [
    {
     "name": "stdout",
     "output_type": "stream",
     "text": [
      "  % Total    % Received % Xferd  Average Speed   Time    Time     Time  Current\r\n",
      "                                 Dload  Upload   Total   Spent    Left  Speed\r\n",
      "\r",
      "  0     0    0     0    0     0      0      0 --:--:-- --:--:-- --:--:--     0{\"ALIGN_ARGS\":\"--very-sensitive-local\",\"ALIGN_SCALING_CONSTANT\":0.1,\"ALIGN_SCALING_ENABLE\":true,\"ALIGN_SCALING_MAX\":200,\"CLEAR_INTERVAL\":300,\"DL_ARGS\":\"\",\"DL_SCALING_CONSTANT\":0.1,\"DL_SCALING_ENABLE\":true,\"DL_SCALING_MAX\":100,\"GENOME\":\"cov2r\",\"MERGE_ARGS\":\"\",\"MERGE_SCALING_CONSTANT\":0.9,\"MERGE_SCALING_ENABLE\":true,\"MERGE_SCALING_MAX\":5,\"SCALING_INTERVAL\":300}\r\n",
      "\r",
      "100   740  100   362  100   378   1321   1379 --:--:-- --:--:-- --:--:--  2700\r\n"
     ]
    }
   ],
   "source": [
    "# Re-upload config file\n",
    "curl -T serratus-config.json localhost:8000/config"
   ]
  },
  {
   "cell_type": "code",
   "execution_count": 9,
   "metadata": {
    "code_folding": []
   },
   "outputs": [
    {
     "name": "stdout",
     "output_type": "stream",
     "text": [
      "{\"inserted_rows\":950,\"total_rows\":950}\r\n"
     ]
    }
   ],
   "source": [
    "# Load SRA Run Info into scheduler (READY)\n",
    "curl -s -X POST -T $RUNINFO localhost:8000/jobs/add_sra_run_info/"
   ]
  },
  {
   "cell_type": "code",
   "execution_count": 25,
   "metadata": {},
   "outputs": [
    {
     "name": "stdout",
     "output_type": "stream",
     "text": [
      "channel 8: open failed: connect failed: Connection refused\r",
      "\r\n",
      "  % Total    % Received % Xferd  Average Speed   Time    Time     Time  Current\r\n",
      "                                 Dload  Upload   Total   Spent    Left  Speed\r\n",
      "\r",
      "  0     0    0     0    0     0      0      0 --:--:-- --:--:-- --:--:--     0\r",
      "  0 35.2M    0     0    0     0      0      0 --:--:-- --:--:-- --:--:--     0\r",
      "  2 35.2M    2 1064k    0     0   898k      0  0:00:40  0:00:01  0:00:39  897k\r",
      "  6 35.2M    6 2408k    0     0  1105k      0  0:00:32  0:00:02  0:00:30 1105k\r",
      "  9 35.2M    9 3400k    0     0  1077k      0  0:00:33  0:00:03  0:00:30 1076k\r",
      " 12 35.2M   12 4616k    0     0  1110k      0  0:00:32  0:00:04  0:00:28 1110k\r",
      " 16 35.2M   16 5896k    0     0  1141k      0  0:00:31  0:00:05  0:00:26 1179k\r",
      " 20 35.2M   20 7272k    0     0  1178k      0  0:00:30  0:00:06  0:00:24 1245k\r",
      " 24 35.2M   24 8712k    0     0  1217k      0  0:00:29  0:00:07  0:00:22 1266k\r",
      " 28 35.2M   28 10.0M    0     0  1255k      0  0:00:28  0:00:08  0:00:20 1367k\r",
      " 32 35.2M   32 11.6M    0     0  1296k      0  0:00:27  0:00:09  0:00:18 1451k\r",
      " 38 35.2M   38 13.4M    0     0  1349k      0  0:00:26  0:00:10  0:00:16 1564k\r",
      " 43 35.2M   43 15.4M    0     0  1418k      0  0:00:25  0:00:11  0:00:14 1713k\r",
      " 49 35.2M   49 17.3M    0     0  1461k      0  0:00:24  0:00:12  0:00:12 1810k\r",
      " 55 35.2M   55 19.4M    0     0  1515k      0  0:00:23  0:00:13  0:00:10 1943k\r",
      " 61 35.2M   61 21.7M    0     0  1573k      0  0:00:22  0:00:14  0:00:08 2080k\r",
      " 68 35.2M   68 24.1M    0     0  1631k      0  0:00:22  0:00:15  0:00:07 2205k\r",
      " 74 35.2M   74 26.3M    0     0  1662k      0  0:00:21  0:00:16  0:00:05 2201k\r",
      " 79 35.2M   79 27.9M    0     0  1663k      0  0:00:21  0:00:17  0:00:04 2152k\r",
      " 83 35.2M   83 29.4M    0     0  1662k      0  0:00:21  0:00:18  0:00:03 2048k\r",
      " 87 35.2M   87 30.8M    0     0  1648k      0  0:00:21  0:00:19  0:00:02 1858k\r",
      " 91 35.2M   91 32.1M    0     0  1632k      0  0:00:22  0:00:20  0:00:02 1635k\r",
      " 94 35.2M   94 33.4M    0     0  1618k      0  0:00:22  0:00:21  0:00:01 1474k\r",
      " 98 35.2M   98 34.8M    0     0  1609k      0  0:00:22  0:00:22 --:--:-- 1421k\r",
      "100 35.2M  100 35.2M    0     0  1608k      0  0:00:22  0:00:22 --:--:-- 1377k\r\n"
     ]
    }
   ],
   "source": [
    "# Dump the Scheduler SQLITE table to a local file\n",
    "curl localhost:8000/db > \\\n",
    "  $WORK/zoonotic_batch1.sqlite"
   ]
  },
  {
   "cell_type": "code",
   "execution_count": 27,
   "metadata": {},
   "outputs": [
    {
     "name": "stdout",
     "output_type": "stream",
     "text": []
    }
   ],
   "source": [
    "cd $WORK\n",
    "\n",
    "# Dump the unfinished SRA entries into a file list\n",
    "sqlite3 zoonotic_batch1.sqlite 'SELECT sra_run_info FROM acc WHERE state = \"split_err\"' > batch1.runerror\n",
    "sqlite3 zoonotic_batch1.sqlite 'SELECT sra_run_info FROM acc WHERE state = \"splitting\"' >> batch1.runerror"
   ]
  },
  {
   "cell_type": "markdown",
   "metadata": {},
   "source": [
    "### Run Notes\n",
    "\n",
    "Error 3: \n",
    "```\n",
    "355\tERR3294399\tsplit_err\t2020-05-06 16:36:39.978310\t2020-05-06 16:41:41.548440\ti-0c6b5786280b01b8c-1\n",
    "```"
   ]
  },
  {
   "cell_type": "markdown",
   "metadata": {},
   "source": [
    "### Batch 2 \n",
    "While cluster is operational, load in next 4000 samples. Samples 1001-5000\n"
   ]
  },
  {
   "cell_type": "code",
   "execution_count": 18,
   "metadata": {},
   "outputs": [
    {
     "name": "stdout",
     "output_type": "stream",
     "text": [
      "{\"inserted_rows\":4000,\"total_rows\":4950}\r\n"
     ]
    }
   ],
   "source": [
    "# SRA RunInfo Table for run -- PILOT\n",
    "cd $WORK\n",
    "RUNINFO=\"$WORK/zoonotic_SraRunInfo.csv\"\n",
    "\n",
    "head -n 5000 $RUNINFO > batch2_zoonotic.csv\n",
    "sed -i '2,1000d' batch2_zoonotic.csv\n",
    "RUNINFO=\"$WORK/batch2_zoonotic.csv\"\n",
    "\n",
    "curl -s -X POST -T $RUNINFO localhost:8000/jobs/add_sra_run_info/"
   ]
  },
  {
   "cell_type": "markdown",
   "metadata": {},
   "source": [
    "### CoV Hit?\n",
    "```\n",
    "SRR10951665.summary:acc=pan_genome;hits=866;len=30000;depth=2.92;pctid=95.4;tax=?;cov=1.0000;coverage=...............................O;desc=Pan-genome;\n",
    "SRR10951664.summary:acc=pan_genome;hits=1142;len=30000;depth=3.84;pctid=97.8;tax=?;cov=1.0000;coverage=OoOOOOooo.OoOoooooooooooOooooOOO;desc=Pan-genome;\n",
    "SRR10951663.summary:acc=pan_genome;hits=746;len=30000;depth=2.51;pctid=95.1;tax=?;cov=1.0000;coverage=o..oo..............o........oooO;desc=Pan-genome;\n",
    "SRR10951662.summary:acc=pan_genome;hits=1182;len=30000;depth=3.98;pctid=98.1;tax=?;cov=1.0000;coverage=OooOOOOooOOoOOoOOooOoooOooOoOOOO;desc=Pan-genome;\n",
    "SRR10951661.summary:acc=pan_genome;hits=677;len=30000;depth=2.28;pctid=94.8;tax=?;cov=1.0000;coverage=............................o..O;desc=Pan-genome;\n",
    "SRR10951660.summary:acc=pan_genome;hits=1047;len=30000;depth=3.52;pctid=97.9;tax=?;cov=1.0000;coverage=OOoOOO.oooOOooooooooooOOOOOoOOOO;desc=Pan-genome;\n",
    "SRR10951659.summary:acc=pan_genome;hits=1058;len=30000;depth=3.56;pctid=94.6;tax=?;cov=1.0000;coverage=ooooooooo.oooooOoo.ooooo.oooOoOO;desc=Pan-genome;\n",
    "SRR10951658.summary:acc=pan_genome;hits=1982;len=30000;depth=6.67;pctid=98.1;tax=?;cov=1.0000;coverage=OOOOOOOOOoOoOOOOOooOOoOOooOOOOOo;desc=Pan-genome;\n",
    "SRR10951657.summary:acc=pan_genome;hits=1139;len=30000;depth=3.83;pctid=94.0;tax=?;cov=1.0000;coverage=Ooooooooooo.ooOooo.ooooo.oooOoOO;desc=Pan-genome;\n",
    "SRR10951656.summary:acc=pan_genome;hits=2361;len=30000;depth=7.95;pctid=98.2;tax=?;cov=1.0000;coverage=OOOOOOooOoOoOoooOooOooOOooOOOOOo;desc=Pan-genome;\n",
    "SRR10951655.summary:acc=pan_genome;hits=1011;len=30000;depth=3.4;pctid=94.7;tax=?;cov=1.0000;coverage=oo.o.o......o..o...oo.oo..o.oooO;desc=Pan-genome;\n",
    "SRR10951654.summary:acc=pan_genome;hits=1830;len=30000;depth=6.16;pctid=98.0;tax=?;cov=1.0000;coverage=OoOOOOooooOoooooOooOOoOOooOoOOOo;desc=Pan-genome;\n",
    "```\n"
   ]
  }
 ],
 "metadata": {
  "kernelspec": {
   "display_name": "Bash",
   "language": "bash",
   "name": "bash"
  },
  "language_info": {
   "codemirror_mode": "shell",
   "file_extension": ".sh",
   "mimetype": "text/x-sh",
   "name": "bash"
  }
 },
 "nbformat": 4,
 "nbformat_minor": 1
}
