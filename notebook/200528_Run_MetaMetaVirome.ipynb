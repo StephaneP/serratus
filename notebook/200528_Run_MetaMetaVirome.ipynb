{
 "cells": [
  {
   "cell_type": "markdown",
   "metadata": {},
   "source": [
    "# Run: Meta-Meta-Virome"
   ]
  },
  {
   "cell_type": "markdown",
   "metadata": {},
   "source": [
    "## Introduction"
   ]
  },
  {
   "cell_type": "markdown",
   "metadata": {},
   "source": [
    "```\n",
    "Lead     : ababaian\n",
    "Issue    : \n",
    "Version  : v0.3.1\n",
    "start    : 2020 05 28\n",
    "complete : YYYY MM DD\n",
    "files    : ~/serratus/notebook/200528_ab/\n",
    "s3_files : s3://serratus-public/notebook/200528_ab/\n",
    "output   : s3://serratus-public/out/200528_viro/\n",
    "```\n",
    "\n",
    "[Re-analysis of the Meta-Meta-Virome Set](https://msphere.asm.org/content/5/3/e00160-20) which identified CoV-2 homolog in pangolins.\n",
    "\n",
    "### Objectives\n",
    "- Search of the meta-meta-virome data-sets (~8.5K accesions)\n"
   ]
  },
  {
   "cell_type": "markdown",
   "metadata": {},
   "source": [
    "## SRA Accession Initialization\n",
    "\n"
   ]
  },
  {
   "cell_type": "markdown",
   "metadata": {},
   "source": [
    "### Meta-Meta-Virome\n",
    "\n",
    "SRA Accessed: 2020/05/28\n",
    "Search Term: \n",
    "```\n",
    "(virome) AND cluster_public[prop] AND \"platform illumina\"[Properties]\n",
    "```\n",
    "\n",
    "Results: `8467` Accessions saved in `virome_SraRunInfo.csv`\n"
   ]
  },
  {
   "cell_type": "code",
   "execution_count": 1,
   "metadata": {},
   "outputs": [
    {
     "name": "stdout",
     "output_type": "stream",
     "text": [
      "Fri May 29 15:40:00 PDT 2020\r\n"
     ]
    }
   ],
   "source": [
    "date"
   ]
  },
  {
   "cell_type": "code",
   "execution_count": 6,
   "metadata": {},
   "outputs": [
    {
     "name": "stdout",
     "output_type": "stream",
     "text": [
      "a702fa58533f83f0379df2acf5f510e7  viro_SraRunInfo.csv\r\n",
      "Completed 54 Bytes/4.0 MiB with 2 file(s) remaining\r",
      "upload: ./viro_SraRunInfo.md5sum to s3://serratus-public/out/200528_viro/viro_SraRunInfo.md5sum\r\n",
      "Completed 54 Bytes/4.0 MiB with 1 file(s) remaining\r",
      "Completed 256.1 KiB/4.0 MiB with 1 file(s) remaining\r",
      "Completed 512.1 KiB/4.0 MiB with 1 file(s) remaining\r",
      "Completed 768.1 KiB/4.0 MiB with 1 file(s) remaining\r",
      "Completed 1.0 MiB/4.0 MiB with 1 file(s) remaining  \r",
      "Completed 1.3 MiB/4.0 MiB with 1 file(s) remaining  \r",
      "Completed 1.5 MiB/4.0 MiB with 1 file(s) remaining  \r",
      "Completed 1.8 MiB/4.0 MiB with 1 file(s) remaining  \r",
      "Completed 2.0 MiB/4.0 MiB with 1 file(s) remaining  \r",
      "Completed 2.3 MiB/4.0 MiB with 1 file(s) remaining  \r",
      "Completed 2.5 MiB/4.0 MiB with 1 file(s) remaining  \r",
      "Completed 2.8 MiB/4.0 MiB with 1 file(s) remaining  \r",
      "Completed 3.0 MiB/4.0 MiB with 1 file(s) remaining  \r",
      "Completed 3.3 MiB/4.0 MiB with 1 file(s) remaining  \r",
      "Completed 3.5 MiB/4.0 MiB with 1 file(s) remaining  \r",
      "Completed 3.8 MiB/4.0 MiB with 1 file(s) remaining  \r",
      "Completed 4.0 MiB/4.0 MiB with 1 file(s) remaining  \r",
      "upload: ./viro_SraRunInfo.csv to s3://serratus-public/out/200528_viro/viro_SraRunInfo.csv\r\n"
     ]
    }
   ],
   "source": [
    "cd /home/artem/serratus/notebook/200528_ab/\n",
    "\n",
    "md5sum viro_SraRunInfo.csv\n",
    "md5sum viro_SraRunInfo.csv > viro_SraRunInfo.md5sum\n",
    "\n",
    "aws s3 sync ./ s3://serratus-public/out/200528_viro/"
   ]
  },
  {
   "cell_type": "markdown",
   "metadata": {},
   "source": [
    "### Initialize local workspace"
   ]
  },
  {
   "cell_type": "code",
   "execution_count": null,
   "metadata": {},
   "outputs": [],
   "source": [
    "# Serratus commit version\n",
    "SERRATUS=\"/home/artem/serratus\"\n",
    "cd $SERRATUS\n",
    "git rev-parse HEAD # commit version"
   ]
  },
  {
   "cell_type": "code",
   "execution_count": null,
   "metadata": {},
   "outputs": [],
   "source": [
    "# Create local run directory\n",
    "WORK=\"$SERRATUS/notebook/200528_ab\"\n",
    "mkdir -p $WORK; cd $WORK"
   ]
  },
  {
   "cell_type": "code",
   "execution_count": null,
   "metadata": {},
   "outputs": [],
   "source": [
    "# SRA RunInfo Table for run -- PILOT\n",
    "RUNINFO=\"$WORK/viro_SraRunInfo.csv\"\n"
   ]
  }
 ],
 "metadata": {
  "kernelspec": {
   "display_name": "Bash",
   "language": "bash",
   "name": "bash"
  },
  "language_info": {
   "codemirror_mode": "shell",
   "file_extension": ".sh",
   "mimetype": "text/x-sh",
   "name": "bash"
  }
 },
 "nbformat": 4,
 "nbformat_minor": 1
}
