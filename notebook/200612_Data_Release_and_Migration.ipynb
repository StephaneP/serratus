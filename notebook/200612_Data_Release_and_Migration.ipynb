{
 "cells": [
  {
   "cell_type": "markdown",
   "metadata": {
    "heading_collapsed": true
   },
   "source": [
    "# Serratus Data Migration -- v200612\n",
    "```\n",
    "Lead     : ababaian\n",
    "Issue    : #83\n",
    "start    : 2020 06 11\n",
    "complete : 2020 06 12\n",
    "files    : ~/serratus/notebook/200612_ab/\n",
    "s3 files : s3://serratus-public/lovelywater/\n",
    "s3 files : s3://lovelywater/\n",
    "```"
   ]
  },
  {
   "cell_type": "markdown",
   "metadata": {},
   "source": [
    "# s3://lovelywater/\n",
    "\n",
    "As per [discussion in 83](https://github.com/ababaian/serratus/issues/83), we have s3://serratus-public/ which is our \"work\" bucket. To actually host and serve the data we can use another bucket which also will house the website data. `s3://lovelywater/`\n"
   ]
  },
  {
   "cell_type": "code",
   "execution_count": null,
   "metadata": {},
   "outputs": [],
   "source": [
    "WORKDIR='serratus/notebook/200611_ab'\n",
    "mkdir -p $WORKDIR; cd $WORKDIR"
   ]
  },
  {
   "cell_type": "markdown",
   "metadata": {},
   "source": [
    "\n",
    "## `s3://lovelywater/README.md`\n",
    "\n",
    "See: [Data Release Wiki](https://github.com/ababaian/serratus/wiki/Access-Data-Release)"
   ]
  },
  {
   "cell_type": "markdown",
   "metadata": {},
   "source": [
    "# Migrate .SraRunInfo files\n"
   ]
  },
  {
   "cell_type": "markdown",
   "metadata": {},
   "source": [
    "## `s3://lovelywater/sra/README.md`\n",
    "\n",
    "See: [SRA Queries Wiki](https://github.com/ababaian/serratus/wiki/SRA-queries)"
   ]
  },
  {
   "cell_type": "code",
   "execution_count": null,
   "metadata": {},
   "outputs": [],
   "source": [
    "# Performed on EC2\n",
    "\n",
    "# Human\n",
    "aws s3 cp \\\n",
    "  s3://serratus-public/out/200530_hu1/hu0_SraRunInfo.csv \\\n",
    "  ./hu_SraRunInfo.csv\n",
    "  \n",
    "aws s3 cp \\\n",
    "  s3://serratus-public/out/200530_hu1/hu1_meta_SraRunInfo.csv \\\n",
    "  ./hu_meta_SraRunInfo.csv\n",
    "\n",
    "# Mouse\n",
    "aws s3 cp \\\n",
    "  s3://serratus-public/out/200606_hu2/mu0_SraRunInfo.csv \\\n",
    "  ./mu_SraRunInfo.csv\n",
    "\n",
    "# Mammalian\n",
    "aws s3 cp \\\n",
    "  s3://serratus-public/out/200606_hu2/mamm_SraRunInfo.csv \\\n",
    "  ./  \n",
    "\n",
    "# Vertebrete\n",
    "aws s3 cp \\\n",
    "  s3://serratus-public/out/200525_vert/vert_sraRunInfo.csv \\\n",
    "  ./vert_SraRunInfo.csv\n",
    "  \n",
    "# Virome\n",
    "aws s3 cp \\\n",
    "  s3://serratus-public/out/200528_viro/viro_SraRunInfo.csv \\\n",
    "  ./viro_SraRunInfo.csv\n"
   ]
  },
  {
   "cell_type": "code",
   "execution_count": null,
   "metadata": {},
   "outputs": [],
   "source": [
    "wc -l *\n",
    "md5sum *\n",
    "\n",
    "gzip *\n",
    "\n",
    "md5sum * > sra.md5sum\n",
    "\n",
    "aws s3 sync ./ s3://serratus-public/lovelywater/sra/"
   ]
  },
  {
   "cell_type": "markdown",
   "metadata": {},
   "source": [
    "```\n",
    "   672657 hu_SraRunInfo.csv\n",
    "    36104 hu_meta_SraRunInfo.csv\n",
    "   100799 mamm_SraRunInfo.csv\n",
    "   890747 mu_SraRunInfo.csv\n",
    "    94909 vert_SraRunInfo.csv\n",
    "     8747 viro_SraRunInfo.csv\n",
    "  1803963 total\n",
    "\n",
    "2d2998b585f6b5035b051b0960692c96  hu_SraRunInfo.csv\n",
    "8224e6cea6afe2d4da73c23d5804ddd4  hu_meta_SraRunInfo.csv\n",
    "499fa3d5a1fa8cf86efce1925c7e27fd  mamm_SraRunInfo.csv\n",
    "a9e14f6043f70e485ebebeb81ace8da7  mu_SraRunInfo.csv\n",
    "e39b50b78465f7e12676ef18d179de5f  vert_SraRunInfo.csv\n",
    "a702fa58533f83f0379df2acf5f510e7  viro_SraRunInfo.csv\n",
    "```"
   ]
  },
  {
   "cell_type": "markdown",
   "metadata": {},
   "source": [
    "# Migrate .bam files\n"
   ]
  },
  {
   "cell_type": "code",
   "execution_count": null,
   "metadata": {},
   "outputs": [],
   "source": [
    "# Virome\n",
    "aws s3 sync --quiet \\\n",
    "  s3://serratus-public/out/200528_viro/bam/ \\\n",
    "  s3://serratus-public/lovelywater/bam/\n",
    "\n",
    "# Vertebrates\n",
    "aws s3 sync --quiet \\\n",
    "  s3://serratus-public/out/200525_vert/bam/ \\\n",
    "  s3://serratus-public/lovelywater/bam/\n",
    "  \n",
    "# Mammals / Human-Meta / Human 1\n",
    "aws s3 sync --quiet \\\n",
    "  s3://serratus-public/out/200530_hu1/bam/ \\\n",
    "  s3://serratus-public/lovelywater/bam/\n",
    "    \n",
    "# Human 2\n",
    "aws s3 sync --quiet \\\n",
    "  s3://serratus-public/out/200606_hu2/bam/ \\\n",
    "  s3://serratus-public/lovelywater/bam/\n",
    "\n",
    "# Human 3 / Mouse\n",
    "aws s3 sync --quiet \\\n",
    "  s3://serratus-public/out/200607_hu3/bam/ \\\n",
    "  s3://serratus-public/lovelywater/bam/\n",
    "  \n",
    "# Human 4\n",
    "aws s3 sync --quiet \\\n",
    "  s3://serratus-public/out/200609_hu4/bam/ \\\n",
    "  s3://serratus-public/lovelywater/bam/"
   ]
  },
  {
   "cell_type": "markdown",
   "metadata": {},
   "source": [
    "# Migrate summary\n"
   ]
  },
  {
   "cell_type": "code",
   "execution_count": null,
   "metadata": {},
   "outputs": [],
   "source": [
    "# Virome\n",
    "aws s3 sync --quiet \\\n",
    "  s3://serratus-public/out/200528_viro/summary/ \\\n",
    "  s3://serratus-public/lovelywater/summary/\n",
    "\n",
    "# Vertebrates\n",
    "aws s3 sync --quiet \\\n",
    "  s3://serratus-public/out/200525_vert/summary/ \\\n",
    "  s3://serratus-public/lovelywater/summary/\n",
    "  \n",
    "# Mammals / Human-Meta / Human 1\n",
    "aws s3 sync --quiet \\\n",
    "  s3://serratus-public/out/200530_hu1/summary/ \\\n",
    "  s3://serratus-public/lovelywater/summary/\n",
    "    \n",
    "# Human 2\n",
    "aws s3 sync --quiet \\\n",
    "  s3://serratus-public/out/200606_hu2/summary/ \\\n",
    "  s3://serratus-public/lovelywater/summary/\n",
    "\n",
    "# Human 3 / Mouse\n",
    "aws s3 sync --quiet \\\n",
    "  s3://serratus-public/out/200607_hu3/summary/ \\\n",
    "  s3://serratus-public/lovelywater/summary/\n",
    "  \n",
    "# Human 4\n",
    "aws s3 sync --quiet \\\n",
    "  s3://serratus-public/out/200609_hu4/summary/ \\\n",
    "  s3://serratus-public/lovelywater/summary/"
   ]
  },
  {
   "cell_type": "markdown",
   "metadata": {},
   "source": [
    "# Migrate seq\n"
   ]
  },
  {
   "cell_type": "code",
   "execution_count": null,
   "metadata": {},
   "outputs": [],
   "source": [
    "# on EC2\n",
    "aws s3 sync \\\n",
    "  s3://serratus-public/seq/cov3ma/ \\\n",
    "  s3://serratus-public/lovelywater/seq/cov3ma/"
   ]
  },
  {
   "cell_type": "markdown",
   "metadata": {},
   "source": [
    "# README + index.tsv"
   ]
  },
  {
   "cell_type": "code",
   "execution_count": null,
   "metadata": {},
   "outputs": [],
   "source": [
    "# Index\n",
    "# Download a list of all summary files as index\n",
    "aws s3 ls s3://serratus-public/lovelywater/summary/ > index.tsv\n",
    "aws s3 cp index.tsv s3://serratus-public/lovelywater/index.tsv"
   ]
  },
  {
   "cell_type": "code",
   "execution_count": null,
   "metadata": {},
   "outputs": [],
   "source": [
    "# README\n",
    "# README.md and sra/README.md copied from wiki\n",
    "sudo yum install -y git\n",
    "git clone https://github.com/ababaian/serratus.wiki.git\n",
    "\n",
    "# Copy from wiki to local\n",
    "aws s3 cp --acl \"public-read\" \\\n",
    "  serratus.wiki/Access-Data-Release.md \\\n",
    "  s3://serratus-public/lovelywater/README.md\n",
    "  \n",
    "aws s3 cp --acl \"public-read\" \\\n",
    "  serratus.wiki/SRA-queries.md \\\n",
    "  s3://serratus-public/lovelywater/sra/README.md\n",
    "  "
   ]
  },
  {
   "cell_type": "markdown",
   "metadata": {},
   "source": [
    "# Data Migration\n",
    "Destination: `s3://lovelywater/`\n"
   ]
  },
  {
   "cell_type": "code",
   "execution_count": null,
   "metadata": {},
   "outputs": [],
   "source": [
    "# Log-in as lovelywater IAM\n",
    "aws configure set default.s3.max_concurrent_requests 100\n",
    "aws s3 sync --quiet --acl \"public-read\" \\\n",
    "  s3://serratus-public/lovelywater/ \\\n",
    "  s3://lovelywater/"
   ]
  }
 ],
 "metadata": {
  "kernelspec": {
   "display_name": "Bash",
   "language": "bash",
   "name": "bash"
  },
  "language_info": {
   "codemirror_mode": "shell",
   "file_extension": ".sh",
   "mimetype": "text/x-sh",
   "name": "bash"
  }
 },
 "nbformat": 4,
 "nbformat_minor": 1
}
