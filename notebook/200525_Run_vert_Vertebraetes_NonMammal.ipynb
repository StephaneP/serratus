{
 "cells": [
  {
   "cell_type": "markdown",
   "metadata": {},
   "source": [
    "# RUN vert: Non-Mammalian Vertebrates\n",
    "\n",
    ":cluck: :cluck:"
   ]
  },
  {
   "cell_type": "markdown",
   "metadata": {},
   "source": [
    "```\n",
    "Lead     : ababaian\n",
    "Issue    : \n",
    "Version  : 0.3.1\n",
    "reference: cov3m\n",
    "start    : 2020 05 25\n",
    "complete : 2020 05 --\n",
    "files    : ~/serratus/notebook/200525_ab/\n",
    "s3_files : s3://serratus-public/notebook/200525_ab/\n",
    "output   : s3://serratus-public/out/200525_vert/\n",
    "```\n",
    "\n",
    "### Objectives\n",
    "- Download `sraRunInfo` for all *vertebrate* RNA-seq, meta-transcriptomics and meta-genomics\n",
    "- Run `Serratus` to discover new coronaviruses in these sequencing libraries\n"
   ]
  },
  {
   "cell_type": "code",
   "execution_count": 1,
   "metadata": {},
   "outputs": [
    {
     "name": "stdout",
     "output_type": "stream",
     "text": [
      "Tue May 26 15:31:18 PDT 2020\r\n"
     ]
    }
   ],
   "source": [
    "date"
   ]
  },
  {
   "cell_type": "markdown",
   "metadata": {},
   "source": [
    "## Download sraRunInfo"
   ]
  },
  {
   "cell_type": "markdown",
   "metadata": {},
   "source": [
    "SRA Accessed: 2020/05/25\n",
    "Search Term: \n",
    "```\n",
    "(\"Vertebrata\"[Organism] NOT \"Mammalia\"[Organism] NOT \"Homo sapiens\"[Organism] NOT \"Mus musculus\"[orgn]) AND (\"type_rnaseq\"[Filter] OR \"metagenomic\"[Filter] OR \"metatranscriptomic\"[Filter]) AND cluster_public[prop] AND \"platform illumina\"[Properties]\n",
    "```\n",
    "\n",
    "Results: `86934` Accessions\n"
   ]
  },
  {
   "cell_type": "markdown",
   "metadata": {},
   "source": [
    "## Initialize local workspace"
   ]
  },
  {
   "cell_type": "code",
   "execution_count": 2,
   "metadata": {},
   "outputs": [
    {
     "name": "stdout",
     "output_type": "stream",
     "text": [
      "1450e5f18a2605ff36e98c954874169ca130ad11\r\n"
     ]
    }
   ],
   "source": [
    "# Serratus commit version\n",
    "SERRATUS=\"/home/artem/serratus\"\n",
    "cd $SERRATUS\n",
    "\n",
    "## Serratus was updated, genome remains the same\n",
    "git rev-parse HEAD # commit version\n",
    "\n",
    "# Create local run directory\n",
    "WORK=\"$SERRATUS/notebook/200525_ab\"\n",
    "mkdir -p $WORK; cd $WORK\n",
    "\n",
    "# SRA RunInfo Table base for run\n",
    "RUNINFO=\"$WORK/vert_sraRunInfo.csv\""
   ]
  },
  {
   "cell_type": "code",
   "execution_count": 3,
   "metadata": {},
   "outputs": [
    {
     "name": "stdout",
     "output_type": "stream",
     "text": [
      "   20001 vert_1.csv\r\n",
      "   20001 vert_2.csv\r\n",
      "   20001 vert_3.csv\r\n",
      "   20001 vert_4.csv\r\n",
      "   14909 vert_5.csv\r\n",
      "   94909 vert_sraRunInfo.csv\r\n",
      "  189822 total\r\n",
      "e49c0208b7b07074e1fd01f42cdba81b  vert_1.csv\r\n",
      "43044a323448a47e6edab675a1c44f8f  vert_2.csv\r\n",
      "78b20a25210e896924474e8433565766  vert_3.csv\r\n",
      "627d7616fd2a224d65775cf6b8fb6d53  vert_4.csv\r\n",
      "c06a444644fd26173dd86be2b2e88981  vert_5.csv\r\n",
      "e39b50b78465f7e12676ef18d179de5f  vert_sraRunInfo.csv\r\n"
     ]
    }
   ],
   "source": [
    "# Randomize input list (avoid large SRA co-occuring)\n",
    "cd $WORK\n",
    "\n",
    "head -n1 $RUNINFO > vert.header\n",
    "tail -n +2 $RUNINFO | shuf - > vert.rand\n",
    "\n",
    "split -l 20000 vert.rand \n",
    "\n",
    "cat vert.header xaa > vert_1.csv\n",
    "cat vert.header xab > vert_2.csv\n",
    "cat vert.header xac > vert_3.csv\n",
    "cat vert.header xad > vert_4.csv\n",
    "cat vert.header xae > vert_5.csv\n",
    "\n",
    "rm xa*\n",
    "rm vert.header vert.rand\n",
    "\n",
    "wc -l *\n",
    "md5sum vert*\n",
    "\n",
    "# Why are there 94908 entries in the download for ~86K accessions\n",
    "# visible on the web browser?"
   ]
  },
  {
   "cell_type": "code",
   "execution_count": 4,
   "metadata": {},
   "outputs": [
    {
     "name": "stdout",
     "output_type": "stream",
     "text": [
      "Completed 256.0 KiB/42.8 MiB with 1 file(s) remaining\r",
      "Completed 512.0 KiB/42.8 MiB with 1 file(s) remaining\r",
      "Completed 768.0 KiB/42.8 MiB with 1 file(s) remaining\r",
      "Completed 1.0 MiB/42.8 MiB with 1 file(s) remaining  \r",
      "Completed 1.2 MiB/42.8 MiB with 1 file(s) remaining  \r",
      "Completed 1.5 MiB/42.8 MiB with 1 file(s) remaining  \r",
      "Completed 1.8 MiB/42.8 MiB with 1 file(s) remaining  \r",
      "Completed 2.0 MiB/42.8 MiB with 1 file(s) remaining  \r",
      "Completed 2.2 MiB/42.8 MiB with 1 file(s) remaining  \r",
      "Completed 2.5 MiB/42.8 MiB with 1 file(s) remaining  \r",
      "Completed 2.8 MiB/42.8 MiB with 1 file(s) remaining  \r",
      "Completed 3.0 MiB/42.8 MiB with 1 file(s) remaining  \r",
      "Completed 3.2 MiB/42.8 MiB with 1 file(s) remaining  \r",
      "Completed 3.5 MiB/42.8 MiB with 1 file(s) remaining  \r",
      "Completed 3.6 MiB/42.8 MiB with 1 file(s) remaining  \r",
      "Completed 3.8 MiB/42.8 MiB with 1 file(s) remaining  \r",
      "Completed 4.1 MiB/42.8 MiB with 1 file(s) remaining  \r",
      "Completed 4.3 MiB/42.8 MiB with 1 file(s) remaining  \r",
      "Completed 4.6 MiB/42.8 MiB with 1 file(s) remaining  \r",
      "Completed 4.8 MiB/42.8 MiB with 1 file(s) remaining  \r",
      "Completed 5.1 MiB/42.8 MiB with 1 file(s) remaining  \r",
      "Completed 5.3 MiB/42.8 MiB with 1 file(s) remaining  \r",
      "Completed 5.6 MiB/42.8 MiB with 1 file(s) remaining  \r",
      "Completed 5.8 MiB/42.8 MiB with 1 file(s) remaining  \r",
      "Completed 6.1 MiB/42.8 MiB with 1 file(s) remaining  \r",
      "Completed 6.3 MiB/42.8 MiB with 1 file(s) remaining  \r",
      "Completed 6.6 MiB/42.8 MiB with 1 file(s) remaining  \r",
      "Completed 6.8 MiB/42.8 MiB with 1 file(s) remaining  \r",
      "Completed 7.1 MiB/42.8 MiB with 1 file(s) remaining  \r",
      "Completed 7.3 MiB/42.8 MiB with 1 file(s) remaining  \r",
      "Completed 7.6 MiB/42.8 MiB with 1 file(s) remaining  \r",
      "Completed 7.8 MiB/42.8 MiB with 1 file(s) remaining  \r",
      "Completed 8.1 MiB/42.8 MiB with 1 file(s) remaining  \r",
      "Completed 8.3 MiB/42.8 MiB with 1 file(s) remaining  \r",
      "Completed 8.6 MiB/42.8 MiB with 1 file(s) remaining  \r",
      "Completed 8.8 MiB/42.8 MiB with 1 file(s) remaining  \r",
      "Completed 9.1 MiB/42.8 MiB with 1 file(s) remaining  \r",
      "Completed 9.3 MiB/42.8 MiB with 1 file(s) remaining  \r",
      "Completed 9.6 MiB/42.8 MiB with 1 file(s) remaining  \r",
      "Completed 9.8 MiB/42.8 MiB with 1 file(s) remaining  \r",
      "Completed 10.1 MiB/42.8 MiB with 1 file(s) remaining \r",
      "Completed 10.3 MiB/42.8 MiB with 1 file(s) remaining \r",
      "Completed 10.6 MiB/42.8 MiB with 1 file(s) remaining \r",
      "Completed 10.8 MiB/42.8 MiB with 1 file(s) remaining \r",
      "Completed 11.1 MiB/42.8 MiB with 1 file(s) remaining \r",
      "Completed 11.3 MiB/42.8 MiB with 1 file(s) remaining \r",
      "Completed 11.6 MiB/42.8 MiB with 1 file(s) remaining \r",
      "Completed 11.8 MiB/42.8 MiB with 1 file(s) remaining \r",
      "Completed 12.1 MiB/42.8 MiB with 1 file(s) remaining \r",
      "Completed 12.3 MiB/42.8 MiB with 1 file(s) remaining \r",
      "Completed 12.6 MiB/42.8 MiB with 1 file(s) remaining \r",
      "Completed 12.8 MiB/42.8 MiB with 1 file(s) remaining \r",
      "Completed 13.1 MiB/42.8 MiB with 1 file(s) remaining \r",
      "Completed 13.3 MiB/42.8 MiB with 1 file(s) remaining \r",
      "Completed 13.6 MiB/42.8 MiB with 1 file(s) remaining \r",
      "Completed 13.8 MiB/42.8 MiB with 1 file(s) remaining \r",
      "Completed 14.1 MiB/42.8 MiB with 1 file(s) remaining \r",
      "Completed 14.3 MiB/42.8 MiB with 1 file(s) remaining \r",
      "Completed 14.6 MiB/42.8 MiB with 1 file(s) remaining \r",
      "Completed 14.8 MiB/42.8 MiB with 1 file(s) remaining \r",
      "Completed 15.1 MiB/42.8 MiB with 1 file(s) remaining \r",
      "Completed 15.3 MiB/42.8 MiB with 1 file(s) remaining \r",
      "Completed 15.6 MiB/42.8 MiB with 1 file(s) remaining \r",
      "Completed 15.8 MiB/42.8 MiB with 1 file(s) remaining \r",
      "Completed 16.1 MiB/42.8 MiB with 1 file(s) remaining \r",
      "Completed 16.3 MiB/42.8 MiB with 1 file(s) remaining \r",
      "Completed 16.6 MiB/42.8 MiB with 1 file(s) remaining \r",
      "Completed 16.8 MiB/42.8 MiB with 1 file(s) remaining \r",
      "Completed 17.1 MiB/42.8 MiB with 1 file(s) remaining \r",
      "Completed 17.3 MiB/42.8 MiB with 1 file(s) remaining \r",
      "Completed 17.6 MiB/42.8 MiB with 1 file(s) remaining \r",
      "Completed 17.8 MiB/42.8 MiB with 1 file(s) remaining \r",
      "Completed 18.1 MiB/42.8 MiB with 1 file(s) remaining \r",
      "Completed 18.3 MiB/42.8 MiB with 1 file(s) remaining \r",
      "Completed 18.6 MiB/42.8 MiB with 1 file(s) remaining \r",
      "Completed 18.8 MiB/42.8 MiB with 1 file(s) remaining \r",
      "Completed 19.1 MiB/42.8 MiB with 1 file(s) remaining \r",
      "Completed 19.3 MiB/42.8 MiB with 1 file(s) remaining \r",
      "Completed 19.6 MiB/42.8 MiB with 1 file(s) remaining \r",
      "Completed 19.8 MiB/42.8 MiB with 1 file(s) remaining \r",
      "Completed 20.1 MiB/42.8 MiB with 1 file(s) remaining \r",
      "Completed 20.3 MiB/42.8 MiB with 1 file(s) remaining \r",
      "Completed 20.6 MiB/42.8 MiB with 1 file(s) remaining \r",
      "Completed 20.8 MiB/42.8 MiB with 1 file(s) remaining \r",
      "Completed 21.1 MiB/42.8 MiB with 1 file(s) remaining \r",
      "Completed 21.3 MiB/42.8 MiB with 1 file(s) remaining \r",
      "Completed 21.6 MiB/42.8 MiB with 1 file(s) remaining \r",
      "Completed 21.8 MiB/42.8 MiB with 1 file(s) remaining \r",
      "Completed 22.1 MiB/42.8 MiB with 1 file(s) remaining \r",
      "Completed 22.3 MiB/42.8 MiB with 1 file(s) remaining \r",
      "Completed 22.6 MiB/42.8 MiB with 1 file(s) remaining \r",
      "Completed 22.8 MiB/42.8 MiB with 1 file(s) remaining \r",
      "Completed 23.1 MiB/42.8 MiB with 1 file(s) remaining \r",
      "Completed 23.3 MiB/42.8 MiB with 1 file(s) remaining \r",
      "Completed 23.6 MiB/42.8 MiB with 1 file(s) remaining \r",
      "Completed 23.8 MiB/42.8 MiB with 1 file(s) remaining \r",
      "Completed 24.1 MiB/42.8 MiB with 1 file(s) remaining \r",
      "Completed 24.3 MiB/42.8 MiB with 1 file(s) remaining \r",
      "Completed 24.6 MiB/42.8 MiB with 1 file(s) remaining \r",
      "Completed 24.8 MiB/42.8 MiB with 1 file(s) remaining \r",
      "Completed 25.1 MiB/42.8 MiB with 1 file(s) remaining \r",
      "Completed 25.3 MiB/42.8 MiB with 1 file(s) remaining \r",
      "Completed 25.6 MiB/42.8 MiB with 1 file(s) remaining \r",
      "Completed 25.8 MiB/42.8 MiB with 1 file(s) remaining \r",
      "Completed 26.1 MiB/42.8 MiB with 1 file(s) remaining \r",
      "Completed 26.3 MiB/42.8 MiB with 1 file(s) remaining \r",
      "Completed 26.6 MiB/42.8 MiB with 1 file(s) remaining \r",
      "Completed 26.8 MiB/42.8 MiB with 1 file(s) remaining \r",
      "Completed 27.1 MiB/42.8 MiB with 1 file(s) remaining \r",
      "Completed 27.3 MiB/42.8 MiB with 1 file(s) remaining \r",
      "Completed 27.6 MiB/42.8 MiB with 1 file(s) remaining \r",
      "Completed 27.8 MiB/42.8 MiB with 1 file(s) remaining \r",
      "Completed 28.1 MiB/42.8 MiB with 1 file(s) remaining \r",
      "Completed 28.3 MiB/42.8 MiB with 1 file(s) remaining \r",
      "Completed 28.6 MiB/42.8 MiB with 1 file(s) remaining \r",
      "Completed 28.8 MiB/42.8 MiB with 1 file(s) remaining \r",
      "Completed 29.1 MiB/42.8 MiB with 1 file(s) remaining \r",
      "Completed 29.3 MiB/42.8 MiB with 1 file(s) remaining \r",
      "Completed 29.6 MiB/42.8 MiB with 1 file(s) remaining \r",
      "Completed 29.8 MiB/42.8 MiB with 1 file(s) remaining \r",
      "Completed 30.1 MiB/42.8 MiB with 1 file(s) remaining \r",
      "Completed 30.3 MiB/42.8 MiB with 1 file(s) remaining \r",
      "Completed 30.6 MiB/42.8 MiB with 1 file(s) remaining \r",
      "Completed 30.8 MiB/42.8 MiB with 1 file(s) remaining \r",
      "Completed 31.1 MiB/42.8 MiB with 1 file(s) remaining \r",
      "Completed 31.3 MiB/42.8 MiB with 1 file(s) remaining \r",
      "Completed 31.6 MiB/42.8 MiB with 1 file(s) remaining \r",
      "Completed 31.8 MiB/42.8 MiB with 1 file(s) remaining \r",
      "Completed 32.1 MiB/42.8 MiB with 1 file(s) remaining \r",
      "Completed 32.3 MiB/42.8 MiB with 1 file(s) remaining \r",
      "Completed 32.6 MiB/42.8 MiB with 1 file(s) remaining \r",
      "Completed 32.8 MiB/42.8 MiB with 1 file(s) remaining \r",
      "Completed 33.1 MiB/42.8 MiB with 1 file(s) remaining \r",
      "Completed 33.3 MiB/42.8 MiB with 1 file(s) remaining \r",
      "Completed 33.6 MiB/42.8 MiB with 1 file(s) remaining \r",
      "Completed 33.8 MiB/42.8 MiB with 1 file(s) remaining \r",
      "Completed 34.1 MiB/42.8 MiB with 1 file(s) remaining \r",
      "Completed 34.3 MiB/42.8 MiB with 1 file(s) remaining \r",
      "Completed 34.6 MiB/42.8 MiB with 1 file(s) remaining \r",
      "Completed 34.8 MiB/42.8 MiB with 1 file(s) remaining \r",
      "Completed 35.1 MiB/42.8 MiB with 1 file(s) remaining \r",
      "Completed 35.3 MiB/42.8 MiB with 1 file(s) remaining \r",
      "Completed 35.6 MiB/42.8 MiB with 1 file(s) remaining \r",
      "Completed 35.8 MiB/42.8 MiB with 1 file(s) remaining \r",
      "Completed 36.1 MiB/42.8 MiB with 1 file(s) remaining \r",
      "Completed 36.3 MiB/42.8 MiB with 1 file(s) remaining \r",
      "Completed 36.6 MiB/42.8 MiB with 1 file(s) remaining \r",
      "Completed 36.8 MiB/42.8 MiB with 1 file(s) remaining \r",
      "Completed 37.1 MiB/42.8 MiB with 1 file(s) remaining \r",
      "Completed 37.3 MiB/42.8 MiB with 1 file(s) remaining \r",
      "Completed 37.6 MiB/42.8 MiB with 1 file(s) remaining \r",
      "Completed 37.8 MiB/42.8 MiB with 1 file(s) remaining \r",
      "Completed 38.1 MiB/42.8 MiB with 1 file(s) remaining \r",
      "Completed 38.3 MiB/42.8 MiB with 1 file(s) remaining \r",
      "Completed 38.6 MiB/42.8 MiB with 1 file(s) remaining \r",
      "Completed 38.8 MiB/42.8 MiB with 1 file(s) remaining \r",
      "Completed 39.1 MiB/42.8 MiB with 1 file(s) remaining \r",
      "Completed 39.3 MiB/42.8 MiB with 1 file(s) remaining \r",
      "Completed 39.6 MiB/42.8 MiB with 1 file(s) remaining \r",
      "Completed 39.8 MiB/42.8 MiB with 1 file(s) remaining \r",
      "Completed 40.1 MiB/42.8 MiB with 1 file(s) remaining \r",
      "Completed 40.3 MiB/42.8 MiB with 1 file(s) remaining \r",
      "Completed 40.6 MiB/42.8 MiB with 1 file(s) remaining \r",
      "Completed 40.8 MiB/42.8 MiB with 1 file(s) remaining \r",
      "Completed 41.1 MiB/42.8 MiB with 1 file(s) remaining \r",
      "Completed 41.3 MiB/42.8 MiB with 1 file(s) remaining \r",
      "Completed 41.6 MiB/42.8 MiB with 1 file(s) remaining \r",
      "Completed 41.8 MiB/42.8 MiB with 1 file(s) remaining \r",
      "Completed 42.1 MiB/42.8 MiB with 1 file(s) remaining \r",
      "Completed 42.3 MiB/42.8 MiB with 1 file(s) remaining \r",
      "Completed 42.6 MiB/42.8 MiB with 1 file(s) remaining \r",
      "Completed 42.8 MiB/42.8 MiB with 1 file(s) remaining \r",
      "upload: ./vert_sraRunInfo.csv to s3://serratus-public/out/200525_vert/vert_sraRunInfo.csv\r\n",
      "Completed 94 Bytes/94 Bytes with 1 file(s) remaining\r",
      "upload: ./vert_sraRunInfo.csv.md5sum to s3://serratus-public/out/200525_vert/vert_sraRunInfo.csv.md5sum\r\n"
     ]
    }
   ],
   "source": [
    "md5sum $RUNINFO > $RUNINFO.md5sum\n",
    "###\n",
    "aws s3 cp $RUNINFO s3://serratus-public/out/200525_vert/\n",
    "aws s3 cp $RUNINFO.md5sum s3://serratus-public/out/200525_vert/"
   ]
  },
  {
   "cell_type": "markdown",
   "metadata": {},
   "source": [
    "### Clean-up Run - SRA errors be here\n"
   ]
  },
  {
   "cell_type": "code",
   "execution_count": 65,
   "metadata": {},
   "outputs": [
    {
     "name": "stdout",
     "output_type": "stream",
     "text": [
      "94909 /home/artem/serratus/notebook/200525_ab/vert_sraRunInfo.csv\r\n",
      "67475 batchB.sra.complete\r\n",
      "27434 batchB_sraRunInfo.csv\r\n"
     ]
    }
   ],
   "source": [
    "# Create a list of all completed runs to date\n",
    "cd $WORK\n",
    "RUNINFO=$WORK/vert_sraRunInfo.csv\n",
    "BATCH='batchB'\n",
    "S3_PATH=\"s3://serratus-public/out/200525_vert/summary/\"\n",
    "\n",
    "\n",
    "aws s3 ls $S3_PATH > $BATCH.complete\n",
    "cat $BATCH.complete | sed 's/^...............................//g' - | cut -f1 -d'.' - > $BATCH.sra.complete\n",
    "\n",
    "cd $WORK\n",
    "\n",
    "wc -l $RUNINFO\n",
    "wc -l $BATCH.sra.complete\n",
    "\n",
    "#sed -i 's/$/,/g' $BATCH.sra.complete\n",
    "\n",
    "grep -vif $BATCH.sra.complete $RUNINFO > \"$BATCH\"_sraRunInfo.csv\n",
    "\n",
    "wc -l  \"$BATCH\"_sraRunInfo.csv"
   ]
  },
  {
   "cell_type": "code",
   "execution_count": 74,
   "metadata": {},
   "outputs": [
    {
     "name": "stdout",
     "output_type": "stream",
     "text": [
      "Connection to ec2-18-211-58-8.compute-1.amazonaws.com closed by remote host.\r",
      "\r\n",
      "Connection to ec2-54-235-254-177.compute-1.amazonaws.com closed by remote host.\r",
      "\r\n",
      "Connection to ec2-54-235-254-177.compute-1.amazonaws.com closed by remote host.\r",
      "\r\n",
      "94909 /home/artem/serratus/notebook/200525_ab/vert_sraRunInfo.csv\r\n",
      "82469 batchC.sra.complete\r\n",
      "12431 batchC_sraRunInfo.csv\r\n"
     ]
    }
   ],
   "source": [
    "# Create a list of all completed runs to date\n",
    "cd $WORK\n",
    "RUNINFO=$WORK/vert_sraRunInfo.csv\n",
    "BATCH='batchC'\n",
    "S3_PATH=\"s3://serratus-public/out/200525_vert/summary/\"\n",
    "\n",
    "\n",
    "aws s3 ls $S3_PATH > $BATCH.complete\n",
    "cat $BATCH.complete | sed 's/^...............................//g' - | cut -f1 -d'.' - > $BATCH.sra.complete\n",
    "\n",
    "cd $WORK\n",
    "\n",
    "wc -l $RUNINFO\n",
    "wc -l $BATCH.sra.complete\n",
    "\n",
    "#sed -i 's/$/,/g' $BATCH.sra.complete\n",
    "\n",
    "grep -vif $BATCH.sra.complete $RUNINFO > \"$BATCH\"_sraRunInfo.csv\n",
    "\n",
    "wc -l  \"$BATCH\"_sraRunInfo.csv\n",
    "\n",
    "CURRENT_BATCH=$WORK/\"$BATCH\"_sraRunInfo.csv"
   ]
  },
  {
   "cell_type": "markdown",
   "metadata": {},
   "source": [
    "# Vertebrate Run -- 1\n"
   ]
  },
  {
   "cell_type": "code",
   "execution_count": 5,
   "metadata": {},
   "outputs": [
    {
     "name": "stdout",
     "output_type": "stream",
     "text": [
      "/home/artem/serratus/notebook/200525_ab/vert_1.csv\r\n"
     ]
    }
   ],
   "source": [
    "cd $WORK\n",
    "CURRENT_BATCH=$WORK/vert_1.csv\n",
    "\n",
    "echo $CURRENT_BATCH"
   ]
  },
  {
   "cell_type": "markdown",
   "metadata": {},
   "source": [
    "## Running Serratus \n",
    "Upload the run data, scale-out the cluster, monitor performance."
   ]
  },
  {
   "cell_type": "markdown",
   "metadata": {},
   "source": [
    "### Terraform Initialization\n",
    "\n"
   ]
  },
  {
   "cell_type": "code",
   "execution_count": 62,
   "metadata": {},
   "outputs": [
    {
     "name": "stdout",
     "output_type": "stream",
     "text": [
      "diff --git a/terraform/main/main.tf b/terraform/main/main.tf\r\n",
      "index 32f14e7..5fca110 100644\r\n",
      "--- a/terraform/main/main.tf\r\n",
      "+++ b/terraform/main/main.tf\r\n",
      "@@ -101,7 +101,7 @@ module \"monitoring\" {\r\n",
      "   security_group_ids = [aws_security_group.internal.id]\r\n",
      "   key_name           = var.key_name\r\n",
      "   scheduler_ip       = module.scheduler.private_ip\r\n",
      "-  instance_type      = \"r5.large\"\r\n",
      "+  instance_type      = \"r5.xlarge\"\r\n",
      " }\r\n",
      " \r\n",
      " // Serratus-dl\r\n",
      "@@ -109,13 +109,13 @@ module \"download\" {\r\n",
      "   source             = \"../worker\"\r\n",
      " \r\n",
      "   desired_size       = 0\r\n",
      "-  max_size           = 250\r\n",
      "+  max_size           = 300\r\n",
      " \r\n",
      "   dev_cidrs          = var.dev_cidrs\r\n",
      "   security_group_ids = [aws_security_group.internal.id]\r\n",
      " \r\n",
      "   instance_type      = \"r5.large\" // Mitigate the memory leak in fastq-dump\r\n",
      "-  volume_size        = 50 // Mitigate the storage leak in fastq-dump\r\n",
      "+  volume_size        = 200 // Mitigate the storage leak in fastq-dump\r\n",
      "   spot_price         = 0.05\r\n",
      " \r\n",
      "   s3_bucket          = module.work_bucket.name\r\n",
      "@@ -134,7 +134,7 @@ module \"align\" {\r\n",
      "   source             = \"../worker\"\r\n",
      " \r\n",
      "   desired_size       = 0\r\n",
      "-  max_size           = 750\r\n",
      "+  max_size           = 1200\r\n",
      "   dev_cidrs          = var.dev_cidrs\r\n",
      "   security_group_ids = [aws_security_group.internal.id]\r\n",
      "   instance_type      = \"c5.large\" # c5.large\r\n",
      "@@ -154,11 +154,11 @@ module \"merge\" {\r\n",
      "   source             = \"../worker\"\r\n",
      " \r\n",
      "   desired_size       = 0\r\n",
      "-  max_size           = 30\r\n",
      "+  max_size           = 50\r\n",
      "   dev_cidrs          = var.dev_cidrs\r\n",
      "   security_group_ids = [aws_security_group.internal.id]\r\n",
      "   instance_type      = \"c5.large\"\r\n",
      "-  volume_size        = 50 // prevent disk overflow via samtools sort\r\n",
      "+  volume_size        = 200 // prevent disk overflow via samtools sort\r\n",
      "   spot_price         = 0.04\r\n",
      "   s3_bucket          = module.work_bucket.name\r\n",
      "   s3_delete_prefix   = \"bam-blocks\"\r\n",
      "@@ -170,7 +170,7 @@ module \"merge\" {\r\n",
      "   // TODO: the credentials are not properly set-up to\r\n",
      "   //       upload to serratus-public, requires a *Object policy\r\n",
      "   //       on the bucket.\r\n",
      "-  options            = \"-k ${module.work_bucket.name} -b s3://serratus-public/out/200525_zoo5\"\r\n",
      "+  options            = \"-k ${module.work_bucket.name} -b s3://serratus-public/out/200525_vert\"\r\n",
      " }\r\n",
      " \r\n",
      " // RESOURCES ##############################\r\n"
     ]
    }
   ],
   "source": [
    "# Terraform customization\n",
    "# For a larger run beef up everything!!\n",
    "# For 200527 updated align node to c5.xlarge (4 vCPU)\n",
    "git diff $SERRATUS/terraform/main/main.tf"
   ]
  },
  {
   "cell_type": "code",
   "execution_count": 78,
   "metadata": {},
   "outputs": [
    {
     "name": "stdout",
     "output_type": "stream",
     "text": [
      "\u001b[0m\u001b[1mInitializing modules...\u001b[0m\r\n",
      "\r\n",
      "\u001b[0m\u001b[1mInitializing the backend...\u001b[0m\r\n",
      "\r\n",
      "\u001b[0m\u001b[1mInitializing provider plugins...\u001b[0m\r\n",
      "\r\n",
      "\u001b[0m\u001b[1m\u001b[32mTerraform has been successfully initialized!\u001b[0m\u001b[32m\u001b[0m\r\n",
      "\u001b[0m\u001b[32m\r\n",
      "You may now begin working with Terraform. Try running \"terraform plan\" to see\r\n",
      "any changes that are required for your infrastructure. All Terraform commands\r\n",
      "should now work.\r\n",
      "\r\n",
      "If you ever set or change modules or backend configuration for Terraform,\r\n",
      "rerun this command to reinitialize your working directory. If you forget, other\r\n",
      "commands will detect it and remind you to do so if necessary.\u001b[0m\r\n",
      "\u001b[0m\u001b[1mmodule.download.data.aws_ami.amazon_linux_2: Refreshing state...\u001b[0m\r\n",
      "\u001b[0m\u001b[1mmodule.merge.data.aws_region.current: Refreshing state...\u001b[0m\r\n",
      "\u001b[0m\u001b[1mmodule.scheduler.data.aws_region.current: Refreshing state...\u001b[0m\r\n",
      "\u001b[0m\u001b[1mmodule.align.data.aws_region.current: Refreshing state...\u001b[0m\r\n",
      "\u001b[0m\u001b[1mmodule.align.data.aws_availability_zones.all: Refreshing state...\u001b[0m\r\n",
      "\u001b[0m\u001b[1mmodule.download.data.aws_availability_zones.all: Refreshing state...\u001b[0m\r\n",
      "\u001b[0m\u001b[1mmodule.download.data.aws_region.current: Refreshing state...\u001b[0m\r\n",
      "\u001b[0m\u001b[1mmodule.scheduler.data.aws_ami.amazon_linux_2: Refreshing state...\u001b[0m\r\n",
      "\u001b[0m\u001b[1mmodule.merge.data.aws_availability_zones.all: Refreshing state...\u001b[0m\r\n",
      "\u001b[0m\u001b[1mmodule.merge.data.aws_ami.amazon_linux_2: Refreshing state...\u001b[0m\r\n",
      "\u001b[0m\u001b[1mmodule.align.data.aws_ami.amazon_linux_2: Refreshing state...\u001b[0m\r\n",
      "\u001b[0m\u001b[1mmodule.monitoring.data.aws_ami.ecs: Refreshing state...\u001b[0m\r\n",
      "\u001b[0m\u001b[1mmodule.align.module.iam_role.aws_iam_role.role: Creating...\u001b[0m\u001b[0m\r\n",
      "\u001b[0m\u001b[1mmodule.merge.module.iam_role.aws_iam_role.role: Creating...\u001b[0m\u001b[0m\r\n",
      "\u001b[0m\u001b[1mmodule.monitoring.aws_iam_role.instance_role: Creating...\u001b[0m\u001b[0m\r\n",
      "\u001b[0m\u001b[1mmodule.download.aws_cloudwatch_log_group.g: Creating...\u001b[0m\u001b[0m\r\n",
      "\u001b[0m\u001b[1mmodule.scheduler.module.iam_role.aws_iam_role.role: Creating...\u001b[0m\u001b[0m\r\n",
      "\u001b[0m\u001b[1mmodule.monitoring.aws_ecs_cluster.monitor: Creating...\u001b[0m\u001b[0m\r\n",
      "\u001b[0m\u001b[1mmodule.download.module.iam_role.aws_iam_role.role: Creating...\u001b[0m\u001b[0m\r\n",
      "\u001b[0m\u001b[1mmodule.monitoring.aws_iam_role.task_role: Creating...\u001b[0m\u001b[0m\r\n",
      "\u001b[0m\u001b[1mmodule.work_bucket.aws_s3_bucket.work: Creating...\u001b[0m\u001b[0m\r\n",
      "\u001b[0m\u001b[1maws_security_group.internal: Creating...\u001b[0m\u001b[0m\r\n",
      "\u001b[0m\u001b[1mmodule.align.module.iam_role.aws_iam_role.role: Creation complete after 1s [id=SerratusIamRole-serratus-align]\u001b[0m\u001b[0m\r\n",
      "\u001b[0m\u001b[1mmodule.scheduler.aws_cloudwatch_log_group.scheduler: Creating...\u001b[0m\u001b[0m\r\n",
      "\u001b[0m\u001b[1mmodule.monitoring.aws_iam_role.task_role: Creation complete after 1s [id=SerratusIamRole-monitor]\u001b[0m\u001b[0m\r\n",
      "\u001b[0m\u001b[1mmodule.merge.module.iam_role.aws_iam_role.role: Creation complete after 1s [id=SerratusIamRole-serratus-merge]\u001b[0m\u001b[0m\r\n",
      "\u001b[0m\u001b[1mmodule.align.aws_cloudwatch_log_group.g: Creating...\u001b[0m\u001b[0m\r\n",
      "\u001b[0m\u001b[1mmodule.download.module.iam_role.aws_iam_role.role: Creation complete after 1s [id=SerratusIamRole-serratus-dl]\u001b[0m\u001b[0m\r\n",
      "\u001b[0m\u001b[1mmodule.merge.aws_cloudwatch_log_group.g: Creating...\u001b[0m\u001b[0m\r\n",
      "\u001b[0m\u001b[1mmodule.monitoring.aws_iam_role.instance_role: Creation complete after 1s [id=SerratusEcsInstanceRole]\u001b[0m\u001b[0m\r\n",
      "\u001b[0m\u001b[1mmodule.align.module.iam_role.aws_iam_role_policy_attachment.attachment[\"arn:aws:iam::aws:policy/AmazonS3ReadOnlyAccess\"]: Creating...\u001b[0m\u001b[0m\r\n",
      "\u001b[0m\u001b[1mmodule.align.module.iam_role.aws_iam_instance_profile.profile: Creating...\u001b[0m\u001b[0m\r\n",
      "\u001b[0m\u001b[1mmodule.scheduler.module.iam_role.aws_iam_role.role: Creation complete after 1s [id=SerratusIamRole-scheduler]\u001b[0m\u001b[0m\r\n",
      "\u001b[0m\u001b[1mmodule.align.module.iam_role.aws_iam_role_policy.cloudwatch: Creating...\u001b[0m\u001b[0m\r\n",
      "\u001b[0m\u001b[1mmodule.download.aws_cloudwatch_log_group.g: Creation complete after 1s [id=serratus-dl]\u001b[0m\u001b[0m\r\n",
      "\u001b[0m\u001b[1mmodule.monitoring.aws_iam_role_policy_attachment.attachment: Creating...\u001b[0m\u001b[0m\r\n",
      "\u001b[0m\u001b[1mmodule.align.module.iam_role.aws_iam_role_policy_attachment.attachment[\"arn:aws:iam::aws:policy/AmazonS3ReadOnlyAccess\"]: Creation complete after 1s [id=SerratusIamRole-serratus-align-20200529013055166200000002]\u001b[0m\u001b[0m\r\n",
      "\u001b[0m\u001b[1mmodule.monitoring.aws_iam_role_policy.cloudwatch: Creating...\u001b[0m\u001b[0m\r\n",
      "\u001b[0m\u001b[1mmodule.align.module.iam_role.aws_iam_role_policy.cloudwatch: Creation complete after 1s [id=SerratusIamRole-serratus-align:CloudWatchLogsCreate-serratus-align]\u001b[0m\u001b[0m\r\n",
      "\u001b[0m\u001b[1mmodule.merge.module.iam_role.aws_iam_role_policy_attachment.attachment[\"arn:aws:iam::aws:policy/AmazonS3ReadOnlyAccess\"]: Creating...\u001b[0m\u001b[0m\r\n",
      "\u001b[0m\u001b[1mmodule.monitoring.aws_iam_role_policy_attachment.attachment: Creation complete after 1s [id=SerratusIamRole-monitor-20200529013055432200000003]\u001b[0m\u001b[0m\r\n",
      "\u001b[0m\u001b[1mmodule.merge.module.iam_role.aws_iam_role_policy.cloudwatch: Creating...\u001b[0m\u001b[0m\r\n",
      "\u001b[0m\u001b[1mmodule.merge.aws_cloudwatch_log_group.g: Creation complete after 1s [id=serratus-merge]\u001b[0m\u001b[0m\r\n",
      "\u001b[0m\u001b[1mmodule.merge.module.iam_role.aws_iam_instance_profile.profile: Creating...\u001b[0m\u001b[0m\r\n",
      "\u001b[0m\u001b[1mmodule.scheduler.aws_cloudwatch_log_group.scheduler: Creation complete after 1s [id=scheduler]\u001b[0m\u001b[0m\r\n",
      "\u001b[0m\u001b[1mmodule.download.module.iam_role.aws_iam_instance_profile.profile: Creating...\u001b[0m\u001b[0m\r\n",
      "\u001b[0m\u001b[1mmodule.align.aws_cloudwatch_log_group.g: Creation complete after 1s [id=serratus-align]\u001b[0m\u001b[0m\r\n",
      "\u001b[0m\u001b[1mmodule.download.module.iam_role.aws_iam_role_policy.cloudwatch: Creating...\u001b[0m\u001b[0m\r\n",
      "\u001b[0m\u001b[1mmodule.align.module.iam_role.aws_iam_instance_profile.profile: Creation complete after 1s [id=profile-serratus-align]\u001b[0m\u001b[0m\r\n",
      "\u001b[0m\u001b[1mmodule.download.module.iam_role.aws_iam_role_policy_attachment.attachment[\"arn:aws:iam::aws:policy/AmazonS3ReadOnlyAccess\"]: Creating...\u001b[0m\u001b[0m\r\n",
      "\u001b[0m\u001b[1mmodule.monitoring.aws_iam_role_policy.cloudwatch: Creation complete after 0s [id=SerratusIamRole-monitor:CloudwatchGetMetrics]\u001b[0m\u001b[0m\r\n",
      "\u001b[0m\u001b[1mmodule.monitoring.aws_iam_instance_profile.monitor: Creating...\u001b[0m\u001b[0m\r\n",
      "\u001b[0m\u001b[1mmodule.merge.module.iam_role.aws_iam_role_policy_attachment.attachment[\"arn:aws:iam::aws:policy/AmazonS3ReadOnlyAccess\"]: Creation complete after 1s [id=SerratusIamRole-serratus-merge-20200529013056084900000004]\u001b[0m\u001b[0m\r\n",
      "\u001b[0m\u001b[1mmodule.align.aws_iam_role_policy.ec2Terminate: Creating...\u001b[0m\u001b[0m\r\n",
      "\u001b[0m\u001b[1mmodule.merge.module.iam_role.aws_iam_role_policy.cloudwatch: Creation complete after 1s [id=SerratusIamRole-serratus-merge:CloudWatchLogsCreate-serratus-merge]\u001b[0m\u001b[0m\r\n",
      "\u001b[0m\u001b[1mmodule.align.aws_iam_role_policy.ec2Describe: Creating...\u001b[0m\u001b[0m\r\n",
      "\u001b[0m\u001b[1mmodule.download.module.iam_role.aws_iam_role_policy.cloudwatch: Creation complete after 1s [id=SerratusIamRole-serratus-dl:CloudWatchLogsCreate-serratus-dl]\u001b[0m\u001b[0m\r\n",
      "\u001b[0m\u001b[1mmodule.monitoring.aws_iam_role_policy_attachment.instance_attachment: Creating...\u001b[0m\u001b[0m\r\n",
      "\u001b[0m\u001b[1mmodule.download.module.iam_role.aws_iam_role_policy_attachment.attachment[\"arn:aws:iam::aws:policy/AmazonS3ReadOnlyAccess\"]: Creation complete after 1s [id=SerratusIamRole-serratus-dl-20200529013056460400000005]\u001b[0m\u001b[0m\r\n",
      "\u001b[0m\u001b[1mmodule.align.aws_iam_role_policy.AdjustAutoScaling: Creating...\u001b[0m\u001b[0m\r\n",
      "\u001b[0m\u001b[1mmodule.merge.module.iam_role.aws_iam_instance_profile.profile: Creation complete after 1s [id=profile-serratus-merge]\u001b[0m\u001b[0m\r\n",
      "\u001b[0m\u001b[1mmodule.scheduler.module.iam_role.aws_iam_role_policy.cloudwatch: Creating...\u001b[0m\u001b[0m\r\n",
      "\u001b[0m\u001b[1mmodule.download.module.iam_role.aws_iam_instance_profile.profile: Creation complete after 1s [id=profile-serratus-dl]\u001b[0m\u001b[0m\r\n",
      "\u001b[0m\u001b[1mmodule.scheduler.module.iam_role.aws_iam_instance_profile.profile: Creating...\u001b[0m\u001b[0m\r\n",
      "\u001b[0m\u001b[1mmodule.align.aws_iam_role_policy.ec2Terminate: Creation complete after 0s [id=SerratusIamRole-serratus-align:TerminateEC2Instances-serratus-align]\u001b[0m\u001b[0m\r\n",
      "\u001b[0m\u001b[1mmodule.merge.aws_iam_role_policy.AdjustAutoScaling: Creating...\u001b[0m\u001b[0m\r\n",
      "\u001b[0m\u001b[1mmodule.align.aws_iam_role_policy.ec2Describe: Creation complete after 1s [id=SerratusIamRole-serratus-align:DescribeEC2Instances-serratus-align]\u001b[0m\u001b[0m\r\n",
      "\u001b[0m\u001b[1mmodule.merge.aws_iam_role_policy.ec2Terminate: Creating...\u001b[0m\u001b[0m\r\n",
      "\u001b[0m\u001b[1mmodule.monitoring.aws_iam_role_policy_attachment.instance_attachment: Creation complete after 1s [id=SerratusEcsInstanceRole-20200529013057221900000006]\u001b[0m\u001b[0m\r\n",
      "\u001b[0m\u001b[1mmodule.merge.aws_iam_role_policy.ec2Describe: Creating...\u001b[0m\u001b[0m\r\n",
      "\u001b[0m\u001b[1mmodule.align.aws_iam_role_policy.AdjustAutoScaling: Creation complete after 1s [id=SerratusIamRole-serratus-align:AdjustAutoScaling-serratus-align]\u001b[0m\u001b[0m\r\n",
      "\u001b[0m\u001b[1mmodule.download.aws_iam_role_policy.AdjustAutoScaling: Creating...\u001b[0m\u001b[0m\r\n",
      "\u001b[0m\u001b[1mmodule.monitoring.aws_iam_instance_profile.monitor: Creation complete after 2s [id=profile-serratus-monitor]\u001b[0m\u001b[0m\r\n",
      "\u001b[0m\u001b[1mmodule.download.aws_iam_role_policy.ec2Terminate: Creating...\u001b[0m\u001b[0m\r\n",
      "\u001b[0m\u001b[1mmodule.scheduler.module.iam_role.aws_iam_role_policy.cloudwatch: Creation complete after 1s [id=SerratusIamRole-scheduler:CloudWatchLogsCreate-scheduler]\u001b[0m\u001b[0m\r\n",
      "\u001b[0m\u001b[1mmodule.download.aws_iam_role_policy.ec2Describe: Creating...\u001b[0m\u001b[0m\r\n",
      "\u001b[0m\u001b[1maws_security_group.internal: Creation complete after 4s [id=sg-0c833f6192412b117]\u001b[0m\u001b[0m\r\n",
      "\u001b[0m\u001b[1mmodule.scheduler.aws_iam_role_policy.scheduler: Creating...\u001b[0m\u001b[0m\r\n",
      "\u001b[0m\u001b[1mmodule.merge.aws_iam_role_policy.AdjustAutoScaling: Creation complete after 1s [id=SerratusIamRole-serratus-merge:AdjustAutoScaling-serratus-merge]\u001b[0m\u001b[0m\r\n",
      "\u001b[0m\u001b[1mmodule.merge.aws_iam_role_policy.ec2Terminate: Creation complete after 0s [id=SerratusIamRole-serratus-merge:TerminateEC2Instances-serratus-merge]\u001b[0m\u001b[0m\r\n",
      "\u001b[0m\u001b[1mmodule.scheduler.module.iam_role.aws_iam_instance_profile.profile: Creation complete after 1s [id=profile-scheduler]\u001b[0m\u001b[0m\r\n",
      "\u001b[0m\u001b[1mmodule.scheduler.aws_instance.scheduler: Creating...\u001b[0m\u001b[0m\r\n",
      "\u001b[0m\u001b[1mmodule.merge.aws_iam_role_policy.ec2Describe: Creation complete after 0s [id=SerratusIamRole-serratus-merge:DescribeEC2Instances-serratus-merge]\u001b[0m\u001b[0m\r\n",
      "\u001b[0m\u001b[1mmodule.download.aws_iam_role_policy.AdjustAutoScaling: Creation complete after 1s [id=SerratusIamRole-serratus-dl:AdjustAutoScaling-serratus-dl]\u001b[0m\u001b[0m\r\n",
      "\u001b[0m\u001b[1mmodule.download.aws_iam_role_policy.ec2Terminate: Creation complete after 1s [id=SerratusIamRole-serratus-dl:TerminateEC2Instances-serratus-dl]\u001b[0m\u001b[0m\r\n",
      "\u001b[0m\u001b[1mmodule.download.aws_iam_role_policy.ec2Describe: Creation complete after 1s [id=SerratusIamRole-serratus-dl:DescribeEC2Instances-serratus-dl]\u001b[0m\u001b[0m\r\n",
      "\u001b[0m\u001b[1mmodule.scheduler.aws_iam_role_policy.scheduler: Creation complete after 1s [id=SerratusIamRole-scheduler:DescribeInstances-scheduler]\u001b[0m\u001b[0m\r\n",
      "\u001b[0m\u001b[1mmodule.work_bucket.aws_s3_bucket.work: Creation complete after 7s [id=tf-serratus-work-20200529013053675400000001]\u001b[0m\u001b[0m\r\n",
      "\u001b[0m\u001b[1mmodule.work_bucket.aws_s3_bucket_metric.full: Creating...\u001b[0m\u001b[0m\r\n",
      "\u001b[0m\u001b[1mmodule.work_bucket.aws_s3_bucket_metric.prefix[\"fq-blocks\"]: Creating...\u001b[0m\u001b[0m\r\n",
      "\u001b[0m\u001b[1mmodule.work_bucket.aws_s3_bucket_metric.prefix[\"bam-blocks\"]: Creating...\u001b[0m\u001b[0m\r\n",
      "\u001b[0m\u001b[1mmodule.download.aws_iam_role_policy.s3_write: Creating...\u001b[0m\u001b[0m\r\n",
      "\u001b[0m\u001b[1mmodule.merge.aws_iam_role_policy.s3_write: Creating...\u001b[0m\u001b[0m\r\n",
      "\u001b[0m\u001b[1mmodule.work_bucket.aws_s3_bucket_metric.prefix[\"out\"]: Creating...\u001b[0m\u001b[0m\r\n",
      "\u001b[0m\u001b[1mmodule.align.aws_iam_role_policy.s3_delete[0]: Creating...\u001b[0m\u001b[0m\r\n",
      "\u001b[0m\u001b[1mmodule.align.aws_iam_role_policy.s3_write: Creating...\u001b[0m\u001b[0m\r\n",
      "\u001b[0m\u001b[1mmodule.work_bucket.aws_s3_bucket_metric.prefix[\"out\"]: Creation complete after 1s [id=tf-serratus-work-20200529013053675400000001:prefix-out]\u001b[0m\u001b[0m\r\n",
      "\u001b[0m\u001b[1mmodule.work_bucket.aws_s3_bucket_metric.full: Creation complete after 1s [id=tf-serratus-work-20200529013053675400000001:full]\u001b[0m\u001b[0m\r\n",
      "\u001b[0m\u001b[1mmodule.merge.aws_iam_role_policy.s3_delete[0]: Creating...\u001b[0m\u001b[0m\r\n",
      "\u001b[0m\u001b[1mmodule.download.aws_iam_role_policy.s3_write: Creation complete after 1s [id=SerratusIamRole-serratus-dl:S3WriteData-serratus-dl]\u001b[0m\u001b[0m\r\n",
      "\u001b[0m\u001b[1mmodule.align.aws_iam_role_policy.s3_delete[0]: Creation complete after 1s [id=SerratusIamRole-serratus-align:S3DeleteData-serratus-align]\u001b[0m\u001b[0m\r\n",
      "\u001b[0m\u001b[1mmodule.merge.aws_iam_role_policy.s3_write: Creation complete after 1s [id=SerratusIamRole-serratus-merge:S3WriteData-serratus-merge]\u001b[0m\u001b[0m\r\n",
      "\u001b[0m\u001b[1mmodule.align.aws_iam_role_policy.s3_write: Creation complete after 1s [id=SerratusIamRole-serratus-align:S3WriteData-serratus-align]\u001b[0m\u001b[0m\r\n",
      "\u001b[0m\u001b[1mmodule.work_bucket.aws_s3_bucket_metric.prefix[\"fq-blocks\"]: Creation complete after 1s [id=tf-serratus-work-20200529013053675400000001:prefix-fq-blocks]\u001b[0m\u001b[0m\r\n",
      "\u001b[0m\u001b[1mmodule.work_bucket.aws_s3_bucket_metric.prefix[\"bam-blocks\"]: Creation complete after 1s [id=tf-serratus-work-20200529013053675400000001:prefix-bam-blocks]\u001b[0m\u001b[0m\r\n",
      "\u001b[0m\u001b[1mmodule.merge.aws_iam_role_policy.s3_delete[0]: Creation complete after 1s [id=SerratusIamRole-serratus-merge:S3DeleteData-serratus-merge]\u001b[0m\u001b[0m\r\n",
      "\u001b[0m\u001b[1mmodule.monitoring.aws_ecs_cluster.monitor: Still creating... [10s elapsed]\u001b[0m\u001b[0m\r\n",
      "\u001b[0m\u001b[1mmodule.monitoring.aws_ecs_cluster.monitor: Creation complete after 11s [id=arn:aws:ecs:us-east-1:797308887321:cluster/serratus-monitor]\u001b[0m\u001b[0m\r\n",
      "\u001b[0m\u001b[1mmodule.monitoring.aws_instance.monitor: Creating...\u001b[0m\u001b[0m\r\n",
      "\u001b[0m\u001b[1mmodule.scheduler.aws_instance.scheduler: Still creating... [10s elapsed]\u001b[0m\u001b[0m\r\n",
      "\u001b[0m\u001b[1mmodule.monitoring.aws_instance.monitor: Still creating... [10s elapsed]\u001b[0m\u001b[0m\r\n",
      "\u001b[0m\u001b[1mmodule.scheduler.aws_instance.scheduler: Still creating... [20s elapsed]\u001b[0m\u001b[0m\r\n",
      "\u001b[0m\u001b[1mmodule.monitoring.aws_instance.monitor: Creation complete after 16s [id=i-02378184958fa863a]\u001b[0m\u001b[0m\r\n",
      "\u001b[0m\u001b[1mmodule.monitoring.aws_eip.monitor: Creating...\u001b[0m\u001b[0m\r\n",
      "\u001b[0m\u001b[1mmodule.monitoring.aws_eip.monitor: Creation complete after 3s [id=eipalloc-04db1faa100ed47c7]\u001b[0m\u001b[0m\r\n",
      "\u001b[0m\u001b[1mmodule.scheduler.aws_instance.scheduler: Creation complete after 27s [id=i-0ab877df2155da0fe]\u001b[0m\u001b[0m\r\n",
      "\u001b[0m\u001b[1mmodule.scheduler.aws_eip.sch: Creating...\u001b[0m\u001b[0m\r\n",
      "\u001b[0m\u001b[1mmodule.monitoring.aws_ecs_task_definition.monitor: Creating...\u001b[0m\u001b[0m\r\n",
      "\u001b[0m\u001b[1mmodule.monitoring.aws_ecs_task_definition.monitor: Creation complete after 1s [id=monitor]\u001b[0m\u001b[0m\r\n",
      "\u001b[0m\u001b[1mmodule.monitoring.aws_ecs_service.monitor: Creating...\u001b[0m\u001b[0m\r\n",
      "\u001b[0m\u001b[1mmodule.monitoring.aws_ecs_service.monitor: Creation complete after 1s [id=arn:aws:ecs:us-east-1:797308887321:service/serratus-monitor]\u001b[0m\u001b[0m\r\n",
      "\u001b[0m\u001b[1mmodule.scheduler.aws_eip.sch: Creation complete after 3s [id=eipalloc-04fe77bca84fbeac4]\u001b[0m\u001b[0m\r\n",
      "\u001b[0m\u001b[1mmodule.download.aws_launch_configuration.worker: Creating...\u001b[0m\u001b[0m\r\n",
      "\u001b[0m\u001b[1mlocal_file.hosts: Creating...\u001b[0m\u001b[0m\r\n",
      "\u001b[0m\u001b[1mlocal_file.hosts: Creation complete after 0s [id=f88dff6b106546941d7572eef3e2a50e6e48d886]\u001b[0m\u001b[0m\r\n",
      "\u001b[0m\u001b[1mlocal_file.create_tunnel: Creating...\u001b[0m\u001b[0m\r\n",
      "\u001b[0m\u001b[1mmodule.align.aws_launch_configuration.worker: Creating...\u001b[0m\u001b[0m\r\n",
      "\u001b[0m\u001b[1mmodule.merge.aws_launch_configuration.worker: Creating...\u001b[0m\u001b[0m\r\n",
      "\u001b[0m\u001b[1mlocal_file.create_tunnel: Creation complete after 0s [id=3b7e815ff8eb9ca8ba1f98c7dcd5d411752d9d0e]\u001b[0m\u001b[0m\r\n",
      "\u001b[0m\u001b[1mmodule.merge.aws_launch_configuration.worker: Creation complete after 3s [id=serratus-merge-2020052901312889940000000a]\u001b[0m\u001b[0m\r\n",
      "\u001b[0m\u001b[1mmodule.merge.aws_autoscaling_group.worker: Creating...\u001b[0m\u001b[0m\r\n",
      "\u001b[0m\u001b[1mmodule.align.aws_launch_configuration.worker: Creation complete after 3s [id=serratus-align-20200529013128882600000008]\u001b[0m\u001b[0m\r\n",
      "\u001b[0m\u001b[1mmodule.align.aws_autoscaling_group.worker: Creating...\u001b[0m\u001b[0m\r\n",
      "\u001b[0m\u001b[1mmodule.download.aws_launch_configuration.worker: Creation complete after 3s [id=serratus-dl-20200529013128882900000009]\u001b[0m\u001b[0m\r\n",
      "\u001b[0m\u001b[1mmodule.download.aws_autoscaling_group.worker: Creating...\u001b[0m\u001b[0m\r\n",
      "\u001b[0m\u001b[1mmodule.merge.aws_autoscaling_group.worker: Creation complete after 1s [id=serratus-merge-2020052901312889940000000a]\u001b[0m\u001b[0m\r\n",
      "\u001b[0m\u001b[1mlocal_file.merge_set_capacity: Creating...\u001b[0m\u001b[0m\r\n",
      "\u001b[0m\u001b[1mmodule.merge.aws_autoscaling_policy.worker: Creating...\u001b[0m\u001b[0m\r\n",
      "\u001b[0m\u001b[1mlocal_file.merge_set_capacity: Creation complete after 0s [id=d3cb82d7258141f321d52a1c57fc559a3402c8cf]\u001b[0m\u001b[0m\r\n",
      "\u001b[0m\u001b[1mmodule.align.aws_autoscaling_group.worker: Creation complete after 1s [id=serratus-align-20200529013128882600000008]\u001b[0m\u001b[0m\r\n",
      "\u001b[0m\u001b[1mlocal_file.align_set_capacity: Creating...\u001b[0m\u001b[0m\r\n",
      "\u001b[0m\u001b[1mmodule.align.aws_autoscaling_policy.worker: Creating...\u001b[0m\u001b[0m\r\n",
      "\u001b[0m\u001b[1mlocal_file.align_set_capacity: Creation complete after 0s [id=fd83dadca4c8622998f25d0ca11f86eca720eefd]\u001b[0m\u001b[0m\r\n",
      "\u001b[0m\u001b[1mmodule.download.aws_autoscaling_group.worker: Creation complete after 1s [id=serratus-dl-20200529013128882900000009]\u001b[0m\u001b[0m\r\n",
      "\u001b[0m\u001b[1mlocal_file.dl_set_capacity: Creating...\u001b[0m\u001b[0m\r\n",
      "\u001b[0m\u001b[1mlocal_file.dl_set_capacity: Creation complete after 0s [id=ec2ae9c8289ea1a52abc121a9e0aa07db88450a2]\u001b[0m\u001b[0m\r\n",
      "\u001b[0m\u001b[1mmodule.download.aws_autoscaling_policy.worker: Creating...\u001b[0m\u001b[0m\r\n",
      "\u001b[0m\u001b[1mmodule.merge.aws_autoscaling_policy.worker: Creation complete after 1s [id=serratus-merge-2020052901312889940000000a]\u001b[0m\u001b[0m\r\n",
      "\u001b[0m\u001b[1mmodule.align.aws_autoscaling_policy.worker: Creation complete after 1s [id=serratus-align-20200529013128882600000008]\u001b[0m\u001b[0m\r\n",
      "\u001b[0m\u001b[1mmodule.download.aws_autoscaling_policy.worker: Creation complete after 1s [id=serratus-dl-20200529013128882900000009]\u001b[0m\u001b[0m\r\n",
      "\u001b[0m\u001b[1m\u001b[32m\r\n",
      "Apply complete! Resources: 67 added, 0 changed, 0 destroyed.\u001b[0m\r\n",
      "\u001b[0m\u001b[1m\u001b[32m\r\n",
      "Outputs:\r\n",
      "\r\n",
      "align_asg_name = serratus-align-20200529013128882600000008\r\n",
      "dl_asg_name = serratus-dl-20200529013128882900000009\r\n",
      "help = Run ./create_tunnels.sh to create SSH tunnels for all services.\r\n",
      "\r\n",
      "merge_asg_name = serratus-merge-2020052901312889940000000a\r\n",
      "monitor_dns = ec2-34-206-217-183.compute-1.amazonaws.com\r\n",
      "scheduler_dns = ec2-34-195-56-56.compute-1.amazonaws.com\u001b[0m\r\n"
     ]
    }
   ],
   "source": [
    "# Initialize terraform\n",
    "TF=$SERRATUS/terraform/main\n",
    "cd $TF\n",
    "terraform init\n",
    "\n",
    "# Launch Terraform Cluster\n",
    "# Initialize the serratus cluster with minimal nodes\n",
    "terraform apply -auto-approve"
   ]
  },
  {
   "cell_type": "markdown",
   "metadata": {},
   "source": [
    "### Run Monitors & Upload table\n",
    "Open SSH tunnels to monitor node then open monitors in browser\n"
   ]
  },
  {
   "cell_type": "code",
   "execution_count": 79,
   "metadata": {},
   "outputs": [
    {
     "name": "stdout",
     "output_type": "stream",
     "text": [
      "Tunnels created:\r\n",
      "Warning: Permanently added 'ec2-34-206-217-183.compute-1.amazonaws.com,34.206.217.183' (ECDSA) to the list of known hosts.\r",
      "\r\n",
      "    localhost:3000 -- grafana\r\n",
      "Warning: Permanently added 'ec2-34-206-217-183.compute-1.amazonaws.com,34.206.217.183' (ECDSA) to the list of known hosts.\r",
      "\r\n",
      "    localhost:9090 -- prometheus\r\n",
      "Warning: Permanently added 'ec2-34-195-56-56.compute-1.amazonaws.com,34.195.56.56' (ECDSA) to the list of known hosts.\r",
      "\r\n",
      "    localhost:8000 -- scheduler\r\n"
     ]
    }
   ],
   "source": [
    "cd $TF\n",
    "\n",
    "# Open SSH tunnels to the monitor\n",
    "./create_tunnels.sh\n",
    "\n",
    "# If you get an error on port\n",
    "# run:\n",
    "# ps aux | grep ssh\n",
    "# sudo kill <PID of SSH>\n",
    "#"
   ]
  },
  {
   "cell_type": "markdown",
   "metadata": {},
   "source": [
    "### vert with cov3m"
   ]
  },
  {
   "cell_type": "code",
   "execution_count": 16,
   "metadata": {},
   "outputs": [
    {
     "name": "stdout",
     "output_type": "stream",
     "text": [
      "Loading SRARunInfo into scheduler \r\n",
      "  File: /home/artem/serratus/notebook/200525_ab/vert_1.csv\r\n",
      "  md5 : e49c0208b7b07074e1fd01f42cdba81b  /home/artem/serratus/notebook/200525_ab/vert_1.csv\r\n",
      "  date: Tue May 26 15:55:26 PDT 2020\r\n",
      "{\"inserted_rows\":20000,\"total_rows\":20000}\r\n"
     ]
    }
   ],
   "source": [
    "# Load SRA Run Info into scheduler ===================\n",
    "# Scheduler DNS: \n",
    "echo \"Loading SRARunInfo into scheduler \"\n",
    "echo \"  File: $CURRENT_BATCH\"\n",
    "echo \"  md5 : $(md5sum $CURRENT_BATCH)\"\n",
    "echo \"  date: $(date)\"\n",
    "\n",
    "curl -s -X POST -T $CURRENT_BATCH localhost:8000/jobs/add_sra_run_info/"
   ]
  },
  {
   "cell_type": "code",
   "execution_count": 83,
   "metadata": {},
   "outputs": [
    {
     "name": "stdout",
     "output_type": "stream",
     "text": [
      "  Cluster Config File: \r\n",
      "{\r\n",
      "\"ALIGN_ARGS\":\"--very-sensitive-local\",\r\n",
      "\"ALIGN_SCALING_CONSTANT\":0.15,\r\n",
      "\"ALIGN_SCALING_ENABLE\":true,\r\n",
      "\"ALIGN_SCALING_MAX\":400,\r\n",
      "\"CLEAR_INTERVAL\":800,\r\n",
      "\"DL_ARGS\":\"\",\r\n",
      "\"DL_SCALING_CONSTANT\":0.1,\r\n",
      "\"DL_SCALING_ENABLE\":true,\r\n",
      "\"DL_SCALING_MAX\":200,\r\n",
      "\"GENOME\":\"cov3m\",\r\n",
      "\"MERGE_ARGS\":\"\",\r\n",
      "\"MERGE_SCALING_CONSTANT\":0.1,\r\n",
      "\"MERGE_SCALING_ENABLE\":true,\r\n",
      "\"MERGE_SCALING_MAX\":10,\r\n",
      "\"SCALING_INTERVAL\":250,\r\n",
      "\"VIRTUAL_ASG_MAX_INCREASE\":10,\r\n",
      "\"VIRTUAL_SCALING_INTERVAL\":30\r\n",
      "}\r\n",
      "\r\n",
      "\r\n",
      "  % Total    % Received % Xferd  Average Speed   Time    Time     Time  Current\r\n",
      "                                 Dload  Upload   Total   Spent    Left  Speed\r\n",
      "\r",
      "  0     0    0     0    0     0      0      0 --:--:-- --:--:-- --:--:--     0{\"ALIGN_ARGS\":\"--very-sensitive-local\",\"ALIGN_SCALING_CONSTANT\":0.15,\"ALIGN_SCALING_ENABLE\":true,\"ALIGN_SCALING_MAX\":400,\"CLEAR_INTERVAL\":800,\"DL_ARGS\":\"\",\"DL_SCALING_CONSTANT\":0.1,\"DL_SCALING_ENABLE\":true,\"DL_SCALING_MAX\":200,\"GENOME\":\"cov3m\",\"MERGE_ARGS\":\"\",\"MERGE_SCALING_CONSTANT\":0.1,\"MERGE_SCALING_ENABLE\":true,\"MERGE_SCALING_MAX\":10,\"SCALING_INTERVAL\":250,\"VIRTUAL_ASG_MAX_INCREASE\":10,\"VIRTUAL_SCALING_INTERVAL\":30}\r\n",
      "\r",
      "100   866  100   424  100   442   1570   1637 --:--:-- --:--:-- --:--:--  3207\r\n"
     ]
    }
   ],
   "source": [
    "# Set Cluster Parameters =============================\n",
    "# Scaled to 300:650:10\n",
    "cd $TF\n",
    "# Make local changes to config file\n",
    "echo \"  Cluster Config File: \"\n",
    "cat serratus-config.json\n",
    "echo \"\"\n",
    "echo \"\"\n",
    "# Re-upload config file\n",
    "curl -T serratus-config.json localhost:8000/config"
   ]
  },
  {
   "cell_type": "code",
   "execution_count": 24,
   "metadata": {},
   "outputs": [
    {
     "name": "stdout",
     "output_type": "stream",
     "text": [
      "/home/artem/serratus/notebook/200525_ab/vert_2.csv\r\n"
     ]
    }
   ],
   "source": [
    "CURRENT_BATCH=$WORK/vert_2.csv\n",
    "echo $CURRENT_BATCH"
   ]
  },
  {
   "cell_type": "code",
   "execution_count": 25,
   "metadata": {},
   "outputs": [
    {
     "name": "stdout",
     "output_type": "stream",
     "text": [
      "Loading SRARunInfo into scheduler \r\n",
      "  File: /home/artem/serratus/notebook/200525_ab/vert_2.csv\r\n",
      "  md5 : 43044a323448a47e6edab675a1c44f8f  /home/artem/serratus/notebook/200525_ab/vert_2.csv\r\n",
      "  date: Tue May 26 18:40:12 PDT 2020\r\n",
      "{\"inserted_rows\":19999,\"total_rows\":39999}\r\n"
     ]
    }
   ],
   "source": [
    "# Load SRA Run Info into scheduler ===================\n",
    "# Scheduler DNS: \n",
    "echo \"Loading SRARunInfo into scheduler \"\n",
    "echo \"  File: $CURRENT_BATCH\"\n",
    "echo \"  md5 : $(md5sum $CURRENT_BATCH)\"\n",
    "echo \"  date: $(date)\"\n",
    "\n",
    "curl -s -X POST -T $CURRENT_BATCH localhost:8000/jobs/add_sra_run_info/"
   ]
  },
  {
   "cell_type": "code",
   "execution_count": 26,
   "metadata": {},
   "outputs": [
    {
     "name": "stdout",
     "output_type": "stream",
     "text": [
      "/home/artem/serratus/notebook/200525_ab/vert_3.csv\r\n"
     ]
    }
   ],
   "source": [
    "CURRENT_BATCH=$WORK/vert_3.csv\n",
    "echo $CURRENT_BATCH"
   ]
  },
  {
   "cell_type": "code",
   "execution_count": 27,
   "metadata": {},
   "outputs": [
    {
     "name": "stdout",
     "output_type": "stream",
     "text": [
      "Loading SRARunInfo into scheduler \r\n",
      "  File: /home/artem/serratus/notebook/200525_ab/vert_3.csv\r\n",
      "  md5 : 78b20a25210e896924474e8433565766  /home/artem/serratus/notebook/200525_ab/vert_3.csv\r\n",
      "  date: Tue May 26 22:32:30 PDT 2020\r\n",
      "{\"inserted_rows\":20000,\"total_rows\":59999}\r\n"
     ]
    }
   ],
   "source": [
    "# Load SRA Run Info into scheduler ===================\n",
    "# Scheduler DNS: \n",
    "echo \"Loading SRARunInfo into scheduler \"\n",
    "echo \"  File: $CURRENT_BATCH\"\n",
    "echo \"  md5 : $(md5sum $CURRENT_BATCH)\"\n",
    "echo \"  date: $(date)\"\n",
    "\n",
    "curl -s -X POST -T $CURRENT_BATCH localhost:8000/jobs/add_sra_run_info/"
   ]
  },
  {
   "cell_type": "markdown",
   "metadata": {},
   "source": [
    "### Batch 4+ (next day)"
   ]
  },
  {
   "cell_type": "code",
   "execution_count": 44,
   "metadata": {},
   "outputs": [
    {
     "name": "stdout",
     "output_type": "stream",
     "text": [
      "/home/artem/serratus/notebook/200525_ab/vert_4.csv\r\n"
     ]
    }
   ],
   "source": [
    "CURRENT_BATCH=$WORK/vert_4.csv\n",
    "echo $CURRENT_BATCH"
   ]
  },
  {
   "cell_type": "code",
   "execution_count": 45,
   "metadata": {},
   "outputs": [
    {
     "name": "stdout",
     "output_type": "stream",
     "text": [
      "Loading SRARunInfo into scheduler \r\n",
      "  File: /home/artem/serratus/notebook/200525_ab/vert_4.csv\r\n",
      "  md5 : 627d7616fd2a224d65775cf6b8fb6d53  /home/artem/serratus/notebook/200525_ab/vert_4.csv\r\n",
      "  date: Wed May 27 13:34:00 PDT 2020\r\n",
      "{\"inserted_rows\":20000,\"total_rows\":20000}\r\n"
     ]
    }
   ],
   "source": [
    "# Load SRA Run Info into scheduler ===================\n",
    "# Scheduler DNS: \n",
    "echo \"Loading SRARunInfo into scheduler \"\n",
    "echo \"  File: $CURRENT_BATCH\"\n",
    "echo \"  md5 : $(md5sum $CURRENT_BATCH)\"\n",
    "echo \"  date: $(date)\"\n",
    "\n",
    "curl -s -X POST -T $CURRENT_BATCH localhost:8000/jobs/add_sra_run_info/"
   ]
  },
  {
   "cell_type": "code",
   "execution_count": 50,
   "metadata": {},
   "outputs": [
    {
     "name": "stdout",
     "output_type": "stream",
     "text": [
      "/home/artem/serratus/notebook/200525_ab/vert_5.csv\r\n"
     ]
    }
   ],
   "source": [
    "CURRENT_BATCH=$WORK/vert_5.csv\n",
    "echo $CURRENT_BATCH"
   ]
  },
  {
   "cell_type": "code",
   "execution_count": 51,
   "metadata": {},
   "outputs": [
    {
     "name": "stdout",
     "output_type": "stream",
     "text": [
      "Loading SRARunInfo into scheduler \r\n",
      "  File: /home/artem/serratus/notebook/200525_ab/vert_5.csv\r\n",
      "  md5 : c06a444644fd26173dd86be2b2e88981  /home/artem/serratus/notebook/200525_ab/vert_5.csv\r\n",
      "  date: Wed May 27 15:59:36 PDT 2020\r\n",
      "{\"inserted_rows\":14908,\"total_rows\":34908}\r\n"
     ]
    }
   ],
   "source": [
    "# Load SRA Run Info into scheduler ===================\n",
    "# Scheduler DNS: \n",
    "echo \"Loading SRARunInfo into scheduler \"\n",
    "echo \"  File: $CURRENT_BATCH\"\n",
    "echo \"  md5 : $(md5sum $CURRENT_BATCH)\"\n",
    "echo \"  date: $(date)\"\n",
    "\n",
    "curl -s -X POST -T $CURRENT_BATCH localhost:8000/jobs/add_sra_run_info/"
   ]
  },
  {
   "cell_type": "markdown",
   "metadata": {},
   "source": [
    "### Clean up Batch"
   ]
  },
  {
   "cell_type": "code",
   "execution_count": 68,
   "metadata": {},
   "outputs": [
    {
     "name": "stdout",
     "output_type": "stream",
     "text": [
      "/home/artem/serratus/notebook/200525_ab/batchB_sraRunInfo.csv\r\n"
     ]
    }
   ],
   "source": [
    "cd $WORK\n",
    "CURRENT_BATCH=$WORK/batchB_sraRunInfo.csv\n",
    "\n",
    "echo $CURRENT_BATCH"
   ]
  },
  {
   "cell_type": "code",
   "execution_count": 69,
   "metadata": {},
   "outputs": [
    {
     "name": "stdout",
     "output_type": "stream",
     "text": [
      "Loading SRARunInfo into scheduler \r\n",
      "  File: /home/artem/serratus/notebook/200525_ab/batchB_sraRunInfo.csv\r\n",
      "  md5 : eabffcf812931ae10678eb531473f674  /home/artem/serratus/notebook/200525_ab/batchB_sraRunInfo.csv\r\n",
      "  date: Thu May 28 10:39:44 PDT 2020\r\n",
      "{\"inserted_rows\":27432,\"total_rows\":27432}\r\n"
     ]
    }
   ],
   "source": [
    "# Load SRA Run Info into scheduler ===================\n",
    "# Scheduler DNS: \n",
    "echo \"Loading SRARunInfo into scheduler \"\n",
    "echo \"  File: $CURRENT_BATCH\"\n",
    "echo \"  md5 : $(md5sum $CURRENT_BATCH)\"\n",
    "echo \"  date: $(date)\"\n",
    "\n",
    "curl -s -X POST -T $CURRENT_BATCH localhost:8000/jobs/add_sra_run_info/"
   ]
  },
  {
   "cell_type": "code",
   "execution_count": 81,
   "metadata": {},
   "outputs": [
    {
     "name": "stdout",
     "output_type": "stream",
     "text": [
      "/home/artem/serratus/notebook/200525_ab/batchC_sraRunInfo.csv\r\n"
     ]
    }
   ],
   "source": [
    "cd $WORK\n",
    "CURRENT_BATCH=$WORK/batchC_sraRunInfo.csv\n",
    "\n",
    "echo $CURRENT_BATCH"
   ]
  },
  {
   "cell_type": "code",
   "execution_count": 82,
   "metadata": {},
   "outputs": [
    {
     "name": "stdout",
     "output_type": "stream",
     "text": [
      "Loading SRARunInfo into scheduler \r\n",
      "  File: /home/artem/serratus/notebook/200525_ab/batchC_sraRunInfo.csv\r\n",
      "  md5 : 56081790257158acc391fa19992149d2  /home/artem/serratus/notebook/200525_ab/batchC_sraRunInfo.csv\r\n",
      "  date: Thu May 28 18:41:01 PDT 2020\r\n",
      "{\"inserted_rows\":12429,\"total_rows\":12429}\r\n"
     ]
    }
   ],
   "source": [
    "# Load SRA Run Info into scheduler ===================\n",
    "# Scheduler DNS: \n",
    "echo \"Loading SRARunInfo into scheduler \"\n",
    "echo \"  File: $CURRENT_BATCH\"\n",
    "echo \"  md5 : $(md5sum $CURRENT_BATCH)\"\n",
    "echo \"  date: $(date)\"\n",
    "\n",
    "curl -s -X POST -T $CURRENT_BATCH localhost:8000/jobs/add_sra_run_info/"
   ]
  },
  {
   "cell_type": "markdown",
   "metadata": {},
   "source": [
    "### Error Handling\n"
   ]
  },
  {
   "cell_type": "code",
   "execution_count": null,
   "metadata": {},
   "outputs": [],
   "source": [
    "# Error fixes (manually help along)\n",
    "\n",
    "# ssh <scheduler IPv4>\n",
    "# sudo docker ps\n",
    "# sudo docker exec -it <container> bash\n",
    "# apt install sqlite3 awscli\n",
    "\n",
    "### ACCESSION OPERATIONS\n",
    "\n",
    "# Reset SPLITTING accessions to NEW\n",
    "# sqlite3 instance/scheduler.sqlite 'UPDATE acc SET state = \"new\" WHERE state = \"splitting\";'\n",
    "\n",
    "# Reset SPLIT_ERR accessions to NEW\n",
    "# (repeated failures can be missing SRA data)\n",
    "# sqlite3 instance/scheduler.sqlite 'UPDATE acc SET state = \"new\" WHERE state = \"split_err\";'\n",
    "\n",
    "# Reset MERGE_ERR accessions to MERGE_WAIT\n",
    "# sqlite3 instance/scheduler.sqlite 'UPDATE acc SET state = \"merge_wait\" WHERE state = \"merge_err\";'\n",
    "\n",
    "# Clear DONE Accessions (ONLY ON COMPLETION)\n",
    "# sqlite3 instance/scheduler.sqlite 'DELETE FROM acc WHERE state = \"merge_done\";'\n",
    "\n",
    "### BLOCK OPERATIONS\n",
    "\n",
    "# Reset FAIL blocks to NEW\n",
    "# sqlite3 instance/scheduler.sqlite 'UPDATE blocks SET state = \"new\" WHERE state = \"fail\";'\n",
    "\n",
    "# Reset ALIGNING blocks to NEW\n",
    "# sqlite3 instance/scheduler.sqlite 'UPDATE blocks SET state = \"new\" WHERE state = \"aligning\";'\n",
    "\n",
    "# Clear DONE blocks\n",
    "# sqlite3 instance/scheduler.sqlite 'DELETE FROM blocks WHERE state = \"done\";'"
   ]
  },
  {
   "cell_type": "markdown",
   "metadata": {},
   "source": [
    "\n",
    "## Shutting down procedures\n",
    "\n",
    "Closing up shop."
   ]
  },
  {
   "cell_type": "code",
   "execution_count": 28,
   "metadata": {},
   "outputs": [
    {
     "name": "stdout",
     "output_type": "stream",
     "text": [
      "Wed May 27 08:30:50 PDT 2020\r\n",
      "  % Total    % Received % Xferd  Average Speed   Time    Time     Time  Current\r\n",
      "                                 Dload  Upload   Total   Spent    Left  Speed\r\n",
      "\r",
      "  0     0    0     0    0     0      0      0 --:--:-- --:--:-- --:--:--     0\r",
      "  0     0    0     0    0     0      0      0 --:--:--  0:00:01 --:--:--     0\r",
      "  0     0    0     0    0     0      0      0 --:--:--  0:00:02 --:--:--     0\r",
      "  0     0    0     0    0     0      0      0 --:--:--  0:00:03 --:--:--     0\r",
      "  0     0    0     0    0     0      0      0 --:--:--  0:00:04 --:--:--     0\r",
      "  0     0    0     0    0     0      0      0 --:--:--  0:00:05 --:--:--     0\r",
      "  0     0    0     0    0     0      0      0 --:--:--  0:00:06 --:--:--     0\r",
      "  0     0    0     0    0     0      0      0 --:--:--  0:00:07 --:--:--     0\r",
      "  0     0    0     0    0     0      0      0 --:--:--  0:00:08 --:--:--     0\r",
      "  0     0    0     0    0     0      0      0 --:--:--  0:00:09 --:--:--     0\r",
      "  0     0    0     0    0     0      0      0 --:--:--  0:00:10 --:--:--     0\r",
      "  0     0    0     0    0     0      0      0 --:--:--  0:00:11 --:--:--     0\r",
      "  0     0    0     0    0     0      0      0 --:--:--  0:00:12 --:--:--     0\r",
      "  0     0    0     0    0     0      0      0 --:--:--  0:00:13 --:--:--     0\r",
      "  0     0    0     0    0     0      0      0 --:--:--  0:00:14 --:--:--     0\r",
      "  0     0    0     0    0     0      0      0 --:--:--  0:00:15 --:--:--     0\r",
      "  0  202M    0  607k    0     0  38921      0  1:31:04  0:00:15  1:30:49  127k\r",
      "  1  202M    1 3199k    0     0   190k      0  0:18:11  0:00:16  0:17:55  695k\r",
      "  2  202M    2 4447k    0     0   250k      0  0:13:50  0:00:17  0:13:33  973k\r",
      "  2  202M    2 5887k    0     0   313k      0  0:11:01  0:00:18  0:10:43 1295k\r",
      "  3  202M    3 7359k    0     0   372k      0  0:09:17  0:00:19  0:08:58 1619k\r",
      "  4  202M    4 8927k    0     0   429k      0  0:08:03  0:00:20  0:07:43 1735k\r",
      "  5  202M    5 10.3M    0     0   486k      0  0:07:06  0:00:21  0:06:45 1494k\r",
      "  5  202M    5 12.0M    0     0   543k      0  0:06:21  0:00:22  0:05:59 1592k\r",
      "  6  202M    6 13.8M    0     0   597k      0  0:05:47  0:00:23  0:05:24 1659k\r",
      "  7  202M    7 15.7M    0     0   651k      0  0:05:18  0:00:24  0:04:54 1754k\r",
      "  8  202M    8 17.2M    0     0   686k      0  0:05:02  0:00:25  0:04:37 1748k\r",
      "  9  202M    9 18.4M    0     0   707k      0  0:04:53  0:00:26  0:04:27 1670k\r",
      "  9  202M    9 19.8M    0     0   729k      0  0:04:44  0:00:27  0:04:17 1571k\r",
      " 10  202M   10 21.1M    0     0   751k      0  0:04:36  0:00:28  0:04:08 1485k\r",
      " 11  202M   11 22.5M    0     0   776k      0  0:04:27  0:00:29  0:03:58 1395k\r",
      " 11  202M   11 24.1M    0     0   802k      0  0:04:18  0:00:30  0:03:48 1404k\r",
      " 12  202M   12 25.2M    0     0   814k      0  0:04:15  0:00:31  0:03:44 1379k\r",
      " 12  202M   12 26.3M    0     0   822k      0  0:04:12  0:00:32  0:03:40 1340k\r",
      " 13  202M   13 27.4M    0     0   831k      0  0:04:09  0:00:33  0:03:36 1292k\r",
      " 14  202M   14 28.5M    0     0   841k      0  0:04:06  0:00:34  0:03:32 1226k\r",
      " 14  202M   14 29.7M    0     0   851k      0  0:04:04  0:00:35  0:03:29 1149k\r",
      " 15  202M   15 30.7M    0     0   857k      0  0:04:02  0:00:36  0:03:26 1132k\r",
      " 15  202M   15 31.9M    0     0   865k      0  0:04:00  0:00:37  0:03:23 1145k\r",
      " 16  202M   16 33.1M    0     0   875k      0  0:03:57  0:00:38  0:03:19 1173k\r",
      " 16  202M   16 34.4M    0     0   887k      0  0:03:54  0:00:39  0:03:15 1207k\r",
      " 17  202M   17 35.7M    0     0   897k      0  0:03:51  0:00:40  0:03:11 1230k\r",
      " 18  202M   18 37.0M    0     0   909k      0  0:03:48  0:00:41  0:03:07 1292k\r",
      " 19  202M   19 38.5M    0     0   922k      0  0:03:45  0:00:42  0:03:03 1352k\r",
      " 19  202M   19 40.0M    0     0   936k      0  0:03:41  0:00:43  0:02:58 1405k\r",
      " 20  202M   20 41.6M    0     0   953k      0  0:03:37  0:00:44  0:02:53 1475k\r",
      " 21  202M   21 43.0M    0     0   963k      0  0:03:35  0:00:45  0:02:50 1505k\r",
      " 22  202M   22 44.7M    0     0   979k      0  0:03:32  0:00:46  0:02:46 1566k\r",
      " 22  202M   22 46.5M    0     0   997k      0  0:03:28  0:00:47  0:02:41 1641k\r",
      " 23  202M   23 47.9M    0     0  1007k      0  0:03:26  0:00:48  0:02:38 1624k\r",
      " 24  202M   24 48.9M    0     0  1007k      0  0:03:26  0:00:49  0:02:37 1497k\r",
      " 24  202M   24 50.0M    0     0  1009k      0  0:03:25  0:00:50  0:02:35 1425k\r",
      " 25  202M   25 51.1M    0     0  1011k      0  0:03:25  0:00:51  0:02:34 1312k\r",
      " 25  202M   25 52.3M    0     0  1016k      0  0:03:24  0:00:52  0:02:32 1195k\r",
      " 26  202M   26 53.6M    0     0  1022k      0  0:03:23  0:00:53  0:02:30 1168k\r",
      " 27  202M   27 55.1M    0     0  1029k      0  0:03:21  0:00:54  0:02:27 1248k\r",
      " 27  202M   27 56.2M    0     0  1033k      0  0:03:21  0:00:55  0:02:26 1273k\r",
      " 28  202M   28 57.5M    0     0  1038k      0  0:03:20  0:00:56  0:02:24 1310k\r",
      " 29  202M   29 59.0M    0     0  1046k      0  0:03:18  0:00:57  0:02:21 1364k\r",
      " 29  202M   29 59.5M    0     0  1049k      0  0:03:17  0:00:58  0:02:19 1389k\r\n",
      "curl: (18) transfer closed with 150202424 bytes remaining to read\r\n"
     ]
    }
   ],
   "source": [
    "# Dump the Scheduler SQLITE table to a local file\n",
    "date\n",
    "curl localhost:8000/db > \\\n",
    "  $WORK/vert_complete1.sqlite"
   ]
  },
  {
   "cell_type": "code",
   "execution_count": null,
   "metadata": {},
   "outputs": [],
   "source": [
    "terraform destroy -auto-approve\n",
    "# WARNING this will also delete the standard output bucket/data\n",
    "# Save data prior to destroy"
   ]
  },
  {
   "cell_type": "markdown",
   "metadata": {},
   "source": [
    "## Destroy Cluster\n",
    "\n",
    "Close out all resources with terraform (will take a few minutes).\n"
   ]
  },
  {
   "cell_type": "code",
   "execution_count": null,
   "metadata": {},
   "outputs": [],
   "source": [
    "# Finished all but ~400 stragler samples swing back around later for try-hard\n",
    "#\n",
    "#"
   ]
  }
 ],
 "metadata": {
  "kernelspec": {
   "display_name": "Bash",
   "language": "bash",
   "name": "bash"
  },
  "language_info": {
   "codemirror_mode": "shell",
   "file_extension": ".sh",
   "mimetype": "text/x-sh",
   "name": "bash"
  }
 },
 "nbformat": 4,
 "nbformat_minor": 1
}
