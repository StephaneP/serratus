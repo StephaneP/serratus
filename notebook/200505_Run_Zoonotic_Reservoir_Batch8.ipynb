{
 "cells": [
  {
   "cell_type": "markdown",
   "metadata": {},
   "source": [
    "# RUN: SARS-CoV-2 Zoonotic Reservoir IV"
   ]
  },
  {
   "cell_type": "markdown",
   "metadata": {},
   "source": [
    "```\n",
    "Lead     : ababaian\n",
    "Issue    : #55\n",
    "Version  : \n",
    "start    : 2020 05 09\n",
    "complete : YYYY MM DD\n",
    "files    : ~/serratus/notebook/200505_ab/\n",
    "s3_files : s3://serratus-public/notebook/200505_ab/\n",
    "output   : s3://serratus-public/out/200505_zoonotic/\n",
    "```\n",
    "\n",
    "Continuation from `200505_Run_Zoonotic_Reservoir.ipynb`"
   ]
  },
  {
   "cell_type": "markdown",
   "metadata": {},
   "source": [
    "UPDATE TO `cov2m` genome."
   ]
  },
  {
   "cell_type": "code",
   "execution_count": 1,
   "metadata": {},
   "outputs": [
    {
     "name": "stdout",
     "output_type": "stream",
     "text": [
      "Sat May  9 16:16:49 PDT 2020\r\n"
     ]
    }
   ],
   "source": [
    "date"
   ]
  },
  {
   "cell_type": "markdown",
   "metadata": {},
   "source": [
    "### Initialize local workspace"
   ]
  },
  {
   "cell_type": "code",
   "execution_count": 2,
   "metadata": {},
   "outputs": [
    {
     "name": "stdout",
     "output_type": "stream",
     "text": [
      "1e6ea7658b34682bf8f74f115eaefa0608e4c759\r\n"
     ]
    }
   ],
   "source": [
    "# Serratus commit version\n",
    "SERRATUS=\"/home/artem/serratus\"\n",
    "cd $SERRATUS\n",
    "\n",
    "## Serratus was updated, genome remains the same\n",
    "git rev-parse HEAD # commit version\n",
    "\n",
    "# Create local run directory\n",
    "WORK=\"$SERRATUS/notebook/200505_ab\"\n",
    "mkdir -p $WORK; cd $WORK\n",
    "\n",
    "# SRA RunInfo Table for run -- use first 500 from Zoonotic pilot\n",
    "RUNINFO=\"$SERRATUS/notebook/200505_ab/zoonotic_SraRunInfo.csv\""
   ]
  },
  {
   "cell_type": "code",
   "execution_count": 3,
   "metadata": {},
   "outputs": [
    {
     "name": "stdout",
     "output_type": "stream",
     "text": [
      "-rw-rw-r-- 1 artem artem 53M May  9 00:06 zoonotic_batch8_checkpoint.sqlite\r\n",
      "ef25074a3765030db04794b92c700976  zoonotic_batch8_checkpoint.sqlite\r\n"
     ]
    }
   ],
   "source": [
    "# Resume from last 'checkpoint'\n",
    "ls -alh zoonotic_batch8_checkpoint.sqlite\n",
    "md5sum zoonotic_batch8_checkpoint.sqlite\n",
    "\n",
    "# log-in manually to the schduler and relace blank\n",
    "# sqlite table with checkpoint"
   ]
  },
  {
   "cell_type": "code",
   "execution_count": 36,
   "metadata": {},
   "outputs": [
    {
     "name": "stdout",
     "output_type": "stream",
     "text": [
      "70966 zoonotic_SraRunInfo.csv\r\n",
      "20348 batchB.sra.complete\r\n",
      "50399 zoonotic_SraRunInfo_Batch9.csv\r\n"
     ]
    }
   ],
   "source": [
    "# Create a list of all completed runs to date\n",
    "cd $WORK\n",
    "aws s3 ls s3://serratus-public/out/200505_zoonotic/summary/ > batchB.complete\n",
    "cat batchB.complete | sed 's/^...............................//g' - | cut -f1 -d'.' - > batchB.sra.complete\n",
    "\n",
    "wc -l zoonotic_SraRunInfo.csv\n",
    "wc -l batchB.sra.complete\n",
    "\n",
    "# Generate an updated RunInfo File with all matches NOT completed\n",
    "# This is dropping ~50 entries I'll need to figure out later\n",
    "grep -vif batchB.sra.complete zoonotic_SraRunInfo.csv > zoonotic_SraRunInfo_Batch9.csv\n",
    "\n",
    "wc -l zoonotic_SraRunInfo_Batch9.csv\n",
    "\n"
   ]
  },
  {
   "cell_type": "code",
   "execution_count": 40,
   "metadata": {},
   "outputs": [
    {
     "name": "stdout",
     "output_type": "stream",
     "text": [
      "50399 /home/artem/serratus/notebook/200505_ab/zoonotic_SraRunInfo_Batch9.csv\r\n",
      "\r\n",
      "Run,ReleaseDate,LoadDate,spots,bases,spots_with_mates,avgLength,size_MB,AssemblyName,download_path,Experiment,LibraryName,LibraryStrategy,LibrarySelection,LibrarySource,LibraryLayout,InsertSize,InsertDev,Platform,Model,SRAStudy,BioProject,Study_Pubmed_id,ProjectID,Sample,BioSample,SampleType,TaxID,ScientificName,SampleName,g1k_pop_code,source,g1k_analysis_group,Subject_ID,Sex,Disease,Tumor,Affection_Status,Analyte_Type,Histological_Type,Body_Site,CenterName,Submission,dbgap_study_accession,Consent,RunHash,ReadHash\r\n",
      "SRR8753200,2019-12-30 16:21:53,2019-03-22 15:13:34,33552646,10065793800,33552646,300,2158,GCA_000772875.3,https://sra-download.ncbi.nlm.nih.gov/traces/sra41/SRR/008548/SRR8753200,SRX5544144,,RNA-Seq,cDNA,TRANSCRIPTOMIC,PAIRED,0,0,ILLUMINA,HiSeq X Ten,SRP188855,PRJNA528034,3,528034,SRS4509808,SAMN11166521,simple,9544,Macaca mulatta,GSM3679252,,,,,,,no,,,,,GEO,SRA862171,,public,5F3493C9694446A46963D3995129504E,D8FC3A61F0ED4448BC020DDDB5227715\r\n"
     ]
    }
   ],
   "source": [
    "cd $WORK\n",
    "unset RUNINFO\n",
    "RUNINFO=\"$SERRATUS/notebook/200505_ab/zoonotic_SraRunInfo_Batch9.csv\"\n",
    "wc -l $RUNINFO\n",
    "\n",
    "# Run 500-10500 from Batch9 csv\n",
    "head -n 1     $RUNINFO > batch9_zoonotic.csv\n",
    "head -n 10501 $RUNINFO >> batch9_zoonotic.csv\n",
    "sed -i '2,501d' batch9_zoonotic.csv\n",
    "\n",
    "echo ''\n",
    "head -n2 batch9_zoonotic.csv #15921 in original list "
   ]
  },
  {
   "cell_type": "code",
   "execution_count": 48,
   "metadata": {},
   "outputs": [
    {
     "name": "stdout",
     "output_type": "stream",
     "text": [
      "50399 /home/artem/serratus/notebook/200505_ab/zoonotic_SraRunInfo_Batch9.csv\r\n",
      "\r\n",
      "Run,ReleaseDate,LoadDate,spots,bases,spots_with_mates,avgLength,size_MB,AssemblyName,download_path,Experiment,LibraryName,LibraryStrategy,LibrarySelection,LibrarySource,LibraryLayout,InsertSize,InsertDev,Platform,Model,SRAStudy,BioProject,Study_Pubmed_id,ProjectID,Sample,BioSample,SampleType,TaxID,ScientificName,SampleName,g1k_pop_code,source,g1k_analysis_group,Subject_ID,Sex,Disease,Tumor,Affection_Status,Analyte_Type,Histological_Type,Body_Site,CenterName,Submission,dbgap_study_accession,Consent,RunHash,ReadHash\r\n",
      "ERR2796215,2018-09-19 08:03:39,2018-09-19 19:00:27,33061860,2491566662,0,75,999,,https://sra-downloadb.be-md.ncbi.nlm.nih.gov/sos1/sra-pub-run-1/ERR2796215/ERR2796215.1,ERX2805234,E1,RNA-Seq,cDNA,TRANSCRIPTOMIC,SINGLE,0,0,ILLUMINA,NextSeq 500,ERP110885,PRJEB28653,,491892,ERS2881922,SAMEA4999496,simple,9913,Bos taurus,SAMEA4999496,,,,,,,no,,,,,\"Genomic Sciences Laboratory (North Carolina State University, Raleigh, NC, USA)\",ERA1598646,,public,D09A41299EBF477E6643BCAA387DA25C,A9CA28FB84DB82ACAC235ED4ADF0D026\r\n"
     ]
    }
   ],
   "source": [
    "cd $WORK\n",
    "unset RUNINFO\n",
    "RUNINFO=\"$SERRATUS/notebook/200505_ab/zoonotic_SraRunInfo_Batch9.csv\"\n",
    "wc -l $RUNINFO\n",
    "\n",
    "# Run 10500-25500 from Batch9 csv\n",
    "head -n 1     $RUNINFO > batch10_zoonotic.csv\n",
    "head -n 25501 $RUNINFO >> batch10_zoonotic.csv\n",
    "sed -i '2,10501d' batch10_zoonotic.csv\n",
    "\n",
    "echo ''\n",
    "head -n2 batch10_zoonotic.csv #15921 in original list "
   ]
  },
  {
   "cell_type": "code",
   "execution_count": 69,
   "metadata": {},
   "outputs": [
    {
     "name": "stdout",
     "output_type": "stream",
     "text": [
      "70966 zoonotic_SraRunInfo.csv\r\n",
      "30336 batch.sra.complete\r\n",
      "40411 zoonotic_SraRunInfo_Batch11.csv\r\n",
      "\r\n",
      "Run,ReleaseDate,LoadDate,spots,bases,spots_with_mates,avgLength,size_MB,AssemblyName,download_path,Experiment,LibraryName,LibraryStrategy,LibrarySelection,LibrarySource,LibraryLayout,InsertSize,InsertDev,Platform,Model,SRAStudy,BioProject,Study_Pubmed_id,ProjectID,Sample,BioSample,SampleType,TaxID,ScientificName,SampleName,g1k_pop_code,source,g1k_analysis_group,Subject_ID,Sex,Disease,Tumor,Affection_Status,Analyte_Type,Histological_Type,Body_Site,CenterName,Submission,dbgap_study_accession,Consent,RunHash,ReadHash\r\n",
      "SRR7294232,2018-09-12 16:41:07,2018-06-12 11:19:44,29398159,4438067039,29398159,150,1630,,https://sra-download.ncbi.nlm.nih.gov/traces/sra64/SRR/007123/SRR7294232,SRX4196851,,RNA-Seq,cDNA,TRANSCRIPTOMIC,PAIRED,0,0,ILLUMINA,NextSeq 500,SRP150330,PRJNA475704,3,475704,SRS3407477,SAMN09399288,simple,9823,Sus scrofa,GSM3186879,,,,,,,no,,,,,GEO,SRA719988,,public,6A5B3EBD709E4AE5A789BE9EC50F7447,1B362F5FCC5E1F04CDE7EA26C31DF128\r\n"
     ]
    }
   ],
   "source": [
    "# Create a list of all completed runs to date\n",
    "cd $WORK\n",
    "batchN=\"11\"\n",
    "unset RUNINFO\n",
    "\n",
    "aws s3 ls s3://serratus-public/out/200505_zoonotic/summary/ > batch.complete\n",
    "cat batch.complete | sed 's/^...............................//g' - | cut -f1 -d'.' - > batch.sra.complete\n",
    "\n",
    "wc -l zoonotic_SraRunInfo.csv\n",
    "wc -l batch.sra.complete\n",
    "\n",
    "# Generate an updated RunInfo File with all matches NOT completed\n",
    "grep -vif batch.sra.complete zoonotic_SraRunInfo.csv > zoonotic_SraRunInfo_Batch\"$batchN\".csv\n",
    "RUNINFO=\"zoonotic_SraRunInfo_Batch\"$batchN\".csv\"\n",
    "wc -l zoonotic_SraRunInfo_Batch\"$batchN\".csv\n",
    "\n",
    "\n",
    "# Run 5000-20000 from Batch csv (bypass known errors)\n",
    "head -n 1     $RUNINFO > batch\"$batchN\"_zoonotic.csv\n",
    "head -n 20000 $RUNINFO >> batch\"$batchN\"_zoonotic.csv\n",
    "sed -i '2,5000d' batch\"$batchN\"_zoonotic.csv\n",
    "\n",
    "echo ''\n",
    "head -n2 batch\"$batchN\"_zoonotic.csv\n",
    "\n",
    "rm batch.complete batch.sra.complete\n",
    "\n",
    "CURRENT_BATCH=\"batch\"$batchN\"_zoonotic.csv\""
   ]
  },
  {
   "cell_type": "code",
   "execution_count": 86,
   "metadata": {},
   "outputs": [
    {
     "name": "stdout",
     "output_type": "stream",
     "text": [
      "\r\n",
      "Run,ReleaseDate,LoadDate,spots,bases,spots_with_mates,avgLength,size_MB,AssemblyName,download_path,Experiment,LibraryName,LibraryStrategy,LibrarySelection,LibrarySource,LibraryLayout,InsertSize,InsertDev,Platform,Model,SRAStudy,BioProject,Study_Pubmed_id,ProjectID,Sample,BioSample,SampleType,TaxID,ScientificName,SampleName,g1k_pop_code,source,g1k_analysis_group,Subject_ID,Sex,Disease,Tumor,Affection_Status,Analyte_Type,Histological_Type,Body_Site,CenterName,Submission,dbgap_study_accession,Consent,RunHash,ReadHash\r\n",
      "ERR2076850,2017-08-10 21:45:36,2017-08-23 00:22:55,2060953,515238250,2060953,250,220,,https://sra-downloadb.be-md.ncbi.nlm.nih.gov/sos1/sra-pub-run-2/ERR2076850/ERR2076850.1,ERX2133354,SHPM3Pyl,RNA-Seq,Oligo-dT,TRANSCRIPTOMIC,PAIRED,150,0,ILLUMINA,Illumina HiSeq 2500,ERP021182,PRJEB19199,,389164,ERS2107237,SAMEA6166168,simple,9940,Ovis aries,SAMEA6166168,,,,,,,no,,,,,Edinburgh Genomics,ERA983351,,public,7823E9CF3C694511DEE2CC6C1FA32AEE,214E14E7FBFEFDF18D5EEF1E96344861\r\n",
      "rm: cannot remove 'batch.complete': No such file or directory\r\n",
      "rm: cannot remove 'batch.sra.complete': No such file or directory\r\n",
      "10002 batch12_zoonotic.csv\r\n"
     ]
    }
   ],
   "source": [
    "# Create a new batch\n",
    "cd $WORK\n",
    "batchN=\"12\"\n",
    "unset RUNINFO\n",
    "RUNINFO=\"zoonotic_SraRunInfo_Batch11.csv\"\n",
    "\n",
    "# Run 20000-30000 from Batch csv\n",
    "head -n 30000 $RUNINFO > batch\"$batchN\"_zoonotic.csv\n",
    "sed -i '2,20000d' batch\"$batchN\"_zoonotic.csv\n",
    "\n",
    "echo ''\n",
    "head -n2 batch\"$batchN\"_zoonotic.csv\n",
    "\n",
    "CURRENT_BATCH=\"batch\"$batchN\"_zoonotic.csv\"\n",
    "\n",
    "wc -l $CURRENT_BATCH"
   ]
  },
  {
   "cell_type": "code",
   "execution_count": 93,
   "metadata": {},
   "outputs": [
    {
     "name": "stdout",
     "output_type": "stream",
     "text": [
      "\r\n",
      "Run,ReleaseDate,LoadDate,spots,bases,spots_with_mates,avgLength,size_MB,AssemblyName,download_path,Experiment,LibraryName,LibraryStrategy,LibrarySelection,LibrarySource,LibraryLayout,InsertSize,InsertDev,Platform,Model,SRAStudy,BioProject,Study_Pubmed_id,ProjectID,Sample,BioSample,SampleType,TaxID,ScientificName,SampleName,g1k_pop_code,source,g1k_analysis_group,Subject_ID,Sex,Disease,Tumor,Affection_Status,Analyte_Type,Histological_Type,Body_Site,CenterName,Submission,dbgap_study_accession,Consent,RunHash,ReadHash\r\n",
      "SRR4039465,2016-08-23 14:38:21,2016-08-18 14:18:09,24598391,6198794532,24598391,252,2870,,https://sra-downloadb.be-md.ncbi.nlm.nih.gov/sos1/sra-pub-run-1/SRR4039465/SRR4039465.1,SRX2030599,A9062,RNA-Seq,cDNA,TRANSCRIPTOMIC,PAIRED,0,0,ILLUMINA,Illumina HiSeq 2000,SRP082284,PRJNA339185,,339185,SRS1624767,SAMN05589117,simple,9796,Equus caballus,A9062,,,,,female,,no,,,,,UNIVERSITY OF CALIFORNIA - DAVIS,SRA453135,,public,CA02D7578E48942DED3B40FB60C66E8C,4AC39E75E226BF2A52712D3C2F03A9FA\r\n",
      "10001 batch13_zoonotic.csv\r\n"
     ]
    }
   ],
   "source": [
    "# Create a new batch\n",
    "cd $WORK\n",
    "batchN=\"13\"\n",
    "unset RUNINFO\n",
    "RUNINFO=\"zoonotic_SraRunInfo_Batch11.csv\"\n",
    "\n",
    "# Run 20000-30000 from Batch csv\n",
    "head -n 40000 $RUNINFO > batch\"$batchN\"_zoonotic.csv\n",
    "sed -i '2,30000d' batch\"$batchN\"_zoonotic.csv\n",
    "\n",
    "echo ''\n",
    "head -n2 batch\"$batchN\"_zoonotic.csv\n",
    "\n",
    "CURRENT_BATCH=\"batch\"$batchN\"_zoonotic.csv\"\n",
    "\n",
    "wc -l $CURRENT_BATCH"
   ]
  },
  {
   "cell_type": "markdown",
   "metadata": {},
   "source": [
    "### Terraform Initialization\n",
    "\n"
   ]
  },
  {
   "cell_type": "code",
   "execution_count": 4,
   "metadata": {},
   "outputs": [
    {
     "name": "stdout",
     "output_type": "stream",
     "text": [
      "diff --git a/terraform/main/main.tf b/terraform/main/main.tf\r\n",
      "index 606aa6c..c501e42 100644\r\n",
      "--- a/terraform/main/main.tf\r\n",
      "+++ b/terraform/main/main.tf\r\n",
      "@@ -89,7 +89,7 @@ module \"scheduler\" {\r\n",
      "   \r\n",
      "   security_group_ids = [aws_security_group.internal.id]\r\n",
      "   key_name           = var.key_name\r\n",
      "-  instance_type      = \"t3.small\"\r\n",
      "+  instance_type      = \"c5.large\"\r\n",
      "   dockerhub_account  = var.dockerhub_account\r\n",
      "   scheduler_port     = var.scheduler_port\r\n",
      " }\r\n",
      "@@ -101,7 +101,7 @@ module \"monitoring\" {\r\n",
      "   security_group_ids = [aws_security_group.internal.id]\r\n",
      "   key_name           = var.key_name\r\n",
      "   scheduler_ip       = module.scheduler.private_ip\r\n",
      "-  instance_type      = \"t3.medium\"\r\n",
      "+  instance_type      = \"c5.large\"\r\n",
      " }\r\n",
      " \r\n",
      " // Serratus-dl\r\n",
      "@@ -134,7 +134,7 @@ module \"align\" {\r\n",
      "   source             = \"../worker\"\r\n",
      " \r\n",
      "   desired_size       = 0\r\n",
      "-  max_size           = 500\r\n",
      "+  max_size           = 650\r\n",
      "   dev_cidrs          = var.dev_cidrs\r\n",
      "   security_group_ids = [aws_security_group.internal.id]\r\n",
      "   instance_type      = \"c5.large\" # c5.large\r\n",
      "@@ -154,7 +154,7 @@ module \"merge\" {\r\n",
      "   source             = \"../worker\"\r\n",
      " \r\n",
      "   desired_size       = 0\r\n",
      "-  max_size           = 10\r\n",
      "+  max_size           = 30\r\n",
      "   dev_cidrs          = var.dev_cidrs\r\n",
      "   security_group_ids = [aws_security_group.internal.id]\r\n",
      "   instance_type      = \"c5.large\"\r\n"
     ]
    }
   ],
   "source": [
    "# Terraform customization\n",
    "# Make scheduler/monitor beefier for more nodes\n",
    "git diff $SERRATUS/terraform/main/main.tf"
   ]
  },
  {
   "cell_type": "code",
   "execution_count": 67,
   "metadata": {},
   "outputs": [
    {
     "name": "stdout",
     "output_type": "stream",
     "text": [
      "diff --git a/terraform/main/main.tf b/terraform/main/main.tf\r\n",
      "index 606aa6c..80b3c5f 100644\r\n",
      "--- a/terraform/main/main.tf\r\n",
      "+++ b/terraform/main/main.tf\r\n",
      "@@ -89,7 +89,7 @@ module \"scheduler\" {\r\n",
      "   \r\n",
      "   security_group_ids = [aws_security_group.internal.id]\r\n",
      "   key_name           = var.key_name\r\n",
      "-  instance_type      = \"t3.small\"\r\n",
      "+  instance_type      = \"c5.large\"\r\n",
      "   dockerhub_account  = var.dockerhub_account\r\n",
      "   scheduler_port     = var.scheduler_port\r\n",
      " }\r\n",
      "@@ -101,7 +101,7 @@ module \"monitoring\" {\r\n",
      "   security_group_ids = [aws_security_group.internal.id]\r\n",
      "   key_name           = var.key_name\r\n",
      "   scheduler_ip       = module.scheduler.private_ip\r\n",
      "-  instance_type      = \"t3.medium\"\r\n",
      "+  instance_type      = \"r5.large\"\r\n",
      " }\r\n",
      " \r\n",
      " // Serratus-dl\r\n",
      "@@ -109,7 +109,7 @@ module \"download\" {\r\n",
      "   source             = \"../worker\"\r\n",
      " \r\n",
      "   desired_size       = 0\r\n",
      "-  max_size           = 200\r\n",
      "+  max_size           = 250\r\n",
      " \r\n",
      "   dev_cidrs          = var.dev_cidrs\r\n",
      "   security_group_ids = [aws_security_group.internal.id]\r\n",
      "@@ -134,7 +134,7 @@ module \"align\" {\r\n",
      "   source             = \"../worker\"\r\n",
      " \r\n",
      "   desired_size       = 0\r\n",
      "-  max_size           = 500\r\n",
      "+  max_size           = 750\r\n",
      "   dev_cidrs          = var.dev_cidrs\r\n",
      "   security_group_ids = [aws_security_group.internal.id]\r\n",
      "   instance_type      = \"c5.large\" # c5.large\r\n",
      "@@ -154,7 +154,7 @@ module \"merge\" {\r\n",
      "   source             = \"../worker\"\r\n",
      " \r\n",
      "   desired_size       = 0\r\n",
      "-  max_size           = 10\r\n",
      "+  max_size           = 30\r\n",
      "   dev_cidrs          = var.dev_cidrs\r\n",
      "   security_group_ids = [aws_security_group.internal.id]\r\n",
      "   instance_type      = \"c5.large\"\r\n"
     ]
    }
   ],
   "source": [
    "# Terraform customization BATCH 11 UPDATE\n",
    "# Make scheduler/monitor beefier for more nodes\n",
    "git diff $SERRATUS/terraform/main/main.tf"
   ]
  },
  {
   "cell_type": "code",
   "execution_count": 87,
   "metadata": {},
   "outputs": [
    {
     "name": "stdout",
     "output_type": "stream",
     "text": [
      "Connection to ec2-52-22-173-157.compute-1.amazonaws.com closed by remote host.\r",
      "\r\n",
      "Connection to ec2-52-22-173-157.compute-1.amazonaws.com closed by remote host.\r",
      "\r\n",
      "\u001b[0m\u001b[1mInitializing modules...\u001b[0m\r\n",
      "\r\n",
      "\u001b[0m\u001b[1mInitializing the backend...\u001b[0m\r\n",
      "\r\n",
      "\u001b[0m\u001b[1mInitializing provider plugins...\u001b[0m\r\n",
      "\r\n",
      "\u001b[0m\u001b[1m\u001b[32mTerraform has been successfully initialized!\u001b[0m\u001b[32m\u001b[0m\r\n",
      "\u001b[0m\u001b[32m\r\n",
      "You may now begin working with Terraform. Try running \"terraform plan\" to see\r\n",
      "any changes that are required for your infrastructure. All Terraform commands\r\n",
      "should now work.\r\n",
      "\r\n",
      "If you ever set or change modules or backend configuration for Terraform,\r\n",
      "rerun this command to reinitialize your working directory. If you forget, other\r\n",
      "commands will detect it and remind you to do so if necessary.\u001b[0m\r\n"
     ]
    }
   ],
   "source": [
    "# Initialize terraform\n",
    "TF=$SERRATUS/terraform/main\n",
    "cd $TF\n",
    "terraform init"
   ]
  },
  {
   "cell_type": "code",
   "execution_count": 88,
   "metadata": {},
   "outputs": [
    {
     "name": "stdout",
     "output_type": "stream",
     "text": [
      "\u001b[0m\u001b[1mmodule.align.data.aws_region.current: Refreshing state...\u001b[0m\r\n",
      "\u001b[0m\u001b[1mmodule.merge.data.aws_ami.amazon_linux_2: Refreshing state...\u001b[0m\r\n",
      "\u001b[0m\u001b[1mmodule.scheduler.data.aws_ami.amazon_linux_2: Refreshing state...\u001b[0m\r\n",
      "\u001b[0m\u001b[1mmodule.scheduler.data.aws_region.current: Refreshing state...\u001b[0m\r\n",
      "\u001b[0m\u001b[1mmodule.align.data.aws_ami.amazon_linux_2: Refreshing state...\u001b[0m\r\n",
      "\u001b[0m\u001b[1mmodule.monitoring.data.aws_ami.ecs: Refreshing state...\u001b[0m\r\n",
      "\u001b[0m\u001b[1mmodule.merge.data.aws_region.current: Refreshing state...\u001b[0m\r\n",
      "\u001b[0m\u001b[1mmodule.align.data.aws_availability_zones.all: Refreshing state...\u001b[0m\r\n",
      "\u001b[0m\u001b[1mmodule.download.data.aws_availability_zones.all: Refreshing state...\u001b[0m\r\n",
      "\u001b[0m\u001b[1mmodule.download.data.aws_region.current: Refreshing state...\u001b[0m\r\n",
      "\u001b[0m\u001b[1mmodule.download.data.aws_ami.amazon_linux_2: Refreshing state...\u001b[0m\r\n",
      "\u001b[0m\u001b[1mmodule.merge.data.aws_availability_zones.all: Refreshing state...\u001b[0m\r\n",
      "\u001b[0m\u001b[1mmodule.scheduler.aws_cloudwatch_log_group.scheduler: Creating...\u001b[0m\u001b[0m\r\n",
      "\u001b[0m\u001b[1mmodule.download.aws_cloudwatch_log_group.g: Creating...\u001b[0m\u001b[0m\r\n",
      "\u001b[0m\u001b[1mmodule.monitoring.aws_iam_role.instance_role: Creating...\u001b[0m\u001b[0m\r\n",
      "\u001b[0m\u001b[1mmodule.merge.module.iam_role.aws_iam_role.role: Creating...\u001b[0m\u001b[0m\r\n",
      "\u001b[0m\u001b[1mmodule.align.aws_cloudwatch_log_group.g: Creating...\u001b[0m\u001b[0m\r\n",
      "\u001b[0m\u001b[1mmodule.monitoring.aws_ecs_cluster.monitor: Creating...\u001b[0m\u001b[0m\r\n",
      "\u001b[0m\u001b[1mmodule.scheduler.module.iam_role.aws_iam_role.role: Creating...\u001b[0m\u001b[0m\r\n",
      "\u001b[0m\u001b[1mmodule.align.module.iam_role.aws_iam_role.role: Creating...\u001b[0m\u001b[0m\r\n",
      "\u001b[0m\u001b[1maws_security_group.internal: Creating...\u001b[0m\u001b[0m\r\n",
      "\u001b[0m\u001b[1mmodule.download.module.iam_role.aws_iam_role.role: Creating...\u001b[0m\u001b[0m\r\n",
      "\u001b[0m\u001b[1mmodule.scheduler.module.iam_role.aws_iam_role.role: Creation complete after 2s [id=SerratusIamRole-scheduler]\u001b[0m\u001b[0m\r\n",
      "\u001b[0m\u001b[1mmodule.merge.module.iam_role.aws_iam_role.role: Creation complete after 2s [id=SerratusIamRole-serratus-merge]\u001b[0m\u001b[0m\r\n",
      "\u001b[0m\u001b[1mmodule.monitoring.aws_iam_role.task_role: Creating...\u001b[0m\u001b[0m\r\n",
      "\u001b[0m\u001b[1mmodule.align.module.iam_role.aws_iam_role.role: Creation complete after 2s [id=SerratusIamRole-serratus-align]\u001b[0m\u001b[0m\r\n",
      "\u001b[0m\u001b[1mmodule.download.aws_cloudwatch_log_group.g: Creation complete after 2s [id=serratus-dl]\u001b[0m\u001b[0m\r\n",
      "\u001b[0m\u001b[1mmodule.scheduler.aws_cloudwatch_log_group.scheduler: Creation complete after 2s [id=scheduler]\u001b[0m\u001b[0m\r\n",
      "\u001b[0m\u001b[1mmodule.merge.aws_cloudwatch_log_group.g: Creating...\u001b[0m\u001b[0m\r\n",
      "\u001b[0m\u001b[1mmodule.work_bucket.aws_s3_bucket.work: Creating...\u001b[0m\u001b[0m\r\n",
      "\u001b[0m\u001b[1mmodule.align.aws_cloudwatch_log_group.g: Creation complete after 2s [id=serratus-align]\u001b[0m\u001b[0m\r\n",
      "\u001b[0m\u001b[1mmodule.scheduler.module.iam_role.aws_iam_instance_profile.profile: Creating...\u001b[0m\u001b[0m\r\n",
      "\u001b[0m\u001b[1mmodule.scheduler.module.iam_role.aws_iam_role_policy.cloudwatch: Creating...\u001b[0m\u001b[0m\r\n",
      "\u001b[0m\u001b[1mmodule.download.module.iam_role.aws_iam_role.role: Creation complete after 2s [id=SerratusIamRole-serratus-dl]\u001b[0m\u001b[0m\r\n",
      "\u001b[0m\u001b[1mmodule.monitoring.aws_iam_role.instance_role: Creation complete after 2s [id=SerratusEcsInstanceRole]\u001b[0m\u001b[0m\r\n",
      "\u001b[0m\u001b[1mmodule.merge.module.iam_role.aws_iam_role_policy_attachment.attachment[\"arn:aws:iam::aws:policy/AmazonS3ReadOnlyAccess\"]: Creating...\u001b[0m\u001b[0m\r\n",
      "\u001b[0m\u001b[1mmodule.merge.module.iam_role.aws_iam_instance_profile.profile: Creating...\u001b[0m\u001b[0m\r\n",
      "\u001b[0m\u001b[1mmodule.merge.module.iam_role.aws_iam_role_policy.cloudwatch: Creating...\u001b[0m\u001b[0m\r\n",
      "\u001b[0m\u001b[1mmodule.monitoring.aws_iam_role.task_role: Creation complete after 1s [id=SerratusIamRole-monitor]\u001b[0m\u001b[0m\r\n",
      "\u001b[0m\u001b[1mmodule.align.module.iam_role.aws_iam_role_policy.cloudwatch: Creating...\u001b[0m\u001b[0m\r\n",
      "\u001b[0m\u001b[1mmodule.scheduler.module.iam_role.aws_iam_role_policy.cloudwatch: Creation complete after 1s [id=SerratusIamRole-scheduler:CloudWatchLogsCreate-scheduler]\u001b[0m\u001b[0m\r\n",
      "\u001b[0m\u001b[1mmodule.align.module.iam_role.aws_iam_role_policy_attachment.attachment[\"arn:aws:iam::aws:policy/AmazonS3ReadOnlyAccess\"]: Creating...\u001b[0m\u001b[0m\r\n",
      "\u001b[0m\u001b[1mmodule.merge.aws_cloudwatch_log_group.g: Creation complete after 1s [id=serratus-merge]\u001b[0m\u001b[0m\r\n",
      "\u001b[0m\u001b[1mmodule.align.module.iam_role.aws_iam_instance_profile.profile: Creating...\u001b[0m\u001b[0m\r\n",
      "\u001b[0m\u001b[1mmodule.merge.module.iam_role.aws_iam_role_policy.cloudwatch: Creation complete after 1s [id=SerratusIamRole-serratus-merge:CloudWatchLogsCreate-serratus-merge]\u001b[0m\u001b[0m\r\n",
      "\u001b[0m\u001b[1mmodule.download.module.iam_role.aws_iam_instance_profile.profile: Creating...\u001b[0m\u001b[0m\r\n",
      "\u001b[0m\u001b[1mmodule.merge.module.iam_role.aws_iam_role_policy_attachment.attachment[\"arn:aws:iam::aws:policy/AmazonS3ReadOnlyAccess\"]: Creation complete after 1s [id=SerratusIamRole-serratus-merge-20200511052007584300000002]\u001b[0m\u001b[0m\r\n",
      "\u001b[0m\u001b[1mmodule.download.module.iam_role.aws_iam_role_policy_attachment.attachment[\"arn:aws:iam::aws:policy/AmazonS3ReadOnlyAccess\"]: Creating...\u001b[0m\u001b[0m\r\n",
      "\u001b[0m\u001b[1mmodule.scheduler.module.iam_role.aws_iam_instance_profile.profile: Creation complete after 1s [id=profile-scheduler]\u001b[0m\u001b[0m\r\n",
      "\u001b[0m\u001b[1mmodule.download.module.iam_role.aws_iam_role_policy.cloudwatch: Creating...\u001b[0m\u001b[0m\r\n",
      "\u001b[0m\u001b[1mmodule.merge.module.iam_role.aws_iam_instance_profile.profile: Creation complete after 2s [id=profile-serratus-merge]\u001b[0m\u001b[0m\r\n",
      "\u001b[0m\u001b[1mmodule.scheduler.aws_iam_role_policy.scheduler: Creating...\u001b[0m\u001b[0m\r\n",
      "\u001b[0m\u001b[1mmodule.align.module.iam_role.aws_iam_role_policy.cloudwatch: Creation complete after 1s [id=SerratusIamRole-serratus-align:CloudWatchLogsCreate-serratus-align]\u001b[0m\u001b[0m\r\n",
      "\u001b[0m\u001b[1mmodule.monitoring.aws_iam_instance_profile.monitor: Creating...\u001b[0m\u001b[0m\r\n",
      "\u001b[0m\u001b[1mmodule.align.module.iam_role.aws_iam_role_policy_attachment.attachment[\"arn:aws:iam::aws:policy/AmazonS3ReadOnlyAccess\"]: Creation complete after 1s [id=SerratusIamRole-serratus-align-20200511052008302100000003]\u001b[0m\u001b[0m\r\n",
      "\u001b[0m\u001b[1mmodule.monitoring.aws_iam_role_policy_attachment.instance_attachment: Creating...\u001b[0m\u001b[0m\r\n",
      "\u001b[0m\u001b[1mmodule.download.module.iam_role.aws_iam_role_policy_attachment.attachment[\"arn:aws:iam::aws:policy/AmazonS3ReadOnlyAccess\"]: Creation complete after 1s [id=SerratusIamRole-serratus-dl-20200511052008579100000004]\u001b[0m\u001b[0m\r\n",
      "\u001b[0m\u001b[1mmodule.monitoring.aws_iam_role_policy_attachment.attachment: Creating...\u001b[0m\u001b[0m\r\n",
      "\u001b[0m\u001b[1mmodule.align.module.iam_role.aws_iam_instance_profile.profile: Creation complete after 1s [id=profile-serratus-align]\u001b[0m\u001b[0m\r\n",
      "\u001b[0m\u001b[1mmodule.merge.aws_iam_role_policy.AdjustAutoScaling: Creating...\u001b[0m\u001b[0m\r\n",
      "\u001b[0m\u001b[1mmodule.download.module.iam_role.aws_iam_role_policy.cloudwatch: Creation complete after 1s [id=SerratusIamRole-serratus-dl:CloudWatchLogsCreate-serratus-dl]\u001b[0m\u001b[0m\r\n",
      "\u001b[0m\u001b[1mmodule.merge.aws_iam_role_policy.ec2Describe: Creating...\u001b[0m\u001b[0m\r\n",
      "\u001b[0m\u001b[1mmodule.download.module.iam_role.aws_iam_instance_profile.profile: Creation complete after 1s [id=profile-serratus-dl]\u001b[0m\u001b[0m\r\n",
      "\u001b[0m\u001b[1mmodule.merge.aws_iam_role_policy.ec2Terminate: Creating...\u001b[0m\u001b[0m\r\n",
      "\u001b[0m\u001b[1mmodule.scheduler.aws_iam_role_policy.scheduler: Creation complete after 1s [id=SerratusIamRole-scheduler:DescribeInstances-scheduler]\u001b[0m\u001b[0m\r\n",
      "\u001b[0m\u001b[1mmodule.monitoring.aws_iam_role_policy.cloudwatch: Creating...\u001b[0m\u001b[0m\r\n",
      "\u001b[0m\u001b[1mmodule.monitoring.aws_iam_role_policy_attachment.instance_attachment: Creation complete after 1s [id=SerratusEcsInstanceRole-20200511052009255400000005]\u001b[0m\u001b[0m\r\n",
      "\u001b[0m\u001b[1mmodule.align.aws_iam_role_policy.AdjustAutoScaling: Creating...\u001b[0m\u001b[0m\r\n",
      "\u001b[0m\u001b[1maws_security_group.internal: Creation complete after 5s [id=sg-0077040d27a630275]\u001b[0m\u001b[0m\r\n",
      "\u001b[0m\u001b[1mmodule.align.aws_iam_role_policy.ec2Describe: Creating...\u001b[0m\u001b[0m\r\n",
      "\u001b[0m\u001b[1mmodule.monitoring.aws_iam_instance_profile.monitor: Creation complete after 1s [id=profile-serratus-monitor]\u001b[0m\u001b[0m\r\n",
      "\u001b[0m\u001b[1mmodule.align.aws_iam_role_policy.ec2Terminate: Creating...\u001b[0m\u001b[0m\r\n",
      "\u001b[0m\u001b[1mmodule.monitoring.aws_iam_role_policy_attachment.attachment: Creation complete after 1s [id=SerratusIamRole-monitor-20200511052009580600000006]\u001b[0m\u001b[0m\r\n",
      "\u001b[0m\u001b[1mmodule.download.aws_iam_role_policy.ec2Terminate: Creating...\u001b[0m\u001b[0m\r\n",
      "\u001b[0m\u001b[1mmodule.merge.aws_iam_role_policy.AdjustAutoScaling: Creation complete after 1s [id=SerratusIamRole-serratus-merge:AdjustAutoScaling-serratus-merge]\u001b[0m\u001b[0m\r\n",
      "\u001b[0m\u001b[1mmodule.download.aws_iam_role_policy.ec2Describe: Creating...\u001b[0m\u001b[0m\r\n",
      "\u001b[0m\u001b[1mmodule.merge.aws_iam_role_policy.ec2Describe: Creation complete after 1s [id=SerratusIamRole-serratus-merge:DescribeEC2Instances-serratus-merge]\u001b[0m\u001b[0m\r\n",
      "\u001b[0m\u001b[1mmodule.download.aws_iam_role_policy.AdjustAutoScaling: Creating...\u001b[0m\u001b[0m\r\n",
      "\u001b[0m\u001b[1mmodule.merge.aws_iam_role_policy.ec2Terminate: Creation complete after 1s [id=SerratusIamRole-serratus-merge:TerminateEC2Instances-serratus-merge]\u001b[0m\u001b[0m\r\n",
      "\u001b[0m\u001b[1mmodule.monitoring.aws_iam_role_policy.cloudwatch: Creation complete after 1s [id=SerratusIamRole-monitor:CloudwatchGetMetrics]\u001b[0m\u001b[0m\r\n",
      "\u001b[0m\u001b[1mmodule.align.aws_iam_role_policy.AdjustAutoScaling: Creation complete after 1s [id=SerratusIamRole-serratus-align:AdjustAutoScaling-serratus-align]\u001b[0m\u001b[0m\r\n",
      "\u001b[0m\u001b[1mmodule.scheduler.aws_instance.scheduler: Creating...\u001b[0m\u001b[0m\r\n",
      "\u001b[0m\u001b[1mmodule.align.aws_iam_role_policy.ec2Describe: Creation complete after 1s [id=SerratusIamRole-serratus-align:DescribeEC2Instances-serratus-align]\u001b[0m\u001b[0m\r\n",
      "\u001b[0m\u001b[1mmodule.align.aws_iam_role_policy.ec2Terminate: Creation complete after 1s [id=SerratusIamRole-serratus-align:TerminateEC2Instances-serratus-align]\u001b[0m\u001b[0m\r\n",
      "\u001b[0m\u001b[1mmodule.download.aws_iam_role_policy.ec2Terminate: Creation complete after 1s [id=SerratusIamRole-serratus-dl:TerminateEC2Instances-serratus-dl]\u001b[0m\u001b[0m\r\n",
      "\u001b[0m\u001b[1mmodule.download.aws_iam_role_policy.ec2Describe: Creation complete after 1s [id=SerratusIamRole-serratus-dl:DescribeEC2Instances-serratus-dl]\u001b[0m\u001b[0m\r\n",
      "\u001b[0m\u001b[1mmodule.download.aws_iam_role_policy.AdjustAutoScaling: Creation complete after 1s [id=SerratusIamRole-serratus-dl:AdjustAutoScaling-serratus-dl]\u001b[0m\u001b[0m\r\n",
      "\u001b[0m\u001b[1mmodule.work_bucket.aws_s3_bucket.work: Creation complete after 7s [id=tf-serratus-work-20200511052006819300000001]\u001b[0m\u001b[0m\r\n",
      "\u001b[0m\u001b[1mmodule.download.aws_iam_role_policy.s3_write: Creating...\u001b[0m\u001b[0m\r\n",
      "\u001b[0m\u001b[1mmodule.work_bucket.aws_s3_bucket_metric.prefix[\"out\"]: Creating...\u001b[0m\u001b[0m\r\n",
      "\u001b[0m\u001b[1mmodule.align.aws_iam_role_policy.s3_delete[0]: Creating...\u001b[0m\u001b[0m\r\n",
      "\u001b[0m\u001b[1mmodule.work_bucket.aws_s3_bucket_metric.prefix[\"fq-blocks\"]: Creating...\u001b[0m\u001b[0m\r\n",
      "\u001b[0m\u001b[1mmodule.align.aws_iam_role_policy.s3_write: Creating...\u001b[0m\u001b[0m\r\n",
      "\u001b[0m\u001b[1mmodule.merge.aws_iam_role_policy.s3_delete[0]: Creating...\u001b[0m\u001b[0m\r\n",
      "\u001b[0m\u001b[1mmodule.work_bucket.aws_s3_bucket_metric.prefix[\"bam-blocks\"]: Creating...\u001b[0m\u001b[0m\r\n",
      "\u001b[0m\u001b[1mmodule.merge.aws_iam_role_policy.s3_write: Creating...\u001b[0m\u001b[0m\r\n",
      "\u001b[0m\u001b[1mmodule.work_bucket.aws_s3_bucket_metric.prefix[\"fq-blocks\"]: Creation complete after 1s [id=tf-serratus-work-20200511052006819300000001:prefix-fq-blocks]\u001b[0m\u001b[0m\r\n",
      "\u001b[0m\u001b[1mmodule.work_bucket.aws_s3_bucket_metric.prefix[\"out\"]: Creation complete after 1s [id=tf-serratus-work-20200511052006819300000001:prefix-out]\u001b[0m\u001b[0m\r\n",
      "\u001b[0m\u001b[1mmodule.work_bucket.aws_s3_bucket_metric.prefix[\"bam-blocks\"]: Creation complete after 1s [id=tf-serratus-work-20200511052006819300000001:prefix-bam-blocks]\u001b[0m\u001b[0m\r\n",
      "\u001b[0m\u001b[1mmodule.work_bucket.aws_s3_bucket_metric.full: Creating...\u001b[0m\u001b[0m\r\n",
      "\u001b[0m\u001b[1mmodule.merge.aws_iam_role_policy.s3_write: Creation complete after 1s [id=SerratusIamRole-serratus-merge:S3WriteData-serratus-merge]\u001b[0m\u001b[0m\r\n",
      "\u001b[0m\u001b[1mmodule.download.aws_iam_role_policy.s3_write: Creation complete after 1s [id=SerratusIamRole-serratus-dl:S3WriteData-serratus-dl]\u001b[0m\u001b[0m\r\n",
      "\u001b[0m\u001b[1mmodule.align.aws_iam_role_policy.s3_delete[0]: Creation complete after 1s [id=SerratusIamRole-serratus-align:S3DeleteData-serratus-align]\u001b[0m\u001b[0m\r\n",
      "\u001b[0m\u001b[1mmodule.align.aws_iam_role_policy.s3_write: Creation complete after 1s [id=SerratusIamRole-serratus-align:S3WriteData-serratus-align]\u001b[0m\u001b[0m\r\n",
      "\u001b[0m\u001b[1mmodule.merge.aws_iam_role_policy.s3_delete[0]: Creation complete after 1s [id=SerratusIamRole-serratus-merge:S3DeleteData-serratus-merge]\u001b[0m\u001b[0m\r\n",
      "\u001b[0m\u001b[1mmodule.monitoring.aws_ecs_cluster.monitor: Still creating... [10s elapsed]\u001b[0m\u001b[0m\r\n",
      "\u001b[0m\u001b[1mmodule.work_bucket.aws_s3_bucket_metric.full: Creation complete after 1s [id=tf-serratus-work-20200511052006819300000001:full]\u001b[0m\u001b[0m\r\n",
      "\u001b[0m\u001b[1mmodule.monitoring.aws_ecs_cluster.monitor: Creation complete after 12s [id=arn:aws:ecs:us-east-1:797308887321:cluster/serratus-monitor]\u001b[0m\u001b[0m\r\n",
      "\u001b[0m\u001b[1mmodule.monitoring.aws_instance.monitor: Creating...\u001b[0m\u001b[0m\r\n",
      "\u001b[0m\u001b[1mmodule.scheduler.aws_instance.scheduler: Still creating... [10s elapsed]\u001b[0m\u001b[0m\r\n",
      "\u001b[0m\u001b[1mmodule.monitoring.aws_instance.monitor: Still creating... [10s elapsed]\u001b[0m\u001b[0m\r\n",
      "\u001b[0m\u001b[1mmodule.scheduler.aws_instance.scheduler: Still creating... [20s elapsed]\u001b[0m\u001b[0m\r\n",
      "\u001b[0m\u001b[1mmodule.scheduler.aws_instance.scheduler: Creation complete after 21s [id=i-0d2202f861e7cbdbc]\u001b[0m\u001b[0m\r\n",
      "\u001b[0m\u001b[1mmodule.scheduler.aws_eip.sch: Creating...\u001b[0m\u001b[0m\r\n",
      "\u001b[0m\u001b[1mmodule.monitoring.aws_ecs_task_definition.monitor: Creating...\u001b[0m\u001b[0m\r\n",
      "\u001b[0m\u001b[1mmodule.monitoring.aws_instance.monitor: Creation complete after 15s [id=i-0546f56d434c87ace]\u001b[0m\u001b[0m\r\n",
      "\u001b[0m\u001b[1mmodule.monitoring.aws_eip.monitor: Creating...\u001b[0m\u001b[0m\r\n",
      "\u001b[0m\u001b[1mmodule.monitoring.aws_ecs_task_definition.monitor: Creation complete after 1s [id=monitor]\u001b[0m\u001b[0m\r\n",
      "\u001b[0m\u001b[1mmodule.monitoring.aws_ecs_service.monitor: Creating...\u001b[0m\u001b[0m\r\n",
      "\u001b[0m\u001b[1mmodule.monitoring.aws_ecs_service.monitor: Creation complete after 1s [id=arn:aws:ecs:us-east-1:797308887321:service/serratus-monitor]\u001b[0m\u001b[0m\r\n",
      "\u001b[0m\u001b[1mmodule.scheduler.aws_eip.sch: Creation complete after 2s [id=eipalloc-05acdfe84c2516d4f]\u001b[0m\u001b[0m\r\n",
      "\u001b[0m\u001b[1mmodule.merge.aws_launch_configuration.worker: Creating...\u001b[0m\u001b[0m\r\n",
      "\u001b[0m\u001b[1mmodule.download.aws_launch_configuration.worker: Creating...\u001b[0m\u001b[0m\r\n",
      "\u001b[0m\u001b[1mmodule.align.aws_launch_configuration.worker: Creating...\u001b[0m\u001b[0m\r\n",
      "\u001b[0m\u001b[1mmodule.monitoring.aws_eip.monitor: Creation complete after 3s [id=eipalloc-059d6aa3e6a57d9cc]\u001b[0m\u001b[0m\r\n",
      "\u001b[0m\u001b[1mlocal_file.create_tunnel: Creating...\u001b[0m\u001b[0m\r\n",
      "\u001b[0m\u001b[1mlocal_file.hosts: Creating...\u001b[0m\u001b[0m\r\n",
      "\u001b[0m\u001b[1mlocal_file.hosts: Creation complete after 0s [id=98c9483c1ca1f0df771b5878b12515db873a2e70]\u001b[0m\u001b[0m\r\n",
      "\u001b[0m\u001b[1mlocal_file.create_tunnel: Creation complete after 0s [id=e76b8f223b4b4f156906345d2203a45069d8e593]\u001b[0m\u001b[0m\r\n",
      "\u001b[0m\u001b[1mmodule.align.aws_launch_configuration.worker: Creation complete after 2s [id=serratus-align-2020051105203531260000000a]\u001b[0m\u001b[0m\r\n",
      "\u001b[0m\u001b[1mmodule.download.aws_launch_configuration.worker: Creation complete after 2s [id=serratus-dl-20200511052035290000000008]\u001b[0m\u001b[0m\r\n",
      "\u001b[0m\u001b[1mmodule.merge.aws_launch_configuration.worker: Creation complete after 2s [id=serratus-merge-20200511052035305300000009]\u001b[0m\u001b[0m\r\n",
      "\u001b[0m\u001b[1mmodule.align.aws_autoscaling_group.worker: Creating...\u001b[0m\u001b[0m\r\n",
      "\u001b[0m\u001b[1mmodule.download.aws_autoscaling_group.worker: Creating...\u001b[0m\u001b[0m\r\n",
      "\u001b[0m\u001b[1mmodule.merge.aws_autoscaling_group.worker: Creating...\u001b[0m\u001b[0m\r\n",
      "\u001b[0m\u001b[1mmodule.merge.aws_autoscaling_group.worker: Creation complete after 1s [id=serratus-merge-20200511052035305300000009]\u001b[0m\u001b[0m\r\n",
      "\u001b[0m\u001b[1mmodule.download.aws_autoscaling_group.worker: Creation complete after 1s [id=serratus-dl-20200511052035290000000008]\u001b[0m\u001b[0m\r\n",
      "\u001b[0m\u001b[1mmodule.merge.aws_autoscaling_policy.worker: Creating...\u001b[0m\u001b[0m\r\n",
      "\u001b[0m\u001b[1mlocal_file.merge_set_capacity: Creating...\u001b[0m\u001b[0m\r\n",
      "\u001b[0m\u001b[1mlocal_file.dl_set_capacity: Creating...\u001b[0m\u001b[0m\r\n",
      "\u001b[0m\u001b[1mmodule.download.aws_autoscaling_policy.worker: Creating...\u001b[0m\u001b[0m\r\n",
      "\u001b[0m\u001b[1mlocal_file.merge_set_capacity: Creation complete after 0s [id=308c4630986aaae9aaaba10e2444e576c18cc9a4]\u001b[0m\u001b[0m\r\n",
      "\u001b[0m\u001b[1mlocal_file.dl_set_capacity: Creation complete after 0s [id=d6d572ac30a883eefc86bf326ca3358dc7f8ba27]\u001b[0m\u001b[0m\r\n",
      "\u001b[0m\u001b[1mmodule.align.aws_autoscaling_group.worker: Creation complete after 1s [id=serratus-align-2020051105203531260000000a]\u001b[0m\u001b[0m\r\n",
      "\u001b[0m\u001b[1mlocal_file.align_set_capacity: Creating...\u001b[0m\u001b[0m\r\n",
      "\u001b[0m\u001b[1mlocal_file.align_set_capacity: Creation complete after 0s [id=9fe983b549007053f296bfba5caff07c8d0ca7aa]\u001b[0m\u001b[0m\r\n",
      "\u001b[0m\u001b[1mmodule.align.aws_autoscaling_policy.worker: Creating...\u001b[0m\u001b[0m\r\n",
      "\u001b[0m\u001b[1mmodule.merge.aws_autoscaling_policy.worker: Creation complete after 1s [id=serratus-merge-20200511052035305300000009]\u001b[0m\u001b[0m\r\n",
      "\u001b[0m\u001b[1mmodule.download.aws_autoscaling_policy.worker: Creation complete after 1s [id=serratus-dl-20200511052035290000000008]\u001b[0m\u001b[0m\r\n",
      "\u001b[0m\u001b[1mmodule.align.aws_autoscaling_policy.worker: Creation complete after 1s [id=serratus-align-2020051105203531260000000a]\u001b[0m\u001b[0m\r\n",
      "\u001b[0m\u001b[1m\u001b[32m\r\n",
      "Apply complete! Resources: 67 added, 0 changed, 0 destroyed.\u001b[0m\r\n",
      "\u001b[0m\u001b[1m\u001b[32m\r\n",
      "Outputs:\r\n",
      "\r\n",
      "align_asg_name = serratus-align-2020051105203531260000000a\r\n",
      "dl_asg_name = serratus-dl-20200511052035290000000008\r\n",
      "help = Run ./create_tunnels.sh to create SSH tunnels for all services.\r\n",
      "\r\n",
      "merge_asg_name = serratus-merge-20200511052035305300000009\r\n",
      "monitor_dns = ec2-3-210-207-115.compute-1.amazonaws.com\r\n",
      "scheduler_dns = ec2-18-214-131-21.compute-1.amazonaws.com\u001b[0m\r\n"
     ]
    }
   ],
   "source": [
    "# Launch Terraform Cluster\n",
    "# Initialize the serratus cluster with minimal nodes\n",
    "terraform apply -auto-approve"
   ]
  },
  {
   "cell_type": "markdown",
   "metadata": {},
   "source": [
    "## Running Serratus \n",
    "Upload the run data, scale-out the cluster, monitor performance.\n"
   ]
  },
  {
   "cell_type": "markdown",
   "metadata": {},
   "source": [
    "### Run Monitors & Upload table\n",
    "Open SSH tunnels to monitor node then open monitors in browser\n"
   ]
  },
  {
   "cell_type": "code",
   "execution_count": 99,
   "metadata": {},
   "outputs": [
    {
     "name": "stdout",
     "output_type": "stream",
     "text": [
      "Tunnels created:\r\n",
      "Warning: Permanently added 'ec2-3-210-207-115.compute-1.amazonaws.com,3.210.207.115' (ECDSA) to the list of known hosts.\r",
      "\r\n",
      "    localhost:3000 -- grafana\r\n",
      "Warning: Permanently added 'ec2-3-210-207-115.compute-1.amazonaws.com,3.210.207.115' (ECDSA) to the list of known hosts.\r",
      "\r\n",
      "    localhost:9090 -- prometheus\r\n",
      "Warning: Permanently added 'ec2-18-214-131-21.compute-1.amazonaws.com,18.214.131.21' (ECDSA) to the list of known hosts.\r",
      "\r\n",
      "    localhost:8000 -- scheduler\r\n"
     ]
    }
   ],
   "source": [
    "cd $TF\n",
    "\n",
    "# Open SSH tunnels to the monitor\n",
    "./create_tunnels.sh\n",
    "\n",
    "# If you get an error on port\n",
    "# run:\n",
    "# ps aux | grep ssh\n",
    "# sudo kill <PID of SSH>\n",
    "#"
   ]
  },
  {
   "cell_type": "code",
   "execution_count": 12,
   "metadata": {},
   "outputs": [
    {
     "name": "stdout",
     "output_type": "stream",
     "text": [
      "  % Total    % Received % Xferd  Average Speed   Time    Time     Time  Current\r\n",
      "                                 Dload  Upload   Total   Spent    Left  Speed\r\n",
      "\r",
      "  0     0    0     0    0     0      0      0 --:--:-- --:--:-- --:--:--     0\r",
      "100   424  100   424    0     0   2494      0 --:--:-- --:--:-- --:--:--  2479\r",
      "100   424  100   424    0     0   2479      0 --:--:-- --:--:-- --:--:--  2465\r\n"
     ]
    }
   ],
   "source": [
    "# Download Scheduler config file\n",
    "#curl localhost:8000/config > serratus-config.json"
   ]
  },
  {
   "cell_type": "markdown",
   "metadata": {
    "heading_collapsed": true
   },
   "source": [
    "### Batch 8\n"
   ]
  },
  {
   "cell_type": "code",
   "execution_count": 32,
   "metadata": {
    "hidden": true
   },
   "outputs": [
    {
     "name": "stdout",
     "output_type": "stream",
     "text": [
      "{\r\n",
      "\"ALIGN_ARGS\":\"--very-sensitive-local\",\r\n",
      "\"ALIGN_SCALING_CONSTANT\":0.05,\r\n",
      "\"ALIGN_SCALING_ENABLE\":true,\r\n",
      "\"ALIGN_SCALING_MAX\":440,\r\n",
      "\"CLEAR_INTERVAL\":605,\r\n",
      "\"DL_ARGS\":\"\",\r\n",
      "\"DL_SCALING_CONSTANT\":0.1,\r\n",
      "\"DL_SCALING_ENABLE\":true,\r\n",
      "\"DL_SCALING_MAX\":220,\r\n",
      "\"GENOME\":\"cov2m\",\r\n",
      "\"MERGE_ARGS\":\"\",\r\n",
      "\"MERGE_SCALING_CONSTANT\":0.1,\r\n",
      "\"MERGE_SCALING_ENABLE\":true,\r\n",
      "\"MERGE_SCALING_MAX\":6,\r\n",
      "\"SCALING_INTERVAL\":300,\r\n",
      "\"VIRTUAL_ASG_MAX_INCREASE\":10,\r\n",
      "\"VIRTUAL_SCALING_INTERVAL\":30\r\n",
      "}\r\n",
      "--------\r\n",
      "  % Total    % Received % Xferd  Average Speed   Time    Time     Time  Current\r\n",
      "                                 Dload  Upload   Total   Spent    Left  Speed\r\n",
      "\r",
      "  0     0    0     0    0     0      0      0 --:--:-- --:--:-- --:--:--     0{\"ALIGN_ARGS\":\"--very-sensitive-local\",\"ALIGN_SCALING_CONSTANT\":0.05,\"ALIGN_SCALING_ENABLE\":true,\"ALIGN_SCALING_MAX\":440,\"CLEAR_INTERVAL\":605,\"DL_ARGS\":\"\",\"DL_SCALING_CONSTANT\":0.1,\"DL_SCALING_ENABLE\":true,\"DL_SCALING_MAX\":220,\"GENOME\":\"cov2m\",\"MERGE_ARGS\":\"\",\"MERGE_SCALING_CONSTANT\":0.1,\"MERGE_SCALING_ENABLE\":true,\"MERGE_SCALING_MAX\":6,\"SCALING_INTERVAL\":300,\"VIRTUAL_ASG_MAX_INCREASE\":10,\"VIRTUAL_SCALING_INTERVAL\":30}\r\n",
      "\r",
      "100   864  100   423  100   441   1590   1657 --:--:-- --:--:-- --:--:--  3248\r\n"
     ]
    }
   ],
   "source": [
    "# Batch 8\n",
    "cd $TF\n",
    "# Make local changes to config file\n",
    "cat serratus-config.json\n",
    "echo '--------'\n",
    "# Re-upload config file\n",
    "curl -T serratus-config.json localhost:8000/config"
   ]
  },
  {
   "cell_type": "code",
   "execution_count": null,
   "metadata": {
    "hidden": true
   },
   "outputs": [],
   "source": [
    "# Load SRA Run Info into scheduler (READY) BATCH 8 Resume\n",
    "# loaded batch8 checkpoint (10257 new) into the scheduler\n",
    "# by replacing the blank sqlite db with the checkpoint file from yesterday\n",
    "#\n",
    "# ssh ec2-3-215-60-242.compute-1.amazonaws.com\n",
    "# sudo docker ps\n",
    "# sudo docker exec -it <container> bash\n",
    "# apt-get install sqlite3 awscli\n",
    "#\n",
    "# aws s3 cp s3://serratus-public/notebook/200505_ab/zoonotic_batch8_checkpoint.sqlite ./\n",
    "# mv zoonotic_batch8_checkpoint.sqlite instance/scheduler.sqlite\n",
    "# sqlite3 instance/scheduler.sqlite 'DELETE FROM acc WHERE state = \"merge_done\";'\n",
    "# sqlite3 instance/scheduler.sqlite 'DELETE FROM blocks WHERE state = \"done\";'"
   ]
  },
  {
   "cell_type": "markdown",
   "metadata": {
    "heading_collapsed": true
   },
   "source": [
    "### Batch 9"
   ]
  },
  {
   "cell_type": "code",
   "execution_count": 44,
   "metadata": {
    "hidden": true
   },
   "outputs": [
    {
     "name": "stdout",
     "output_type": "stream",
     "text": [
      "channel 2: open failed: connect failed: Connection refused\r",
      "\r\n",
      "channel 2: open failed: connect failed: Connection refused\r",
      "\r\n",
      "channel 2: open failed: connect failed: Connection refused\r",
      "\r\n",
      "channel 2: open failed: connect failed: Connection refused\r",
      "\r\n",
      "{\"inserted_rows\":10001,\"total_rows\":10001}\r\n"
     ]
    }
   ],
   "source": [
    "# Load SRA Run Info into scheduler (READY) BATCH 9\n",
    "curl -s -X POST -T $WORK/batch9_zoonotic.csv localhost:8000/jobs/add_sra_run_info/"
   ]
  },
  {
   "cell_type": "code",
   "execution_count": 45,
   "metadata": {
    "hidden": true
   },
   "outputs": [
    {
     "name": "stdout",
     "output_type": "stream",
     "text": [
      "{\r\n",
      "\"ALIGN_ARGS\":\"--very-sensitive-local\",\r\n",
      "\"ALIGN_SCALING_CONSTANT\":0.05,\r\n",
      "\"ALIGN_SCALING_ENABLE\":true,\r\n",
      "\"ALIGN_SCALING_MAX\":440,\r\n",
      "\"CLEAR_INTERVAL\":777,\r\n",
      "\"DL_ARGS\":\"\",\r\n",
      "\"DL_SCALING_CONSTANT\":0.1,\r\n",
      "\"DL_SCALING_ENABLE\":true,\r\n",
      "\"DL_SCALING_MAX\":220,\r\n",
      "\"GENOME\":\"cov2m\",\r\n",
      "\"MERGE_ARGS\":\"\",\r\n",
      "\"MERGE_SCALING_CONSTANT\":0.1,\r\n",
      "\"MERGE_SCALING_ENABLE\":true,\r\n",
      "\"MERGE_SCALING_MAX\":3,\r\n",
      "\"SCALING_INTERVAL\":639,\r\n",
      "\"VIRTUAL_ASG_MAX_INCREASE\":10,\r\n",
      "\"VIRTUAL_SCALING_INTERVAL\":205\r\n",
      "}\r\n",
      "--------\r\n",
      "  % Total    % Received % Xferd  Average Speed   Time    Time     Time  Current\r\n",
      "                                 Dload  Upload   Total   Spent    Left  Speed\r\n",
      "\r",
      "  0     0    0     0    0     0      0      0 --:--:-- --:--:-- --:--:--     0{\"ALIGN_ARGS\":\"--very-sensitive-local\",\"ALIGN_SCALING_CONSTANT\":0.05,\"ALIGN_SCALING_ENABLE\":true,\"ALIGN_SCALING_MAX\":440,\"CLEAR_INTERVAL\":777,\"DL_ARGS\":\"\",\"DL_SCALING_CONSTANT\":0.1,\"DL_SCALING_ENABLE\":true,\"DL_SCALING_MAX\":220,\"GENOME\":\"cov2m\",\"MERGE_ARGS\":\"\",\"MERGE_SCALING_CONSTANT\":0.1,\"MERGE_SCALING_ENABLE\":true,\"MERGE_SCALING_MAX\":3,\"SCALING_INTERVAL\":639,\"VIRTUAL_ASG_MAX_INCREASE\":10,\"VIRTUAL_SCALING_INTERVAL\":205}\r\n",
      "\r",
      "100   866  100   424  100   442   1643   1713 --:--:-- --:--:-- --:--:--  3356\r\n"
     ]
    }
   ],
   "source": [
    "# Batch 9\n",
    "cd $TF\n",
    "# Make local changes to config file\n",
    "cat serratus-config.json\n",
    "echo '--------'\n",
    "# Re-upload config file\n",
    "curl -T serratus-config.json localhost:8000/config"
   ]
  },
  {
   "cell_type": "markdown",
   "metadata": {
    "heading_collapsed": true
   },
   "source": [
    "### Batch 10"
   ]
  },
  {
   "cell_type": "code",
   "execution_count": 54,
   "metadata": {
    "hidden": true
   },
   "outputs": [
    {
     "name": "stdout",
     "output_type": "stream",
     "text": [
      "{\"inserted_rows\":10001,\"total_rows\":10001}\r\n"
     ]
    }
   ],
   "source": [
    "# ERROR ----------------------- Repeated batch 9 :'(\n",
    "# Load SRA Run Info into scheduler (READY) BATCH 10\n",
    "# Scheduler: ec2-18-204-39-254.compute-1.amazonaws.com\n",
    "curl -s -X POST -T $WORK/batch10_zoonotic.csv localhost:8000/jobs/add_sra_run_info/"
   ]
  },
  {
   "cell_type": "code",
   "execution_count": 63,
   "metadata": {
    "hidden": true
   },
   "outputs": [
    {
     "name": "stdout",
     "output_type": "stream",
     "text": [
      "{\r\n",
      "\"ALIGN_ARGS\":\"--very-sensitive-local\",\r\n",
      "\"ALIGN_SCALING_CONSTANT\":0.05,\r\n",
      "\"ALIGN_SCALING_ENABLE\":true,\r\n",
      "\"ALIGN_SCALING_MAX\":550,\r\n",
      "\"CLEAR_INTERVAL\":777,\r\n",
      "\"DL_ARGS\":\"\",\r\n",
      "\"DL_SCALING_CONSTANT\":0.1,\r\n",
      "\"DL_SCALING_ENABLE\":true,\r\n",
      "\"DL_SCALING_MAX\":280,\r\n",
      "\"GENOME\":\"cov2m\",\r\n",
      "\"MERGE_ARGS\":\"\",\r\n",
      "\"MERGE_SCALING_CONSTANT\":0.1,\r\n",
      "\"MERGE_SCALING_ENABLE\":true,\r\n",
      "\"MERGE_SCALING_MAX\":20,\r\n",
      "\"SCALING_INTERVAL\":30,\r\n",
      "\"VIRTUAL_ASG_MAX_INCREASE\":10,\r\n",
      "\"VIRTUAL_SCALING_INTERVAL\":15\r\n",
      "}\r\n",
      "--------\r\n",
      "  % Total    % Received % Xferd  Average Speed   Time    Time     Time  Current\r\n",
      "                                 Dload  Upload   Total   Spent    Left  Speed\r\n",
      "\r",
      "  0     0    0     0    0     0      0      0 --:--:-- --:--:-- --:--:--     0\r",
      "  0   441    0     0    0     0      0      0 --:--:-- --:--:-- --:--:--     0{\"ALIGN_ARGS\":\"--very-sensitive-local\",\"ALIGN_SCALING_CONSTANT\":0.05,\"ALIGN_SCALING_ENABLE\":true,\"ALIGN_SCALING_MAX\":550,\"CLEAR_INTERVAL\":777,\"DL_ARGS\":\"\",\"DL_SCALING_CONSTANT\":0.1,\"DL_SCALING_ENABLE\":true,\"DL_SCALING_MAX\":280,\"GENOME\":\"cov2m\",\"MERGE_ARGS\":\"\",\"MERGE_SCALING_CONSTANT\":0.1,\"MERGE_SCALING_ENABLE\":true,\"MERGE_SCALING_MAX\":20,\"SCALING_INTERVAL\":30,\"VIRTUAL_ASG_MAX_INCREASE\":10,\"VIRTUAL_SCALING_INTERVAL\":15}\r\n",
      "\r",
      "100   864  100   423  100   441    890    928 --:--:-- --:--:-- --:--:--  1818\r\n"
     ]
    }
   ],
   "source": [
    "# Batch 10\n",
    "cd $TF\n",
    "# Make local changes to config file\n",
    "cat serratus-config.json\n",
    "echo '--------'\n",
    "# Re-upload config file\n",
    "curl -T serratus-config.json localhost:8000/config\n",
    "# max 550:280:30"
   ]
  },
  {
   "cell_type": "markdown",
   "metadata": {
    "heading_collapsed": true
   },
   "source": [
    "### Batch 11\n"
   ]
  },
  {
   "cell_type": "code",
   "execution_count": 74,
   "metadata": {
    "hidden": true
   },
   "outputs": [
    {
     "name": "stdout",
     "output_type": "stream",
     "text": [
      "Loading SRARunInfo into scheduler \r\n",
      "  File: batch11_zoonotic.csv\r\n",
      "md5sum: batch11_zoonotic.csv: No such file or directory\r\n",
      "  md5 : \r\n",
      "  date: Sun May 10 15:28:32 PDT 2020\r\n",
      "{\"inserted_rows\":15001,\"total_rows\":15001}\r\n"
     ]
    }
   ],
   "source": [
    "# Load SRA Run Info into scheduler ===================\n",
    "# Scheduler DNS: \n",
    "echo \"Loading SRARunInfo into scheduler \"\n",
    "echo \"  File: $CURRENT_BATCH\"\n",
    "echo \"  md5 : $(md5sum $WORK/$CURRENT_BATCH)\"\n",
    "echo \"  date: $(date)\"\n",
    "\n",
    "\n",
    "curl -s -X POST -T $WORK/$CURRENT_BATCH localhost:8000/jobs/add_sra_run_info/"
   ]
  },
  {
   "cell_type": "code",
   "execution_count": 84,
   "metadata": {
    "hidden": true
   },
   "outputs": [
    {
     "name": "stdout",
     "output_type": "stream",
     "text": [
      "  Cluster Config File: \r\n",
      "{\r\n",
      "\"ALIGN_ARGS\":\"--very-sensitive-local\",\r\n",
      "\"ALIGN_SCALING_CONSTANT\":0.1,\r\n",
      "\"ALIGN_SCALING_ENABLE\":true,\r\n",
      "\"ALIGN_SCALING_MAX\":950,\r\n",
      "\"CLEAR_INTERVAL\":777,\r\n",
      "\"DL_ARGS\":\"\",\r\n",
      "\"DL_SCALING_CONSTANT\":0.1,\r\n",
      "\"DL_SCALING_ENABLE\":true,\r\n",
      "\"DL_SCALING_MAX\":260,\r\n",
      "\"GENOME\":\"cov2m\",\r\n",
      "\"MERGE_ARGS\":\"\",\r\n",
      "\"MERGE_SCALING_CONSTANT\":0.1,\r\n",
      "\"MERGE_SCALING_ENABLE\":true,\r\n",
      "\"MERGE_SCALING_MAX\":10,\r\n",
      "\"SCALING_INTERVAL\":305,\r\n",
      "\"VIRTUAL_ASG_MAX_INCREASE\":10,\r\n",
      "\"VIRTUAL_SCALING_INTERVAL\":60\r\n",
      "}\r\n",
      "\r\n",
      "\r\n",
      "  % Total    % Received % Xferd  Average Speed   Time    Time     Time  Current\r\n",
      "                                 Dload  Upload   Total   Spent    Left  Speed\r\n",
      "\r",
      "  0     0    0     0    0     0      0      0 --:--:-- --:--:-- --:--:--     0{\"ALIGN_ARGS\":\"--very-sensitive-local\",\"ALIGN_SCALING_CONSTANT\":0.1,\"ALIGN_SCALING_ENABLE\":true,\"ALIGN_SCALING_MAX\":950,\"CLEAR_INTERVAL\":777,\"DL_ARGS\":\"\",\"DL_SCALING_CONSTANT\":0.1,\"DL_SCALING_ENABLE\":true,\"DL_SCALING_MAX\":260,\"GENOME\":\"cov2m\",\"MERGE_ARGS\":\"\",\"MERGE_SCALING_CONSTANT\":0.1,\"MERGE_SCALING_ENABLE\":true,\"MERGE_SCALING_MAX\":10,\"SCALING_INTERVAL\":305,\"VIRTUAL_ASG_MAX_INCREASE\":10,\"VIRTUAL_SCALING_INTERVAL\":60}\r\n",
      "\r",
      "100   864  100   423  100   441   1602   1670 --:--:-- --:--:-- --:--:--  3272\r\n"
     ]
    }
   ],
   "source": [
    "# Set Cluster Parameters =============================\n",
    "# 760:260:5 Cluster test --> monitor goes down a bit\n",
    "cd $TF\n",
    "# Make local changes to config file\n",
    "echo \"  Cluster Config File: \"\n",
    "cat serratus-config.json\n",
    "echo \"\"\n",
    "echo \"\"\n",
    "# Re-upload config file\n",
    "curl -T serratus-config.json localhost:8000/config"
   ]
  },
  {
   "cell_type": "markdown",
   "metadata": {},
   "source": [
    "### Batch 12 / 13\n"
   ]
  },
  {
   "cell_type": "code",
   "execution_count": 90,
   "metadata": {},
   "outputs": [
    {
     "name": "stdout",
     "output_type": "stream",
     "text": [
      "Loading SRARunInfo into scheduler \r\n",
      "  File: batch12_zoonotic.csv\r\n",
      "  md5 : d3c4621a67ca84f4ac36af5a09af38c7  /home/artem/serratus/notebook/200505_ab/batch12_zoonotic.csv\r\n",
      "  date: Sun May 10 22:23:18 PDT 2020\r\n",
      "{\"inserted_rows\":10001,\"total_rows\":10001}\r\n"
     ]
    }
   ],
   "source": [
    "# Load SRA Run Info into scheduler ===================\n",
    "# Scheduler DNS: \n",
    "echo \"Loading SRARunInfo into scheduler \"\n",
    "echo \"  File: $CURRENT_BATCH\"\n",
    "echo \"  md5 : $(md5sum $WORK/$CURRENT_BATCH)\"\n",
    "echo \"  date: $(date)\"\n",
    "\n",
    "\n",
    "curl -s -X POST -T $WORK/$CURRENT_BATCH localhost:8000/jobs/add_sra_run_info/"
   ]
  },
  {
   "cell_type": "code",
   "execution_count": 95,
   "metadata": {},
   "outputs": [
    {
     "name": "stdout",
     "output_type": "stream",
     "text": [
      "Loading SRARunInfo into scheduler \r\n",
      "  File: batch13_zoonotic.csv\r\n",
      "  md5 : ee252127c41c1b8042893904c5a41929  /home/artem/serratus/notebook/200505_ab/batch13_zoonotic.csv\r\n",
      "  date: Sun May 10 23:11:24 PDT 2020\r\n",
      "{\"inserted_rows\":10000,\"total_rows\":20001}\r\n"
     ]
    }
   ],
   "source": [
    "# Load SRA Run Info into scheduler ===================\n",
    "# Scheduler DNS: \n",
    "echo \"Loading SRARunInfo into scheduler \"\n",
    "echo \"  File: $CURRENT_BATCH\"\n",
    "echo \"  md5 : $(md5sum $WORK/$CURRENT_BATCH)\"\n",
    "echo \"  date: $(date)\"\n",
    "\n",
    "\n",
    "curl -s -X POST -T $WORK/$CURRENT_BATCH localhost:8000/jobs/add_sra_run_info/"
   ]
  },
  {
   "cell_type": "code",
   "execution_count": 96,
   "metadata": {},
   "outputs": [
    {
     "name": "stdout",
     "output_type": "stream",
     "text": [
      "  Cluster Config File: \r\n",
      "{\r\n",
      "\"ALIGN_ARGS\":\"--very-sensitive-local\",\r\n",
      "\"ALIGN_SCALING_CONSTANT\":0.75,\r\n",
      "\"ALIGN_SCALING_ENABLE\":true,\r\n",
      "\"ALIGN_SCALING_MAX\":400,\r\n",
      "\"CLEAR_INTERVAL\":777,\r\n",
      "\"DL_ARGS\":\"\",\r\n",
      "\"DL_SCALING_CONSTANT\":0.1,\r\n",
      "\"DL_SCALING_ENABLE\":true,\r\n",
      "\"DL_SCALING_MAX\":180,\r\n",
      "\"GENOME\":\"cov2m\",\r\n",
      "\"MERGE_ARGS\":\"\",\r\n",
      "\"MERGE_SCALING_CONSTANT\":0.1,\r\n",
      "\"MERGE_SCALING_ENABLE\":true,\r\n",
      "\"MERGE_SCALING_MAX\":3,\r\n",
      "\"SCALING_INTERVAL\":305,\r\n",
      "\"VIRTUAL_ASG_MAX_INCREASE\":10,\r\n",
      "\"VIRTUAL_SCALING_INTERVAL\":60\r\n",
      "}\r\n",
      "\r\n",
      "\r\n",
      "  % Total    % Received % Xferd  Average Speed   Time    Time     Time  Current\r\n",
      "                                 Dload  Upload   Total   Spent    Left  Speed\r\n",
      "\r",
      "  0     0    0     0    0     0      0      0 --:--:-- --:--:-- --:--:--     0{\"ALIGN_ARGS\":\"--very-sensitive-local\",\"ALIGN_SCALING_CONSTANT\":0.75,\"ALIGN_SCALING_ENABLE\":true,\"ALIGN_SCALING_MAX\":400,\"CLEAR_INTERVAL\":777,\"DL_ARGS\":\"\",\"DL_SCALING_CONSTANT\":0.1,\"DL_SCALING_ENABLE\":true,\"DL_SCALING_MAX\":180,\"GENOME\":\"cov2m\",\"MERGE_ARGS\":\"\",\"MERGE_SCALING_CONSTANT\":0.1,\"MERGE_SCALING_ENABLE\":true,\"MERGE_SCALING_MAX\":3,\"SCALING_INTERVAL\":305,\"VIRTUAL_ASG_MAX_INCREASE\":10,\"VIRTUAL_SCALING_INTERVAL\":60}\r\n",
      "\r",
      "100   864  100   423  100   441   1608   1676 --:--:-- --:--:-- --:--:--  3285\r\n"
     ]
    }
   ],
   "source": [
    "# Set Cluster Parameters =============================\n",
    "cd $TF\n",
    "# Make local changes to config file\n",
    "echo \"  Cluster Config File: \"\n",
    "cat serratus-config.json\n",
    "echo \"\"\n",
    "echo \"\"\n",
    "# Re-upload config file\n",
    "curl -T serratus-config.json localhost:8000/config"
   ]
  },
  {
   "cell_type": "markdown",
   "metadata": {},
   "source": [
    "### Error Handling\n"
   ]
  },
  {
   "cell_type": "code",
   "execution_count": null,
   "metadata": {},
   "outputs": [],
   "source": [
    "# Error fixes (manually help along)\n",
    "\n",
    "# ssh <scheduler IPv4>\n",
    "# sudo docker ps\n",
    "# sudo docker exec -it <container> bash\n",
    "# apt install sqlite3 awscli\n",
    "\n",
    "### ACCESSION OPERATIONS\n",
    "\n",
    "# Reset SPLITTING accessions to NEW\n",
    "# sqlite3 instance/scheduler.sqlite 'UPDATE acc SET state = \"new\" WHERE state = \"splitting\";'\n",
    "\n",
    "# Reset SPLIT_ERR accessions to NEW\n",
    "# (repeated failures can be missing SRA data)\n",
    "# sqlite3 instance/scheduler.sqlite 'UPDATE acc SET state = \"new\" WHERE state = \"split_err\";'\n",
    "\n",
    "# Reset MERGE_ERR accessions to MERGE_WAIT\n",
    "# sqlite3 instance/scheduler.sqlite 'UPDATE acc SET state = \"merge_wait\" WHERE state = \"merge_err\";'\n",
    "\n",
    "# Clear DONE Accessions (ONLY ON COMPLETION)\n",
    "# sqlite3 instance/scheduler.sqlite 'DELETE FROM acc WHERE state = \"merge_done\";'\n",
    "\n",
    "### BLOCK OPERATIONS\n",
    "\n",
    "# Reset FAIL blocks to NEW\n",
    "# sqlite3 instance/scheduler.sqlite 'UPDATE blocks SET state = \"new\" WHERE state = \"fail\";'\n",
    "\n",
    "# Reset ALIGNING blocks to NEW\n",
    "# sqlite3 instance/scheduler.sqlite 'UPDATE blocks SET state = \"new\" WHERE state = \"aligning\";'"
   ]
  },
  {
   "cell_type": "markdown",
   "metadata": {},
   "source": [
    "\n",
    "## Shutting down procedures\n",
    "\n",
    "Closing up shop."
   ]
  },
  {
   "cell_type": "code",
   "execution_count": 35,
   "metadata": {},
   "outputs": [
    {
     "name": "stdout",
     "output_type": "stream",
     "text": [
      "Sun May 10 00:53:59 PDT 2020\r\n",
      "  % Total    % Received % Xferd  Average Speed   Time    Time     Time  Current\r\n",
      "                                 Dload  Upload   Total   Spent    Left  Speed\r\n",
      "\r",
      "  0     0    0     0    0     0      0      0 --:--:-- --:--:-- --:--:--     0\r",
      "  0 52.4M    0  527k    0     0   697k      0  0:01:16 --:--:--  0:01:16  696k\r",
      "  3 52.4M    3 1887k    0     0  1095k      0  0:00:49  0:00:01  0:00:48 1094k\r",
      "  6 52.4M    6 3295k    0     0  1212k      0  0:00:44  0:00:02  0:00:42 1212k\r",
      "  8 52.4M    8 4767k    0     0  1282k      0  0:00:41  0:00:03  0:00:38 1281k\r",
      " 11 52.4M   11 6367k    0     0  1345k      0  0:00:39  0:00:04  0:00:35 1345k\r",
      " 14 52.4M   14 7999k    0     0  1399k      0  0:00:38  0:00:05  0:00:33 1506k\r",
      " 18 52.4M   18 9791k    0     0  1455k      0  0:00:36  0:00:06  0:00:30 1579k\r",
      " 21 52.4M   21 11.4M    0     0  1510k      0  0:00:35  0:00:07  0:00:28 1672k\r",
      " 25 52.4M   25 13.4M    0     0  1585k      0  0:00:33  0:00:08  0:00:25 1811k\r",
      " 30 52.4M   30 16.1M    0     0  1698k      0  0:00:31  0:00:09  0:00:22 2032k\r",
      " 37 52.4M   37 19.4M    0     0  1857k      0  0:00:28  0:00:10  0:00:18 2380k\r",
      " 45 52.4M   45 23.6M    0     0  2069k      0  0:00:25  0:00:11  0:00:14 2897k\r",
      " 53 52.4M   53 27.9M    0     0  2251k      0  0:00:23  0:00:12  0:00:11 3397k\r",
      " 59 52.4M   59 31.0M    0     0  2321k      0  0:00:23  0:00:13  0:00:10 3604k\r",
      " 65 52.4M   65 34.3M    0     0  2371k      0  0:00:22  0:00:14  0:00:08 3658k\r",
      " 69 52.4M   69 36.3M    0     0  2364k      0  0:00:22  0:00:15  0:00:07 3450k\r",
      " 73 52.4M   73 38.3M    0     0  2346k      0  0:00:22  0:00:16  0:00:06 2995k\r",
      " 77 52.4M   77 40.4M    0     0  2336k      0  0:00:22  0:00:17  0:00:05 2554k\r",
      " 81 52.4M   81 42.5M    0     0  2328k      0  0:00:23  0:00:18  0:00:05 2347k\r",
      " 85 52.4M   85 44.7M    0     0  2320k      0  0:00:23  0:00:19  0:00:04 2167k\r",
      " 88 52.4M   88 46.5M    0     0  2299k      0  0:00:23  0:00:20  0:00:03 2094k\r",
      " 92 52.4M   92 48.3M    0     0  2279k      0  0:00:23  0:00:21  0:00:02 2056k\r",
      " 96 52.4M   96 50.4M    0     0  2273k      0  0:00:23  0:00:22  0:00:01 2050k\r",
      "100 52.4M  100 52.4M    0     0  2273k      0  0:00:23  0:00:23 --:--:-- 2064k\r\n"
     ]
    }
   ],
   "source": [
    "# Dump the Scheduler SQLITE table to a local file\n",
    "date\n",
    "curl localhost:8000/db > \\\n",
    "  $WORK/zoonotic_batch8_complete.sqlite"
   ]
  },
  {
   "cell_type": "code",
   "execution_count": 46,
   "metadata": {},
   "outputs": [
    {
     "name": "stdout",
     "output_type": "stream",
     "text": [
      "Sun May 10 09:22:23 PDT 2020\r\n",
      "  % Total    % Received % Xferd  Average Speed   Time    Time     Time  Current\r\n",
      "                                 Dload  Upload   Total   Spent    Left  Speed\r\n",
      "\r",
      "  0     0    0     0    0     0      0      0 --:--:-- --:--:-- --:--:--     0\r",
      "  1 41.5M    1  639k    0     0   916k      0  0:00:46 --:--:--  0:00:46  915k\r",
      "  6 41.5M    6 2783k    0     0  1635k      0  0:00:26  0:00:01  0:00:25 1634k\r",
      " 11 41.5M   11 5023k    0     0  1860k      0  0:00:22  0:00:02  0:00:20 1859k\r",
      " 15 41.5M   15 6527k    0     0  1763k      0  0:00:24  0:00:03  0:00:21 1763k\r",
      " 18 41.5M   18 7743k    0     0  1646k      0  0:00:25  0:00:04  0:00:21 1646k\r",
      " 21 41.5M   21 9023k    0     0  1581k      0  0:00:26  0:00:05  0:00:21 1675k\r",
      " 24 41.5M   24 10.1M    0     0  1551k      0  0:00:27  0:00:06  0:00:21 1522k\r",
      " 27 41.5M   27 11.5M    0     0  1540k      0  0:00:27  0:00:07  0:00:20 1368k\r",
      " 31 41.5M   31 13.1M    0     0  1547k      0  0:00:27  0:00:08  0:00:19 1388k\r",
      " 35 41.5M   35 14.8M    0     0  1565k      0  0:00:27  0:00:09  0:00:18 1490k\r",
      " 40 41.5M   40 16.6M    0     0  1588k      0  0:00:26  0:00:10  0:00:16 1595k\r",
      " 44 41.5M   44 18.6M    0     0  1627k      0  0:00:26  0:00:11  0:00:15 1731k\r",
      " 50 41.5M   50 21.0M    0     0  1698k      0  0:00:25  0:00:12  0:00:13 1941k\r",
      " 57 41.5M   57 24.0M    0     0  1792k      0  0:00:23  0:00:13  0:00:10 2213k\r",
      " 62 41.5M   62 25.8M    0     0  1796k      0  0:00:23  0:00:14  0:00:09 2245k\r",
      " 65 41.5M   65 27.2M    0     0  1776k      0  0:00:23  0:00:15  0:00:08 2180k\r",
      " 69 41.5M   69 28.8M    0     0  1764k      0  0:00:24  0:00:16  0:00:08 2083k\r",
      " 72 41.5M   72 30.0M    0     0  1734k      0  0:00:24  0:00:17  0:00:07 1825k\r",
      " 75 41.5M   75 31.3M    0     0  1714k      0  0:00:24  0:00:18  0:00:06 1496k\r",
      " 79 41.5M   79 32.8M    0     0  1706k      0  0:00:24  0:00:19  0:00:05 1441k\r",
      " 82 41.5M   82 34.4M    0     0  1701k      0  0:00:25  0:00:20  0:00:05 1463k\r",
      " 86 41.5M   86 35.9M    0     0  1696k      0  0:00:25  0:00:21  0:00:04 1469k\r",
      " 89 41.5M   89 37.2M    0     0  1675k      0  0:00:25  0:00:22  0:00:03 1469k\r",
      " 92 41.5M   92 38.5M    0     0  1665k      0  0:00:25  0:00:23  0:00:02 1481k\r",
      " 96 41.5M   96 40.0M    0     0  1661k      0  0:00:25  0:00:24  0:00:01 1481k\r",
      "100 41.5M  100 41.5M    0     0  1659k      0  0:00:25  0:00:25 --:--:-- 1482k\r\n"
     ]
    }
   ],
   "source": [
    "# Dump the Scheduler SQLITE table to a local file\n",
    "date\n",
    "curl localhost:8000/db > \\\n",
    "  $WORK/zoonotic_batch9_complete.sqlite"
   ]
  },
  {
   "cell_type": "code",
   "execution_count": 64,
   "metadata": {},
   "outputs": [
    {
     "name": "stdout",
     "output_type": "stream",
     "text": [
      "Sun May 10 14:37:24 PDT 2020\r\n",
      "  % Total    % Received % Xferd  Average Speed   Time    Time     Time  Current\r\n",
      "                                 Dload  Upload   Total   Spent    Left  Speed\r\n",
      "\r",
      "  0     0    0     0    0     0      0      0 --:--:-- --:--:-- --:--:--     0\r",
      "  0 39.5M    0  111k    0     0   129k      0  0:05:12 --:--:--  0:05:12  129k\r",
      "  0 39.5M    0  351k    0     0   182k      0  0:03:41  0:00:01  0:03:40  182k\r",
      "  1 39.5M    1  671k    0     0   234k      0  0:02:52  0:00:02  0:02:50  234k\r",
      "  2 39.5M    2 1087k    0     0   284k      0  0:02:22  0:00:03  0:02:19  284k\r",
      "  4 39.5M    4 1631k    0     0   337k      0  0:02:00  0:00:04  0:01:56  337k\r",
      "  5 39.5M    5 2271k    0     0   390k      0  0:01:43  0:00:05  0:01:38  436k\r",
      "  7 39.5M    7 3039k    0     0   446k      0  0:01:30  0:00:06  0:01:24  550k\r",
      " 10 39.5M   10 4127k    0     0   528k      0  0:01:16  0:00:07  0:01:09  697k\r",
      " 14 39.5M   14 5855k    0     0   664k      0  0:01:00  0:00:08  0:00:52  957k\r",
      " 20 39.5M   20 8415k    0     0   858k      0  0:00:47  0:00:09  0:00:38 1363k\r",
      " 29 39.5M   29 11.5M    0     0  1093k      0  0:00:37  0:00:10  0:00:27 1905k\r",
      " 37 39.5M   37 14.9M    0     0  1301k      0  0:00:31  0:00:11  0:00:20 2466k\r",
      " 44 39.5M   44 17.6M    0     0  1409k      0  0:00:28  0:00:12  0:00:16 2787k\r",
      " 50 39.5M   50 19.8M    0     0  1471k      0  0:00:27  0:00:13  0:00:14 2892k\r",
      " 55 39.5M   55 22.1M    0     0  1529k      0  0:00:26  0:00:14  0:00:12 2848k\r",
      " 61 39.5M   61 24.4M    0     0  1586k      0  0:00:25  0:00:15  0:00:10 2662k\r",
      " 67 39.5M   67 26.8M    0     0  1633k      0  0:00:24  0:00:16  0:00:08 2418k\r",
      " 72 39.5M   72 28.8M    0     0  1661k      0  0:00:24  0:00:17  0:00:07 2305k\r",
      " 78 39.5M   78 30.9M    0     0  1684k      0  0:00:24  0:00:18  0:00:06 2270k\r",
      " 83 39.5M   83 33.2M    0     0  1716k      0  0:00:23  0:00:19  0:00:04 2269k\r",
      " 86 39.5M   86 34.3M    0     0  1688k      0  0:00:23  0:00:20  0:00:03 2013k\r",
      " 89 39.5M   89 35.2M    0     0  1655k      0  0:00:24  0:00:21  0:00:03 1727k\r",
      " 91 39.5M   91 36.2M    0     0  1628k      0  0:00:24  0:00:22  0:00:02 1511k\r",
      " 94 39.5M   94 37.4M    0     0  1608k      0  0:00:25  0:00:23  0:00:02 1325k\r",
      " 97 39.5M   97 38.6M    0     0  1595k      0  0:00:25  0:00:24  0:00:01 1113k\r",
      "100 39.5M  100 39.5M    0     0  1588k      0  0:00:25  0:00:25 --:--:-- 1140k\r\n"
     ]
    }
   ],
   "source": [
    "# Dump the Scheduler SQLITE table to a local file\n",
    "date\n",
    "curl localhost:8000/db > \\\n",
    "  $WORK/zoonotic_batch10_complete.sqlite"
   ]
  },
  {
   "cell_type": "code",
   "execution_count": 85,
   "metadata": {},
   "outputs": [
    {
     "name": "stdout",
     "output_type": "stream",
     "text": [
      "Sun May 10 20:51:35 PDT 2020\r\n",
      "  % Total    % Received % Xferd  Average Speed   Time    Time     Time  Current\r\n",
      "                                 Dload  Upload   Total   Spent    Left  Speed\r\n",
      "\r",
      "  0     0    0     0    0     0      0      0 --:--:-- --:--:-- --:--:--     0\r",
      "  0 58.6M    0  224k    0     0   364k      0  0:02:44 --:--:--  0:02:44  364k\r",
      "  2 58.6M    2 1216k    0     0   754k      0  0:01:19  0:00:01  0:01:18  754k\r",
      "  3 58.6M    3 2176k    0     0   824k      0  0:01:12  0:00:02  0:01:10  824k\r",
      "  5 58.6M    5 3168k    0     0   877k      0  0:01:08  0:00:03  0:01:05  877k\r",
      "  7 58.6M    7 4320k    0     0   934k      0  0:01:04  0:00:04  0:01:00  934k\r",
      "  9 58.6M    9 5536k    0     0   982k      0  0:01:01  0:00:05  0:00:56 1058k\r",
      " 11 58.6M   11 6880k    0     0  1040k      0  0:00:57  0:00:06  0:00:51 1133k\r",
      " 13 58.6M   13 8224k    0     0  1080k      0  0:00:55  0:00:07  0:00:48 1215k\r",
      " 16 58.6M   16 9760k    0     0  1132k      0  0:00:52  0:00:08  0:00:44 1317k\r",
      " 19 58.6M   19 11.5M    0     0  1226k      0  0:00:48  0:00:09  0:00:39 1495k\r",
      " 24 58.6M   24 14.1M    0     0  1361k      0  0:00:44  0:00:10  0:00:34 1789k\r",
      " 28 58.6M   28 17.0M    0     0  1499k      0  0:00:40  0:00:11  0:00:29 2105k\r",
      " 33 58.6M   33 19.9M    0     0  1616k      0  0:00:37  0:00:12  0:00:25 2432k\r",
      " 39 58.6M   39 23.0M    0     0  1734k      0  0:00:34  0:00:13  0:00:21 2771k\r",
      " 43 58.6M   43 25.5M    0     0  1791k      0  0:00:33  0:00:14  0:00:19 2882k\r",
      " 48 58.6M   48 28.3M    0     0  1857k      0  0:00:32  0:00:15  0:00:17 2910k\r",
      " 53 58.6M   53 31.1M    0     0  1920k      0  0:00:31  0:00:16  0:00:15 2895k\r",
      " 57 58.6M   57 33.8M    0     0  1965k      0  0:00:30  0:00:17  0:00:13 2841k\r",
      " 61 58.6M   61 36.0M    0     0  1985k      0  0:00:30  0:00:18  0:00:12 2668k\r",
      " 65 58.6M   65 38.6M    0     0  2020k      0  0:00:29  0:00:19  0:00:10 2689k\r",
      " 70 58.6M   70 41.4M    0     0  2056k      0  0:00:29  0:00:20  0:00:09 2679k\r",
      " 74 58.6M   74 43.5M    0     0  2065k      0  0:00:29  0:00:21  0:00:08 2546k\r",
      " 77 58.6M   77 45.7M    0     0  2067k      0  0:00:29  0:00:22  0:00:07 2428k\r",
      " 81 58.6M   81 47.6M    0     0  2064k      0  0:00:29  0:00:23  0:00:06 2355k\r",
      " 84 58.6M   84 49.5M    0     0  2060k      0  0:00:29  0:00:24  0:00:05 2219k\r",
      " 87 58.6M   87 51.5M    0     0  2060k      0  0:00:29  0:00:25  0:00:04 2077k\r",
      " 90 58.6M   90 53.1M    0     0  2043k      0  0:00:29  0:00:26  0:00:03 1949k\r",
      " 93 58.6M   93 54.8M    0     0  2034k      0  0:00:29  0:00:27  0:00:02 1883k\r",
      " 96 58.6M   96 56.7M    0     0  2031k      0  0:00:29  0:00:28  0:00:01 1877k\r",
      "100 58.6M  100 58.6M    0     0  2031k      0  0:00:29  0:00:29 --:--:-- 1888k\r\n"
     ]
    }
   ],
   "source": [
    "# Dump the Scheduler SQLITE table to a local file\n",
    "date\n",
    "curl localhost:8000/db > \\\n",
    "  $WORK/zoonotic_batch11_complete.sqlite"
   ]
  },
  {
   "cell_type": "code",
   "execution_count": 100,
   "metadata": {},
   "outputs": [
    {
     "name": "stdout",
     "output_type": "stream",
     "text": [
      "Mon May 11 10:28:14 PDT 2020\r\n",
      "  % Total    % Received % Xferd  Average Speed   Time    Time     Time  Current\r\n",
      "                                 Dload  Upload   Total   Spent    Left  Speed\r\n",
      "\r",
      "  0     0    0     0    0     0      0      0 --:--:-- --:--:-- --:--:--     0\r",
      "  0 88.0M    0  184k    0     0   417k      0  0:03:36 --:--:--  0:03:36  416k\r",
      "  2 88.0M    2 2072k    0     0  1437k      0  0:01:02  0:00:01  0:01:01 1436k\r",
      "  4 88.0M    4 4056k    0     0  1660k      0  0:00:54  0:00:02  0:00:52 1660k\r",
      "  6 88.0M    6 5784k    0     0  1682k      0  0:00:53  0:00:03  0:00:50 1681k\r",
      "  8 88.0M    8 7576k    0     0  1704k      0  0:00:52  0:00:04  0:00:48 1704k\r",
      " 10 88.0M   10 9272k    0     0  1700k      0  0:00:53  0:00:05  0:00:48 1812k\r",
      " 12 88.0M   12 10.8M    0     0  1725k      0  0:00:52  0:00:06  0:00:46 1808k\r",
      " 14 88.0M   14 12.4M    0     0  1713k      0  0:00:52  0:00:07  0:00:45 1739k\r",
      " 15 88.0M   15 13.9M    0     0  1693k      0  0:00:53  0:00:08  0:00:45 1701k\r",
      " 17 88.0M   17 15.8M    0     0  1711k      0  0:00:52  0:00:09  0:00:43 1717k\r",
      " 20 88.0M   20 17.7M    0     0  1737k      0  0:00:51  0:00:10  0:00:41 1777k\r",
      " 22 88.0M   22 19.6M    0     0  1755k      0  0:00:51  0:00:11  0:00:40 1793k\r",
      " 24 88.0M   24 21.5M    0     0  1775k      0  0:00:50  0:00:12  0:00:38 1869k\r",
      " 26 88.0M   26 23.5M    0     0  1791k      0  0:00:50  0:00:13  0:00:37 1959k\r",
      " 28 88.0M   28 25.5M    0     0  1808k      0  0:00:49  0:00:14  0:00:35 1993k\r",
      " 30 88.0M   30 27.2M    0     0  1808k      0  0:00:49  0:00:15  0:00:34 1958k\r",
      " 32 88.0M   32 29.0M    0     0  1805k      0  0:00:49  0:00:16  0:00:33 1920k\r",
      " 35 88.0M   35 30.9M    0     0  1806k      0  0:00:49  0:00:17  0:00:32 1881k\r",
      " 36 88.0M   36 32.4M    0     0  1804k      0  0:00:49  0:00:18  0:00:31 1836k\r",
      " 38 88.0M   38 34.2M    0     0  1800k      0  0:00:50  0:00:19  0:00:31 1777k\r",
      " 40 88.0M   40 35.9M    0     0  1803k      0  0:00:49  0:00:20  0:00:29 1785k\r",
      " 42 88.0M   42 37.7M    0     0  1801k      0  0:00:50  0:00:21  0:00:29 1786k\r",
      " 44 88.0M   44 39.5M    0     0  1806k      0  0:00:49  0:00:22  0:00:27 1803k\r",
      " 46 88.0M   46 41.2M    0     0  1799k      0  0:00:50  0:00:23  0:00:27 1781k\r",
      " 48 88.0M   48 42.5M    0     0  1781k      0  0:00:50  0:00:24  0:00:26 1707k\r",
      " 49 88.0M   49 43.3M    0     0  1745k      0  0:00:51  0:00:25  0:00:26 1508k\r",
      " 50 88.0M   50 44.3M    0     0  1718k      0  0:00:52  0:00:26  0:00:26 1361k\r",
      " 51 88.0M   51 45.4M    0     0  1695k      0  0:00:53  0:00:27  0:00:26 1199k\r",
      " 52 88.0M   52 46.6M    0     0  1677k      0  0:00:53  0:00:28  0:00:25 1106k\r",
      " 54 88.0M   54 47.8M    0     0  1663k      0  0:00:54  0:00:29  0:00:25 1092k\r",
      " 55 88.0M   55 49.2M    0     0  1656k      0  0:00:54  0:00:30  0:00:24 1207k\r",
      " 57 88.0M   57 50.7M    0     0  1651k      0  0:00:54  0:00:31  0:00:23 1301k\r",
      " 59 88.0M   59 52.0M    0     0  1642k      0  0:00:54  0:00:32  0:00:22 1355k\r",
      " 60 88.0M   60 53.4M    0     0  1635k      0  0:00:55  0:00:33  0:00:22 1397k\r",
      " 62 88.0M   62 54.8M    0     0  1631k      0  0:00:55  0:00:34  0:00:21 1439k\r",
      " 64 88.0M   64 56.4M    0     0  1632k      0  0:00:55  0:00:35  0:00:20 1484k\r",
      " 66 88.0M   66 58.1M    0     0  1633k      0  0:00:55  0:00:36  0:00:19 1519k\r",
      " 67 88.0M   67 59.8M    0     0  1635k      0  0:00:55  0:00:37  0:00:18 1585k\r",
      " 69 88.0M   69 61.4M    0     0  1637k      0  0:00:55  0:00:38  0:00:17 1645k\r",
      " 71 88.0M   71 63.2M    0     0  1640k      0  0:00:54  0:00:39  0:00:15 1705k\r",
      " 73 88.0M   73 64.7M    0     0  1638k      0  0:00:55  0:00:40  0:00:15 1678k\r",
      " 74 88.0M   74 65.7M    0     0  1636k      0  0:00:55  0:00:41  0:00:14 1654k\r\n",
      "curl: (18) transfer closed with 23334176 bytes remaining to read\r\n"
     ]
    }
   ],
   "source": [
    "# Dump the Scheduler SQLITE table to a local file\n",
    "date\n",
    "curl localhost:8000/db > \\\n",
    "  $WORK/zoonotic_batch12_complete.sqlite"
   ]
  },
  {
   "cell_type": "markdown",
   "metadata": {},
   "source": [
    "## Destroy Cluster\n",
    "\n",
    "Close out all resources with terraform (will take a few minutes).\n"
   ]
  },
  {
   "cell_type": "code",
   "execution_count": null,
   "metadata": {},
   "outputs": [],
   "source": [
    "terraform destroy -auto-approve\n",
    "# WARNING this will also delete the standard output bucket/data\n",
    "# Save data prior to destroy"
   ]
  },
  {
   "cell_type": "markdown",
   "metadata": {},
   "source": [
    "### Run Notes\n",
    "\n"
   ]
  },
  {
   "cell_type": "markdown",
   "metadata": {},
   "source": [
    "That's the first pass for 70,000 accessions. There were many `split_err` along the way, a lot of them are likley error 3 which means they simply have to be retried. I'll do a follow-up set now of the remaining libraries such that we can identify fixable errors and/or have a list of libraries which were not completed for whatever reason. "
   ]
  }
 ],
 "metadata": {
  "kernelspec": {
   "display_name": "Bash",
   "language": "bash",
   "name": "bash"
  },
  "language_info": {
   "codemirror_mode": "shell",
   "file_extension": ".sh",
   "mimetype": "text/x-sh",
   "name": "bash"
  }
 },
 "nbformat": 4,
 "nbformat_minor": 1
}
