{
 "cells": [
  {
   "cell_type": "markdown",
   "metadata": {},
   "source": [
    "# Coronaviridae Index Genomes\n",
    "```\n",
    "Lead     : ababaian\n",
    "Issue    : #101\n",
    "start    : 2020 05 17\n",
    "complete : 2020 05 17\n",
    "s3 files : s3://serratus-public/notebook/200517_ab/\n",
    "```\n",
    "\n",
    "## Introduction\n",
    "\n",
    "To begin phylogenomics and organization of CoV fragment sequences / contigs into a unified 'pan-genome' we will need a central annotation and multiple sequence alignment for coronaviridae.\n",
    "\n",
    "This is the rationale for choosing 12 representative sequences with good annotation which span coronaviriade, and two toroviruses as an outgroup. From these we will define our pan-genome reference.\n",
    "\n",
    "### Objectives\n",
    "- Select 12 representative and divergent CoV sequences and 3 toroviruses as outgroup\n",
    "- Each sequence should have well annotated ORFs in genbank format\n",
    "- Try a MSA between these sequences, fix it by hand if need be\n"
   ]
  },
  {
   "cell_type": "markdown",
   "metadata": {},
   "source": [
    "## Materials and Methods\n",
    "\n",
    "- FLOM1 reference sequences where available:\n",
    "Nucleotide Search:\n",
    "```\n",
    "Viruses[Organism] AND srcdb_refseq[PROP] NOT wgs[PROP] NOT cellular organisms[ORGN] NOT AC_000001:AC_999999[PACC] AND (\"vhost human\"[Filter] AND \"vhost vertebrates\"[Filter])\n",
    "```\n",
    "\n",
    "Also used: [Virus Genome Browser](https://www.ncbi.nlm.nih.gov/genomes/GenomesGroup.cgi?taxid=11118)"
   ]
  },
  {
   "cell_type": "markdown",
   "metadata": {},
   "source": [
    "## iCOV - Index Search Query\n",
    "Date accessed: 2020 05 17\n",
    "\n",
    "```\n",
    "NC_003436 OR NC_005831 OR NC_002306 OR NC_001846 OR NC_045512 OR NC_003045 OR NC_001451 OR NC_010646 OR NC_046965 OR NC_011547 OR NC_011549 OR NC_016994 OR NC_007447 OR NC_022787 OR NC_026812\n",
    "```\n",
    "\n",
    "### Files Downloaded\n",
    "\n",
    "- `iCOV.gb` : Full Genbank records\n",
    "- `iCOV.fa` : Genome nucleotide sequences\n",
    "- `iCOV_protein.fa` : Annotated Coding Sequences (protein)\n",
    "- `iCOV_cds.fa` : Annotated Coding Sequences (DNA)\n",
    "\n",
    "\n",
    "## Name/accession\n",
    "`iCOV.names`\n",
    "\n",
    "```\n",
    "aFIPV\tNC_002306.3\t29355\n",
    "aNL63\tNC_005831.2\t27553\n",
    "aPEDV\tNC_003436.1\t28033\n",
    "\n",
    "bBOV\tNC_003045.1\t31028\n",
    "bMHV\tNC_001846.1\t31357\n",
    "hCOV\tNC_045512.2\t29903\n",
    "\n",
    "gIBV\tNC_001451.1\t27608\n",
    "gBWV\tNC_010646.1\t31686\n",
    "gCGV\tNC_046965.1\t28539\n",
    "\n",
    "dBUV\tNC_011547.1\t26487\n",
    "dTHV\tNC_011549.1\t26396\n",
    "dNHV\tNC_016994.1\t26077\n",
    "\n",
    "tCSB\tNC_026812.1\t27004\n",
    "tPTO\tNC_022787.1\t28301\n",
    "tBTO\tNC_007447.1\t28475\n",
    "```\n"
   ]
  },
  {
   "cell_type": "code",
   "execution_count": 4,
   "metadata": {},
   "outputs": [
    {
     "name": "stdout",
     "output_type": "stream",
     "text": [
      "NC_046965.1\t28539\t81\t70\t71\r\n",
      "NC_045512.2\t29903\t29126\t70\t71\r\n",
      "NC_011547.1\t26487\t59517\t70\t71\r\n",
      "NC_026812.1\t27004\t86454\t70\t71\r\n",
      "NC_022787.1\t28301\t113904\t70\t71\r\n",
      "NC_016994.1\t26077\t142671\t70\t71\r\n",
      "NC_002306.3\t29355\t169188\t70\t71\r\n",
      "NC_011549.1\t26396\t199023\t70\t71\r\n",
      "NC_010646.1\t31686\t225857\t70\t71\r\n",
      "NC_007447.1\t28475\t258039\t70\t71\r\n",
      "NC_005831.2\t27553\t286975\t70\t71\r\n",
      "NC_003436.1\t28033\t314985\t70\t71\r\n",
      "NC_003045.1\t31028\t343469\t70\t71\r\n",
      "NC_001846.1\t31357\t375020\t70\t71\r\n",
      "NC_001451.1\t27608\t406890\t70\t71\r\n"
     ]
    }
   ],
   "source": [
    "# Create a simple index file for TSV start\n",
    "cd /home/artem/Desktop/serratus/notebook/200517_ab\n",
    "samtools faidx iCOV.fa\n",
    "cat iCOV.fa.fai"
   ]
  },
  {
   "cell_type": "code",
   "execution_count": null,
   "metadata": {},
   "outputs": [],
   "source": [
    "# Extract orf1ab protein sequences\n",
    "mkdir tmp\n",
    "cp iCOV_protein.fa tmp/\n",
    "cd tmp\n",
    "\n",
    "fastaexplode iCOV_protein.fa\n",
    "# sort by size\n",
    "# select top 15, that's the orf1ab (gene 1)\n",
    "# cp to orf1ab/\n",
    "cd ..; rm -rf tmp/"
   ]
  },
  {
   "cell_type": "markdown",
   "metadata": {},
   "source": [
    "# Alphacoronavirus\n",
    "\n",
    "## Porcine Epidemic Diarrhea Virus (PEDV)\n",
    "\n",
    "[`NC_003436`](https://www.ncbi.nlm.nih.gov/nuccore/19387576)\n",
    "\n",
    "## Human Coronavirus NL63 (NL63)\n",
    "\n",
    "[`NC_005831`](https://www.ncbi.nlm.nih.gov/nuccore/49169782)\n",
    "\n",
    "## Feline Infectious Peritonitis Virus (FIPV)\n",
    "\n",
    "[`NC_002306`](https://www.ncbi.nlm.nih.gov/nuccore/315192962)\n"
   ]
  },
  {
   "cell_type": "markdown",
   "metadata": {},
   "source": [
    "# Betacoronavirus\n",
    "\n",
    "## Murine Hepatitis Virus (MHV)\n",
    "\n",
    "[`NC_001846`](https://www.ncbi.nlm.nih.gov/nuccore/9629812)\n",
    "\n",
    "## SARS-CoV-2 (hCOV2)\n",
    "\n",
    "[`NC_045512`](https://www.ncbi.nlm.nih.gov/nuccore/1798174254)\n",
    "\n",
    "## Bovine Coronavirus (BOV)\n",
    "\n",
    "[`NC_003045`](https://www.ncbi.nlm.nih.gov/nuccore/15081544)\n"
   ]
  },
  {
   "cell_type": "markdown",
   "metadata": {},
   "source": [
    "# Gammacoronavirus\n",
    "\n",
    "## Infectious Bronchitis Virus (IBV)\n",
    "\n",
    "[`NC_001451`](https://www.ncbi.nlm.nih.gov/nuccore/9626535)\n",
    "\n",
    "## Beluga Whale Coronavirus (BWV)\n",
    "\n",
    "[`NC_010646`](https://www.ncbi.nlm.nih.gov/nuccore/187251953)\n",
    "\n",
    "## Canada Goose Coronavirus (CGV)\n",
    "\n",
    "[`NC_046965`](https://www.ncbi.nlm.nih.gov/nuccore/1830345784)"
   ]
  },
  {
   "cell_type": "markdown",
   "metadata": {},
   "source": [
    "# Deltacoronavirus\n",
    "\n",
    "## Bulbul Coronavirus (BUV)\n",
    "\n",
    "[`NC_011547`](https://www.ncbi.nlm.nih.gov/nuccore/1464306524)\n",
    "\n",
    "## Thrush Coronavirus (THV)\n",
    "\n",
    "[`NC_011549`](https://www.ncbi.nlm.nih.gov/nuccore/212681378)\n",
    "\n",
    "## Night Heron Coronavirus (NHV)\n",
    "\n",
    "[`NC_016994`](https://www.ncbi.nlm.nih.gov/nuccore/383080775)\n"
   ]
  },
  {
   "cell_type": "markdown",
   "metadata": {},
   "source": [
    "# Torovirus\n",
    "\n",
    "## Breda (BTO)\n",
    "\n",
    "[`NC_007447`](https://www.ncbi.nlm.nih.gov/nuccore/77118348)\n",
    "\n",
    "## Porcine Torovirus (PTO)\n",
    "\n",
    "[`NC_022787`](https://www.ncbi.nlm.nih.gov/nuccore/557745614)\n",
    "\n",
    "## Chinook Salmon Bafinivirus (CSB)\n",
    "\n",
    "[`NC_026812`](https://www.ncbi.nlm.nih.gov/nuccore/807743898)\n"
   ]
  },
  {
   "cell_type": "code",
   "execution_count": null,
   "metadata": {},
   "outputs": [],
   "source": [
    "cd /home/artem/Desktop/serratus/notebook/200517_ab\n",
    "aws s3 sync ./ s3://serratus-public/notebook/200517_ab/"
   ]
  }
 ],
 "metadata": {
  "kernelspec": {
   "display_name": "Bash",
   "language": "bash",
   "name": "bash"
  },
  "language_info": {
   "codemirror_mode": "shell",
   "file_extension": ".sh",
   "mimetype": "text/x-sh",
   "name": "bash"
  }
 },
 "nbformat": 4,
 "nbformat_minor": 1
}
