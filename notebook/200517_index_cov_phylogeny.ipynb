{
 "cells": [
  {
   "cell_type": "markdown",
   "metadata": {},
   "source": [
    "# Coronaviridae Index Genomes\n",
    "```\n",
    "Lead     : ababaian\n",
    "Issue    : #101\n",
    "start    : 2020 05 17\n",
    "complete : 2020 05 17\n",
    "s3 files : s3://serratus-public/notebook/200517_ab/\n",
    "```\n",
    "\n",
    "## Introduction\n",
    "\n",
    "To begin phylogenomics and organization of CoV fragment sequences / contigs into a unified 'pan-genome' we will need a central annotation and multiple sequence alignment for coronaviridae.\n",
    "\n",
    "This is the rationale for choosing 12 representative sequences with good annotation which span coronaviriade, and two toroviruses as an outgroup. From these we will define our pan-genome reference.\n",
    "\n",
    "### Objectives\n",
    "- Select 12 representative and divergent CoV sequences and 3 toroviruses as outgroup\n",
    "- Each sequence should have well annotated ORFs in genbank format\n",
    "- Try a MSA between these sequences, fix it by hand if need be\n"
   ]
  },
  {
   "cell_type": "markdown",
   "metadata": {},
   "source": [
    "## Materials and Methods\n",
    "\n",
    "- FLOM1 reference sequences where available:\n",
    "Nucleotide Search:\n",
    "```\n",
    "Viruses[Organism] AND srcdb_refseq[PROP] NOT wgs[PROP] NOT cellular organisms[ORGN] NOT AC_000001:AC_999999[PACC] AND (\"vhost human\"[Filter] AND \"vhost vertebrates\"[Filter])\n",
    "```\n",
    "\n",
    "Also used: [Virus Genome Browser](https://www.ncbi.nlm.nih.gov/genomes/GenomesGroup.cgi?taxid=11118)"
   ]
  },
  {
   "cell_type": "markdown",
   "metadata": {},
   "source": [
    "## iCOV - Index Search Query\n",
    "Date accessed: 2020 05 17\n",
    "\n",
    "```\n",
    "NC_003436 OR NC_005831 OR NC_002306 OR NC_001846 OR NC_045512 OR NC_003045 OR NC_001451 OR NC_010646 OR NC_046965 OR NC_011547 OR NC_011549 OR NC_016994 OR NC_007447 OR NC_022787 OR NC_026812\n",
    "```\n",
    "\n",
    "### Files Downloaded\n",
    "\n",
    "- `iCOV.gb` : Full Genbank records\n",
    "- `iCOV.fa` : Genome nucleotide sequences\n",
    "- `iCOV_protein.fa` : Annotated Coding Sequences (protein)\n",
    "- `iCOV_cds.fa` : Annotated Coding Sequences (DNA)\n",
    "\n",
    "\n",
    "## Name/accession\n",
    "`iCOV.names`\n",
    "\n",
    "```\n",
    "aFIPV\tNC_002306.3\t29355\n",
    "aNL63\tNC_005831.2\t27553\n",
    "aPEDV\tNC_003436.1\t28033\n",
    "\n",
    "bBOV\tNC_003045.1\t31028\n",
    "bMHV\tNC_001846.1\t31357\n",
    "hCOV\tNC_045512.2\t29903\n",
    "\n",
    "gIBV\tNC_001451.1\t27608\n",
    "gBWV\tNC_010646.1\t31686\n",
    "gCGV\tNC_046965.1\t28539\n",
    "\n",
    "dBUV\tNC_011547.1\t26487\n",
    "dTHV\tNC_011549.1\t26396\n",
    "dNHV\tNC_016994.1\t26077\n",
    "\n",
    "tCSB\tNC_026812.1\t27004\n",
    "tPTO\tNC_022787.1\t28301\n",
    "tBTO\tNC_007447.1\t28475\n",
    "```\n"
   ]
  },
  {
   "cell_type": "code",
   "execution_count": 4,
   "metadata": {},
   "outputs": [
    {
     "name": "stdout",
     "output_type": "stream",
     "text": [
      "NC_046965.1\t28539\t81\t70\t71\r\n",
      "NC_045512.2\t29903\t29126\t70\t71\r\n",
      "NC_011547.1\t26487\t59517\t70\t71\r\n",
      "NC_026812.1\t27004\t86454\t70\t71\r\n",
      "NC_022787.1\t28301\t113904\t70\t71\r\n",
      "NC_016994.1\t26077\t142671\t70\t71\r\n",
      "NC_002306.3\t29355\t169188\t70\t71\r\n",
      "NC_011549.1\t26396\t199023\t70\t71\r\n",
      "NC_010646.1\t31686\t225857\t70\t71\r\n",
      "NC_007447.1\t28475\t258039\t70\t71\r\n",
      "NC_005831.2\t27553\t286975\t70\t71\r\n",
      "NC_003436.1\t28033\t314985\t70\t71\r\n",
      "NC_003045.1\t31028\t343469\t70\t71\r\n",
      "NC_001846.1\t31357\t375020\t70\t71\r\n",
      "NC_001451.1\t27608\t406890\t70\t71\r\n"
     ]
    }
   ],
   "source": [
    "# Create a simple index file for TSV start\n",
    "cd /home/artem/Desktop/serratus/notebook/200517_ab\n",
    "samtools faidx iCOV.fa\n",
    "cat iCOV.fa.fai"
   ]
  },
  {
   "cell_type": "code",
   "execution_count": null,
   "metadata": {},
   "outputs": [],
   "source": [
    "# Extract orf1ab protein sequences\n",
    "mkdir tmp\n",
    "cp iCOV_protein.fa tmp/\n",
    "cd tmp\n",
    "\n",
    "fastaexplode iCOV_protein.fa\n",
    "# sort by size\n",
    "# select top 15, that's the orf1ab (gene 1)\n",
    "# cp to orf1ab/\n",
    "cd ..; rm -rf tmp/"
   ]
  },
  {
   "cell_type": "markdown",
   "metadata": {},
   "source": [
    "# Alphacoronavirus\n",
    "\n",
    "## Porcine Epidemic Diarrhea Virus (PEDV)\n",
    "\n",
    "[`NC_003436`](https://www.ncbi.nlm.nih.gov/nuccore/19387576)\n",
    "\n",
    "## Human Coronavirus NL63 (NL63)\n",
    "\n",
    "[`NC_005831`](https://www.ncbi.nlm.nih.gov/nuccore/49169782)\n",
    "\n",
    "## Feline Infectious Peritonitis Virus (FIPV)\n",
    "\n",
    "[`NC_002306`](https://www.ncbi.nlm.nih.gov/nuccore/315192962)\n"
   ]
  },
  {
   "cell_type": "markdown",
   "metadata": {},
   "source": [
    "# Betacoronavirus\n",
    "\n",
    "## Murine Hepatitis Virus (MHV)\n",
    "\n",
    "[`NC_001846`](https://www.ncbi.nlm.nih.gov/nuccore/9629812)\n",
    "\n",
    "## SARS-CoV-2 (hCOV2)\n",
    "\n",
    "[`NC_045512`](https://www.ncbi.nlm.nih.gov/nuccore/1798174254)\n",
    "\n",
    "## Bovine Coronavirus (BOV)\n",
    "\n",
    "[`NC_003045`](https://www.ncbi.nlm.nih.gov/nuccore/15081544)\n"
   ]
  },
  {
   "cell_type": "markdown",
   "metadata": {},
   "source": [
    "# Gammacoronavirus\n",
    "\n",
    "## Infectious Bronchitis Virus (IBV)\n",
    "\n",
    "[`NC_001451`](https://www.ncbi.nlm.nih.gov/nuccore/9626535)\n",
    "\n",
    "## Beluga Whale Coronavirus (BWV)\n",
    "\n",
    "[`NC_010646`](https://www.ncbi.nlm.nih.gov/nuccore/187251953)\n",
    "\n",
    "## Canada Goose Coronavirus (CGV)\n",
    "\n",
    "[`NC_046965`](https://www.ncbi.nlm.nih.gov/nuccore/1830345784)"
   ]
  },
  {
   "cell_type": "markdown",
   "metadata": {},
   "source": [
    "# Deltacoronavirus\n",
    "\n",
    "## Bulbul Coronavirus (BUV)\n",
    "\n",
    "[`NC_011547`](https://www.ncbi.nlm.nih.gov/nuccore/1464306524)\n",
    "\n",
    "## Thrush Coronavirus (THV)\n",
    "\n",
    "[`NC_011549`](https://www.ncbi.nlm.nih.gov/nuccore/212681378)\n",
    "\n",
    "## Night Heron Coronavirus (NHV)\n",
    "\n",
    "[`NC_016994`](https://www.ncbi.nlm.nih.gov/nuccore/383080775)\n"
   ]
  },
  {
   "cell_type": "markdown",
   "metadata": {},
   "source": [
    "# Torovirus\n",
    "\n",
    "## Breda (BTO)\n",
    "\n",
    "[`NC_007447`](https://www.ncbi.nlm.nih.gov/nuccore/77118348)\n",
    "\n",
    "## Porcine Torovirus (PTO)\n",
    "\n",
    "[`NC_022787`](https://www.ncbi.nlm.nih.gov/nuccore/557745614)\n",
    "\n",
    "## Chinook Salmon Bafinivirus (CSB)\n",
    "\n",
    "[`NC_026812`](https://www.ncbi.nlm.nih.gov/nuccore/807743898)\n"
   ]
  },
  {
   "cell_type": "code",
   "execution_count": null,
   "metadata": {},
   "outputs": [],
   "source": [
    "cd /home/artem/Desktop/serratus/notebook/200517_ab\n",
    "aws s3 sync ./ s3://serratus-public/notebook/200517_ab/"
   ]
  },
  {
   "cell_type": "markdown",
   "metadata": {},
   "source": [
    "# Index Polymerase + Spike Sequences\n"
   ]
  },
  {
   "cell_type": "code",
   "execution_count": 1,
   "metadata": {},
   "outputs": [
    {
     "name": "stdout",
     "output_type": "stream",
     "text": []
    }
   ],
   "source": [
    "WORK=/home/artem/Desktop/serratus/notebook/200517_ab\n",
    "cd $WORK"
   ]
  },
  {
   "cell_type": "code",
   "execution_count": 3,
   "metadata": {},
   "outputs": [
    {
     "name": "stdout",
     "output_type": "stream",
     "text": []
    }
   ],
   "source": [
    "# Extract orf1ab protein sequences\n",
    "mkdir -p tmp\n",
    "cp iCOV_cds.fa tmp/\n",
    "cd tmp\n",
    "\n",
    "fastaexplode iCOV_cds.fa\n",
    "#cd ..; rm -rf tmp/"
   ]
  },
  {
   "cell_type": "markdown",
   "metadata": {},
   "source": [
    "### Extract known RdRp\n",
    "\n",
    "`known_pol.bed`\n",
    "```\n",
    "NC_003436.1\t12620\t15376\n",
    "NC_003045.1\t13341\t16100\n",
    "NC_001846.1\t13544\t21745\n",
    "NC_045512.2\t13468\t16236\n",
    "NC_001451.1\t12354\t15131\n",
    "NC_046965.1\t12001\t14814\n",
    "```\n",
    "\n",
    "```\n",
    "bedtools getfasta -fi iCOV.fa -bed known_pol.bed > pol_partial_cds.fa\n",
    "```"
   ]
  },
  {
   "cell_type": "code",
   "execution_count": 4,
   "metadata": {},
   "outputs": [
    {
     "name": "stdout",
     "output_type": "stream",
     "text": [
      "Completed 143 Bytes/514.2 KiB with 37 file(s) remaining\r",
      "upload: ./known_pol.bed to s3://serratus-public/notebook/200517_ab/known_pol.bed\r\n",
      "Completed 143 Bytes/514.2 KiB with 36 file(s) remaining\r",
      "Completed 13.6 KiB/514.2 KiB with 36 file(s) remaining \r",
      "upload: orf1ab_cds/lcl|NC_001846.1_cds_NP_045298.1_1.fa to s3://serratus-public/notebook/200517_ab/orf1ab_cds/lcl|NC_001846.1_cds_NP_045298.1_1.fa\r\n",
      "Completed 13.6 KiB/514.2 KiB with 35 file(s) remaining\r",
      "Completed 14.0 KiB/514.2 KiB with 35 file(s) remaining\r",
      "upload: ./extracRdRp.bed to s3://serratus-public/notebook/200517_ab/extracRdRp.bed\r\n",
      "Completed 14.0 KiB/514.2 KiB with 34 file(s) remaining\r",
      "Completed 32.8 KiB/514.2 KiB with 34 file(s) remaining\r",
      "upload: orf1ab_cds/lcl|NC_011547.1_cds_YP_002308478.1_1.fa to s3://serratus-public/notebook/200517_ab/orf1ab_cds/lcl|NC_011547.1_cds_YP_002308478.1_1.fa\r\n",
      "Completed 32.8 KiB/514.2 KiB with 33 file(s) remaining\r",
      "Completed 52.7 KiB/514.2 KiB with 33 file(s) remaining\r",
      "upload: orf1ab_cds/lcl|NC_001451.1_cds_NP_066134.1_1.fa to s3://serratus-public/notebook/200517_ab/orf1ab_cds/lcl|NC_001451.1_cds_NP_066134.1_1.fa\r\n",
      "Completed 52.7 KiB/514.2 KiB with 32 file(s) remaining\r",
      "Completed 73.0 KiB/514.2 KiB with 32 file(s) remaining\r",
      "upload: orf1ab_cds/lcl|NC_007447.1_cds_YP_337905.2_1.fa to s3://serratus-public/notebook/200517_ab/orf1ab_cds/lcl|NC_007447.1_cds_YP_337905.2_1.fa\r\n",
      "Completed 73.0 KiB/514.2 KiB with 31 file(s) remaining\r",
      "Completed 93.3 KiB/514.2 KiB with 31 file(s) remaining\r",
      "upload: orf1ab_cds/lcl|NC_003436.1_cds_NP_598309.2_1.fa to s3://serratus-public/notebook/200517_ab/orf1ab_cds/lcl|NC_003436.1_cds_NP_598309.2_1.fa\r\n",
      "Completed 93.3 KiB/514.2 KiB with 30 file(s) remaining\r",
      "Completed 113.5 KiB/514.2 KiB with 30 file(s) remaining\r",
      "upload: orf1ab_cds/lcl|NC_002306.3_cds_YP_004070193.2_1.fa to s3://serratus-public/notebook/200517_ab/orf1ab_cds/lcl|NC_002306.3_cds_YP_004070193.2_1.fa\r\n",
      "Completed 113.5 KiB/514.2 KiB with 29 file(s) remaining\r",
      "Completed 133.7 KiB/514.2 KiB with 29 file(s) remaining\r",
      "upload: orf1ab_cds/lcl|NC_005831.2_cds_YP_003766.2_1.fa to s3://serratus-public/notebook/200517_ab/orf1ab_cds/lcl|NC_005831.2_cds_YP_003766.2_1.fa\r\n",
      "Completed 133.7 KiB/514.2 KiB with 28 file(s) remaining\r",
      "Completed 153.7 KiB/514.2 KiB with 28 file(s) remaining\r",
      "upload: orf1ab_cds/lcl|NC_010646.1_cds_YP_001876435.1_1.fa to s3://serratus-public/notebook/200517_ab/orf1ab_cds/lcl|NC_010646.1_cds_YP_001876435.1_1.fa\r\n",
      "Completed 153.7 KiB/514.2 KiB with 27 file(s) remaining\r",
      "Completed 175.1 KiB/514.2 KiB with 27 file(s) remaining\r",
      "upload: orf1ab_cds/lcl|NC_003045.1_cds_NP_150073.2_1.fa to s3://serratus-public/notebook/200517_ab/orf1ab_cds/lcl|NC_003045.1_cds_NP_150073.2_1.fa\r\n",
      "Completed 175.1 KiB/514.2 KiB with 26 file(s) remaining\r",
      "Completed 195.2 KiB/514.2 KiB with 26 file(s) remaining\r",
      "upload: orf1ab_cds/lcl|NC_022787.1_cds_YP_008798230.1_1.fa to s3://serratus-public/notebook/200517_ab/orf1ab_cds/lcl|NC_022787.1_cds_YP_008798230.1_1.fa\r\n",
      "Completed 195.2 KiB/514.2 KiB with 25 file(s) remaining\r",
      "Completed 214.1 KiB/514.2 KiB with 25 file(s) remaining\r",
      "upload: orf1ab_cds/lcl|NC_016994.1_cds_YP_005352862.1_1.fa to s3://serratus-public/notebook/200517_ab/orf1ab_cds/lcl|NC_016994.1_cds_YP_005352862.1_1.fa\r\n",
      "Completed 214.1 KiB/514.2 KiB with 24 file(s) remaining\r",
      "Completed 235.2 KiB/514.2 KiB with 24 file(s) remaining\r",
      "upload: orf1ab_cds/lcl|NC_026812.1_cds_YP_009130641.1_1.fa to s3://serratus-public/notebook/200517_ab/orf1ab_cds/lcl|NC_026812.1_cds_YP_009130641.1_1.fa\r\n",
      "Completed 235.2 KiB/514.2 KiB with 23 file(s) remaining\r",
      "Completed 254.1 KiB/514.2 KiB with 23 file(s) remaining\r",
      "upload: orf1ab_cds/lcl|NC_011549.1_cds_YP_002308496.1_1.fa to s3://serratus-public/notebook/200517_ab/orf1ab_cds/lcl|NC_011549.1_cds_YP_002308496.1_1.fa\r\n",
      "Completed 254.1 KiB/514.2 KiB with 22 file(s) remaining\r",
      "Completed 262.4 KiB/514.2 KiB with 22 file(s) remaining\r",
      "upload: pol_cds/lcl|NC_001846.1_cds_NP_045299.1_2.fa to s3://serratus-public/notebook/200517_ab/pol_cds/lcl|NC_001846.1_cds_NP_045299.1_2.fa\r\n",
      "Completed 262.4 KiB/514.2 KiB with 21 file(s) remaining\r",
      "Completed 283.7 KiB/514.2 KiB with 21 file(s) remaining\r",
      "upload: orf1ab_cds/lcl|NC_045512.2_cds_YP_009724389.1_1.fa to s3://serratus-public/notebook/200517_ab/orf1ab_cds/lcl|NC_045512.2_cds_YP_009724389.1_1.fa\r\n",
      "Completed 283.7 KiB/514.2 KiB with 20 file(s) remaining\r",
      "Completed 305.4 KiB/514.2 KiB with 20 file(s) remaining\r",
      "upload: pol_cds/pol_partial_cds.fa to s3://serratus-public/notebook/200517_ab/pol_cds/pol_partial_cds.fa\r\n",
      "Completed 305.4 KiB/514.2 KiB with 19 file(s) remaining\r",
      "Completed 308.3 KiB/514.2 KiB with 19 file(s) remaining\r",
      "upload: pol_cds/lcl|NC_045512.2_cds_YP_009725307.1.fa to s3://serratus-public/notebook/200517_ab/pol_cds/lcl|NC_045512.2_cds_YP_009725307.1.fa\r\n",
      "Completed 308.3 KiB/514.2 KiB with 18 file(s) remaining\r",
      "Completed 311.9 KiB/514.2 KiB with 18 file(s) remaining\r",
      "upload: s_cds/lcl|NC_001451.1_cds_NP_040831.1_3.fa to s3://serratus-public/notebook/200517_ab/s_cds/lcl|NC_001451.1_cds_NP_040831.1_3.fa\r\n",
      "Completed 311.9 KiB/514.2 KiB with 17 file(s) remaining\r",
      "Completed 316.4 KiB/514.2 KiB with 17 file(s) remaining\r",
      "upload: s_cds/lcl|NC_002306.3_cds_YP_004070194.1_2.fa to s3://serratus-public/notebook/200517_ab/s_cds/lcl|NC_002306.3_cds_YP_004070194.1_2.fa\r\n",
      "Completed 316.4 KiB/514.2 KiB with 16 file(s) remaining\r",
      "Completed 320.6 KiB/514.2 KiB with 16 file(s) remaining\r",
      "upload: s_cds/lcl|NC_003045.1_cds_NP_150077.1_5.fa to s3://serratus-public/notebook/200517_ab/s_cds/lcl|NC_003045.1_cds_NP_150077.1_5.fa\r\n",
      "Completed 320.6 KiB/514.2 KiB with 15 file(s) remaining\r",
      "Completed 346.5 KiB/514.2 KiB with 15 file(s) remaining\r",
      "upload: s_cds/iCOV_S.zip to s3://serratus-public/notebook/200517_ab/s_cds/iCOV_S.zip\r\n",
      "Completed 346.5 KiB/514.2 KiB with 14 file(s) remaining\r",
      "Completed 350.6 KiB/514.2 KiB with 14 file(s) remaining\r",
      "upload: s_cds/lcl|NC_001846.1_cds_NP_045300.1_3.fa to s3://serratus-public/notebook/200517_ab/s_cds/lcl|NC_001846.1_cds_NP_045300.1_3.fa\r\n",
      "Completed 350.6 KiB/514.2 KiB with 13 file(s) remaining\r",
      "Completed 449.1 KiB/514.2 KiB with 13 file(s) remaining\r",
      "upload: orf1ab_cds/orf1b_cds.zip to s3://serratus-public/notebook/200517_ab/orf1ab_cds/orf1b_cds.zip\r\n",
      "Completed 449.1 KiB/514.2 KiB with 12 file(s) remaining\r",
      "Completed 453.4 KiB/514.2 KiB with 12 file(s) remaining\r",
      "upload: s_cds/lcl|NC_003436.1_cds_NP_598310.1_2.fa to s3://serratus-public/notebook/200517_ab/s_cds/lcl|NC_003436.1_cds_NP_598310.1_2.fa\r\n",
      "Completed 453.4 KiB/514.2 KiB with 11 file(s) remaining\r",
      "Completed 457.6 KiB/514.2 KiB with 11 file(s) remaining\r",
      "upload: s_cds/lcl|NC_005831.2_cds_YP_003767.1_2.fa to s3://serratus-public/notebook/200517_ab/s_cds/lcl|NC_005831.2_cds_YP_003767.1_2.fa\r\n",
      "Completed 457.6 KiB/514.2 KiB with 10 file(s) remaining\r",
      "Completed 462.1 KiB/514.2 KiB with 10 file(s) remaining\r",
      "upload: s_cds/lcl|NC_010646.1_cds_YP_001876437.1_3.fa to s3://serratus-public/notebook/200517_ab/s_cds/lcl|NC_010646.1_cds_YP_001876437.1_3.fa\r\n",
      "Completed 462.1 KiB/514.2 KiB with 9 file(s) remaining\r",
      "Completed 467.0 KiB/514.2 KiB with 9 file(s) remaining\r",
      "upload: s_cds/lcl|NC_007447.1_cds_YP_337907.1_3.fa to s3://serratus-public/notebook/200517_ab/s_cds/lcl|NC_007447.1_cds_YP_337907.1_3.fa\r\n",
      "Completed 467.0 KiB/514.2 KiB with 8 file(s) remaining\r",
      "Completed 470.7 KiB/514.2 KiB with 8 file(s) remaining\r",
      "upload: s_cds/lcl|NC_011549.1_cds_YP_002308497.1_2.fa to s3://serratus-public/notebook/200517_ab/s_cds/lcl|NC_011549.1_cds_YP_002308497.1_2.fa\r\n",
      "Completed 470.7 KiB/514.2 KiB with 7 file(s) remaining\r",
      "Completed 474.7 KiB/514.2 KiB with 7 file(s) remaining\r",
      "upload: s_cds/lcl|NC_016994.1_cds_YP_005352863.1_2.fa to s3://serratus-public/notebook/200517_ab/s_cds/lcl|NC_016994.1_cds_YP_005352863.1_2.fa\r\n",
      "Completed 474.7 KiB/514.2 KiB with 6 file(s) remaining\r",
      "Completed 479.5 KiB/514.2 KiB with 6 file(s) remaining\r",
      "upload: s_cds/lcl|NC_022787.1_cds_YP_008798232.1_3.fa to s3://serratus-public/notebook/200517_ab/s_cds/lcl|NC_022787.1_cds_YP_008798232.1_3.fa\r\n",
      "Completed 479.5 KiB/514.2 KiB with 5 file(s) remaining\r",
      "Completed 483.2 KiB/514.2 KiB with 5 file(s) remaining\r",
      "upload: s_cds/lcl|NC_011547.1_cds_YP_002308479.1_2.fa to s3://serratus-public/notebook/200517_ab/s_cds/lcl|NC_011547.1_cds_YP_002308479.1_2.fa\r\n",
      "Completed 483.2 KiB/514.2 KiB with 4 file(s) remaining\r",
      "Completed 486.9 KiB/514.2 KiB with 4 file(s) remaining\r",
      "upload: s_cds/lcl|NC_026812.1_cds_YP_009130643.1_3.fa to s3://serratus-public/notebook/200517_ab/s_cds/lcl|NC_026812.1_cds_YP_009130643.1_3.fa\r\n",
      "Completed 486.9 KiB/514.2 KiB with 3 file(s) remaining\r",
      "Completed 490.6 KiB/514.2 KiB with 3 file(s) remaining\r",
      "Completed 494.6 KiB/514.2 KiB with 3 file(s) remaining\r",
      "upload: s_cds/lcl|NC_046965.1_cds_YP_009755897.1_3.fa to s3://serratus-public/notebook/200517_ab/s_cds/lcl|NC_046965.1_cds_YP_009755897.1_3.fa\r\n",
      "Completed 494.6 KiB/514.2 KiB with 2 file(s) remaining\r",
      "upload: s_cds/lcl|NC_045512.2_cds_YP_009724390.1_3.fa to s3://serratus-public/notebook/200517_ab/s_cds/lcl|NC_045512.2_cds_YP_009724390.1_3.fa\r\n",
      "Completed 494.6 KiB/514.2 KiB with 1 file(s) remaining\r",
      "Completed 514.2 KiB/514.2 KiB with 1 file(s) remaining\r",
      "upload: orf1ab_cds/lcl|NC_046965.1_cds_YP_009755895.1_1.fa to s3://serratus-public/notebook/200517_ab/orf1ab_cds/lcl|NC_046965.1_cds_YP_009755895.1_1.fa\r\n"
     ]
    }
   ],
   "source": [
    "cd /home/artem/Desktop/serratus/notebook/200517_ab\n",
    "aws s3 sync ./ s3://serratus-public/notebook/200517_ab/"
   ]
  }
 ],
 "metadata": {
  "kernelspec": {
   "display_name": "Bash",
   "language": "bash",
   "name": "bash"
  },
  "language_info": {
   "codemirror_mode": "shell",
   "file_extension": ".sh",
   "mimetype": "text/x-sh",
   "name": "bash"
  }
 },
 "nbformat": 4,
 "nbformat_minor": 1
}
