{
 "cells": [
  {
   "cell_type": "markdown",
   "metadata": {},
   "source": [
    "## Full Length Only Mega-genome\n",
    "```\n",
    "Lead     : ababaian / RCE\n",
    "Issue    : n/a\n",
    "start    : 2020 05 17\n",
    "complete : 2020 05 --\n",
    "files    : s3://serratus-public/seq/flom1/\n",
    "notebook : s3://serrauts-public/notebook/200517_flom1/\n",
    "```\n",
    "\n",
    "## Introduction\n",
    "> rce:\n",
    ">\n",
    "> I took the opportunity to remove many short mega sequences which might make focus on Cov and automated detection more difficult, e.g. segmented genomes where each segment is quite short.\n",
    "> Flom1 contains 673 full-length Covs and 184 full-length genomes from other families which have \"complete genome\" in their defline.\n",
    "> The shortest sequences is now NC_007558 Adult diarrheal rotavirus strain J19 at 649nt.\n",
    "\n",
    "See: [FLOM Note](https://github.com/ababaian/serratus/wiki/FLOM-reference)\n",
    "\n",
    "\n",
    "As a secondary objective this serves a pilot test for scheduler stress testing with Jeff's recent updates.\n",
    "\n",
    "### Files from RCE\n",
    "- `cb6b66b38a1494baba77b9c640053f4e  flom1.tz`\n",
    "- `295f6bb10fbffc3fce344c9d2b3d9b8a  flom1_sumzer_metadata.tz`\n",
    "\n",
    "Moved to S3: `s3://serratus-public/seq/flom1/`\n"
   ]
  },
  {
   "cell_type": "markdown",
   "metadata": {},
   "source": [
    "## Materials and Methods\n"
   ]
  },
  {
   "cell_type": "code",
   "execution_count": null,
   "metadata": {},
   "outputs": [],
   "source": [
    "# EC2 Instance Commands:\n",
    "# Build/Run `serratus-align`container for indexing\n",
    "sudo yum install -y docker\n",
    "sudo yum install -y git\n",
    "sudo service docker start\n",
    "\n",
    "#export DOCKERHUB_USER='serratusbio'\n",
    "#sudo docker login\n",
    "\n",
    "git clone https://github.com/ababaian/serratus.git; cd serratus/containers\n",
    "./build_containers\n",
    "\n",
    "sudo docker run --rm --entrypoint /bin/bash -it serratus-align:latest"
   ]
  },
  {
   "cell_type": "code",
   "execution_count": null,
   "metadata": {},
   "outputs": [],
   "source": [
    "# local bedtools install\n",
    "wget https://github.com/arq5x/bedtools2/releases/download/v2.29.2/bedtools.static.binary\n",
    "mv bedtools.static.binary bedtools\n",
    "chmod 755 bedtools; mv bedtools /usr/bin/"
   ]
  },
  {
   "cell_type": "code",
   "execution_count": null,
   "metadata": {},
   "outputs": [],
   "source": [
    "# Local usearch install\n",
    "#The clustered database was made with usearch:\n",
    "wget https://drive5.com/downloads/usearch11.0.667_i86linux32.gz\n",
    "gzip -dc usearch11.0.667_i86linux32.gz > usearch\n",
    "chmod 755 usearch; mv usearch /usr/bin/usearch\n"
   ]
  },
  {
   "cell_type": "code",
   "execution_count": 1,
   "metadata": {},
   "outputs": [
    {
     "name": "stdout",
     "output_type": "stream",
     "text": [
      "[sudo] password for artem: \r\n"
     ]
    }
   ],
   "source": [
    "# Local Dustmasker install\n",
    "cd /home/serratus/\n",
    "wget ftp://ftp.ncbi.nlm.nih.gov/blast/executables/LATEST/ncbi-blast-2.10.0+-x64-linux.tar.gz\n",
    "tar -xvf ncbi-blast-2.10.0+-x64-linux.tar.gz\n",
    "cp ncbi-blast-2.10.0+/bin/* /usr/bin/\n"
   ]
  },
  {
   "cell_type": "markdown",
   "metadata": {},
   "source": [
    "## Initial version (deprecated)"
   ]
  },
  {
   "cell_type": "code",
   "execution_count": null,
   "metadata": {},
   "outputs": [],
   "source": [
    "# bash inside `serratus-align`\n",
    "mkdir flom1; cd flom1\n",
    "\n",
    "# Start from flom1 - post 99% identity filtering\n",
    "aws s3 cp --recursive s3://serratus-public/seq/flom1/ ./\n",
    "\n",
    "# untar\n",
    "tar -xvf flom1.tz \n",
    "tar -xvf flom1_sumzer_metadata.tz "
   ]
  },
  {
   "cell_type": "markdown",
   "metadata": {},
   "source": [
    "```\n",
    "bash-4.2# md5sum *\n",
    "921b0a8f024f80c5df7decf5e455cc02  acc_len_taxid.txt\n",
    "3bcb7034e6a5492393161d8bb485109b  flom1.fa\n",
    "cb6b66b38a1494baba77b9c640053f4e  flom1.tz\n",
    "f9017589cf471c47d8c541e886065b22  flom1_acc_desc.tsv\n",
    "d97857f8fcdf8d8cf08864fab6b46dd2  flom1_acc_desc_cov.tsv\n",
    "4860ef9c5ce481e4a58cdbc38a8020ad  flom1_acc_desc_not_cov.tsv\n",
    "edfaeffc8182bf3e56dd293a1f88dc59  flom1_acc_length.tsv\n",
    "96990c8cdd3a07071224364c7a4f728b  flom1_accs.tsv\n",
    "295f6bb10fbffc3fce344c9d2b3d9b8a  flom1_sumzer_metadata.tz\n",
    "1b43f071d99de081af25bb39394509f5  taxid_desc.txt\n",
    "bce281c0b7bb5563dfd1167c1a943e85  taxids.txt\n",
    "\n",
    "```"
   ]
  },
  {
   "cell_type": "code",
   "execution_count": null,
   "metadata": {},
   "outputs": [],
   "source": [
    "# Remove Accessions on blacklist\n",
    "# Strips headers to accessions only\n",
    "# wc -l cov0.id99.fa\n",
    "# 514753 cov0.id99.fa\n",
    "\n",
    "# Does nothing in this case\n",
    "#seqkit grep flom1.fa -i -r -v \\\n",
    "#  -p KC786228 -p AX191447 -p AX191449 \\\n",
    "#  -p FB764528 -p HV449436 -p CS382036 \\\n",
    "#  -p FV537213 -p AY204705 -p AF209745 \\\n",
    "#  -p AY204704 \\\n",
    "#  > flom1.bl.fa\n"
   ]
  },
  {
   "cell_type": "code",
   "execution_count": null,
   "metadata": {},
   "outputs": [],
   "source": [
    "INPUTFA='flom1.fa'\n",
    "\n",
    "# Create polyNT masks (10-X seed)\n",
    "seqkit locate --bed -i -m 0 -p 'AAAAAAAAAA' $INPUTFA > poly10.bed\n",
    "  bedtools sort -chrThenSizeA -i poly10.bed > poly10.sort.bed\n",
    "  bedtools merge -s -i poly10.sort.bed > polyAT.mask.bed\n",
    "\n",
    "seqkit locate --bed -i -m 0 -p 'GGGGGGGGGG' $INPUTFA > poly10.bed\n",
    "  bedtools sort -chrThenSizeA -i poly10.bed > poly10.sort.bed\n",
    "  bedtools merge -s -i poly10.sort.bed > polyGC.mask.bed\n",
    "\n",
    "cat polyAT.mask.bed polyGC.mask.bed > \\\n",
    "  polyNT.bed\n",
    "\n",
    "rm polyAT.mask.bed polyGC.mask.bed poly10.bed poly10.sort.bed"
   ]
  },
  {
   "cell_type": "code",
   "execution_count": null,
   "metadata": {},
   "outputs": [],
   "source": [
    "## Manually set blacklisted regions\n",
    "#echo -e \"JB181528.1\\t3111\\t3307\" >> blacklist.bed\n",
    "#echo -e \"CS460762.1\\t37177\\t37211\" >> blacklist.bed\n",
    "#echo -e \"CS460762.1\\t30166\\t30243\" >> blacklist.bed\n",
    "#echo -e \"CS480537.1\\t37170\\t37220\" >> blacklist.bed\n",
    "#echo -e \"CS480537.1\\t30166\\t30241\" >> blacklist.bed\n",
    "#echo -e \"MK562374.1\\t474\\t542\" >> blacklist.bed\n",
    "#echo -e \"DL231478.1\\t43\\t2296\" >> blacklist.bed\n",
    "#\n",
    "## new for cov2m\n",
    "#echo -e \"KC786228.1\\t49\\t191 \" >> blacklist.bed"
   ]
  },
  {
   "cell_type": "code",
   "execution_count": null,
   "metadata": {},
   "outputs": [],
   "source": [
    "INPUTFA='flom1.fa'\n",
    "\n",
    "# Soft mask low complexity regions via dustmasker\n",
    "dustmasker -in $INPUTFA \\\n",
    "  -window 30 -outfmt interval \\\n",
    "  -out flom1.dust\n",
    "# output ... \n",
    "# >KF600647.1\n",
    "# 2840 - 2846\n",
    "# 30101 - 30114\n",
    "# >MK129253.1\n",
    "# 2845 - 2851\n",
    "# 30106 - 30149\n",
    "# >CS480537.1\n",
    "# 22517 - 22524\n",
    "# 22569 - 22575\n",
    "# 29227 - 29246\n",
    "# ...\n",
    "\n",
    "# Convert interval dust file to bed file\n",
    "while read -r line; do\n",
    "  if [ $(echo $line | head -c 1) = \">\" ]; then\n",
    "    header=$( echo $line | sed 's/>//g' - )\n",
    "  else\n",
    "    start=$(echo $line | cut -f1 -d' ' -)\n",
    "    end=$(echo $line | cut -f3 -d' ' - )\n",
    "    echo -e \"$header\\t$start\\t$end\" >> dust.bed\n",
    "  fi\n",
    "done < flom1.dust"
   ]
  },
  {
   "cell_type": "code",
   "execution_count": null,
   "metadata": {},
   "outputs": [],
   "source": [
    "# Blacklist, polyNT and dust mask\n",
    "\n",
    "cat polyNT.bed blacklist.bed dust.bed > mask.regions.bed\n",
    "\n",
    "rm polyNT.bed blacklist.bed dust.bed"
   ]
  },
  {
   "cell_type": "code",
   "execution_count": null,
   "metadata": {},
   "outputs": [],
   "source": [
    "INPUTFA='flom1.fa'\n",
    "\n",
    "# cov2 pan-genome\n",
    "# Soft-masked pan-genome\n",
    "bedtools maskfasta -fi $INPUTFA \\\n",
    "  -bed mask.regions.bed -fo flom1.softmasked.fa -soft\n",
    " \n",
    "# Hard-masked pan-genome\n",
    "bedtools maskfasta -fi $INPUTFA \\\n",
    "  -bed mask.regions.bed -fo flom1.hardmasked.fa -mc N"
   ]
  },
  {
   "cell_type": "code",
   "execution_count": null,
   "metadata": {},
   "outputs": [],
   "source": [
    "mv flom1.fa flom1.unmasked.fa\n",
    "mv flom1.hardmasked.fa flom1.fa\n",
    "\n",
    "# Count each fasta file\n",
    "wc -l *.fa "
   ]
  },
  {
   "cell_type": "markdown",
   "metadata": {},
   "source": [
    "```\n",
    "bash-4.2# wc -l *.fa \n",
    "  290275 flom1.fa\n",
    "  290275 flom1.softmasked.fa\n",
    "  290275 flom1.unmasked.fa\n",
    "  870825 total\n",
    "\n",
    "```"
   ]
  },
  {
   "cell_type": "code",
   "execution_count": null,
   "metadata": {},
   "outputs": [],
   "source": [
    "# Remove intermediates\n",
    "rm *.tsv taxids.txt flom1.dust\n",
    "\n",
    "# Compress stuff we don't need immediatly\n",
    "gzip flom1.softmasked.fa flom1.unmasked.fa"
   ]
  },
  {
   "cell_type": "code",
   "execution_count": null,
   "metadata": {},
   "outputs": [],
   "source": [
    "# Build bowtie2 + faidx index for cov1r.fa\n",
    "bowtie2-build --threads 4 --seed 1337 flom1.fa flom1\n",
    "samtools faidx flom1.fa"
   ]
  },
  {
   "cell_type": "markdown",
   "metadata": {},
   "source": [
    "```\n",
    "921b0a8f024f80c5df7decf5e455cc02  acc_len_taxid.txt\n",
    "4f23f4250a8ce8ad3fb27afff742a769  flom1.1.bt2\n",
    "d1b52624722a101ba7cd36296300d0ff  flom1.2.bt2\n",
    "f1fb4f5124f738c2e29af5aef55957a9  flom1.3.bt2\n",
    "c0ee65df374a298672671447792e1555  flom1.4.bt2\n",
    "dabd68e0533e57be018947d25e911e35  flom1.fa\n",
    "c835e906e20de75290765d8a863b0125  flom1.fa.fai\n",
    "bc2fe2003ed752796ce18cf113a8507d  flom1.rev.1.bt2\n",
    "60f6bb7a8f114bbf24b0b841f280e37f  flom1.rev.2.bt2\n",
    "06c0bdc89cd06142b8195071b448fa72  flom1.softmasked.fa.gz\n",
    "cb6b66b38a1494baba77b9c640053f4e  flom1.tz\n",
    "a62ff6db8159a6af9e73f30260c36207  flom1.unmasked.fa.gz\n",
    "295f6bb10fbffc3fce344c9d2b3d9b8a  flom1_sumzer_metadata.tz\n",
    "270e4e6100f91e3fa7e8b833bf436650  mask.regions.bed\n",
    "1b43f071d99de081af25bb39394509f5  taxid_desc.txt\n",
    "```"
   ]
  },
  {
   "cell_type": "code",
   "execution_count": null,
   "metadata": {},
   "outputs": [],
   "source": [
    "# Upload to s3 public access area\n",
    "aws s3 sync ./ s3://serratus-public/seq/flom1/"
   ]
  },
  {
   "cell_type": "markdown",
   "metadata": {},
   "source": [
    "# Hotfix - Forgot to dustmask regions\n",
    "\n",
    "doh!"
   ]
  },
  {
   "cell_type": "code",
   "execution_count": null,
   "metadata": {},
   "outputs": [],
   "source": [
    "# bash inside `serratus-align`\n",
    "mkdir flom1; cd flom1\n",
    "\n",
    "# Start from flom1\n",
    "aws s3 cp s3://serratus-public/seq/flom1/flom1.tz  ./\n",
    "aws s3 cp s3://serratus-public/seq/flom1/flom1_sumzer_metadata.tz   ./\n",
    "\n",
    "# untar\n",
    "tar -xvf flom1.tz \n",
    "tar -xvf flom1_sumzer_metadata.tz "
   ]
  },
  {
   "cell_type": "code",
   "execution_count": null,
   "metadata": {},
   "outputs": [],
   "source": [
    "# Remove Accessions on blacklist\n",
    "# Strips headers to accessions only\n",
    "# wc -l cov0.id99.fa\n",
    "# 514753 cov0.id99.fa\n",
    "\n",
    "# Does nothing in this case\n",
    "#seqkit grep flom1.fa -i -r -v \\\n",
    "#  -p KC786228 -p AX191447 -p AX191449 \\\n",
    "#  -p FB764528 -p HV449436 -p CS382036 \\\n",
    "#  -p FV537213 -p AY204705 -p AF209745 \\\n",
    "#  -p AY204704 \\\n",
    "#  > flom1.bl.fa\n"
   ]
  },
  {
   "cell_type": "code",
   "execution_count": null,
   "metadata": {},
   "outputs": [],
   "source": [
    "## Manually set blacklisted regions\n",
    "\n",
    "# Camelpox Homology\n",
    "echo -e \"NC_003391\\t9477\\t9698\" >> blacklist.bed\n",
    "# BVDV Transmembrane homology\n",
    "echo -e \"NC_001461\\t4990\\t5268\" >> blacklist.bed\n",
    "# Mollusk Virus homology to GPX1 gene\n",
    "echo -e \"NC_001731\\t83019\\t83523\" >> blacklist.bed"
   ]
  },
  {
   "cell_type": "code",
   "execution_count": null,
   "metadata": {},
   "outputs": [],
   "source": [
    "INPUTFA='flom1.fa'\n",
    "\n",
    "# Short Window Dust Masking ---------------------\n",
    "# Soft mask low complexity regions via dustmasker\n",
    "dustmasker -in $INPUTFA \\\n",
    "  -window 30 -outfmt interval \\\n",
    "  -out flom1.dust30\n",
    "\n",
    "# Convert interval dust file to bed file\n",
    "while read -r line; do\n",
    "  if [ $(echo $line | head -c 1) = \">\" ]; then\n",
    "    header=$( echo $line | sed 's/>//g' - )\n",
    "  else\n",
    "    start=$(echo $line | cut -f1 -d' ' -)\n",
    "    end=$(echo $line | cut -f3 -d' ' - )\n",
    "    echo -e \"$header\\t$start\\t$end\" >> dust30.bed\n",
    "  fi\n",
    "done < flom1.dust30\n",
    "\n",
    "\n",
    "# Long Window Dust Masking ---------------------\n",
    "# Soft mask low complexity regions via dustmasker\n",
    "dustmasker -in $INPUTFA \\\n",
    "  -window 64 -outfmt interval \\\n",
    "  -out flom1.dust64\n",
    "\n",
    "# Convert interval dust file to bed file\n",
    "while read -r line; do\n",
    "  if [ $(echo $line | head -c 1) = \">\" ]; then\n",
    "    header=$( echo $line | sed 's/>//g' - )\n",
    "  else\n",
    "    start=$(echo $line | cut -f1 -d' ' -)\n",
    "    end=$(echo $line | cut -f3 -d' ' - )\n",
    "    echo -e \"$header\\t$start\\t$end\" >> dust64.bed\n",
    "  fi\n",
    "done < flom1.dust64\n",
    "\n",
    "echo ''"
   ]
  },
  {
   "cell_type": "code",
   "execution_count": null,
   "metadata": {},
   "outputs": [],
   "source": [
    "INPUTFA='flom1.fa'\n",
    "\n",
    "# Create polyNT masks (10-X seed)\n",
    "# FLOM seems to be missing any NT tract >7nt\n",
    "seqkit locate --bed -i -m 0 -p 'AAAAAAAAAA' $INPUTFA > poly10.bed\n",
    "  bedtools sort -chrThenSizeA -i poly10.bed > poly10.sort.bed\n",
    "  bedtools merge -s -i poly10.sort.bed > polyAT.mask.bed\n",
    "\n",
    "seqkit locate --bed -i -m 0 -p 'GGGGGGGGGG' $INPUTFA > poly10.bed\n",
    "  bedtools sort -chrThenSizeA -i poly10.bed > poly10.sort.bed\n",
    "  bedtools merge -s -i poly10.sort.bed > polyGC.mask.bed\n",
    "\n",
    "cat polyAT.mask.bed polyGC.mask.bed > \\\n",
    "  polyNT.bed\n",
    "\n",
    "rm polyAT.mask.bed polyGC.mask.bed poly10.bed poly10.sort.bed"
   ]
  },
  {
   "cell_type": "code",
   "execution_count": null,
   "metadata": {},
   "outputs": [],
   "source": [
    "# Combine blacklist, nt mask and dustmask\n",
    "cat polyNT.bed blacklist.bed dust30.bed dust64.bed > mask.tmp.bed\n",
    "  sort -k1,1 -k2,2n mask.tmp.bed > mask.sort.bed\n",
    "  bedtools merge -i mask.sort.bed > mask.regions.bed\n",
    "rm mask.sort.bed mask.tmp.bed\n",
    "\n",
    "wc -l *.bed\n",
    "\n",
    "rm polyNT.bed blacklist.bed dust30.bed dust64.bed"
   ]
  },
  {
   "cell_type": "markdown",
   "metadata": {},
   "source": [
    "```                     \n",
    "     3 blacklist.bed\n",
    "   650 dust30.bed\n",
    "  1974 dust64.bed\n",
    "  2187 mask.regions.bed\n",
    "     0 polyNT.bed\n",
    "  4814 total\n",
    "```"
   ]
  },
  {
   "cell_type": "code",
   "execution_count": null,
   "metadata": {},
   "outputs": [],
   "source": [
    "mv flom1.fa flom1.unmasked.fa\n",
    "mv flom1.hardmasked.fa flom1.fa\n",
    "\n",
    "# Count each fasta file\n",
    "wc -l *.fa "
   ]
  },
  {
   "cell_type": "markdown",
   "metadata": {},
   "source": [
    "```\n",
    "  290275 flom1.fa\n",
    "  290275 flom1.softmasked.fa\n",
    "  290275 flom1.unmasked.fa\n",
    "  870825 total\n",
    "```"
   ]
  },
  {
   "cell_type": "code",
   "execution_count": null,
   "metadata": {},
   "outputs": [],
   "source": [
    "# Remove intermediates\n",
    "rm *.tsv taxids.txt flom1.dust*\n",
    "\n",
    "# Compress stuff we don't need immediatly\n",
    "gzip flom1.softmasked.fa flom1.unmasked.fa"
   ]
  },
  {
   "cell_type": "code",
   "execution_count": null,
   "metadata": {},
   "outputs": [],
   "source": [
    "# Build bowtie2 + faidx index for cov1r.fa\n",
    "bowtie2-build --threads 4 --seed 1337 flom1.fa flom1\n",
    "samtools faidx flom1.fa\n",
    "\n",
    "md5sum *"
   ]
  },
  {
   "cell_type": "markdown",
   "metadata": {},
   "source": [
    "```\n",
    "921b0a8f024f80c5df7decf5e455cc02  acc_len_taxid.txt\n",
    "90ea2df6019a8dbf3b021772d2a3791b  flom1.1.bt2\n",
    "a0fed29b358eda3a5f3cfc57b71d3952  flom1.2.bt2\n",
    "038e2f95345291ca4925299c71be4cae  flom1.3.bt2\n",
    "7416b1f3a2c801b593183fc9a47c7bf8  flom1.4.bt2\n",
    "43146c18064e1fecf5f39ba0ec6b1ac7  flom1.fa\n",
    "c835e906e20de75290765d8a863b0125  flom1.fa.fai\n",
    "c048a407634a501fdafdd91658964b80  flom1.rev.1.bt2\n",
    "b813ef4577475ee03c8a737d30b4edbf  flom1.rev.2.bt2\n",
    "a9f623b3eb2bb9754bc6c4ec2e42f824  flom1.softmasked.fa.gz\n",
    "cb6b66b38a1494baba77b9c640053f4e  flom1.tz\n",
    "a62ff6db8159a6af9e73f30260c36207  flom1.unmasked.fa.gz\n",
    "295f6bb10fbffc3fce344c9d2b3d9b8a  flom1_sumzer_metadata.tz\n",
    "130d19850877275d55ea730343126a34  mask.regions.bed\n",
    "1b43f071d99de081af25bb39394509f5  taxid_desc.txt\n",
    "```"
   ]
  },
  {
   "cell_type": "code",
   "execution_count": null,
   "metadata": {},
   "outputs": [],
   "source": [
    "# Updated summarizer meta-data\n",
    "aws s3 cp s3://serratus-public/seq/flom1/flom1.sumzer.tsv ./\n",
    "md5sum flom1.sumzer.tsv"
   ]
  },
  {
   "cell_type": "markdown",
   "metadata": {},
   "source": [
    "```\n",
    "b424362d91020bab1f7b63b6da976aeb  flom1.sumzer.tsv\n",
    "```"
   ]
  },
  {
   "cell_type": "code",
   "execution_count": null,
   "metadata": {},
   "outputs": [],
   "source": [
    "aws s3 sync ./ s3://serratus-public/seq/flom1/"
   ]
  }
 ],
 "metadata": {
  "kernelspec": {
   "display_name": "Bash",
   "language": "bash",
   "name": "bash"
  },
  "language_info": {
   "codemirror_mode": "shell",
   "file_extension": ".sh",
   "mimetype": "text/x-sh",
   "name": "bash"
  }
 },
 "nbformat": 4,
 "nbformat_minor": 1
}
