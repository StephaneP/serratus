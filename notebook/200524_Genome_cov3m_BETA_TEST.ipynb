{
 "cells": [
  {
   "cell_type": "markdown",
   "metadata": {
    "heading_collapsed": true
   },
   "source": [
    "## Genome: cov3m reference\n",
    "```\n",
    "Lead     : ababaian / RCE\n",
    "Issue    : n/a\n",
    "start    : 2020 05 24\n",
    "complete : 2020 05 24\n",
    "files    : s3://serratus-public/seq/cov3m/\n",
    "```"
   ]
  },
  {
   "cell_type": "markdown",
   "metadata": {},
   "source": [
    "# Boot-up / Installation for Genome-Builder"
   ]
  },
  {
   "cell_type": "code",
   "execution_count": null,
   "metadata": {},
   "outputs": [],
   "source": [
    "# EC2 Instance Commands:\n",
    "# Build/Run `serratus-align`container for indexing\n",
    "sudo yum install -y docker\n",
    "sudo yum install -y git\n",
    "sudo service docker start\n",
    "\n",
    "#export DOCKERHUB_USER='serratusbio'\n",
    "#sudo docker login\n",
    "\n",
    "git clone https://github.com/ababaian/serratus.git; cd serratus/containers\n",
    "./build_containers\n",
    "\n",
    "sudo docker run --rm --entrypoint /bin/bash -it serratus-align:latest"
   ]
  },
  {
   "cell_type": "code",
   "execution_count": null,
   "metadata": {},
   "outputs": [],
   "source": [
    "# Dev tools\n",
    "yum install -y wget tar gzip less vim unzip"
   ]
  },
  {
   "cell_type": "code",
   "execution_count": null,
   "metadata": {},
   "outputs": [],
   "source": [
    "# Pre-compiled binary\n",
    "wget --quiet https://downloads.sourceforge.net/project/bowtie-bio/bowtie2/\"$BOWTIEVERSION\"/bowtie2-\"$BOWTIEVERSION\"-linux-x86_64.zip &&\\\n",
    "  unzip bowtie2-\"$BOWTIEVERSION\"-linux-x86_64.zip &&\\\n",
    "  rm    bowtie2-\"$BOWTIEVERSION\"-linux-x86_64.zip\n",
    "\n",
    "mv bowtie2-\"$BOWTIEVERSION\"*/bowtie2* /usr/local/bin/ &&\\\n",
    "  rm -rf bowtie2-\"$BOWTIEVERSION\"*"
   ]
  },
  {
   "cell_type": "code",
   "execution_count": null,
   "metadata": {},
   "outputs": [],
   "source": [
    "# Python3\n",
    "yum install -y python3 python3-devel\n",
    "curl -O https://bootstrap.pypa.io/get-pip.py\n",
    "python3 get-pip.py\n",
    "rm get-pip.py\n",
    "pip3 install biopython"
   ]
  },
  {
   "cell_type": "code",
   "execution_count": null,
   "metadata": {},
   "outputs": [],
   "source": [
    "# SeqKit Install\n",
    "wget https://github.com/shenwei356/seqkit/releases/download/v0.12.0/seqkit_linux_amd64.tar.gz &&\\\n",
    "  tar -xvf seqkit* && mv seqkit /usr/local/bin/ &&\\\n",
    "  rm seqkit_linux*"
   ]
  },
  {
   "cell_type": "code",
   "execution_count": null,
   "metadata": {},
   "outputs": [],
   "source": [
    "# local bedtools install\n",
    "wget https://github.com/arq5x/bedtools2/releases/download/v2.29.2/bedtools.static.binary\n",
    "mv bedtools.static.binary bedtools\n",
    "chmod 755 bedtools; mv bedtools /usr/bin/"
   ]
  },
  {
   "cell_type": "code",
   "execution_count": null,
   "metadata": {},
   "outputs": [],
   "source": [
    "# Local usearch install\n",
    "#The clustered database was made with usearch:\n",
    "wget https://drive5.com/downloads/usearch11.0.667_i86linux32.gz\n",
    "gzip -dc usearch11.0.667_i86linux32.gz > usearch\n",
    "chmod 755 usearch; mv usearch /usr/bin/usearch\n"
   ]
  },
  {
   "cell_type": "code",
   "execution_count": null,
   "metadata": {},
   "outputs": [],
   "source": [
    "# Local Dustmasker install\n",
    "cd /home/serratus/\n",
    "wget ftp://ftp.ncbi.nlm.nih.gov/blast/executables/LATEST/ncbi-blast-2.10.0+-x64-linux.tar.gz\n",
    "tar -xvf ncbi-blast-2.10.0+-x64-linux.tar.gz\n",
    "cp ncbi-blast-2.10.0+/bin/* /usr/bin/\n"
   ]
  },
  {
   "cell_type": "code",
   "execution_count": null,
   "metadata": {},
   "outputs": [],
   "source": [
    "# Install EDirect\n",
    "# Dependency Hell\n",
    "yum install -y cpanminus expat-devel\n",
    "sudo cpanm --force IO::Socket::SSL\n",
    "sudo cpanm --force LWP::Protocol::https\n",
    "sudo cpanm --force JSON::PP\n",
    "sudo cpanm --force HTML::Entities\n",
    "sudo cpanm --force XML::Simple\n",
    "\n",
    "perl -MNet::FTP -e \\\n",
    "  '$$ftp = new Net::FTP(\"ftp.ncbi.nlm.nih.gov\", Passive => 1);\n",
    "  $$ftp->login; $$ftp->binary;\n",
    "  $$ftp->get(\"/entrez/entrezdirect/edirect.tar.gz\");'\n",
    "  \n",
    "tar -xvf edirect.tar.gz; rm edirect.tar.gz\n",
    "export PATH=${PATH}:/home/serratus/edirect\n",
    "yes y | ./edirect/setup.sh"
   ]
  },
  {
   "cell_type": "markdown",
   "metadata": {},
   "source": [
    "## CovRef Beta Build"
   ]
  },
  {
   "cell_type": "code",
   "execution_count": null,
   "metadata": {},
   "outputs": [],
   "source": [
    "# CoV Fragments and offsets from RCE\n",
    "# ????\n",
    "mkdir /home/serratus/cov3a; cd /home/serratus/cov3a\n",
    "\n",
    "# Download RefSeq (FLOM) Sequences\n",
    "aws s3 cp s3://serratus-public/seq/flom2/flom2.fa ./\n",
    "aws s3 cp s3://serratus-public/seq/flom2/flom2.sumzer.tsv ./\n",
    "samtools faidx flom2.fa\n",
    "\n",
    "# Download CovRef from RCE\n",
    "# 4477d8655defe69b1e847427a8c6529d\n",
    "wget https://drive5.com/tmp/covref.fa.gz\n",
    "gzip -dc covref.fa.gz > covref3.fa\n",
    "samtools faidx covref3.fa\n",
    "\n",
    "# cb6bebcc97aecc8b9b9ab1c7eafeb054\n",
    "wget https://drive5.com/tmp/covref_meta.tsv.gz\n",
    "gzip -dc covref_meta.tsv.gz > covref3.sumzer.tsv\n",
    "\n",
    "md5sum *\n",
    "wc -l *"
   ]
  },
  {
   "cell_type": "markdown",
   "metadata": {},
   "source": [
    "```\n",
    "bash-4.2# md5sum *\n",
    "4477d8655defe69b1e847427a8c6529d  covref3.fa\n",
    "2b60eb7e508f9214149c693e88223bdc  covref3.fa.fai\n",
    "cb6bebcc97aecc8b9b9ab1c7eafeb054  covref3.sumzer.tsv\n",
    "57f452445b65be1f37ba54ab8dc24bc1  flom2.fa\n",
    "bc92ecb5578ba62831c65355001236da  flom2.fa.fai\n",
    "d47dbf3bc78ae4dc72c7f45f9a0aa7e2  flom2.sumzer.tsv\n",
    "\n",
    "bash-4.2# wc -l *\n",
    "  483781 covref3.fa\n",
    "   10101 covref3.fa.fai\n",
    "   10101 covref3.sumzer.tsv\n",
    "  732745 flom2.fa\n",
    "    2704 flom2.fa.fai\n",
    "    2704 flom2.sumzer.tsv\n",
    " 1242136 total\n",
    "```"
   ]
  },
  {
   "cell_type": "code",
   "execution_count": null,
   "metadata": {},
   "outputs": [],
   "source": [
    "# Create a header file to store original flom2 headers\n",
    "NAME='covref3'\n",
    "\n",
    "grep \"^>\" $NAME.fa > $NAME.headers\n",
    "gzip $NAME.headers\n",
    "\n",
    "# Remove duplicates, short sequences and trim headers\n",
    "#  (retains Accesion)\n",
    "#  (removes ScientificName)\n",
    "seqkit rmdup -s -i -D $NAME.duplicates $NAME.fa |\n",
    "seqkit seq -i -m 200 - > $NAME.tmp\n",
    "\n",
    "# 1 Duplicate entries are Removed\n",
    "\n",
    "mv $NAME.tmp $NAME.fa"
   ]
  },
  {
   "cell_type": "code",
   "execution_count": null,
   "metadata": {},
   "outputs": [],
   "source": [
    "# Manual Blacklisting of bad entries (if they exist)\n",
    "INPUTFA='covref3.fa'\n",
    "NAME=\"covref3\"\n",
    "\n",
    "# Generate blacklist via Bed Format\n",
    "aws s3 cp s3://serratus-public/seq/cov0/cov0.fa.fai ./\n",
    "\n",
    "echo \"AF209745\" >> blacklist.tmp\n",
    "echo \"AX191447\" >> blacklist.tmp\n",
    "echo \"AX191449\" >> blacklist.tmp\n",
    "echo \"AY204704\" >> blacklist.tmp\n",
    "echo \"AY204705\" >> blacklist.tmp\n",
    "echo \"CS382036\" >> blacklist.tmp\n",
    "echo \"DL231478\" >> blacklist.tmp\n",
    "echo \"FB764528\" >> blacklist.tmp\n",
    "echo \"FV537211\" >> blacklist.tmp\n",
    "echo \"FV537213\" >> blacklist.tmp\n",
    "echo \"FV537213\" >> blacklist.tmp\n",
    "echo \"HV449436\" >> blacklist.tmp\n",
    "echo \"KC786228\" >> blacklist.tmp\n",
    "\n",
    "grep -f blacklist.tmp cov0.fa.fai \\\n",
    "  | cut -f1,2 - \\\n",
    "  | sed 's/\\t/\\t1\\t/g' - > blacklist.bed\n",
    "\n",
    "seqkit grep $INPUTFA -i -r -v \\\n",
    "  -p AF209745 \\\n",
    "  -p AX191447 \\\n",
    "  -p AX191449 \\\n",
    "  -p AY204704 \\\n",
    "  -p AY204705 \\\n",
    "  -p CS382036 \\\n",
    "  -p DL231478 \\\n",
    "  -p FB764528 \\\n",
    "  -p FV537211 \\\n",
    "  -p FV537213 \\\n",
    "  -p FV537213 \\\n",
    "  -p HV449436 \\\n",
    "  -p KC786228 \\\n",
    "  > $NAME.bl.fa\n",
    "\n",
    "rm cov0.fa.fai *tmp"
   ]
  },
  {
   "cell_type": "code",
   "execution_count": null,
   "metadata": {},
   "outputs": [],
   "source": [
    "# Manually set blacklisted regions\n",
    "echo -e \"CS460762.1\\t30166\\t30243\" >> blacklist.bed\n",
    "echo -e \"CS460762.1\\t37177\\t37211\" >> blacklist.bed\n",
    "echo -e \"CS480537.1\\t30130\\t30332\" >> blacklist.bed\n",
    "echo -e \"CS480537.1\\t30166\\t30241\" >> blacklist.bed\n",
    "echo -e \"CS480537.1\\t37170\\t37220\" >> blacklist.bed\n",
    "echo -e \"DI086074.1\\t1\\t168\" >> blacklist.bed\n",
    "echo -e \"DL231478.1\\t1\\t50\" >> blacklist.bed\n",
    "echo -e \"DL231478.1\\t43\\t2296\" >> blacklist.bed\n",
    "echo -e \"DL231478.1\\t8568\\t8687\" >> blacklist.bed\n",
    "echo -e \"JB181528.1\\t1\\t200\" >> blacklist.bed\n",
    "echo -e \"JB181528.1\\t3111\\t3307\" >> blacklist.bed\n",
    "echo -e \"JB181528.1\\t3650\\t4300\" >> blacklist.bed\n",
    "echo -e \"JB181528.1\\t3675\\t4258\" >> blacklist.bed\n",
    "echo -e \"KC786228.1\\t1\\t200 \" >> blacklist.bed\n",
    "echo -e \"KF530130.1\\t4852\\t4896\" >> blacklist.bed\n",
    "echo -e \"KY967725.1\\t17220\\t17250\" >> blacklist.bed\n",
    "echo -e \"LQ338105.1\\t1\\t60\" >> blacklist.bed\n",
    "echo -e \"LR721664.1\\t31112\\t31189\" >> blacklist.bed\n",
    "echo -e \"MG600026.1\\t3926\\t3981\" >> blacklist.bed\n",
    "echo -e \"MH002340.1\\t30202\\t30242\" >> blacklist.bed\n",
    "echo -e \"MK204388.1\\t1\\t64\" >> blacklist.bed\n",
    "echo -e \"MK562374.1\\t472\\t561\" >> blacklist.bed\n",
    "echo -e \"MK562374.1\\t474\\t542\" >> blacklist.bed\n"
   ]
  },
  {
   "cell_type": "code",
   "execution_count": null,
   "metadata": {},
   "outputs": [],
   "source": [
    "# SimpleRepeat Mask Annotation\n",
    "INPUTFA='covref3.fa'\n",
    "NAME=\"covref3\"\n",
    "\n",
    "# Short Window Dust Masking ---------------------\n",
    "# Soft mask low complexity regions via dustmasker\n",
    "dustmasker -in $INPUTFA \\\n",
    "  -window 30 -outfmt interval \\\n",
    "  -out $NAME.dust30\n",
    "\n",
    "# Convert interval dust file to bed file\n",
    "while read -r line; do\n",
    "  if [ $(echo $line | head -c 1) = \">\" ]; then\n",
    "    header=$( echo $line | sed 's/>//g' - )\n",
    "  else\n",
    "    start=$(echo $line | cut -f1 -d' ' -)\n",
    "    end=$(echo $line | cut -f3 -d' ' - )\n",
    "    echo -e \"$header\\t$start\\t$end\" >> dust30.bed\n",
    "  fi\n",
    "done < $NAME.dust30\n",
    "\n",
    "\n",
    "# Long Window Dust Masking ---------------------\n",
    "# Soft mask low complexity regions via dustmasker\n",
    "dustmasker -in $INPUTFA \\\n",
    "  -window 64 -outfmt interval \\\n",
    "  -out $NAME.dust64\n",
    "\n",
    "# Convert interval dust file to bed file\n",
    "while read -r line; do\n",
    "  if [ $(echo $line | head -c 1) = \">\" ]; then\n",
    "    header=$( echo $line | sed 's/>//g' - )\n",
    "  else\n",
    "    start=$(echo $line | cut -f1 -d' ' -)\n",
    "    end=$(echo $line | cut -f3 -d' ' - )\n",
    "    echo -e \"$header\\t$start\\t$end\" >> dust64.bed\n",
    "  fi\n",
    "done < $NAME.dust64\n",
    "\n",
    "echo ''"
   ]
  },
  {
   "cell_type": "code",
   "execution_count": null,
   "metadata": {},
   "outputs": [],
   "source": [
    "# Poly-NT Mask Annotation\n",
    "INPUTFA='covref3.fa'\n",
    "\n",
    "# Create polyNT masks (10-X seed)\n",
    "# FLOM seems to be missing any NT tract >7nt\n",
    "seqkit locate --bed -i -m 0 -p 'AAAAAAAAAA' $INPUTFA > poly10.bed\n",
    "  bedtools sort -chrThenSizeA -i poly10.bed > poly10.sort.bed\n",
    "  bedtools merge -s -i poly10.sort.bed > polyAT.mask.bed\n",
    "\n",
    "seqkit locate --bed -i -m 0 -p 'GGGGGGGGGG' $INPUTFA > poly10.bed\n",
    "  bedtools sort -chrThenSizeA -i poly10.bed > poly10.sort.bed\n",
    "  bedtools merge -s -i poly10.sort.bed > polyGC.mask.bed\n",
    "\n",
    "cat polyAT.mask.bed polyGC.mask.bed > \\\n",
    "  polyNT.bed\n",
    "\n",
    "rm polyAT.mask.bed polyGC.mask.bed poly10.bed poly10.sort.bed"
   ]
  },
  {
   "cell_type": "code",
   "execution_count": null,
   "metadata": {},
   "outputs": [],
   "source": [
    "# Combine blacklist, nt mask and dustmask\n",
    "\n",
    "# Merge the bed files\n",
    "cat polyNT.bed blacklist.bed dust30.bed dust64.bed > mask.tmp\n",
    "\n",
    "# Sort the cat bed file\n",
    "sort -k1,1 -k2,2n mask.tmp > mask.sort.tmp\n",
    "  \n",
    "# Clean up some bugs (-1 and a space)\n",
    "sed 's/ //g' mask.sort.tmp \\\n",
    "  | sed 's/-1/0/g' - \\\n",
    "  > mask.sort.clean.tmp\n",
    "\n",
    "# Merge BED file\n",
    "bedtools merge -i mask.sort.clean.tmp > mask.regions.tmp\n",
    "\n",
    "# Clean up some bugs (-1 and a space)\n",
    "sed 's/ //g' mask.regions.tmp \\\n",
    "  | sed 's/-1/0/g' - \\\n",
    "  > mask.regions.bed\n",
    "\n",
    "rm *tmp\n",
    "\n",
    "wc -l *.bed\n",
    "\n",
    "rm polyNT.bed blacklist.bed dust30.bed dust64.bed"
   ]
  },
  {
   "cell_type": "markdown",
   "metadata": {},
   "source": [
    "```\n",
    "    32 blacklist.bed\n",
    "  2344 dust30.bed\n",
    "  3223 dust64.bed\n",
    "  2921 mask.regions.bed\n",
    "   491 polyNT.bed\n",
    "  9011 total\n",
    "```"
   ]
  },
  {
   "cell_type": "code",
   "execution_count": null,
   "metadata": {},
   "outputs": [],
   "source": [
    "# Hard and Soft Mask the Genome\n",
    "INPUTFA='covref3.bl.fa'\n",
    "NAME=\"covref3\"\n",
    "\n",
    "# Had to manually remove line 8447 which started with \"-1\"\n",
    "# There's a bug in there somewhere, likely a 1-base / 0-base\n",
    "\n",
    "# cov2 pan-genome\n",
    "# Soft-masked pan-genome\n",
    "bedtools maskfasta -fi $INPUTFA \\\n",
    "  -bed mask.regions.bed -fo $NAME.softmasked.fa -soft\n",
    " \n",
    "# Hard-masked pan-genome\n",
    "bedtools maskfasta -fi $INPUTFA \\\n",
    "  -bed mask.regions.bed -fo $NAME.hardmasked.fa"
   ]
  },
  {
   "cell_type": "code",
   "execution_count": null,
   "metadata": {},
   "outputs": [],
   "source": [
    "# Confirm masking worked as expected manually \n",
    "NAME=\"covref3\"\n",
    "\n",
    "diff $NAME.fa $NAME.softmasked.fa  | head -n20 -\n",
    "diff $NAME.fa $NAME.hardmasked.fa  | head -n20 -\n",
    "\n",
    "cp $NAME.fa $NAME.raw.fa\n",
    "mv $NAME.hardmasked.fa $NAME.fa\n",
    "mv $NAME.bl.fa $NAME.unmasked.fa\n",
    "\n",
    "# Count each fasta file\n",
    "wc -l *.fa "
   ]
  },
  {
   "cell_type": "markdown",
   "metadata": {},
   "source": [
    "```\n",
    "   636347 covref3.fa\n",
    "   637498 covref3.raw.fa\n",
    "   636347 covref3.softmasked.fa\n",
    "   636347 covref3.unmasked.fa\n",
    "   732745 flom2.fa\n",
    "  3279284 total\n",
    "```"
   ]
  },
  {
   "cell_type": "code",
   "execution_count": null,
   "metadata": {},
   "outputs": [],
   "source": [
    "# Remove intermediates and non deployment files\n",
    "rm *.dust* *.gb *.fai \n",
    "\n",
    "# Compress stuff we don't need immediatly\n",
    "gzip $NAME.softmasked.fa $NAME.unmasked.fa \\\n",
    "     $NAME.raw.fa mask.regions.bed"
   ]
  },
  {
   "cell_type": "code",
   "execution_count": null,
   "metadata": {},
   "outputs": [],
   "source": [
    "# Build bowtie2 + faidx index for flom2.fa\n",
    "#bowtie2-build --threads 4 --seed 1337 $NAME.fa $NAME\n",
    "samtools faidx $NAME.fa\n",
    "\n",
    "md5sum *\n",
    "md5sum * > covref3.md5sum"
   ]
  },
  {
   "cell_type": "code",
   "execution_count": null,
   "metadata": {},
   "outputs": [],
   "source": [
    "aws s3 sync ./ s3://serratus-public/seq/covref3/"
   ]
  },
  {
   "cell_type": "markdown",
   "metadata": {},
   "source": [
    "```\n",
    "3748280af0e85afaf42dd6e62626bc53  covref3.duplicates\n",
    "289083fefaf1eef20417d01f2096e545  covref3.fa\n",
    "bf130c649583de011259d8d2add21723  covref3.fa.fai\n",
    "748c8a00cea792c59faa9917bd734e12  covref3.headers.gz\n",
    "5c054bd941953ac7b40acd8ef9abafc1  covref3.raw.fa.gz\n",
    "76a6316734dda93f03bf4063b566f7d0  covref3.softmasked.fa.gz\n",
    "cb6bebcc97aecc8b9b9ab1c7eafeb054  covref3.sumzer.tsv\n",
    "120a9a767e87f5cf9af16c67875b59e0  covref3.unmasked.fa.gz\n",
    "57f452445b65be1f37ba54ab8dc24bc1  flom2.fa\n",
    "d47dbf3bc78ae4dc72c7f45f9a0aa7e2  flom2.sumzer.tsv\n",
    "0fbd53f641f3e5b0742fc6635b88d5ae  mask.regions.bed.gz\n",
    "```"
   ]
  },
  {
   "cell_type": "markdown",
   "metadata": {},
   "source": [
    "## Hotfix update to FLOM2 Sumzer"
   ]
  },
  {
   "cell_type": "code",
   "execution_count": null,
   "metadata": {},
   "outputs": [],
   "source": [
    "# flom2 sumzer update\n",
    "# Index\n",
    "samtools faidx flom2.fa\n",
    "\n",
    "# Extract unique families\n",
    "cut -f 4 flom2.sumzer.tsv \\\n",
    "  | sort -k1,1 - \\\n",
    "  | uniq - \\\n",
    "  > family.unq.tmp\n",
    "  \n",
    "# Jacked summary statistics\n",
    "# Sum Count Average Median Min Max\n",
    "function statSummary {\n",
    "    sort -n | awk '\n",
    "      BEGIN {\n",
    "        c = 0;\n",
    "        sum = 0;\n",
    "      }\n",
    "      $1 ~ /^(\\-)?[0-9]*(\\.[0-9]*)?$/ {\n",
    "        a[c++] = $1;\n",
    "        sum += $1;\n",
    "      }\n",
    "      END {\n",
    "        ave = sum / c;\n",
    "        if( (c % 2) == 1 ) {\n",
    "          median = a[ int(c/2) ];\n",
    "        } else {\n",
    "          median = ( a[c/2] + a[c/2-1] ) / 2;\n",
    "        }\n",
    "        OFS=\"\\t\";\n",
    "        print sum, c, ave, median, a[0], a[c-1];\n",
    "      }\n",
    "    '\n",
    "}\n",
    "\n",
    "echo -e \"Family Sum Count Average Median Min Max\" > flom2.stats\n",
    "\n",
    "while read -r line; do\n",
    "  grep \"$line\" flom2.sumzer.tsv \\\n",
    "  | cut -f2 - \\\n",
    "  > fam.tmp\n",
    "  \n",
    "  echo -e \"$line\\t\"$(cat fam.tmp | statSummary) >> flom2.stats\n",
    "  \n",
    "done < family.unq.tmp\n",
    "\n",
    "# Round down and parse to tsv\n",
    "sed -i 's/ /\\t/g' flom2.stats\n",
    "sed -i 's/\\.[0-9]*/g' flom2.stats\n",
    "\n",
    "md5sum flom2.stats\n",
    "cat flom2.stats\n",
    "\n",
    "rm *tmp"
   ]
  },
  {
   "cell_type": "markdown",
   "metadata": {},
   "source": [
    "`8f6ce8bc6ab4d3982aab2fe58d330818  flom2.stats`\n",
    "\n",
    "```\n",
    "Family  Sum     Count   Average Median  Min     Max\n",
    "Adenoviridae    2623213 83      31605   33501   415     45781\n",
    "Adomaviridae    40802   2       20401   20401   19275   21527\n",
    "Alloherpesviridae       2131357 13      163951  207914  451     295146\n",
    "Amnoonviridae   10323   10      1032    1071    465     1641\n",
    "Anelloviridae   245431  85      2887    2878    2002    3907\n",
    "Arenaviridae    473096  92      5142    3534    2016    7325\n",
    "Arteriviridae   424643  28      15165   15269   12704   18410\n",
    "Asfarviridae    3689242 20      184462  185164  170101  193886\n",
    "Astroviridae    347331  58      5988    6450    2403    7722\n",
    "Birnaviridae    34799   12      2899    2863    2605    3429\n",
    "Bornaviridae    148002  17      8706    8908    5572    9006\n",
    "Caliciviridae   365637  48      7617    7531    6434    8513\n",
    "Circoviridae    202925  100     2029    1866    648     3925\n",
    "Filoviridae     170795  9       18977   18940   18875   19114\n",
    "Flaviviridae    964141  99      9738    10290   1035    12983\n",
    "Geminiviridae   2383    1       2383    2383    2383    2383\n",
    "Genomoviridae   145903  66      2210    2200    1998    2826\n",
    "Hantaviridae    422604  117     3612    3630    324     6588\n",
    "Hepadnaviridae  66925   21      3186    3182    3018    3542\n",
    "Hepeviridae     42089   6       7014    7070    6654    7310\n",
    "Herpesviridae   12584059        93      135312  148687  603     241087\n",
    "Iridoviridae    1609039 14      114931  113436  1392    208501\n",
    "Matonaviridae   9762    1       9762    9762    9762    9762\n",
    "Nairoviridae    167562  27      6206    4598    1590    12184\n",
    "Nodaviridae     18127   8       2265    2267    1421    3107\n",
    "Orthomyxoviridae        179991  105     1714    1760    519     2427\n",
    "Papillomaviridae        1511956 199     7597    7583    5748    8809\n",
    "Paramyxoviridae 1078540 67      16097   15522   14904   19212\n",
    "Parvoviridae    515968  103     5009    5075    3780    6148\n",
    "Peribunyaviridae        527880  130     4060    4420    754     7428\n",
    "Phenuiviridae   170044  42      4048    4151    1628    6504\n",
    "Picobirnaviridae        26988   13      2076    1745    1688    2666\n",
    "Picornaviridae  1244709 160     7779    7591    2086    10101\n",
    "Pneumoviridae   132411  9       14712   15140   13350   15225\n",
    "Polyomaviridae  643494  123     5231    5112    3962    14334\n",
    "Poxviridae      7611778 42      181233  181133  296     359853\n",
    "Reoviridae      887108  440     2016    1726    528     14939\n",
    "Rhabdoviridae   854565  72      11869   11510   6552    16133\n",
    "Smacoviridae    118374  46      2573    2571    2403    3028\n",
    "Sunviridae      17187   1       17187   17187   17187   17187\n",
    "Tobaniviridae   354967  15      23664   27318   799     33452\n",
    "Togaviridae     244333  22      11106   11573   381     11964\n",
    "Totiviridae     32772   5       6554    6688    4647    7788\n",
    "Unknown 631637  81      7797    4668    501     158250\n",
    "```"
   ]
  },
  {
   "cell_type": "code",
   "execution_count": null,
   "metadata": {},
   "outputs": [],
   "source": [
    "# Merge 0 offset and median genome size into sumzer\n",
    "\n",
    "# Convert accessions into Median Genome\n",
    "cut -f4 flom2.sumzer.tsv > fam.tmp\n",
    "\n",
    "# Offset\n",
    "yes 0 \\\n",
    "  | head -n $(wc -l fam.tmp | cut -f1 -d' ') \\\n",
    "  > offset.tmp\n",
    "\n",
    "while read -r family; do\n",
    "  grep $family flom2.stats \\\n",
    "  | cut -f 5 \\\n",
    "  >> median.tmp\n",
    "done < fam.tmp\n",
    "\n",
    "mv flom2.sumzer.tsv flom2.sumzer.tmp\n",
    "\n",
    "wc -l *tmp\n",
    "\n",
    "paste flom2.sumzer.tmp offset.tmp median.tmp > flom2.sumzer.tsv\n",
    "\n",
    "rm *tmp\n",
    "md5sum flom2.sumzer.tsv"
   ]
  },
  {
   "cell_type": "markdown",
   "metadata": {},
   "source": [
    "`d47dbf3bc78ae4dc72c7f45f9a0aa7e2  flom2.sumzer.tsv`\n",
    "\n",
    "```\n",
    "  2704 fam.tmp\n",
    "  2704 flom2.sumzer.tmp\n",
    "  2704 median.tmp\n",
    "  2704 offset.tmp\n",
    "```"
   ]
  },
  {
   "cell_type": "markdown",
   "metadata": {},
   "source": [
    "# cov3m COV Pan-Genome + Mega-Genome"
   ]
  },
  {
   "cell_type": "code",
   "execution_count": null,
   "metadata": {},
   "outputs": [],
   "source": [
    "# CoV Fragments and offsets from RCE\n",
    "# ????\n",
    "mkdir -p /home/serratus/cov3m; cd /home/serratus/cov3m\n",
    "\n",
    "# Download RefSeq (FLOM) Sequences\n",
    "aws s3 cp s3://serratus-public/seq/flom2/flom2.fa ./\n",
    "aws s3 cp s3://serratus-public/seq/flom2/flom2.sumzer.tsv ./\n",
    "\n",
    "# Download CovRef from RCE\n",
    "aws s3 cp s3://serratus-public/seq/covref3/covref3.fa ./\n",
    "aws s3 cp s3://serratus-public/seq/covref3/covref3.sumzer.tsv ./\n",
    "\n",
    "md5sum *"
   ]
  },
  {
   "cell_type": "markdown",
   "metadata": {},
   "source": [
    "```\n",
    "289083fefaf1eef20417d01f2096e545  covref3.fa\n",
    "cb6bebcc97aecc8b9b9ab1c7eafeb054  covref3.sumzer.tsv\n",
    "57f452445b65be1f37ba54ab8dc24bc1  flom2.fa\n",
    "d47dbf3bc78ae4dc72c7f45f9a0aa7e2  flom2.sumzer.tsv\n",
    "```"
   ]
  },
  {
   "cell_type": "code",
   "execution_count": null,
   "metadata": {},
   "outputs": [],
   "source": [
    "# Merge covref3 and flom2 for cov3a\n",
    "NAME='cov3m'\n",
    "\n",
    "cat covref3.fa flom2.fa > $NAME.fa\n",
    "cat covref3.sumzer.tsv flom2.sumzer.tsv > $NAME.sumzer.tsv\n",
    "\n",
    "rm covref3* flom2*"
   ]
  },
  {
   "cell_type": "code",
   "execution_count": null,
   "metadata": {},
   "outputs": [],
   "source": [
    "# Build bowtie2 + faidx index\n",
    "NAME='cov3m'\n",
    "\n",
    "bowtie2-build --threads 4 --seed 1337 $NAME.fa $NAME\n",
    "samtools faidx $NAME.fa\n",
    "\n",
    "md5sum *\n",
    "md5sum * > cov3m.md5sum"
   ]
  },
  {
   "cell_type": "markdown",
   "metadata": {},
   "source": [
    "```\n",
    "f77ca3cb853a88ff8909f7f08a1e67de  cov3m.1.bt2\n",
    "b16e0bdff349a6c2ccf8b7fe863345e5  cov3m.2.bt2\n",
    "afae28a945b6b8609b9926b45cfe9261  cov3m.3.bt2\n",
    "16e6e789d34cd51db47774e581e0bf1e  cov3m.4.bt2\n",
    "67489492ead93dfa4f49809f82bf0cfb  cov3m.fa\n",
    "85d9b961d1a79de1116090392b73b48d  cov3m.fa.fai\n",
    "8ea0b9543a1d9e08d4fda02b95e06437  cov3m.rev.1.bt2\n",
    "953d4699bde8feb7366614a72ecd7d45  cov3m.rev.2.bt2\n",
    "22a90f6b7649171b4ed83e4cd035a351  cov3m.sumzer.tsv\n",
    "```"
   ]
  },
  {
   "cell_type": "code",
   "execution_count": null,
   "metadata": {},
   "outputs": [],
   "source": [
    "aws s3 sync ./ s3://serratus-public/seq/cov3m/"
   ]
  }
 ],
 "metadata": {
  "kernelspec": {
   "display_name": "Bash",
   "language": "bash",
   "name": "bash"
  },
  "language_info": {
   "codemirror_mode": "shell",
   "file_extension": ".sh",
   "mimetype": "text/x-sh",
   "name": "bash"
  }
 },
 "nbformat": 4,
 "nbformat_minor": 1
}
